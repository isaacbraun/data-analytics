{
 "cells": [
  {
   "cell_type": "markdown",
   "id": "f1885206-a97e-4aaf-a475-4f202ec317ee",
   "metadata": {},
   "source": [
    "# Lab 2 - Reshaping Data\n",
    "Datasource: Trees cared for and managed by the City of Pittsburgh Department of Public Works Forestry Division.\n",
    "\n",
    "Source: [City of Pittsburgh](https://catalog.data.gov/dataset/city-of-pittsburgh-trees)"
   ]
  },
  {
   "cell_type": "markdown",
   "id": "8e9aebed-d737-4afa-a3c5-e362c44e6ea3",
   "metadata": {},
   "source": [
    "## Setup & Read Data"
   ]
  },
  {
   "cell_type": "code",
   "execution_count": 2,
   "id": "70efdfaf-ba16-4eb7-b0fb-ac5a42e82c18",
   "metadata": {},
   "outputs": [],
   "source": [
    "library(lubridate)\n",
    "library(dplyr)\n",
    "library(tidyverse)\n",
    "library(dslabs)\n",
    "library(data.table)"
   ]
  },
  {
   "cell_type": "code",
   "execution_count": 3,
   "id": "90ce6f91-2677-4090-89ea-6237aa28e52b",
   "metadata": {},
   "outputs": [
    {
     "name": "stderr",
     "output_type": "stream",
     "text": [
      "Warning message:\n",
      "“\u001b[1m\u001b[22mOne or more parsing issues, call `problems()` on your data frame for details, e.g.:\n",
      "  dat <- vroom(...)\n",
      "  problems(dat)”\n"
     ]
    },
    {
     "data": {
      "text/html": [
       "<table class=\"dataframe\">\n",
       "<caption>A tibble: 6 × 59</caption>\n",
       "<thead>\n",
       "\t<tr><th scope=col>_id</th><th scope=col>id</th><th scope=col>address_number</th><th scope=col>street</th><th scope=col>common_name</th><th scope=col>scientific_name</th><th scope=col>height</th><th scope=col>width</th><th scope=col>growth_space_length</th><th scope=col>growth_space_width</th><th scope=col>⋯</th><th scope=col>neighborhood</th><th scope=col>council_district</th><th scope=col>ward</th><th scope=col>tract</th><th scope=col>public_works_division</th><th scope=col>pli_division</th><th scope=col>police_zone</th><th scope=col>fire_zone</th><th scope=col>latitude</th><th scope=col>longitude</th></tr>\n",
       "\t<tr><th scope=col>&lt;dbl&gt;</th><th scope=col>&lt;dbl&gt;</th><th scope=col>&lt;dbl&gt;</th><th scope=col>&lt;chr&gt;</th><th scope=col>&lt;chr&gt;</th><th scope=col>&lt;chr&gt;</th><th scope=col>&lt;dbl&gt;</th><th scope=col>&lt;dbl&gt;</th><th scope=col>&lt;dbl&gt;</th><th scope=col>&lt;dbl&gt;</th><th scope=col>⋯</th><th scope=col>&lt;chr&gt;</th><th scope=col>&lt;dbl&gt;</th><th scope=col>&lt;dbl&gt;</th><th scope=col>&lt;dbl&gt;</th><th scope=col>&lt;dbl&gt;</th><th scope=col>&lt;dbl&gt;</th><th scope=col>&lt;dbl&gt;</th><th scope=col>&lt;chr&gt;</th><th scope=col>&lt;dbl&gt;</th><th scope=col>&lt;dbl&gt;</th></tr>\n",
       "</thead>\n",
       "<tbody>\n",
       "\t<tr><td>1</td><td> 754166088</td><td>7428</td><td>MONTICELLO ST</td><td>Stump             </td><td>Stump            </td><td> 0</td><td> 0</td><td>10</td><td> 2</td><td>⋯</td><td>Homewood North  </td><td>9</td><td>13</td><td>42003130200</td><td>2</td><td>13</td><td>5</td><td>3-17</td><td>40.45817</td><td>-79.88972</td></tr>\n",
       "\t<tr><td>2</td><td>1946899269</td><td> 220</td><td>BALVER AVE   </td><td>Linden: Littleleaf</td><td>Tilia cordata    </td><td> 0</td><td> 0</td><td>99</td><td>99</td><td>⋯</td><td>Oakwood         </td><td>2</td><td>28</td><td>42003562800</td><td>5</td><td>28</td><td>6</td><td>1-19</td><td>40.42927</td><td>-80.06787</td></tr>\n",
       "\t<tr><td>3</td><td>1431517397</td><td>2822</td><td>SIDNEY ST    </td><td>Maple: Red        </td><td>Acer rubrum      </td><td>22</td><td> 6</td><td> 6</td><td> 3</td><td>⋯</td><td>South Side Flats</td><td>3</td><td>16</td><td>42003160900</td><td>3</td><td>16</td><td>3</td><td>4-24</td><td>40.42680</td><td>-79.96503</td></tr>\n",
       "\t<tr><td>4</td><td> 994063598</td><td> 608</td><td>SUISMON ST   </td><td>Maple: Freeman    </td><td>Acer x freemanii </td><td>25</td><td>10</td><td> 3</td><td> 3</td><td>⋯</td><td>East Allegheny  </td><td>1</td><td>23</td><td>42003563200</td><td>1</td><td>23</td><td>1</td><td>1-6 </td><td>40.45550</td><td>-79.99928</td></tr>\n",
       "\t<tr><td>5</td><td>1591838573</td><td>1135</td><td>N NEGLEY AVE </td><td>Maple: Norway     </td><td>Acer platanoides </td><td>52</td><td>13</td><td>99</td><td>99</td><td>⋯</td><td>Highland Park   </td><td>7</td><td>11</td><td>42003110200</td><td>2</td><td>11</td><td>5</td><td>3-9 </td><td>40.47667</td><td>-79.92411</td></tr>\n",
       "\t<tr><td>6</td><td>1333224197</td><td>5550</td><td>BRYANT ST    </td><td>Oak: Pin          </td><td>Quercus palustris</td><td>45</td><td>18</td><td>35</td><td> 3</td><td>⋯</td><td>Highland Park   </td><td>7</td><td>11</td><td>42003110200</td><td>2</td><td>11</td><td>5</td><td>3-9 </td><td>40.47750</td><td>-79.92457</td></tr>\n",
       "</tbody>\n",
       "</table>\n"
      ],
      "text/latex": [
       "A tibble: 6 × 59\n",
       "\\begin{tabular}{lllllllllllllllllllll}\n",
       " \\_id & id & address\\_number & street & common\\_name & scientific\\_name & height & width & growth\\_space\\_length & growth\\_space\\_width & ⋯ & neighborhood & council\\_district & ward & tract & public\\_works\\_division & pli\\_division & police\\_zone & fire\\_zone & latitude & longitude\\\\\n",
       " <dbl> & <dbl> & <dbl> & <chr> & <chr> & <chr> & <dbl> & <dbl> & <dbl> & <dbl> & ⋯ & <chr> & <dbl> & <dbl> & <dbl> & <dbl> & <dbl> & <dbl> & <chr> & <dbl> & <dbl>\\\\\n",
       "\\hline\n",
       "\t 1 &  754166088 & 7428 & MONTICELLO ST & Stump              & Stump             &  0 &  0 & 10 &  2 & ⋯ & Homewood North   & 9 & 13 & 42003130200 & 2 & 13 & 5 & 3-17 & 40.45817 & -79.88972\\\\\n",
       "\t 2 & 1946899269 &  220 & BALVER AVE    & Linden: Littleleaf & Tilia cordata     &  0 &  0 & 99 & 99 & ⋯ & Oakwood          & 2 & 28 & 42003562800 & 5 & 28 & 6 & 1-19 & 40.42927 & -80.06787\\\\\n",
       "\t 3 & 1431517397 & 2822 & SIDNEY ST     & Maple: Red         & Acer rubrum       & 22 &  6 &  6 &  3 & ⋯ & South Side Flats & 3 & 16 & 42003160900 & 3 & 16 & 3 & 4-24 & 40.42680 & -79.96503\\\\\n",
       "\t 4 &  994063598 &  608 & SUISMON ST    & Maple: Freeman     & Acer x freemanii  & 25 & 10 &  3 &  3 & ⋯ & East Allegheny   & 1 & 23 & 42003563200 & 1 & 23 & 1 & 1-6  & 40.45550 & -79.99928\\\\\n",
       "\t 5 & 1591838573 & 1135 & N NEGLEY AVE  & Maple: Norway      & Acer platanoides  & 52 & 13 & 99 & 99 & ⋯ & Highland Park    & 7 & 11 & 42003110200 & 2 & 11 & 5 & 3-9  & 40.47667 & -79.92411\\\\\n",
       "\t 6 & 1333224197 & 5550 & BRYANT ST     & Oak: Pin           & Quercus palustris & 45 & 18 & 35 &  3 & ⋯ & Highland Park    & 7 & 11 & 42003110200 & 2 & 11 & 5 & 3-9  & 40.47750 & -79.92457\\\\\n",
       "\\end{tabular}\n"
      ],
      "text/markdown": [
       "\n",
       "A tibble: 6 × 59\n",
       "\n",
       "| _id &lt;dbl&gt; | id &lt;dbl&gt; | address_number &lt;dbl&gt; | street &lt;chr&gt; | common_name &lt;chr&gt; | scientific_name &lt;chr&gt; | height &lt;dbl&gt; | width &lt;dbl&gt; | growth_space_length &lt;dbl&gt; | growth_space_width &lt;dbl&gt; | ⋯ ⋯ | neighborhood &lt;chr&gt; | council_district &lt;dbl&gt; | ward &lt;dbl&gt; | tract &lt;dbl&gt; | public_works_division &lt;dbl&gt; | pli_division &lt;dbl&gt; | police_zone &lt;dbl&gt; | fire_zone &lt;chr&gt; | latitude &lt;dbl&gt; | longitude &lt;dbl&gt; |\n",
       "|---|---|---|---|---|---|---|---|---|---|---|---|---|---|---|---|---|---|---|---|---|\n",
       "| 1 |  754166088 | 7428 | MONTICELLO ST | Stump              | Stump             |  0 |  0 | 10 |  2 | ⋯ | Homewood North   | 9 | 13 | 42003130200 | 2 | 13 | 5 | 3-17 | 40.45817 | -79.88972 |\n",
       "| 2 | 1946899269 |  220 | BALVER AVE    | Linden: Littleleaf | Tilia cordata     |  0 |  0 | 99 | 99 | ⋯ | Oakwood          | 2 | 28 | 42003562800 | 5 | 28 | 6 | 1-19 | 40.42927 | -80.06787 |\n",
       "| 3 | 1431517397 | 2822 | SIDNEY ST     | Maple: Red         | Acer rubrum       | 22 |  6 |  6 |  3 | ⋯ | South Side Flats | 3 | 16 | 42003160900 | 3 | 16 | 3 | 4-24 | 40.42680 | -79.96503 |\n",
       "| 4 |  994063598 |  608 | SUISMON ST    | Maple: Freeman     | Acer x freemanii  | 25 | 10 |  3 |  3 | ⋯ | East Allegheny   | 1 | 23 | 42003563200 | 1 | 23 | 1 | 1-6  | 40.45550 | -79.99928 |\n",
       "| 5 | 1591838573 | 1135 | N NEGLEY AVE  | Maple: Norway      | Acer platanoides  | 52 | 13 | 99 | 99 | ⋯ | Highland Park    | 7 | 11 | 42003110200 | 2 | 11 | 5 | 3-9  | 40.47667 | -79.92411 |\n",
       "| 6 | 1333224197 | 5550 | BRYANT ST     | Oak: Pin           | Quercus palustris | 45 | 18 | 35 |  3 | ⋯ | Highland Park    | 7 | 11 | 42003110200 | 2 | 11 | 5 | 3-9  | 40.47750 | -79.92457 |\n",
       "\n"
      ],
      "text/plain": [
       "  _id id         address_number street        common_name       \n",
       "1 1    754166088 7428           MONTICELLO ST Stump             \n",
       "2 2   1946899269  220           BALVER AVE    Linden: Littleleaf\n",
       "3 3   1431517397 2822           SIDNEY ST     Maple: Red        \n",
       "4 4    994063598  608           SUISMON ST    Maple: Freeman    \n",
       "5 5   1591838573 1135           N NEGLEY AVE  Maple: Norway     \n",
       "6 6   1333224197 5550           BRYANT ST     Oak: Pin          \n",
       "  scientific_name   height width growth_space_length growth_space_width ⋯\n",
       "1 Stump              0      0    10                   2                 ⋯\n",
       "2 Tilia cordata      0      0    99                  99                 ⋯\n",
       "3 Acer rubrum       22      6     6                   3                 ⋯\n",
       "4 Acer x freemanii  25     10     3                   3                 ⋯\n",
       "5 Acer platanoides  52     13    99                  99                 ⋯\n",
       "6 Quercus palustris 45     18    35                   3                 ⋯\n",
       "  neighborhood     council_district ward tract       public_works_division\n",
       "1 Homewood North   9                13   42003130200 2                    \n",
       "2 Oakwood          2                28   42003562800 5                    \n",
       "3 South Side Flats 3                16   42003160900 3                    \n",
       "4 East Allegheny   1                23   42003563200 1                    \n",
       "5 Highland Park    7                11   42003110200 2                    \n",
       "6 Highland Park    7                11   42003110200 2                    \n",
       "  pli_division police_zone fire_zone latitude longitude\n",
       "1 13           5           3-17      40.45817 -79.88972\n",
       "2 28           6           1-19      40.42927 -80.06787\n",
       "3 16           3           4-24      40.42680 -79.96503\n",
       "4 23           1           1-6       40.45550 -79.99928\n",
       "5 11           5           3-9       40.47667 -79.92411\n",
       "6 11           5           3-9       40.47750 -79.92457"
      ]
     },
     "metadata": {},
     "output_type": "display_data"
    }
   ],
   "source": [
    "trees_raw <- read_csv('../datasets/pittsburgh_trees.csv', col_types = cols(.default = col_guess(), street = col_character()))\n",
    "\n",
    "head(trees_raw)"
   ]
  },
  {
   "cell_type": "code",
   "execution_count": 15,
   "id": "4f228e4b-c248-4af4-ab65-a33c5b93cf18",
   "metadata": {},
   "outputs": [
    {
     "data": {
      "text/html": [
       "<table class=\"dataframe\">\n",
       "<caption>A tibble: 6 × 17</caption>\n",
       "<thead>\n",
       "\t<tr><th scope=col>id</th><th scope=col>common_name</th><th scope=col>height</th><th scope=col>width</th><th scope=col>growth_space_length</th><th scope=col>growth_space_width</th><th scope=col>growth_space_type</th><th scope=col>diameter_base_height</th><th scope=col>stems</th><th scope=col>overhead_utilities</th><th scope=col>land_use</th><th scope=col>condition</th><th scope=col>stormwater_benefits_dollar_value</th><th scope=col>property_value_benefits_dollarvalue</th><th scope=col>neighborhood</th><th scope=col>latitude</th><th scope=col>longitude</th></tr>\n",
       "\t<tr><th scope=col>&lt;dbl&gt;</th><th scope=col>&lt;chr&gt;</th><th scope=col>&lt;dbl&gt;</th><th scope=col>&lt;dbl&gt;</th><th scope=col>&lt;dbl&gt;</th><th scope=col>&lt;dbl&gt;</th><th scope=col>&lt;chr&gt;</th><th scope=col>&lt;dbl&gt;</th><th scope=col>&lt;dbl&gt;</th><th scope=col>&lt;chr&gt;</th><th scope=col>&lt;chr&gt;</th><th scope=col>&lt;chr&gt;</th><th scope=col>&lt;dbl&gt;</th><th scope=col>&lt;dbl&gt;</th><th scope=col>&lt;chr&gt;</th><th scope=col>&lt;dbl&gt;</th><th scope=col>&lt;dbl&gt;</th></tr>\n",
       "</thead>\n",
       "<tbody>\n",
       "\t<tr><td> 754166088</td><td>Stump             </td><td> 0</td><td> 0</td><td>10</td><td> 2</td><td>Well or Pit         </td><td>16</td><td>1</td><td>Yes        </td><td>Vacant               </td><td>N/A </td><td>       NA</td><td>       NA</td><td>Homewood North  </td><td>40.45817</td><td>-79.88972</td></tr>\n",
       "\t<tr><td>1946899269</td><td>Linden: Littleleaf</td><td> 0</td><td> 0</td><td>99</td><td>99</td><td>Open or Unrestricted</td><td>22</td><td>0</td><td>No         </td><td>Residential          </td><td>N/A </td><td>13.946694</td><td> 21.98481</td><td>Oakwood         </td><td>40.42927</td><td>-80.06787</td></tr>\n",
       "\t<tr><td>1431517397</td><td>Maple: Red        </td><td>22</td><td> 6</td><td> 6</td><td> 3</td><td>Well or Pit         </td><td> 6</td><td>1</td><td>No         </td><td>Commercial/Industrial</td><td>Fair</td><td> 3.974858</td><td> 51.52909</td><td>South Side Flats</td><td>40.42680</td><td>-79.96503</td></tr>\n",
       "\t<tr><td> 994063598</td><td>Maple: Freeman    </td><td>25</td><td>10</td><td> 3</td><td> 3</td><td>Well or Pit         </td><td> 7</td><td>1</td><td>Conflicting</td><td>Residential          </td><td>Fair</td><td> 4.775662</td><td> 43.18452</td><td>East Allegheny  </td><td>40.45550</td><td>-79.99928</td></tr>\n",
       "\t<tr><td>1591838573</td><td>Maple: Norway     </td><td>52</td><td>13</td><td>99</td><td>99</td><td>Open or Unrestricted</td><td>38</td><td>1</td><td>Yes        </td><td>Residential          </td><td>Good</td><td>41.228398</td><td>194.12891</td><td>Highland Park   </td><td>40.47667</td><td>-79.92411</td></tr>\n",
       "\t<tr><td>1333224197</td><td>Oak: Pin          </td><td>45</td><td>18</td><td>35</td><td> 3</td><td>Tree Lawn or Parkway</td><td>21</td><td>1</td><td>No         </td><td>Residential          </td><td>Good</td><td>21.069163</td><td> 85.74295</td><td>Highland Park   </td><td>40.47750</td><td>-79.92457</td></tr>\n",
       "</tbody>\n",
       "</table>\n"
      ],
      "text/latex": [
       "A tibble: 6 × 17\n",
       "\\begin{tabular}{lllllllllllllllll}\n",
       " id & common\\_name & height & width & growth\\_space\\_length & growth\\_space\\_width & growth\\_space\\_type & diameter\\_base\\_height & stems & overhead\\_utilities & land\\_use & condition & stormwater\\_benefits\\_dollar\\_value & property\\_value\\_benefits\\_dollarvalue & neighborhood & latitude & longitude\\\\\n",
       " <dbl> & <chr> & <dbl> & <dbl> & <dbl> & <dbl> & <chr> & <dbl> & <dbl> & <chr> & <chr> & <chr> & <dbl> & <dbl> & <chr> & <dbl> & <dbl>\\\\\n",
       "\\hline\n",
       "\t  754166088 & Stump              &  0 &  0 & 10 &  2 & Well or Pit          & 16 & 1 & Yes         & Vacant                & N/A  &        NA &        NA & Homewood North   & 40.45817 & -79.88972\\\\\n",
       "\t 1946899269 & Linden: Littleleaf &  0 &  0 & 99 & 99 & Open or Unrestricted & 22 & 0 & No          & Residential           & N/A  & 13.946694 &  21.98481 & Oakwood          & 40.42927 & -80.06787\\\\\n",
       "\t 1431517397 & Maple: Red         & 22 &  6 &  6 &  3 & Well or Pit          &  6 & 1 & No          & Commercial/Industrial & Fair &  3.974858 &  51.52909 & South Side Flats & 40.42680 & -79.96503\\\\\n",
       "\t  994063598 & Maple: Freeman     & 25 & 10 &  3 &  3 & Well or Pit          &  7 & 1 & Conflicting & Residential           & Fair &  4.775662 &  43.18452 & East Allegheny   & 40.45550 & -79.99928\\\\\n",
       "\t 1591838573 & Maple: Norway      & 52 & 13 & 99 & 99 & Open or Unrestricted & 38 & 1 & Yes         & Residential           & Good & 41.228398 & 194.12891 & Highland Park    & 40.47667 & -79.92411\\\\\n",
       "\t 1333224197 & Oak: Pin           & 45 & 18 & 35 &  3 & Tree Lawn or Parkway & 21 & 1 & No          & Residential           & Good & 21.069163 &  85.74295 & Highland Park    & 40.47750 & -79.92457\\\\\n",
       "\\end{tabular}\n"
      ],
      "text/markdown": [
       "\n",
       "A tibble: 6 × 17\n",
       "\n",
       "| id &lt;dbl&gt; | common_name &lt;chr&gt; | height &lt;dbl&gt; | width &lt;dbl&gt; | growth_space_length &lt;dbl&gt; | growth_space_width &lt;dbl&gt; | growth_space_type &lt;chr&gt; | diameter_base_height &lt;dbl&gt; | stems &lt;dbl&gt; | overhead_utilities &lt;chr&gt; | land_use &lt;chr&gt; | condition &lt;chr&gt; | stormwater_benefits_dollar_value &lt;dbl&gt; | property_value_benefits_dollarvalue &lt;dbl&gt; | neighborhood &lt;chr&gt; | latitude &lt;dbl&gt; | longitude &lt;dbl&gt; |\n",
       "|---|---|---|---|---|---|---|---|---|---|---|---|---|---|---|---|---|\n",
       "|  754166088 | Stump              |  0 |  0 | 10 |  2 | Well or Pit          | 16 | 1 | Yes         | Vacant                | N/A  |        NA |        NA | Homewood North   | 40.45817 | -79.88972 |\n",
       "| 1946899269 | Linden: Littleleaf |  0 |  0 | 99 | 99 | Open or Unrestricted | 22 | 0 | No          | Residential           | N/A  | 13.946694 |  21.98481 | Oakwood          | 40.42927 | -80.06787 |\n",
       "| 1431517397 | Maple: Red         | 22 |  6 |  6 |  3 | Well or Pit          |  6 | 1 | No          | Commercial/Industrial | Fair |  3.974858 |  51.52909 | South Side Flats | 40.42680 | -79.96503 |\n",
       "|  994063598 | Maple: Freeman     | 25 | 10 |  3 |  3 | Well or Pit          |  7 | 1 | Conflicting | Residential           | Fair |  4.775662 |  43.18452 | East Allegheny   | 40.45550 | -79.99928 |\n",
       "| 1591838573 | Maple: Norway      | 52 | 13 | 99 | 99 | Open or Unrestricted | 38 | 1 | Yes         | Residential           | Good | 41.228398 | 194.12891 | Highland Park    | 40.47667 | -79.92411 |\n",
       "| 1333224197 | Oak: Pin           | 45 | 18 | 35 |  3 | Tree Lawn or Parkway | 21 | 1 | No          | Residential           | Good | 21.069163 |  85.74295 | Highland Park    | 40.47750 | -79.92457 |\n",
       "\n"
      ],
      "text/plain": [
       "  id         common_name        height width growth_space_length\n",
       "1  754166088 Stump               0      0    10                 \n",
       "2 1946899269 Linden: Littleleaf  0      0    99                 \n",
       "3 1431517397 Maple: Red         22      6     6                 \n",
       "4  994063598 Maple: Freeman     25     10     3                 \n",
       "5 1591838573 Maple: Norway      52     13    99                 \n",
       "6 1333224197 Oak: Pin           45     18    35                 \n",
       "  growth_space_width growth_space_type    diameter_base_height stems\n",
       "1  2                 Well or Pit          16                   1    \n",
       "2 99                 Open or Unrestricted 22                   0    \n",
       "3  3                 Well or Pit           6                   1    \n",
       "4  3                 Well or Pit           7                   1    \n",
       "5 99                 Open or Unrestricted 38                   1    \n",
       "6  3                 Tree Lawn or Parkway 21                   1    \n",
       "  overhead_utilities land_use              condition\n",
       "1 Yes                Vacant                N/A      \n",
       "2 No                 Residential           N/A      \n",
       "3 No                 Commercial/Industrial Fair     \n",
       "4 Conflicting        Residential           Fair     \n",
       "5 Yes                Residential           Good     \n",
       "6 No                 Residential           Good     \n",
       "  stormwater_benefits_dollar_value property_value_benefits_dollarvalue\n",
       "1        NA                               NA                          \n",
       "2 13.946694                         21.98481                          \n",
       "3  3.974858                         51.52909                          \n",
       "4  4.775662                         43.18452                          \n",
       "5 41.228398                        194.12891                          \n",
       "6 21.069163                         85.74295                          \n",
       "  neighborhood     latitude longitude\n",
       "1 Homewood North   40.45817 -79.88972\n",
       "2 Oakwood          40.42927 -80.06787\n",
       "3 South Side Flats 40.42680 -79.96503\n",
       "4 East Allegheny   40.45550 -79.99928\n",
       "5 Highland Park    40.47667 -79.92411\n",
       "6 Highland Park    40.47750 -79.92457"
      ]
     },
     "metadata": {},
     "output_type": "display_data"
    }
   ],
   "source": [
    "# New df with limited columns\n",
    "trees <- trees_raw %>% select('id', 'common_name', 'height', 'width', 'growth_space_length', 'growth_space_width',\n",
    "                              'growth_space_type', 'diameter_base_height', 'stems', 'overhead_utilities', 'land_use',\n",
    "                              'condition', 'stormwater_benefits_dollar_value', 'property_value_benefits_dollarvalue', 'neighborhood', 'latitude', 'longitude')\n",
    "head(trees)"
   ]
  },
  {
   "cell_type": "markdown",
   "id": "97183d58-5bcd-4b51-821a-1638bf09f5fc",
   "metadata": {},
   "source": [
    "## Create New Dataframe by Subsetting\n",
    "End result is a table with trees that are limited in their growth space width."
   ]
  },
  {
   "cell_type": "code",
   "execution_count": 16,
   "id": "47df8de8-5fa5-4cdb-bf6d-e17bc650a070",
   "metadata": {},
   "outputs": [
    {
     "data": {
      "text/html": [
       "<table class=\"dataframe\">\n",
       "<caption>A tibble: 6 × 5</caption>\n",
       "<thead>\n",
       "\t<tr><th scope=col>id</th><th scope=col>height</th><th scope=col>width</th><th scope=col>growth_space_width</th><th scope=col>growth_space_type</th></tr>\n",
       "\t<tr><th scope=col>&lt;dbl&gt;</th><th scope=col>&lt;dbl&gt;</th><th scope=col>&lt;dbl&gt;</th><th scope=col>&lt;dbl&gt;</th><th scope=col>&lt;chr&gt;</th></tr>\n",
       "</thead>\n",
       "<tbody>\n",
       "\t<tr><td> 754166088</td><td> 0</td><td> 0</td><td>2</td><td>Well or Pit         </td></tr>\n",
       "\t<tr><td>1431517397</td><td>22</td><td> 6</td><td>3</td><td>Well or Pit         </td></tr>\n",
       "\t<tr><td> 994063598</td><td>25</td><td>10</td><td>3</td><td>Well or Pit         </td></tr>\n",
       "\t<tr><td>1333224197</td><td>45</td><td>18</td><td>3</td><td>Tree Lawn or Parkway</td></tr>\n",
       "\t<tr><td> 239290336</td><td> 8</td><td> 4</td><td>3</td><td>Tree Lawn or Parkway</td></tr>\n",
       "\t<tr><td>1233652274</td><td>27</td><td>10</td><td>3</td><td>Tree Lawn or Parkway</td></tr>\n",
       "</tbody>\n",
       "</table>\n"
      ],
      "text/latex": [
       "A tibble: 6 × 5\n",
       "\\begin{tabular}{lllll}\n",
       " id & height & width & growth\\_space\\_width & growth\\_space\\_type\\\\\n",
       " <dbl> & <dbl> & <dbl> & <dbl> & <chr>\\\\\n",
       "\\hline\n",
       "\t  754166088 &  0 &  0 & 2 & Well or Pit         \\\\\n",
       "\t 1431517397 & 22 &  6 & 3 & Well or Pit         \\\\\n",
       "\t  994063598 & 25 & 10 & 3 & Well or Pit         \\\\\n",
       "\t 1333224197 & 45 & 18 & 3 & Tree Lawn or Parkway\\\\\n",
       "\t  239290336 &  8 &  4 & 3 & Tree Lawn or Parkway\\\\\n",
       "\t 1233652274 & 27 & 10 & 3 & Tree Lawn or Parkway\\\\\n",
       "\\end{tabular}\n"
      ],
      "text/markdown": [
       "\n",
       "A tibble: 6 × 5\n",
       "\n",
       "| id &lt;dbl&gt; | height &lt;dbl&gt; | width &lt;dbl&gt; | growth_space_width &lt;dbl&gt; | growth_space_type &lt;chr&gt; |\n",
       "|---|---|---|---|---|\n",
       "|  754166088 |  0 |  0 | 2 | Well or Pit          |\n",
       "| 1431517397 | 22 |  6 | 3 | Well or Pit          |\n",
       "|  994063598 | 25 | 10 | 3 | Well or Pit          |\n",
       "| 1333224197 | 45 | 18 | 3 | Tree Lawn or Parkway |\n",
       "|  239290336 |  8 |  4 | 3 | Tree Lawn or Parkway |\n",
       "| 1233652274 | 27 | 10 | 3 | Tree Lawn or Parkway |\n",
       "\n"
      ],
      "text/plain": [
       "  id         height width growth_space_width growth_space_type   \n",
       "1  754166088  0      0    2                  Well or Pit         \n",
       "2 1431517397 22      6    3                  Well or Pit         \n",
       "3  994063598 25     10    3                  Well or Pit         \n",
       "4 1333224197 45     18    3                  Tree Lawn or Parkway\n",
       "5  239290336  8      4    3                  Tree Lawn or Parkway\n",
       "6 1233652274 27     10    3                  Tree Lawn or Parkway"
      ]
     },
     "metadata": {},
     "output_type": "display_data"
    }
   ],
   "source": [
    "rows_filter <- trees$growth_space_width <= 20\n",
    "columns_filter <- c('id', 'height', 'width', 'growth_space_width', 'growth_space_type')\n",
    "\n",
    "limited_width <- trees[rows_filter, columns_filter]\n",
    "head(limited_width)"
   ]
  },
  {
   "cell_type": "markdown",
   "id": "b694553f-b8db-4214-8aeb-01bfb9c64716",
   "metadata": {
    "jp-MarkdownHeadingCollapsed": true
   },
   "source": [
    "## Remove Rows with Missing Values\n",
    "Removed a little over 5000 rows"
   ]
  },
  {
   "cell_type": "code",
   "execution_count": 17,
   "id": "99ae6570-8b1b-40f9-881a-803cc47fb7df",
   "metadata": {},
   "outputs": [
    {
     "data": {
      "text/html": [
       "<table class=\"dataframe\">\n",
       "<caption>A tibble: 6 × 3</caption>\n",
       "<thead>\n",
       "\t<tr><th scope=col>common_name</th><th scope=col>height</th><th scope=col>width</th></tr>\n",
       "\t<tr><th scope=col>&lt;chr&gt;</th><th scope=col>&lt;dbl&gt;</th><th scope=col>&lt;dbl&gt;</th></tr>\n",
       "</thead>\n",
       "<tbody>\n",
       "\t<tr><td>Maple: Norway           </td><td>NA</td><td>NA</td></tr>\n",
       "\t<tr><td>Vacant Site Not Suitable</td><td>NA</td><td>NA</td></tr>\n",
       "\t<tr><td>Vacant Site Small       </td><td>NA</td><td>NA</td></tr>\n",
       "\t<tr><td>Vacant Site Not Suitable</td><td>NA</td><td>NA</td></tr>\n",
       "\t<tr><td>Vacant Site Not Suitable</td><td>NA</td><td>NA</td></tr>\n",
       "\t<tr><td>Maple: Red              </td><td>NA</td><td>NA</td></tr>\n",
       "</tbody>\n",
       "</table>\n"
      ],
      "text/latex": [
       "A tibble: 6 × 3\n",
       "\\begin{tabular}{lll}\n",
       " common\\_name & height & width\\\\\n",
       " <chr> & <dbl> & <dbl>\\\\\n",
       "\\hline\n",
       "\t Maple: Norway            & NA & NA\\\\\n",
       "\t Vacant Site Not Suitable & NA & NA\\\\\n",
       "\t Vacant Site Small        & NA & NA\\\\\n",
       "\t Vacant Site Not Suitable & NA & NA\\\\\n",
       "\t Vacant Site Not Suitable & NA & NA\\\\\n",
       "\t Maple: Red               & NA & NA\\\\\n",
       "\\end{tabular}\n"
      ],
      "text/markdown": [
       "\n",
       "A tibble: 6 × 3\n",
       "\n",
       "| common_name &lt;chr&gt; | height &lt;dbl&gt; | width &lt;dbl&gt; |\n",
       "|---|---|---|\n",
       "| Maple: Norway            | NA | NA |\n",
       "| Vacant Site Not Suitable | NA | NA |\n",
       "| Vacant Site Small        | NA | NA |\n",
       "| Vacant Site Not Suitable | NA | NA |\n",
       "| Vacant Site Not Suitable | NA | NA |\n",
       "| Maple: Red               | NA | NA |\n",
       "\n"
      ],
      "text/plain": [
       "  common_name              height width\n",
       "1 Maple: Norway            NA     NA   \n",
       "2 Vacant Site Not Suitable NA     NA   \n",
       "3 Vacant Site Small        NA     NA   \n",
       "4 Vacant Site Not Suitable NA     NA   \n",
       "5 Vacant Site Not Suitable NA     NA   \n",
       "6 Maple: Red               NA     NA   "
      ]
     },
     "metadata": {},
     "output_type": "display_data"
    },
    {
     "data": {
      "text/plain": [
       "       id            common_name            height           width       \n",
       " Min.   :5.960e+03   Length:45709       Min.   :  0.00   Min.   : 0.000  \n",
       " 1st Qu.:5.356e+08   Class :character   1st Qu.:  9.00   1st Qu.: 2.000  \n",
       " Median :1.073e+09   Mode  :character   Median : 20.00   Median : 6.000  \n",
       " Mean   :1.074e+09                      Mean   : 22.16   Mean   : 6.991  \n",
       " 3rd Qu.:1.613e+09                      3rd Qu.: 35.00   3rd Qu.:10.000  \n",
       " Max.   :2.147e+09                      Max.   :158.00   Max.   :65.000  \n",
       "                                        NA's   :4374     NA's   :4409    \n",
       " growth_space_length growth_space_width growth_space_type  diameter_base_height\n",
       " Min.   :  0.00      Min.   : 0.00      Length:45709       Min.   : 0.00       \n",
       " 1st Qu.:  3.00      1st Qu.: 2.00      Class :character   1st Qu.: 4.00       \n",
       " Median : 20.00      Median : 3.00      Mode  :character   Median :10.00       \n",
       " Mean   : 48.87      Mean   :26.53                         Mean   :12.85       \n",
       " 3rd Qu.: 99.00      3rd Qu.:25.00                         3rd Qu.:19.00       \n",
       " Max.   :188.00      Max.   :99.00                         Max.   :66.00       \n",
       " NA's   :4194        NA's   :4192                          NA's   :4329        \n",
       "     stems         overhead_utilities   land_use          condition        \n",
       " Min.   :  0.000   Length:45709       Length:45709       Length:45709      \n",
       " 1st Qu.:  1.000   Class :character   Class :character   Class :character  \n",
       " Median :  1.000   Mode  :character   Mode  :character   Mode  :character  \n",
       " Mean   :  1.039                                                           \n",
       " 3rd Qu.:  1.000                                                           \n",
       " Max.   :211.000                                                           \n",
       " NA's   :2                                                                 \n",
       " stormwater_benefits_dollar_value property_value_benefits_dollarvalue\n",
       " Min.   : 0.000                   Min.   : -1.537                    \n",
       " 1st Qu.: 1.878                   1st Qu.: 28.174                    \n",
       " Median : 5.888                   Median : 51.112                    \n",
       " Mean   :10.101                   Mean   : 53.936                    \n",
       " 3rd Qu.:13.947                   3rd Qu.: 73.112                    \n",
       " Max.   :85.320                   Max.   :344.668                    \n",
       " NA's   :5665                     NA's   :5665                       \n",
       " neighborhood          latitude       longitude     \n",
       " Length:45709       Min.   :40.36   Min.   :-80.09  \n",
       " Class :character   1st Qu.:40.43   1st Qu.:-80.00  \n",
       " Mode  :character   Median :40.45   Median :-79.95  \n",
       "                    Mean   :40.45   Mean   :-79.96  \n",
       "                    3rd Qu.:40.46   3rd Qu.:-79.92  \n",
       "                    Max.   :40.50   Max.   :-79.87  \n",
       "                    NA's   :251     NA's   :251     "
      ]
     },
     "metadata": {},
     "output_type": "display_data"
    }
   ],
   "source": [
    "# Check NA heights \n",
    "height_missing <- which(is.na(trees$height))\n",
    "\n",
    "head(trees[height_missing, c('common_name', 'height', 'width')])\n",
    "summary(trees)"
   ]
  },
  {
   "cell_type": "code",
   "execution_count": 18,
   "id": "ccb87205-bc10-406e-b4c4-cdbe7dcaec36",
   "metadata": {},
   "outputs": [
    {
     "data": {
      "text/html": [
       "<table class=\"dataframe\">\n",
       "<caption>A tibble: 6 × 17</caption>\n",
       "<thead>\n",
       "\t<tr><th scope=col>id</th><th scope=col>common_name</th><th scope=col>height</th><th scope=col>width</th><th scope=col>growth_space_length</th><th scope=col>growth_space_width</th><th scope=col>growth_space_type</th><th scope=col>diameter_base_height</th><th scope=col>stems</th><th scope=col>overhead_utilities</th><th scope=col>land_use</th><th scope=col>condition</th><th scope=col>stormwater_benefits_dollar_value</th><th scope=col>property_value_benefits_dollarvalue</th><th scope=col>neighborhood</th><th scope=col>latitude</th><th scope=col>longitude</th></tr>\n",
       "\t<tr><th scope=col>&lt;dbl&gt;</th><th scope=col>&lt;chr&gt;</th><th scope=col>&lt;dbl&gt;</th><th scope=col>&lt;dbl&gt;</th><th scope=col>&lt;dbl&gt;</th><th scope=col>&lt;dbl&gt;</th><th scope=col>&lt;chr&gt;</th><th scope=col>&lt;dbl&gt;</th><th scope=col>&lt;dbl&gt;</th><th scope=col>&lt;chr&gt;</th><th scope=col>&lt;chr&gt;</th><th scope=col>&lt;chr&gt;</th><th scope=col>&lt;dbl&gt;</th><th scope=col>&lt;dbl&gt;</th><th scope=col>&lt;chr&gt;</th><th scope=col>&lt;dbl&gt;</th><th scope=col>&lt;dbl&gt;</th></tr>\n",
       "</thead>\n",
       "<tbody>\n",
       "\t<tr><td>1946899269</td><td>Linden: Littleleaf      </td><td> 0</td><td> 0</td><td>99</td><td>99</td><td>Open or Unrestricted</td><td>22</td><td>0</td><td>No         </td><td>Residential          </td><td>N/A </td><td>13.9466943</td><td> 21.984813</td><td>Oakwood         </td><td>40.42927</td><td>-80.06787</td></tr>\n",
       "\t<tr><td>1431517397</td><td>Maple: Red              </td><td>22</td><td> 6</td><td> 6</td><td> 3</td><td>Well or Pit         </td><td> 6</td><td>1</td><td>No         </td><td>Commercial/Industrial</td><td>Fair</td><td> 3.9748582</td><td> 51.529093</td><td>South Side Flats</td><td>40.42680</td><td>-79.96503</td></tr>\n",
       "\t<tr><td> 994063598</td><td>Maple: Freeman          </td><td>25</td><td>10</td><td> 3</td><td> 3</td><td>Well or Pit         </td><td> 7</td><td>1</td><td>Conflicting</td><td>Residential          </td><td>Fair</td><td> 4.7756624</td><td> 43.184524</td><td>East Allegheny  </td><td>40.45550</td><td>-79.99928</td></tr>\n",
       "\t<tr><td>1591838573</td><td>Maple: Norway           </td><td>52</td><td>13</td><td>99</td><td>99</td><td>Open or Unrestricted</td><td>38</td><td>1</td><td>Yes        </td><td>Residential          </td><td>Good</td><td>41.2283977</td><td>194.128910</td><td>Highland Park   </td><td>40.47667</td><td>-79.92411</td></tr>\n",
       "\t<tr><td>1333224197</td><td>Oak: Pin                </td><td>45</td><td>18</td><td>35</td><td> 3</td><td>Tree Lawn or Parkway</td><td>21</td><td>1</td><td>No         </td><td>Residential          </td><td>Good</td><td>21.0691631</td><td> 85.742954</td><td>Highland Park   </td><td>40.47750</td><td>-79.92457</td></tr>\n",
       "\t<tr><td> 239290336</td><td>Dogwood: Corneliancherry</td><td> 8</td><td> 4</td><td>99</td><td> 3</td><td>Tree Lawn or Parkway</td><td> 2</td><td>1</td><td>Yes        </td><td>Residential          </td><td>Good</td><td> 0.5700662</td><td>  8.991322</td><td>Highland Park   </td><td>40.47840</td><td>-79.92598</td></tr>\n",
       "</tbody>\n",
       "</table>\n"
      ],
      "text/latex": [
       "A tibble: 6 × 17\n",
       "\\begin{tabular}{lllllllllllllllll}\n",
       " id & common\\_name & height & width & growth\\_space\\_length & growth\\_space\\_width & growth\\_space\\_type & diameter\\_base\\_height & stems & overhead\\_utilities & land\\_use & condition & stormwater\\_benefits\\_dollar\\_value & property\\_value\\_benefits\\_dollarvalue & neighborhood & latitude & longitude\\\\\n",
       " <dbl> & <chr> & <dbl> & <dbl> & <dbl> & <dbl> & <chr> & <dbl> & <dbl> & <chr> & <chr> & <chr> & <dbl> & <dbl> & <chr> & <dbl> & <dbl>\\\\\n",
       "\\hline\n",
       "\t 1946899269 & Linden: Littleleaf       &  0 &  0 & 99 & 99 & Open or Unrestricted & 22 & 0 & No          & Residential           & N/A  & 13.9466943 &  21.984813 & Oakwood          & 40.42927 & -80.06787\\\\\n",
       "\t 1431517397 & Maple: Red               & 22 &  6 &  6 &  3 & Well or Pit          &  6 & 1 & No          & Commercial/Industrial & Fair &  3.9748582 &  51.529093 & South Side Flats & 40.42680 & -79.96503\\\\\n",
       "\t  994063598 & Maple: Freeman           & 25 & 10 &  3 &  3 & Well or Pit          &  7 & 1 & Conflicting & Residential           & Fair &  4.7756624 &  43.184524 & East Allegheny   & 40.45550 & -79.99928\\\\\n",
       "\t 1591838573 & Maple: Norway            & 52 & 13 & 99 & 99 & Open or Unrestricted & 38 & 1 & Yes         & Residential           & Good & 41.2283977 & 194.128910 & Highland Park    & 40.47667 & -79.92411\\\\\n",
       "\t 1333224197 & Oak: Pin                 & 45 & 18 & 35 &  3 & Tree Lawn or Parkway & 21 & 1 & No          & Residential           & Good & 21.0691631 &  85.742954 & Highland Park    & 40.47750 & -79.92457\\\\\n",
       "\t  239290336 & Dogwood: Corneliancherry &  8 &  4 & 99 &  3 & Tree Lawn or Parkway &  2 & 1 & Yes         & Residential           & Good &  0.5700662 &   8.991322 & Highland Park    & 40.47840 & -79.92598\\\\\n",
       "\\end{tabular}\n"
      ],
      "text/markdown": [
       "\n",
       "A tibble: 6 × 17\n",
       "\n",
       "| id &lt;dbl&gt; | common_name &lt;chr&gt; | height &lt;dbl&gt; | width &lt;dbl&gt; | growth_space_length &lt;dbl&gt; | growth_space_width &lt;dbl&gt; | growth_space_type &lt;chr&gt; | diameter_base_height &lt;dbl&gt; | stems &lt;dbl&gt; | overhead_utilities &lt;chr&gt; | land_use &lt;chr&gt; | condition &lt;chr&gt; | stormwater_benefits_dollar_value &lt;dbl&gt; | property_value_benefits_dollarvalue &lt;dbl&gt; | neighborhood &lt;chr&gt; | latitude &lt;dbl&gt; | longitude &lt;dbl&gt; |\n",
       "|---|---|---|---|---|---|---|---|---|---|---|---|---|---|---|---|---|\n",
       "| 1946899269 | Linden: Littleleaf       |  0 |  0 | 99 | 99 | Open or Unrestricted | 22 | 0 | No          | Residential           | N/A  | 13.9466943 |  21.984813 | Oakwood          | 40.42927 | -80.06787 |\n",
       "| 1431517397 | Maple: Red               | 22 |  6 |  6 |  3 | Well or Pit          |  6 | 1 | No          | Commercial/Industrial | Fair |  3.9748582 |  51.529093 | South Side Flats | 40.42680 | -79.96503 |\n",
       "|  994063598 | Maple: Freeman           | 25 | 10 |  3 |  3 | Well or Pit          |  7 | 1 | Conflicting | Residential           | Fair |  4.7756624 |  43.184524 | East Allegheny   | 40.45550 | -79.99928 |\n",
       "| 1591838573 | Maple: Norway            | 52 | 13 | 99 | 99 | Open or Unrestricted | 38 | 1 | Yes         | Residential           | Good | 41.2283977 | 194.128910 | Highland Park    | 40.47667 | -79.92411 |\n",
       "| 1333224197 | Oak: Pin                 | 45 | 18 | 35 |  3 | Tree Lawn or Parkway | 21 | 1 | No          | Residential           | Good | 21.0691631 |  85.742954 | Highland Park    | 40.47750 | -79.92457 |\n",
       "|  239290336 | Dogwood: Corneliancherry |  8 |  4 | 99 |  3 | Tree Lawn or Parkway |  2 | 1 | Yes         | Residential           | Good |  0.5700662 |   8.991322 | Highland Park    | 40.47840 | -79.92598 |\n",
       "\n"
      ],
      "text/plain": [
       "  id         common_name              height width growth_space_length\n",
       "1 1946899269 Linden: Littleleaf        0      0    99                 \n",
       "2 1431517397 Maple: Red               22      6     6                 \n",
       "3  994063598 Maple: Freeman           25     10     3                 \n",
       "4 1591838573 Maple: Norway            52     13    99                 \n",
       "5 1333224197 Oak: Pin                 45     18    35                 \n",
       "6  239290336 Dogwood: Corneliancherry  8      4    99                 \n",
       "  growth_space_width growth_space_type    diameter_base_height stems\n",
       "1 99                 Open or Unrestricted 22                   0    \n",
       "2  3                 Well or Pit           6                   1    \n",
       "3  3                 Well or Pit           7                   1    \n",
       "4 99                 Open or Unrestricted 38                   1    \n",
       "5  3                 Tree Lawn or Parkway 21                   1    \n",
       "6  3                 Tree Lawn or Parkway  2                   1    \n",
       "  overhead_utilities land_use              condition\n",
       "1 No                 Residential           N/A      \n",
       "2 No                 Commercial/Industrial Fair     \n",
       "3 Conflicting        Residential           Fair     \n",
       "4 Yes                Residential           Good     \n",
       "5 No                 Residential           Good     \n",
       "6 Yes                Residential           Good     \n",
       "  stormwater_benefits_dollar_value property_value_benefits_dollarvalue\n",
       "1 13.9466943                        21.984813                         \n",
       "2  3.9748582                        51.529093                         \n",
       "3  4.7756624                        43.184524                         \n",
       "4 41.2283977                       194.128910                         \n",
       "5 21.0691631                        85.742954                         \n",
       "6  0.5700662                         8.991322                         \n",
       "  neighborhood     latitude longitude\n",
       "1 Oakwood          40.42927 -80.06787\n",
       "2 South Side Flats 40.42680 -79.96503\n",
       "3 East Allegheny   40.45550 -79.99928\n",
       "4 Highland Park    40.47667 -79.92411\n",
       "5 Highland Park    40.47750 -79.92457\n",
       "6 Highland Park    40.47840 -79.92598"
      ]
     },
     "metadata": {},
     "output_type": "display_data"
    },
    {
     "data": {
      "text/plain": [
       "       id            common_name            height           width       \n",
       " Min.   :5.960e+03   Length:39945       Min.   :  0.00   Min.   : 0.000  \n",
       " 1st Qu.:5.375e+08   Class :character   1st Qu.: 10.00   1st Qu.: 3.000  \n",
       " Median :1.075e+09   Mode  :character   Median : 20.00   Median : 6.000  \n",
       " Mean   :1.075e+09                      Mean   : 22.86   Mean   : 7.215  \n",
       " 3rd Qu.:1.612e+09                      3rd Qu.: 35.00   3rd Qu.:10.000  \n",
       " Max.   :2.147e+09                      Max.   :158.00   Max.   :65.000  \n",
       " growth_space_length growth_space_width growth_space_type  diameter_base_height\n",
       " Min.   :  0.00      Min.   : 0.00      Length:39945       Min.   : 0.00       \n",
       " 1st Qu.:  3.00      1st Qu.: 2.00      Class :character   1st Qu.: 4.00       \n",
       " Median : 20.00      Median : 3.00      Mode  :character   Median :10.00       \n",
       " Mean   : 49.03      Mean   :26.63                         Mean   :12.87       \n",
       " 3rd Qu.: 99.00      3rd Qu.:30.00                         3rd Qu.:19.00       \n",
       " Max.   :188.00      Max.   :99.00                         Max.   :66.00       \n",
       "     stems         overhead_utilities   land_use          condition        \n",
       " Min.   :  0.000   Length:39945       Length:39945       Length:39945      \n",
       " 1st Qu.:  1.000   Class :character   Class :character   Class :character  \n",
       " Median :  1.000   Mode  :character   Mode  :character   Mode  :character  \n",
       " Mean   :  1.128                                                           \n",
       " 3rd Qu.:  1.000                                                           \n",
       " Max.   :211.000                                                           \n",
       " stormwater_benefits_dollar_value property_value_benefits_dollarvalue\n",
       " Min.   : 0.000                   Min.   : -1.537                    \n",
       " 1st Qu.: 1.876                   1st Qu.: 28.174                    \n",
       " Median : 5.888                   Median : 51.112                    \n",
       " Mean   :10.104                   Mean   : 53.917                    \n",
       " 3rd Qu.:13.947                   3rd Qu.: 73.112                    \n",
       " Max.   :85.320                   Max.   :344.668                    \n",
       " neighborhood          latitude       longitude     \n",
       " Length:39945       Min.   :40.36   Min.   :-80.09  \n",
       " Class :character   1st Qu.:40.43   1st Qu.:-80.00  \n",
       " Mode  :character   Median :40.45   Median :-79.95  \n",
       "                    Mean   :40.45   Mean   :-79.96  \n",
       "                    3rd Qu.:40.46   3rd Qu.:-79.92  \n",
       "                    Max.   :40.50   Max.   :-79.87  "
      ]
     },
     "metadata": {},
     "output_type": "display_data"
    }
   ],
   "source": [
    "cleaned_trees <- trees[complete.cases(trees), , drop = FALSE]\n",
    "head(cleaned_trees)\n",
    "summary(cleaned_trees)"
   ]
  },
  {
   "cell_type": "markdown",
   "id": "71a89017-a5fe-4754-ab63-7f5c56a60653",
   "metadata": {
    "jp-MarkdownHeadingCollapsed": true
   },
   "source": [
    "## Add Two Columns\n",
    "- geo_point: GeoJSON point format [longitude, latitude]\n",
    "- property_value_per_height: the property value benefit of the tree divided by its height."
   ]
  },
  {
   "cell_type": "code",
   "execution_count": 21,
   "id": "34c03c93-e576-493a-9811-90cac6b4a927",
   "metadata": {},
   "outputs": [],
   "source": [
    "# Make geoJSON point function\n",
    "makeGEO = function(longitude, latitude) {\n",
    "    paste('[', longitude, ',', latitude, ']', sep = '')\n",
    "}"
   ]
  },
  {
   "cell_type": "code",
   "execution_count": 23,
   "id": "35ccd24f-e5c0-4084-850d-2344fbdcbe36",
   "metadata": {},
   "outputs": [
    {
     "data": {
      "text/html": [
       "<table class=\"dataframe\">\n",
       "<caption>A tibble: 6 × 19</caption>\n",
       "<thead>\n",
       "\t<tr><th scope=col>id</th><th scope=col>common_name</th><th scope=col>height</th><th scope=col>width</th><th scope=col>growth_space_length</th><th scope=col>growth_space_width</th><th scope=col>growth_space_type</th><th scope=col>diameter_base_height</th><th scope=col>stems</th><th scope=col>overhead_utilities</th><th scope=col>land_use</th><th scope=col>condition</th><th scope=col>stormwater_benefits_dollar_value</th><th scope=col>property_value_benefits_dollarvalue</th><th scope=col>neighborhood</th><th scope=col>latitude</th><th scope=col>longitude</th><th scope=col>geo_point</th><th scope=col>property_value_per_height</th></tr>\n",
       "\t<tr><th scope=col>&lt;dbl&gt;</th><th scope=col>&lt;chr&gt;</th><th scope=col>&lt;dbl&gt;</th><th scope=col>&lt;dbl&gt;</th><th scope=col>&lt;dbl&gt;</th><th scope=col>&lt;dbl&gt;</th><th scope=col>&lt;chr&gt;</th><th scope=col>&lt;dbl&gt;</th><th scope=col>&lt;dbl&gt;</th><th scope=col>&lt;chr&gt;</th><th scope=col>&lt;chr&gt;</th><th scope=col>&lt;chr&gt;</th><th scope=col>&lt;dbl&gt;</th><th scope=col>&lt;dbl&gt;</th><th scope=col>&lt;chr&gt;</th><th scope=col>&lt;dbl&gt;</th><th scope=col>&lt;dbl&gt;</th><th scope=col>&lt;chr&gt;</th><th scope=col>&lt;dbl&gt;</th></tr>\n",
       "</thead>\n",
       "<tbody>\n",
       "\t<tr><td> 754166088</td><td>Stump             </td><td> 0</td><td> 0</td><td>10</td><td> 2</td><td>Well or Pit         </td><td>16</td><td>1</td><td>Yes        </td><td>Vacant               </td><td>N/A </td><td>       NA</td><td>       NA</td><td>Homewood North  </td><td>40.45817</td><td>-79.88972</td><td>[-79.88972391,40.45816863]</td><td>      NA</td></tr>\n",
       "\t<tr><td>1946899269</td><td>Linden: Littleleaf</td><td> 0</td><td> 0</td><td>99</td><td>99</td><td>Open or Unrestricted</td><td>22</td><td>0</td><td>No         </td><td>Residential          </td><td>N/A </td><td>13.946694</td><td> 21.98481</td><td>Oakwood         </td><td>40.42927</td><td>-80.06787</td><td>[-80.06786821,40.42926879]</td><td>     Inf</td></tr>\n",
       "\t<tr><td>1431517397</td><td>Maple: Red        </td><td>22</td><td> 6</td><td> 6</td><td> 3</td><td>Well or Pit         </td><td> 6</td><td>1</td><td>No         </td><td>Commercial/Industrial</td><td>Fair</td><td> 3.974858</td><td> 51.52909</td><td>South Side Flats</td><td>40.42680</td><td>-79.96503</td><td>[-79.96503491,40.42679667]</td><td>2.342231</td></tr>\n",
       "\t<tr><td> 994063598</td><td>Maple: Freeman    </td><td>25</td><td>10</td><td> 3</td><td> 3</td><td>Well or Pit         </td><td> 7</td><td>1</td><td>Conflicting</td><td>Residential          </td><td>Fair</td><td> 4.775662</td><td> 43.18452</td><td>East Allegheny  </td><td>40.45550</td><td>-79.99928</td><td>[-79.99927602,40.45550338]</td><td>1.727381</td></tr>\n",
       "\t<tr><td>1591838573</td><td>Maple: Norway     </td><td>52</td><td>13</td><td>99</td><td>99</td><td>Open or Unrestricted</td><td>38</td><td>1</td><td>Yes        </td><td>Residential          </td><td>Good</td><td>41.228398</td><td>194.12891</td><td>Highland Park   </td><td>40.47667</td><td>-79.92411</td><td>[-79.92410638,40.47666673]</td><td>3.733248</td></tr>\n",
       "\t<tr><td>1333224197</td><td>Oak: Pin          </td><td>45</td><td>18</td><td>35</td><td> 3</td><td>Tree Lawn or Parkway</td><td>21</td><td>1</td><td>No         </td><td>Residential          </td><td>Good</td><td>21.069163</td><td> 85.74295</td><td>Highland Park   </td><td>40.47750</td><td>-79.92457</td><td>[-79.92456803,40.47749586]</td><td>1.905399</td></tr>\n",
       "</tbody>\n",
       "</table>\n"
      ],
      "text/latex": [
       "A tibble: 6 × 19\n",
       "\\begin{tabular}{lllllllllllllllllll}\n",
       " id & common\\_name & height & width & growth\\_space\\_length & growth\\_space\\_width & growth\\_space\\_type & diameter\\_base\\_height & stems & overhead\\_utilities & land\\_use & condition & stormwater\\_benefits\\_dollar\\_value & property\\_value\\_benefits\\_dollarvalue & neighborhood & latitude & longitude & geo\\_point & property\\_value\\_per\\_height\\\\\n",
       " <dbl> & <chr> & <dbl> & <dbl> & <dbl> & <dbl> & <chr> & <dbl> & <dbl> & <chr> & <chr> & <chr> & <dbl> & <dbl> & <chr> & <dbl> & <dbl> & <chr> & <dbl>\\\\\n",
       "\\hline\n",
       "\t  754166088 & Stump              &  0 &  0 & 10 &  2 & Well or Pit          & 16 & 1 & Yes         & Vacant                & N/A  &        NA &        NA & Homewood North   & 40.45817 & -79.88972 & {[}-79.88972391,40.45816863{]} &       NA\\\\\n",
       "\t 1946899269 & Linden: Littleleaf &  0 &  0 & 99 & 99 & Open or Unrestricted & 22 & 0 & No          & Residential           & N/A  & 13.946694 &  21.98481 & Oakwood          & 40.42927 & -80.06787 & {[}-80.06786821,40.42926879{]} &      Inf\\\\\n",
       "\t 1431517397 & Maple: Red         & 22 &  6 &  6 &  3 & Well or Pit          &  6 & 1 & No          & Commercial/Industrial & Fair &  3.974858 &  51.52909 & South Side Flats & 40.42680 & -79.96503 & {[}-79.96503491,40.42679667{]} & 2.342231\\\\\n",
       "\t  994063598 & Maple: Freeman     & 25 & 10 &  3 &  3 & Well or Pit          &  7 & 1 & Conflicting & Residential           & Fair &  4.775662 &  43.18452 & East Allegheny   & 40.45550 & -79.99928 & {[}-79.99927602,40.45550338{]} & 1.727381\\\\\n",
       "\t 1591838573 & Maple: Norway      & 52 & 13 & 99 & 99 & Open or Unrestricted & 38 & 1 & Yes         & Residential           & Good & 41.228398 & 194.12891 & Highland Park    & 40.47667 & -79.92411 & {[}-79.92410638,40.47666673{]} & 3.733248\\\\\n",
       "\t 1333224197 & Oak: Pin           & 45 & 18 & 35 &  3 & Tree Lawn or Parkway & 21 & 1 & No          & Residential           & Good & 21.069163 &  85.74295 & Highland Park    & 40.47750 & -79.92457 & {[}-79.92456803,40.47749586{]} & 1.905399\\\\\n",
       "\\end{tabular}\n"
      ],
      "text/markdown": [
       "\n",
       "A tibble: 6 × 19\n",
       "\n",
       "| id &lt;dbl&gt; | common_name &lt;chr&gt; | height &lt;dbl&gt; | width &lt;dbl&gt; | growth_space_length &lt;dbl&gt; | growth_space_width &lt;dbl&gt; | growth_space_type &lt;chr&gt; | diameter_base_height &lt;dbl&gt; | stems &lt;dbl&gt; | overhead_utilities &lt;chr&gt; | land_use &lt;chr&gt; | condition &lt;chr&gt; | stormwater_benefits_dollar_value &lt;dbl&gt; | property_value_benefits_dollarvalue &lt;dbl&gt; | neighborhood &lt;chr&gt; | latitude &lt;dbl&gt; | longitude &lt;dbl&gt; | geo_point &lt;chr&gt; | property_value_per_height &lt;dbl&gt; |\n",
       "|---|---|---|---|---|---|---|---|---|---|---|---|---|---|---|---|---|---|---|\n",
       "|  754166088 | Stump              |  0 |  0 | 10 |  2 | Well or Pit          | 16 | 1 | Yes         | Vacant                | N/A  |        NA |        NA | Homewood North   | 40.45817 | -79.88972 | [-79.88972391,40.45816863] |       NA |\n",
       "| 1946899269 | Linden: Littleleaf |  0 |  0 | 99 | 99 | Open or Unrestricted | 22 | 0 | No          | Residential           | N/A  | 13.946694 |  21.98481 | Oakwood          | 40.42927 | -80.06787 | [-80.06786821,40.42926879] |      Inf |\n",
       "| 1431517397 | Maple: Red         | 22 |  6 |  6 |  3 | Well or Pit          |  6 | 1 | No          | Commercial/Industrial | Fair |  3.974858 |  51.52909 | South Side Flats | 40.42680 | -79.96503 | [-79.96503491,40.42679667] | 2.342231 |\n",
       "|  994063598 | Maple: Freeman     | 25 | 10 |  3 |  3 | Well or Pit          |  7 | 1 | Conflicting | Residential           | Fair |  4.775662 |  43.18452 | East Allegheny   | 40.45550 | -79.99928 | [-79.99927602,40.45550338] | 1.727381 |\n",
       "| 1591838573 | Maple: Norway      | 52 | 13 | 99 | 99 | Open or Unrestricted | 38 | 1 | Yes         | Residential           | Good | 41.228398 | 194.12891 | Highland Park    | 40.47667 | -79.92411 | [-79.92410638,40.47666673] | 3.733248 |\n",
       "| 1333224197 | Oak: Pin           | 45 | 18 | 35 |  3 | Tree Lawn or Parkway | 21 | 1 | No          | Residential           | Good | 21.069163 |  85.74295 | Highland Park    | 40.47750 | -79.92457 | [-79.92456803,40.47749586] | 1.905399 |\n",
       "\n"
      ],
      "text/plain": [
       "  id         common_name        height width growth_space_length\n",
       "1  754166088 Stump               0      0    10                 \n",
       "2 1946899269 Linden: Littleleaf  0      0    99                 \n",
       "3 1431517397 Maple: Red         22      6     6                 \n",
       "4  994063598 Maple: Freeman     25     10     3                 \n",
       "5 1591838573 Maple: Norway      52     13    99                 \n",
       "6 1333224197 Oak: Pin           45     18    35                 \n",
       "  growth_space_width growth_space_type    diameter_base_height stems\n",
       "1  2                 Well or Pit          16                   1    \n",
       "2 99                 Open or Unrestricted 22                   0    \n",
       "3  3                 Well or Pit           6                   1    \n",
       "4  3                 Well or Pit           7                   1    \n",
       "5 99                 Open or Unrestricted 38                   1    \n",
       "6  3                 Tree Lawn or Parkway 21                   1    \n",
       "  overhead_utilities land_use              condition\n",
       "1 Yes                Vacant                N/A      \n",
       "2 No                 Residential           N/A      \n",
       "3 No                 Commercial/Industrial Fair     \n",
       "4 Conflicting        Residential           Fair     \n",
       "5 Yes                Residential           Good     \n",
       "6 No                 Residential           Good     \n",
       "  stormwater_benefits_dollar_value property_value_benefits_dollarvalue\n",
       "1        NA                               NA                          \n",
       "2 13.946694                         21.98481                          \n",
       "3  3.974858                         51.52909                          \n",
       "4  4.775662                         43.18452                          \n",
       "5 41.228398                        194.12891                          \n",
       "6 21.069163                         85.74295                          \n",
       "  neighborhood     latitude longitude geo_point                 \n",
       "1 Homewood North   40.45817 -79.88972 [-79.88972391,40.45816863]\n",
       "2 Oakwood          40.42927 -80.06787 [-80.06786821,40.42926879]\n",
       "3 South Side Flats 40.42680 -79.96503 [-79.96503491,40.42679667]\n",
       "4 East Allegheny   40.45550 -79.99928 [-79.99927602,40.45550338]\n",
       "5 Highland Park    40.47667 -79.92411 [-79.92410638,40.47666673]\n",
       "6 Highland Park    40.47750 -79.92457 [-79.92456803,40.47749586]\n",
       "  property_value_per_height\n",
       "1       NA                 \n",
       "2      Inf                 \n",
       "3 2.342231                 \n",
       "4 1.727381                 \n",
       "5 3.733248                 \n",
       "6 1.905399                 "
      ]
     },
     "metadata": {},
     "output_type": "display_data"
    }
   ],
   "source": [
    "trees_geo <- mutate(trees, geo_point = makeGEO(longitude, latitude))\n",
    "trees_geo_prop_height <- mutate(trees_geo, property_value_per_height = property_value_benefits_dollarvalue / height)\n",
    "head(trees_geo_prop_height)"
   ]
  },
  {
   "cell_type": "markdown",
   "id": "83a83864-23f8-4922-b3f1-3d8acbe33922",
   "metadata": {
    "jp-MarkdownHeadingCollapsed": true
   },
   "source": [
    "## Create New Dataframe and Combine\n",
    "Created a new dataframe with two more row entries and combined with original dataset."
   ]
  },
  {
   "cell_type": "code",
   "execution_count": 27,
   "id": "c5883102-1849-47b3-b2e7-5fcb65ecc42b",
   "metadata": {},
   "outputs": [],
   "source": [
    "new_entries <- wrapr::build_frame(\n",
    "    \"id\", \"common_name\", \"height\", \"width\", \"growth_space_length\", \"growth_space_width\", \"growth_space_type\", \"diameter_base_height\",\n",
    "    \"stems\", \"overhead_utilities\", \"land_use\", \"condition\", \"stormwater_benefits_dollar_value\", \"property_value_benefits_dollarvalue\", \"neighborhood\", \"latitude\", \"longitude\" |\n",
    "    1449000842, \"Maple: Red\", 20, 8, 10, 4, \"Well or Pit\", 8, 1, \"Yes\", \"Residential\", \"Good\", 7.245601, 48.1992, \"Highland Park\", 40.39002, -79.13441 |\n",
    "    1000224821, \"Oak: White\", 28, 12, 6, 2, \"Tree Lawn or Parkway\", 18, 0, \"No\", \"Commercial/Industrial\", \"Fair\", 11.00942, 24.99024, \"South Side Flats\", 40.77241, -79.85423)"
   ]
  },
  {
   "cell_type": "code",
   "execution_count": 35,
   "id": "3d052fe6-2a1b-4ba9-9886-c5cdd7621c29",
   "metadata": {},
   "outputs": [
    {
     "data": {
      "text/html": [
       "<table class=\"dataframe\">\n",
       "<caption>A tibble: 1 × 17</caption>\n",
       "<thead>\n",
       "\t<tr><th scope=col>id</th><th scope=col>common_name</th><th scope=col>height</th><th scope=col>width</th><th scope=col>growth_space_length</th><th scope=col>growth_space_width</th><th scope=col>growth_space_type</th><th scope=col>diameter_base_height</th><th scope=col>stems</th><th scope=col>overhead_utilities</th><th scope=col>land_use</th><th scope=col>condition</th><th scope=col>stormwater_benefits_dollar_value</th><th scope=col>property_value_benefits_dollarvalue</th><th scope=col>neighborhood</th><th scope=col>latitude</th><th scope=col>longitude</th></tr>\n",
       "\t<tr><th scope=col>&lt;dbl&gt;</th><th scope=col>&lt;chr&gt;</th><th scope=col>&lt;dbl&gt;</th><th scope=col>&lt;dbl&gt;</th><th scope=col>&lt;dbl&gt;</th><th scope=col>&lt;dbl&gt;</th><th scope=col>&lt;chr&gt;</th><th scope=col>&lt;dbl&gt;</th><th scope=col>&lt;dbl&gt;</th><th scope=col>&lt;chr&gt;</th><th scope=col>&lt;chr&gt;</th><th scope=col>&lt;chr&gt;</th><th scope=col>&lt;dbl&gt;</th><th scope=col>&lt;dbl&gt;</th><th scope=col>&lt;chr&gt;</th><th scope=col>&lt;dbl&gt;</th><th scope=col>&lt;dbl&gt;</th></tr>\n",
       "</thead>\n",
       "<tbody>\n",
       "\t<tr><td>1449000842</td><td>Maple: Red</td><td>20</td><td>8</td><td>10</td><td>4</td><td>Well or Pit</td><td>8</td><td>1</td><td>Yes</td><td>Residential</td><td>Good</td><td>7.245601</td><td>48.1992</td><td>Highland Park</td><td>40.39002</td><td>-79.13441</td></tr>\n",
       "</tbody>\n",
       "</table>\n"
      ],
      "text/latex": [
       "A tibble: 1 × 17\n",
       "\\begin{tabular}{lllllllllllllllll}\n",
       " id & common\\_name & height & width & growth\\_space\\_length & growth\\_space\\_width & growth\\_space\\_type & diameter\\_base\\_height & stems & overhead\\_utilities & land\\_use & condition & stormwater\\_benefits\\_dollar\\_value & property\\_value\\_benefits\\_dollarvalue & neighborhood & latitude & longitude\\\\\n",
       " <dbl> & <chr> & <dbl> & <dbl> & <dbl> & <dbl> & <chr> & <dbl> & <dbl> & <chr> & <chr> & <chr> & <dbl> & <dbl> & <chr> & <dbl> & <dbl>\\\\\n",
       "\\hline\n",
       "\t 1449000842 & Maple: Red & 20 & 8 & 10 & 4 & Well or Pit & 8 & 1 & Yes & Residential & Good & 7.245601 & 48.1992 & Highland Park & 40.39002 & -79.13441\\\\\n",
       "\\end{tabular}\n"
      ],
      "text/markdown": [
       "\n",
       "A tibble: 1 × 17\n",
       "\n",
       "| id &lt;dbl&gt; | common_name &lt;chr&gt; | height &lt;dbl&gt; | width &lt;dbl&gt; | growth_space_length &lt;dbl&gt; | growth_space_width &lt;dbl&gt; | growth_space_type &lt;chr&gt; | diameter_base_height &lt;dbl&gt; | stems &lt;dbl&gt; | overhead_utilities &lt;chr&gt; | land_use &lt;chr&gt; | condition &lt;chr&gt; | stormwater_benefits_dollar_value &lt;dbl&gt; | property_value_benefits_dollarvalue &lt;dbl&gt; | neighborhood &lt;chr&gt; | latitude &lt;dbl&gt; | longitude &lt;dbl&gt; |\n",
       "|---|---|---|---|---|---|---|---|---|---|---|---|---|---|---|---|---|\n",
       "| 1449000842 | Maple: Red | 20 | 8 | 10 | 4 | Well or Pit | 8 | 1 | Yes | Residential | Good | 7.245601 | 48.1992 | Highland Park | 40.39002 | -79.13441 |\n",
       "\n"
      ],
      "text/plain": [
       "  id         common_name height width growth_space_length growth_space_width\n",
       "1 1449000842 Maple: Red  20     8     10                  4                 \n",
       "  growth_space_type diameter_base_height stems overhead_utilities land_use   \n",
       "1 Well or Pit       8                    1     Yes                Residential\n",
       "  condition stormwater_benefits_dollar_value\n",
       "1 Good      7.245601                        \n",
       "  property_value_benefits_dollarvalue neighborhood  latitude longitude\n",
       "1 48.1992                             Highland Park 40.39002 -79.13441"
      ]
     },
     "metadata": {},
     "output_type": "display_data"
    }
   ],
   "source": [
    "trees_bound <- rbind(trees, new_entries)\n",
    "# checking if entry was added. Filtering with same id as first entry in manually created data frame\n",
    "trees_bound[trees_bound$id == 1449000842,]"
   ]
  },
  {
   "cell_type": "markdown",
   "id": "91e0364d-3e44-4ae8-832a-92d7cfaf3ba2",
   "metadata": {},
   "source": [
    "## Pivot Wider"
   ]
  },
  {
   "cell_type": "code",
   "execution_count": 43,
   "id": "ab2ab28e-f80c-4874-ac70-ce97143c396f",
   "metadata": {},
   "outputs": [
    {
     "data": {
      "text/html": [
       "<table class=\"dataframe\">\n",
       "<caption>A tibble: 6 × 11</caption>\n",
       "<thead>\n",
       "\t<tr><th scope=col>id</th><th scope=col>Vacant</th><th scope=col>Residential</th><th scope=col>Commercial/Industrial</th><th scope=col>Institutional</th><th scope=col>Park</th><th scope=col>Multi-family Residential</th><th scope=col>Transportation</th><th scope=col>Utility</th><th scope=col>Golf Course</th><th scope=col>Cemetery</th></tr>\n",
       "\t<tr><th scope=col>&lt;dbl&gt;</th><th scope=col>&lt;chr&gt;</th><th scope=col>&lt;chr&gt;</th><th scope=col>&lt;chr&gt;</th><th scope=col>&lt;chr&gt;</th><th scope=col>&lt;chr&gt;</th><th scope=col>&lt;chr&gt;</th><th scope=col>&lt;chr&gt;</th><th scope=col>&lt;chr&gt;</th><th scope=col>&lt;chr&gt;</th><th scope=col>&lt;chr&gt;</th></tr>\n",
       "</thead>\n",
       "<tbody>\n",
       "\t<tr><td> 754166088</td><td>Stump</td><td>NA                </td><td>NA        </td><td>NA</td><td>NA</td><td>NA</td><td>NA</td><td>NA</td><td>NA</td><td>NA</td></tr>\n",
       "\t<tr><td>1946899269</td><td>NA   </td><td>Linden: Littleleaf</td><td>NA        </td><td>NA</td><td>NA</td><td>NA</td><td>NA</td><td>NA</td><td>NA</td><td>NA</td></tr>\n",
       "\t<tr><td>1431517397</td><td>NA   </td><td>NA                </td><td>Maple: Red</td><td>NA</td><td>NA</td><td>NA</td><td>NA</td><td>NA</td><td>NA</td><td>NA</td></tr>\n",
       "\t<tr><td> 994063598</td><td>NA   </td><td>Maple: Freeman    </td><td>NA        </td><td>NA</td><td>NA</td><td>NA</td><td>NA</td><td>NA</td><td>NA</td><td>NA</td></tr>\n",
       "\t<tr><td>1591838573</td><td>NA   </td><td>Maple: Norway     </td><td>NA        </td><td>NA</td><td>NA</td><td>NA</td><td>NA</td><td>NA</td><td>NA</td><td>NA</td></tr>\n",
       "\t<tr><td>1333224197</td><td>NA   </td><td>Oak: Pin          </td><td>NA        </td><td>NA</td><td>NA</td><td>NA</td><td>NA</td><td>NA</td><td>NA</td><td>NA</td></tr>\n",
       "</tbody>\n",
       "</table>\n"
      ],
      "text/latex": [
       "A tibble: 6 × 11\n",
       "\\begin{tabular}{lllllllllll}\n",
       " id & Vacant & Residential & Commercial/Industrial & Institutional & Park & Multi-family Residential & Transportation & Utility & Golf Course & Cemetery\\\\\n",
       " <dbl> & <chr> & <chr> & <chr> & <chr> & <chr> & <chr> & <chr> & <chr> & <chr> & <chr>\\\\\n",
       "\\hline\n",
       "\t  754166088 & Stump & NA                 & NA         & NA & NA & NA & NA & NA & NA & NA\\\\\n",
       "\t 1946899269 & NA    & Linden: Littleleaf & NA         & NA & NA & NA & NA & NA & NA & NA\\\\\n",
       "\t 1431517397 & NA    & NA                 & Maple: Red & NA & NA & NA & NA & NA & NA & NA\\\\\n",
       "\t  994063598 & NA    & Maple: Freeman     & NA         & NA & NA & NA & NA & NA & NA & NA\\\\\n",
       "\t 1591838573 & NA    & Maple: Norway      & NA         & NA & NA & NA & NA & NA & NA & NA\\\\\n",
       "\t 1333224197 & NA    & Oak: Pin           & NA         & NA & NA & NA & NA & NA & NA & NA\\\\\n",
       "\\end{tabular}\n"
      ],
      "text/markdown": [
       "\n",
       "A tibble: 6 × 11\n",
       "\n",
       "| id &lt;dbl&gt; | Vacant &lt;chr&gt; | Residential &lt;chr&gt; | Commercial/Industrial &lt;chr&gt; | Institutional &lt;chr&gt; | Park &lt;chr&gt; | Multi-family Residential &lt;chr&gt; | Transportation &lt;chr&gt; | Utility &lt;chr&gt; | Golf Course &lt;chr&gt; | Cemetery &lt;chr&gt; |\n",
       "|---|---|---|---|---|---|---|---|---|---|---|\n",
       "|  754166088 | Stump | NA                 | NA         | NA | NA | NA | NA | NA | NA | NA |\n",
       "| 1946899269 | NA    | Linden: Littleleaf | NA         | NA | NA | NA | NA | NA | NA | NA |\n",
       "| 1431517397 | NA    | NA                 | Maple: Red | NA | NA | NA | NA | NA | NA | NA |\n",
       "|  994063598 | NA    | Maple: Freeman     | NA         | NA | NA | NA | NA | NA | NA | NA |\n",
       "| 1591838573 | NA    | Maple: Norway      | NA         | NA | NA | NA | NA | NA | NA | NA |\n",
       "| 1333224197 | NA    | Oak: Pin           | NA         | NA | NA | NA | NA | NA | NA | NA |\n",
       "\n"
      ],
      "text/plain": [
       "  id         Vacant Residential        Commercial/Industrial Institutional Park\n",
       "1  754166088 Stump  NA                 NA                    NA            NA  \n",
       "2 1946899269 NA     Linden: Littleleaf NA                    NA            NA  \n",
       "3 1431517397 NA     NA                 Maple: Red            NA            NA  \n",
       "4  994063598 NA     Maple: Freeman     NA                    NA            NA  \n",
       "5 1591838573 NA     Maple: Norway      NA                    NA            NA  \n",
       "6 1333224197 NA     Oak: Pin           NA                    NA            NA  \n",
       "  Multi-family Residential Transportation Utility Golf Course Cemetery\n",
       "1 NA                       NA             NA      NA          NA      \n",
       "2 NA                       NA             NA      NA          NA      \n",
       "3 NA                       NA             NA      NA          NA      \n",
       "4 NA                       NA             NA      NA          NA      \n",
       "5 NA                       NA             NA      NA          NA      \n",
       "6 NA                       NA             NA      NA          NA      "
      ]
     },
     "metadata": {},
     "output_type": "display_data"
    }
   ],
   "source": [
    "new_wide_data <- trees %>% \n",
    "  pivot_wider(names_from =land_use, values_from = common_name)\n",
    "\n",
    "head(select(new_wide_data, id, \"Vacant\":\"Cemetery\"))"
   ]
  },
  {
   "cell_type": "markdown",
   "id": "eb87e22f-e05e-427d-b07f-cf5047cf5bb5",
   "metadata": {},
   "source": [
    "## Lab 1 & 2 Conclusions"
   ]
  },
  {
   "cell_type": "markdown",
   "id": "a3599723-4de6-448d-a158-c2d4e57cbfe0",
   "metadata": {},
   "source": [
    "I explored data on the public trees in the City of Pittsburgh in these two labs. Only a subset of the columns were used for these initial experiments, as there were too many to explore quickly. The initial summary experiments showed that the number \"99\" may be used as an indicator for unlimited growth width and height, as even though there were values higher than that, they were very few, and 99 appeared many times. This finding may show outliers or inconsistencies in how the data was collected. Related, I found an obvious but clear correlation between a growth space width or height of 99 and a growth space type of \"Open or Unrestricted,\" giving more evidence that \"99\" was used as a placeholder for \"Unlimited\" growth space.\n",
    "\n",
    "From plotting property value benefit versus land use, I found that trees in parks and on streets held more property value than any other land use. This plot was limited to one type of tree, \"Ginko,\" so more experiments are needed to confirm this thesis. However, with many records of \"Ginko\" trees, the thesis would likely hold for other species. In both lab experiments, it was clear that many missing values would need to be appropriately cleaned up. Some records can be deleted, as they do not hold a tree and are labeled as \"not suitable,\" but others would take more care as some trees have missing heights and widths. Lastly, I found this dataset fascinating and believe it could be very valuable for the City of Pittsburgh to find the most monetarily valuable or beneficial tree sites and for other cities in similar areas to explore which species or location types may benefit them."
   ]
  },
  {
   "cell_type": "code",
   "execution_count": null,
   "id": "c0597e31-019b-4005-9802-1019e832aedb",
   "metadata": {},
   "outputs": [],
   "source": []
  }
 ],
 "metadata": {
  "kernelspec": {
   "display_name": "R",
   "language": "R",
   "name": "ir"
  },
  "language_info": {
   "codemirror_mode": "r",
   "file_extension": ".r",
   "mimetype": "text/x-r-source",
   "name": "R",
   "pygments_lexer": "r",
   "version": "4.4.1"
  }
 },
 "nbformat": 4,
 "nbformat_minor": 5
}
