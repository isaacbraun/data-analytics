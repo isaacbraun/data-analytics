{
 "cells": [
  {
   "cell_type": "markdown",
   "id": "bda707ca",
   "metadata": {},
   "source": [
    "# CPTR 512 Programming in Data Analytics"
   ]
  },
  {
   "cell_type": "markdown",
   "id": "c685aa6b",
   "metadata": {},
   "source": [
    "Harvey Alférez, PhD"
   ]
  },
  {
   "cell_type": "markdown",
   "id": "cdd5ca1b",
   "metadata": {},
   "source": [
    "## Unit 3. Data engineering and data shaping"
   ]
  },
  {
   "cell_type": "markdown",
   "id": "957749fa",
   "metadata": {},
   "source": [
    "This presentation will show you how to use R to organize or wrangle data into a shape useful for analysis. Data shaping is a set of steps you have to take if your data is not found all in one table or in an arrangement ready for analysis.\n",
    "\n",
    "Source: Nina Zumel & John Mount (2020). Practical Data Science with R. Manning, second edition. ISBN: 9781617291562\n",
    "\n",
    "Data engineer: A data engineer is an IT worker whose primary job is to prepare data for analytical or operational uses. https://www.techtarget.com/searchdatamanagement/definition/data-engineer\n",
    "\n",
    "Data shaping: In most simple words, data shaping is the process of consolidation of the data, BEFORE it becomes part of your data model. The key thing to keep in mind is the word: BEFORE! So, one would perform data shaping before the data goes into the report itself. https://towardsdatascience.com/power-bi-101-data-shaping-in-a-nutshell-1df4681bdfd3"
   ]
  },
  {
   "cell_type": "markdown",
   "id": "ddd91390",
   "metadata": {},
   "source": [
    "## Data selection"
   ]
  },
  {
   "cell_type": "code",
   "execution_count": 2,
   "id": "7f375b33",
   "metadata": {},
   "outputs": [
    {
     "data": {
      "text/plain": [
       "  Sepal.Length    Sepal.Width     Petal.Length    Petal.Width   \n",
       " Min.   :4.300   Min.   :2.000   Min.   :1.000   Min.   :0.100  \n",
       " 1st Qu.:5.100   1st Qu.:2.800   1st Qu.:1.600   1st Qu.:0.300  \n",
       " Median :5.800   Median :3.000   Median :4.350   Median :1.300  \n",
       " Mean   :5.843   Mean   :3.057   Mean   :3.758   Mean   :1.199  \n",
       " 3rd Qu.:6.400   3rd Qu.:3.300   3rd Qu.:5.100   3rd Qu.:1.800  \n",
       " Max.   :7.900   Max.   :4.400   Max.   :6.900   Max.   :2.500  \n",
       "       Species  \n",
       " setosa    :50  \n",
       " versicolor:50  \n",
       " virginica :50  \n",
       "                \n",
       "                \n",
       "                "
      ]
     },
     "metadata": {},
     "output_type": "display_data"
    }
   ],
   "source": [
    "#Subsetting rows and columns\n",
    "\n",
    "library(\"ggplot2\")\n",
    "summary(iris)\n",
    "help(iris)"
   ]
  },
  {
   "cell_type": "code",
   "execution_count": 3,
   "id": "01a7d32c",
   "metadata": {},
   "outputs": [
    {
     "data": {
      "text/html": [
       "<table class=\"dataframe\">\n",
       "<caption>A data.frame: 6 × 5</caption>\n",
       "<thead>\n",
       "\t<tr><th></th><th scope=col>Sepal.Length</th><th scope=col>Sepal.Width</th><th scope=col>Petal.Length</th><th scope=col>Petal.Width</th><th scope=col>Species</th></tr>\n",
       "\t<tr><th></th><th scope=col>&lt;dbl&gt;</th><th scope=col>&lt;dbl&gt;</th><th scope=col>&lt;dbl&gt;</th><th scope=col>&lt;dbl&gt;</th><th scope=col>&lt;fct&gt;</th></tr>\n",
       "</thead>\n",
       "<tbody>\n",
       "\t<tr><th scope=row>1</th><td>5.1</td><td>3.5</td><td>1.4</td><td>0.2</td><td>setosa</td></tr>\n",
       "\t<tr><th scope=row>2</th><td>4.9</td><td>3.0</td><td>1.4</td><td>0.2</td><td>setosa</td></tr>\n",
       "\t<tr><th scope=row>3</th><td>4.7</td><td>3.2</td><td>1.3</td><td>0.2</td><td>setosa</td></tr>\n",
       "\t<tr><th scope=row>4</th><td>4.6</td><td>3.1</td><td>1.5</td><td>0.2</td><td>setosa</td></tr>\n",
       "\t<tr><th scope=row>5</th><td>5.0</td><td>3.6</td><td>1.4</td><td>0.2</td><td>setosa</td></tr>\n",
       "\t<tr><th scope=row>6</th><td>5.4</td><td>3.9</td><td>1.7</td><td>0.4</td><td>setosa</td></tr>\n",
       "</tbody>\n",
       "</table>\n"
      ],
      "text/latex": [
       "A data.frame: 6 × 5\n",
       "\\begin{tabular}{r|lllll}\n",
       "  & Sepal.Length & Sepal.Width & Petal.Length & Petal.Width & Species\\\\\n",
       "  & <dbl> & <dbl> & <dbl> & <dbl> & <fct>\\\\\n",
       "\\hline\n",
       "\t1 & 5.1 & 3.5 & 1.4 & 0.2 & setosa\\\\\n",
       "\t2 & 4.9 & 3.0 & 1.4 & 0.2 & setosa\\\\\n",
       "\t3 & 4.7 & 3.2 & 1.3 & 0.2 & setosa\\\\\n",
       "\t4 & 4.6 & 3.1 & 1.5 & 0.2 & setosa\\\\\n",
       "\t5 & 5.0 & 3.6 & 1.4 & 0.2 & setosa\\\\\n",
       "\t6 & 5.4 & 3.9 & 1.7 & 0.4 & setosa\\\\\n",
       "\\end{tabular}\n"
      ],
      "text/markdown": [
       "\n",
       "A data.frame: 6 × 5\n",
       "\n",
       "| <!--/--> | Sepal.Length &lt;dbl&gt; | Sepal.Width &lt;dbl&gt; | Petal.Length &lt;dbl&gt; | Petal.Width &lt;dbl&gt; | Species &lt;fct&gt; |\n",
       "|---|---|---|---|---|---|\n",
       "| 1 | 5.1 | 3.5 | 1.4 | 0.2 | setosa |\n",
       "| 2 | 4.9 | 3.0 | 1.4 | 0.2 | setosa |\n",
       "| 3 | 4.7 | 3.2 | 1.3 | 0.2 | setosa |\n",
       "| 4 | 4.6 | 3.1 | 1.5 | 0.2 | setosa |\n",
       "| 5 | 5.0 | 3.6 | 1.4 | 0.2 | setosa |\n",
       "| 6 | 5.4 | 3.9 | 1.7 | 0.4 | setosa |\n",
       "\n"
      ],
      "text/plain": [
       "  Sepal.Length Sepal.Width Petal.Length Petal.Width Species\n",
       "1 5.1          3.5         1.4          0.2         setosa \n",
       "2 4.9          3.0         1.4          0.2         setosa \n",
       "3 4.7          3.2         1.3          0.2         setosa \n",
       "4 4.6          3.1         1.5          0.2         setosa \n",
       "5 5.0          3.6         1.4          0.2         setosa \n",
       "6 5.4          3.9         1.7          0.4         setosa "
      ]
     },
     "metadata": {},
     "output_type": "display_data"
    },
    {
     "data": {
      "image/png": "[encoded data removed]",
      "text/plain": [
       "plot without title"
      ]
     },
     "metadata": {
      "image/png": {
       "height": 420,
       "width": 420
      }
     },
     "output_type": "display_data"
    }
   ],
   "source": [
    "head(iris)\n",
    "ggplot(iris, aes(x = Petal.Length, y = Petal.Width, shape = Species, color = Species)) + geom_point(size =2 ) +\n",
    "ggtitle(\"Petal dimensions by iris species: all measurements\")"
   ]
  },
  {
   "cell_type": "markdown",
   "id": "dc8293fc",
   "metadata": {},
   "source": [
    "Scenario:\n",
    "\n",
    "Suppose we are assigned to generate a report on only petal length and petal width, by iris species, for irises where the petal length is greater than 2. To accomplish this, we need to select a subset of columns (variables) or a subset of rows (instances) from a data frame."
   ]
  },
  {
   "cell_type": "code",
   "execution_count": 3,
   "id": "3ba580ce",
   "metadata": {},
   "outputs": [
    {
     "data": {
      "text/html": [
       "<table class=\"dataframe\">\n",
       "<caption>A data.frame: 6 × 5</caption>\n",
       "<thead>\n",
       "\t<tr><th></th><th scope=col>Sepal.Length</th><th scope=col>Sepal.Width</th><th scope=col>Petal.Length</th><th scope=col>Petal.Width</th><th scope=col>Species</th></tr>\n",
       "\t<tr><th></th><th scope=col>&lt;dbl&gt;</th><th scope=col>&lt;dbl&gt;</th><th scope=col>&lt;dbl&gt;</th><th scope=col>&lt;dbl&gt;</th><th scope=col>&lt;fct&gt;</th></tr>\n",
       "</thead>\n",
       "<tbody>\n",
       "\t<tr><th scope=row>1</th><td>5.1</td><td>3.5</td><td>1.4</td><td>0.2</td><td>setosa</td></tr>\n",
       "\t<tr><th scope=row>2</th><td>4.9</td><td>3.0</td><td>1.4</td><td>0.2</td><td>setosa</td></tr>\n",
       "\t<tr><th scope=row>3</th><td>4.7</td><td>3.2</td><td>1.3</td><td>0.2</td><td>setosa</td></tr>\n",
       "\t<tr><th scope=row>4</th><td>4.6</td><td>3.1</td><td>1.5</td><td>0.2</td><td>setosa</td></tr>\n",
       "\t<tr><th scope=row>5</th><td>5.0</td><td>3.6</td><td>1.4</td><td>0.2</td><td>setosa</td></tr>\n",
       "\t<tr><th scope=row>6</th><td>5.4</td><td>3.9</td><td>1.7</td><td>0.4</td><td>setosa</td></tr>\n",
       "</tbody>\n",
       "</table>\n"
      ],
      "text/latex": [
       "A data.frame: 6 × 5\n",
       "\\begin{tabular}{r|lllll}\n",
       "  & Sepal.Length & Sepal.Width & Petal.Length & Petal.Width & Species\\\\\n",
       "  & <dbl> & <dbl> & <dbl> & <dbl> & <fct>\\\\\n",
       "\\hline\n",
       "\t1 & 5.1 & 3.5 & 1.4 & 0.2 & setosa\\\\\n",
       "\t2 & 4.9 & 3.0 & 1.4 & 0.2 & setosa\\\\\n",
       "\t3 & 4.7 & 3.2 & 1.3 & 0.2 & setosa\\\\\n",
       "\t4 & 4.6 & 3.1 & 1.5 & 0.2 & setosa\\\\\n",
       "\t5 & 5.0 & 3.6 & 1.4 & 0.2 & setosa\\\\\n",
       "\t6 & 5.4 & 3.9 & 1.7 & 0.4 & setosa\\\\\n",
       "\\end{tabular}\n"
      ],
      "text/markdown": [
       "\n",
       "A data.frame: 6 × 5\n",
       "\n",
       "| <!--/--> | Sepal.Length &lt;dbl&gt; | Sepal.Width &lt;dbl&gt; | Petal.Length &lt;dbl&gt; | Petal.Width &lt;dbl&gt; | Species &lt;fct&gt; |\n",
       "|---|---|---|---|---|---|\n",
       "| 1 | 5.1 | 3.5 | 1.4 | 0.2 | setosa |\n",
       "| 2 | 4.9 | 3.0 | 1.4 | 0.2 | setosa |\n",
       "| 3 | 4.7 | 3.2 | 1.3 | 0.2 | setosa |\n",
       "| 4 | 4.6 | 3.1 | 1.5 | 0.2 | setosa |\n",
       "| 5 | 5.0 | 3.6 | 1.4 | 0.2 | setosa |\n",
       "| 6 | 5.4 | 3.9 | 1.7 | 0.4 | setosa |\n",
       "\n"
      ],
      "text/plain": [
       "  Sepal.Length Sepal.Width Petal.Length Petal.Width Species\n",
       "1 5.1          3.5         1.4          0.2         setosa \n",
       "2 4.9          3.0         1.4          0.2         setosa \n",
       "3 4.7          3.2         1.3          0.2         setosa \n",
       "4 4.6          3.1         1.5          0.2         setosa \n",
       "5 5.0          3.6         1.4          0.2         setosa \n",
       "6 5.4          3.9         1.7          0.4         setosa "
      ]
     },
     "metadata": {},
     "output_type": "display_data"
    }
   ],
   "source": [
    "rows_we_want <- iris$Petal.Length > 2\n",
    "head(iris)"
   ]
  },
  {
   "cell_type": "code",
   "execution_count": 4,
   "id": "a23ceffe",
   "metadata": {},
   "outputs": [
    {
     "data": {
      "text/html": [
       "<table class=\"dataframe\">\n",
       "<caption>A data.frame: 6 × 3</caption>\n",
       "<thead>\n",
       "\t<tr><th></th><th scope=col>Petal.Length</th><th scope=col>Petal.Width</th><th scope=col>Species</th></tr>\n",
       "\t<tr><th></th><th scope=col>&lt;dbl&gt;</th><th scope=col>&lt;dbl&gt;</th><th scope=col>&lt;fct&gt;</th></tr>\n",
       "</thead>\n",
       "<tbody>\n",
       "\t<tr><th scope=row>51</th><td>4.7</td><td>1.4</td><td>versicolor</td></tr>\n",
       "\t<tr><th scope=row>52</th><td>4.5</td><td>1.5</td><td>versicolor</td></tr>\n",
       "\t<tr><th scope=row>53</th><td>4.9</td><td>1.5</td><td>versicolor</td></tr>\n",
       "\t<tr><th scope=row>54</th><td>4.0</td><td>1.3</td><td>versicolor</td></tr>\n",
       "\t<tr><th scope=row>55</th><td>4.6</td><td>1.5</td><td>versicolor</td></tr>\n",
       "\t<tr><th scope=row>56</th><td>4.5</td><td>1.3</td><td>versicolor</td></tr>\n",
       "</tbody>\n",
       "</table>\n"
      ],
      "text/latex": [
       "A data.frame: 6 × 3\n",
       "\\begin{tabular}{r|lll}\n",
       "  & Petal.Length & Petal.Width & Species\\\\\n",
       "  & <dbl> & <dbl> & <fct>\\\\\n",
       "\\hline\n",
       "\t51 & 4.7 & 1.4 & versicolor\\\\\n",
       "\t52 & 4.5 & 1.5 & versicolor\\\\\n",
       "\t53 & 4.9 & 1.5 & versicolor\\\\\n",
       "\t54 & 4.0 & 1.3 & versicolor\\\\\n",
       "\t55 & 4.6 & 1.5 & versicolor\\\\\n",
       "\t56 & 4.5 & 1.3 & versicolor\\\\\n",
       "\\end{tabular}\n"
      ],
      "text/markdown": [
       "\n",
       "A data.frame: 6 × 3\n",
       "\n",
       "| <!--/--> | Petal.Length &lt;dbl&gt; | Petal.Width &lt;dbl&gt; | Species &lt;fct&gt; |\n",
       "|---|---|---|---|\n",
       "| 51 | 4.7 | 1.4 | versicolor |\n",
       "| 52 | 4.5 | 1.5 | versicolor |\n",
       "| 53 | 4.9 | 1.5 | versicolor |\n",
       "| 54 | 4.0 | 1.3 | versicolor |\n",
       "| 55 | 4.6 | 1.5 | versicolor |\n",
       "| 56 | 4.5 | 1.3 | versicolor |\n",
       "\n"
      ],
      "text/plain": [
       "   Petal.Length Petal.Width Species   \n",
       "51 4.7          1.4         versicolor\n",
       "52 4.5          1.5         versicolor\n",
       "53 4.9          1.5         versicolor\n",
       "54 4.0          1.3         versicolor\n",
       "55 4.6          1.5         versicolor\n",
       "56 4.5          1.3         versicolor"
      ]
     },
     "metadata": {},
     "output_type": "display_data"
    }
   ],
   "source": [
    "columns_we_want <- c(\"Petal.Length\", \"Petal.Width\", \"Species\")\n",
    "iris_base <- iris[rows_we_want, columns_we_want]\n",
    "# after\n",
    "head(iris_base)"
   ]
  },
  {
   "cell_type": "markdown",
   "id": "de8dceae",
   "metadata": {},
   "source": [
    "Extra credit: \n",
    "\n",
    "Explain your solution to this problem using data.table and DPLYR.\n",
    "\n",
    "- data.table is an R package that provides an enhanced version of data.frames, which are the standard data structure for storing data in base R. https://cran.r-project.org/web/packages/data.table/vignettes/datatable-intro.html\n",
    "\n",
    "- dplyr is a grammar of data manipulation, providing a consistent set of verbs that help you solve the most common data manipulation challenges: mutate(), select(), filter(), summarise(), and arrange(). https://dplyr.tidyverse.org"
   ]
  },
  {
   "cell_type": "markdown",
   "id": "157873f3",
   "metadata": {
    "jp-MarkdownHeadingCollapsed": true
   },
   "source": [
    "## Removing records with incomplete data"
   ]
  },
  {
   "cell_type": "code",
   "execution_count": 3,
   "id": "2222ef4b",
   "metadata": {},
   "outputs": [
    {
     "name": "stdout",
     "output_type": "stream",
     "text": [
      "tibble [83 × 11] (S3: tbl_df/tbl/data.frame)\n",
      " $ name        : chr [1:83] \"Cheetah\" \"Owl monkey\" \"Mountain beaver\" \"Greater short-tailed shrew\" ...\n",
      " $ genus       : chr [1:83] \"Acinonyx\" \"Aotus\" \"Aplodontia\" \"Blarina\" ...\n",
      " $ vore        : chr [1:83] \"carni\" \"omni\" \"herbi\" \"omni\" ...\n",
      " $ order       : chr [1:83] \"Carnivora\" \"Primates\" \"Rodentia\" \"Soricomorpha\" ...\n",
      " $ conservation: chr [1:83] \"lc\" NA \"nt\" \"lc\" ...\n",
      " $ sleep_total : num [1:83] 12.1 17 14.4 14.9 4 14.4 8.7 7 10.1 3 ...\n",
      " $ sleep_rem   : num [1:83] NA 1.8 2.4 2.3 0.7 2.2 1.4 NA 2.9 NA ...\n",
      " $ sleep_cycle : num [1:83] NA NA NA 0.133 0.667 ...\n",
      " $ awake       : num [1:83] 11.9 7 9.6 9.1 20 9.6 15.3 17 13.9 21 ...\n",
      " $ brainwt     : num [1:83] NA 0.0155 NA 0.00029 0.423 NA NA NA 0.07 0.0982 ...\n",
      " $ bodywt      : num [1:83] 50 0.48 1.35 0.019 600 ...\n"
     ]
    }
   ],
   "source": [
    "library(\"ggplot2\")\n",
    "data(msleep)\n",
    "str(msleep) #The msleep dataset of sleep times of animals with different characteristics\n",
    "\n",
    "help(msleep)"
   ]
  },
  {
   "cell_type": "code",
   "execution_count": 4,
   "id": "db4f93de",
   "metadata": {},
   "outputs": [
    {
     "data": {
      "text/html": [
       "<table class=\"dataframe\">\n",
       "<caption>A tibble: 6 × 11</caption>\n",
       "<thead>\n",
       "\t<tr><th scope=col>name</th><th scope=col>genus</th><th scope=col>vore</th><th scope=col>order</th><th scope=col>conservation</th><th scope=col>sleep_total</th><th scope=col>sleep_rem</th><th scope=col>sleep_cycle</th><th scope=col>awake</th><th scope=col>brainwt</th><th scope=col>bodywt</th></tr>\n",
       "\t<tr><th scope=col>&lt;chr&gt;</th><th scope=col>&lt;chr&gt;</th><th scope=col>&lt;chr&gt;</th><th scope=col>&lt;chr&gt;</th><th scope=col>&lt;chr&gt;</th><th scope=col>&lt;dbl&gt;</th><th scope=col>&lt;dbl&gt;</th><th scope=col>&lt;dbl&gt;</th><th scope=col>&lt;dbl&gt;</th><th scope=col>&lt;dbl&gt;</th><th scope=col>&lt;dbl&gt;</th></tr>\n",
       "</thead>\n",
       "<tbody>\n",
       "\t<tr><td>Cheetah                   </td><td>Acinonyx  </td><td>carni</td><td>Carnivora   </td><td>lc          </td><td>12.1</td><td> NA</td><td>       NA</td><td>11.9</td><td>     NA</td><td> 50.000</td></tr>\n",
       "\t<tr><td>Owl monkey                </td><td>Aotus     </td><td>omni </td><td>Primates    </td><td>NA          </td><td>17.0</td><td>1.8</td><td>       NA</td><td> 7.0</td><td>0.01550</td><td>  0.480</td></tr>\n",
       "\t<tr><td>Mountain beaver           </td><td>Aplodontia</td><td>herbi</td><td>Rodentia    </td><td>nt          </td><td>14.4</td><td>2.4</td><td>       NA</td><td> 9.6</td><td>     NA</td><td>  1.350</td></tr>\n",
       "\t<tr><td>Greater short-tailed shrew</td><td>Blarina   </td><td>omni </td><td>Soricomorpha</td><td>lc          </td><td>14.9</td><td>2.3</td><td>0.1333333</td><td> 9.1</td><td>0.00029</td><td>  0.019</td></tr>\n",
       "\t<tr><td>Cow                       </td><td>Bos       </td><td>herbi</td><td>Artiodactyla</td><td>domesticated</td><td> 4.0</td><td>0.7</td><td>0.6666667</td><td>20.0</td><td>0.42300</td><td>600.000</td></tr>\n",
       "\t<tr><td>Three-toed sloth          </td><td>Bradypus  </td><td>herbi</td><td>Pilosa      </td><td>NA          </td><td>14.4</td><td>2.2</td><td>0.7666667</td><td> 9.6</td><td>     NA</td><td>  3.850</td></tr>\n",
       "</tbody>\n",
       "</table>\n"
      ],
      "text/latex": [
       "A tibble: 6 × 11\n",
       "\\begin{tabular}{lllllllllll}\n",
       " name & genus & vore & order & conservation & sleep\\_total & sleep\\_rem & sleep\\_cycle & awake & brainwt & bodywt\\\\\n",
       " <chr> & <chr> & <chr> & <chr> & <chr> & <dbl> & <dbl> & <dbl> & <dbl> & <dbl> & <dbl>\\\\\n",
       "\\hline\n",
       "\t Cheetah                    & Acinonyx   & carni & Carnivora    & lc           & 12.1 &  NA &        NA & 11.9 &      NA &  50.000\\\\\n",
       "\t Owl monkey                 & Aotus      & omni  & Primates     & NA           & 17.0 & 1.8 &        NA &  7.0 & 0.01550 &   0.480\\\\\n",
       "\t Mountain beaver            & Aplodontia & herbi & Rodentia     & nt           & 14.4 & 2.4 &        NA &  9.6 &      NA &   1.350\\\\\n",
       "\t Greater short-tailed shrew & Blarina    & omni  & Soricomorpha & lc           & 14.9 & 2.3 & 0.1333333 &  9.1 & 0.00029 &   0.019\\\\\n",
       "\t Cow                        & Bos        & herbi & Artiodactyla & domesticated &  4.0 & 0.7 & 0.6666667 & 20.0 & 0.42300 & 600.000\\\\\n",
       "\t Three-toed sloth           & Bradypus   & herbi & Pilosa       & NA           & 14.4 & 2.2 & 0.7666667 &  9.6 &      NA &   3.850\\\\\n",
       "\\end{tabular}\n"
      ],
      "text/markdown": [
       "\n",
       "A tibble: 6 × 11\n",
       "\n",
       "| name &lt;chr&gt; | genus &lt;chr&gt; | vore &lt;chr&gt; | order &lt;chr&gt; | conservation &lt;chr&gt; | sleep_total &lt;dbl&gt; | sleep_rem &lt;dbl&gt; | sleep_cycle &lt;dbl&gt; | awake &lt;dbl&gt; | brainwt &lt;dbl&gt; | bodywt &lt;dbl&gt; |\n",
       "|---|---|---|---|---|---|---|---|---|---|---|\n",
       "| Cheetah                    | Acinonyx   | carni | Carnivora    | lc           | 12.1 |  NA |        NA | 11.9 |      NA |  50.000 |\n",
       "| Owl monkey                 | Aotus      | omni  | Primates     | NA           | 17.0 | 1.8 |        NA |  7.0 | 0.01550 |   0.480 |\n",
       "| Mountain beaver            | Aplodontia | herbi | Rodentia     | nt           | 14.4 | 2.4 |        NA |  9.6 |      NA |   1.350 |\n",
       "| Greater short-tailed shrew | Blarina    | omni  | Soricomorpha | lc           | 14.9 | 2.3 | 0.1333333 |  9.1 | 0.00029 |   0.019 |\n",
       "| Cow                        | Bos        | herbi | Artiodactyla | domesticated |  4.0 | 0.7 | 0.6666667 | 20.0 | 0.42300 | 600.000 |\n",
       "| Three-toed sloth           | Bradypus   | herbi | Pilosa       | NA           | 14.4 | 2.2 | 0.7666667 |  9.6 |      NA |   3.850 |\n",
       "\n"
      ],
      "text/plain": [
       "  name                       genus      vore  order        conservation\n",
       "1 Cheetah                    Acinonyx   carni Carnivora    lc          \n",
       "2 Owl monkey                 Aotus      omni  Primates     NA          \n",
       "3 Mountain beaver            Aplodontia herbi Rodentia     nt          \n",
       "4 Greater short-tailed shrew Blarina    omni  Soricomorpha lc          \n",
       "5 Cow                        Bos        herbi Artiodactyla domesticated\n",
       "6 Three-toed sloth           Bradypus   herbi Pilosa       NA          \n",
       "  sleep_total sleep_rem sleep_cycle awake brainwt bodywt \n",
       "1 12.1         NA              NA   11.9       NA  50.000\n",
       "2 17.0        1.8              NA    7.0  0.01550   0.480\n",
       "3 14.4        2.4              NA    9.6       NA   1.350\n",
       "4 14.9        2.3       0.1333333    9.1  0.00029   0.019\n",
       "5  4.0        0.7       0.6666667   20.0  0.42300 600.000\n",
       "6 14.4        2.2       0.7666667    9.6       NA   3.850"
      ]
     },
     "metadata": {},
     "output_type": "display_data"
    },
    {
     "data": {
      "text/plain": [
       "     name              genus               vore              order          \n",
       " Length:83          Length:83          Length:83          Length:83         \n",
       " Class :character   Class :character   Class :character   Class :character  \n",
       " Mode  :character   Mode  :character   Mode  :character   Mode  :character  \n",
       "                                                                            \n",
       "                                                                            \n",
       "                                                                            \n",
       "                                                                            \n",
       " conservation        sleep_total      sleep_rem      sleep_cycle    \n",
       " Length:83          Min.   : 1.90   Min.   :0.100   Min.   :0.1167  \n",
       " Class :character   1st Qu.: 7.85   1st Qu.:0.900   1st Qu.:0.1833  \n",
       " Mode  :character   Median :10.10   Median :1.500   Median :0.3333  \n",
       "                    Mean   :10.43   Mean   :1.875   Mean   :0.4396  \n",
       "                    3rd Qu.:13.75   3rd Qu.:2.400   3rd Qu.:0.5792  \n",
       "                    Max.   :19.90   Max.   :6.600   Max.   :1.5000  \n",
       "                                    NA's   :22      NA's   :51      \n",
       "     awake          brainwt            bodywt        \n",
       " Min.   : 4.10   Min.   :0.00014   Min.   :   0.005  \n",
       " 1st Qu.:10.25   1st Qu.:0.00290   1st Qu.:   0.174  \n",
       " Median :13.90   Median :0.01240   Median :   1.670  \n",
       " Mean   :13.57   Mean   :0.28158   Mean   : 166.136  \n",
       " 3rd Qu.:16.15   3rd Qu.:0.12550   3rd Qu.:  41.750  \n",
       " Max.   :22.10   Max.   :5.71200   Max.   :6654.000  \n",
       "                 NA's   :27                          "
      ]
     },
     "metadata": {},
     "output_type": "display_data"
    }
   ],
   "source": [
    "head(msleep)\n",
    "summary(msleep)"
   ]
  },
  {
   "cell_type": "markdown",
   "id": "728608d9",
   "metadata": {},
   "source": [
    "‘mode’ is a mutually exclusive classification of objects according to their basic structure. The ‘atomic’ modes are numeric, complex, character,logical, lists.\n",
    "\n",
    "‘class’ is a property assigned to an object that determines how to operate with it (e.g. matrix).\n",
    "\n",
    "https://rpubs.com/kalipradeep/mode_vs_class "
   ]
  },
  {
   "cell_type": "code",
   "execution_count": 7,
   "id": "1d6f4cec",
   "metadata": {},
   "outputs": [
    {
     "data": {
      "text/html": [
       "<table class=\"dataframe\">\n",
       "<caption>A tibble: 6 × 11</caption>\n",
       "<thead>\n",
       "\t<tr><th scope=col>name</th><th scope=col>genus</th><th scope=col>vore</th><th scope=col>order</th><th scope=col>conservation</th><th scope=col>sleep_total</th><th scope=col>sleep_rem</th><th scope=col>sleep_cycle</th><th scope=col>awake</th><th scope=col>brainwt</th><th scope=col>bodywt</th></tr>\n",
       "\t<tr><th scope=col>&lt;chr&gt;</th><th scope=col>&lt;chr&gt;</th><th scope=col>&lt;chr&gt;</th><th scope=col>&lt;chr&gt;</th><th scope=col>&lt;chr&gt;</th><th scope=col>&lt;dbl&gt;</th><th scope=col>&lt;dbl&gt;</th><th scope=col>&lt;dbl&gt;</th><th scope=col>&lt;dbl&gt;</th><th scope=col>&lt;dbl&gt;</th><th scope=col>&lt;dbl&gt;</th></tr>\n",
       "</thead>\n",
       "<tbody>\n",
       "\t<tr><td>Greater short-tailed shrew</td><td>Blarina   </td><td>omni </td><td>Soricomorpha</td><td>lc          </td><td>14.9</td><td>2.3</td><td>0.1333333</td><td> 9.1</td><td>0.00029</td><td>  0.019</td></tr>\n",
       "\t<tr><td>Cow                       </td><td>Bos       </td><td>herbi</td><td>Artiodactyla</td><td>domesticated</td><td> 4.0</td><td>0.7</td><td>0.6666667</td><td>20.0</td><td>0.42300</td><td>600.000</td></tr>\n",
       "\t<tr><td>Dog                       </td><td>Canis     </td><td>carni</td><td>Carnivora   </td><td>domesticated</td><td>10.1</td><td>2.9</td><td>0.3333333</td><td>13.9</td><td>0.07000</td><td> 14.000</td></tr>\n",
       "\t<tr><td>Guinea pig                </td><td>Cavis     </td><td>herbi</td><td>Rodentia    </td><td>domesticated</td><td> 9.4</td><td>0.8</td><td>0.2166667</td><td>14.6</td><td>0.00550</td><td>  0.728</td></tr>\n",
       "\t<tr><td>Chinchilla                </td><td>Chinchilla</td><td>herbi</td><td>Rodentia    </td><td>domesticated</td><td>12.5</td><td>1.5</td><td>0.1166667</td><td>11.5</td><td>0.00640</td><td>  0.420</td></tr>\n",
       "\t<tr><td>Lesser short-tailed shrew </td><td>Cryptotis </td><td>omni </td><td>Soricomorpha</td><td>lc          </td><td> 9.1</td><td>1.4</td><td>0.1500000</td><td>14.9</td><td>0.00014</td><td>  0.005</td></tr>\n",
       "</tbody>\n",
       "</table>\n"
      ],
      "text/latex": [
       "A tibble: 6 × 11\n",
       "\\begin{tabular}{lllllllllll}\n",
       " name & genus & vore & order & conservation & sleep\\_total & sleep\\_rem & sleep\\_cycle & awake & brainwt & bodywt\\\\\n",
       " <chr> & <chr> & <chr> & <chr> & <chr> & <dbl> & <dbl> & <dbl> & <dbl> & <dbl> & <dbl>\\\\\n",
       "\\hline\n",
       "\t Greater short-tailed shrew & Blarina    & omni  & Soricomorpha & lc           & 14.9 & 2.3 & 0.1333333 &  9.1 & 0.00029 &   0.019\\\\\n",
       "\t Cow                        & Bos        & herbi & Artiodactyla & domesticated &  4.0 & 0.7 & 0.6666667 & 20.0 & 0.42300 & 600.000\\\\\n",
       "\t Dog                        & Canis      & carni & Carnivora    & domesticated & 10.1 & 2.9 & 0.3333333 & 13.9 & 0.07000 &  14.000\\\\\n",
       "\t Guinea pig                 & Cavis      & herbi & Rodentia     & domesticated &  9.4 & 0.8 & 0.2166667 & 14.6 & 0.00550 &   0.728\\\\\n",
       "\t Chinchilla                 & Chinchilla & herbi & Rodentia     & domesticated & 12.5 & 1.5 & 0.1166667 & 11.5 & 0.00640 &   0.420\\\\\n",
       "\t Lesser short-tailed shrew  & Cryptotis  & omni  & Soricomorpha & lc           &  9.1 & 1.4 & 0.1500000 & 14.9 & 0.00014 &   0.005\\\\\n",
       "\\end{tabular}\n"
      ],
      "text/markdown": [
       "\n",
       "A tibble: 6 × 11\n",
       "\n",
       "| name &lt;chr&gt; | genus &lt;chr&gt; | vore &lt;chr&gt; | order &lt;chr&gt; | conservation &lt;chr&gt; | sleep_total &lt;dbl&gt; | sleep_rem &lt;dbl&gt; | sleep_cycle &lt;dbl&gt; | awake &lt;dbl&gt; | brainwt &lt;dbl&gt; | bodywt &lt;dbl&gt; |\n",
       "|---|---|---|---|---|---|---|---|---|---|---|\n",
       "| Greater short-tailed shrew | Blarina    | omni  | Soricomorpha | lc           | 14.9 | 2.3 | 0.1333333 |  9.1 | 0.00029 |   0.019 |\n",
       "| Cow                        | Bos        | herbi | Artiodactyla | domesticated |  4.0 | 0.7 | 0.6666667 | 20.0 | 0.42300 | 600.000 |\n",
       "| Dog                        | Canis      | carni | Carnivora    | domesticated | 10.1 | 2.9 | 0.3333333 | 13.9 | 0.07000 |  14.000 |\n",
       "| Guinea pig                 | Cavis      | herbi | Rodentia     | domesticated |  9.4 | 0.8 | 0.2166667 | 14.6 | 0.00550 |   0.728 |\n",
       "| Chinchilla                 | Chinchilla | herbi | Rodentia     | domesticated | 12.5 | 1.5 | 0.1166667 | 11.5 | 0.00640 |   0.420 |\n",
       "| Lesser short-tailed shrew  | Cryptotis  | omni  | Soricomorpha | lc           |  9.1 | 1.4 | 0.1500000 | 14.9 | 0.00014 |   0.005 |\n",
       "\n"
      ],
      "text/plain": [
       "  name                       genus      vore  order        conservation\n",
       "1 Greater short-tailed shrew Blarina    omni  Soricomorpha lc          \n",
       "2 Cow                        Bos        herbi Artiodactyla domesticated\n",
       "3 Dog                        Canis      carni Carnivora    domesticated\n",
       "4 Guinea pig                 Cavis      herbi Rodentia     domesticated\n",
       "5 Chinchilla                 Chinchilla herbi Rodentia     domesticated\n",
       "6 Lesser short-tailed shrew  Cryptotis  omni  Soricomorpha lc          \n",
       "  sleep_total sleep_rem sleep_cycle awake brainwt bodywt \n",
       "1 14.9        2.3       0.1333333    9.1  0.00029   0.019\n",
       "2  4.0        0.7       0.6666667   20.0  0.42300 600.000\n",
       "3 10.1        2.9       0.3333333   13.9  0.07000  14.000\n",
       "4  9.4        0.8       0.2166667   14.6  0.00550   0.728\n",
       "5 12.5        1.5       0.1166667   11.5  0.00640   0.420\n",
       "6  9.1        1.4       0.1500000   14.9  0.00014   0.005"
      ]
     },
     "metadata": {},
     "output_type": "display_data"
    },
    {
     "data": {
      "text/plain": [
       "     name              genus               vore              order          \n",
       " Length:20          Length:20          Length:20          Length:20         \n",
       " Class :character   Class :character   Class :character   Class :character  \n",
       " Mode  :character   Mode  :character   Mode  :character   Mode  :character  \n",
       "                                                                            \n",
       "                                                                            \n",
       "                                                                            \n",
       " conservation        sleep_total       sleep_rem      sleep_cycle    \n",
       " Length:20          Min.   : 2.900   Min.   :0.600   Min.   :0.1167  \n",
       " Class :character   1st Qu.: 8.925   1st Qu.:1.300   1st Qu.:0.1792  \n",
       " Mode  :character   Median :11.300   Median :2.350   Median :0.2500  \n",
       "                    Mean   :11.225   Mean   :2.275   Mean   :0.3458  \n",
       "                    3rd Qu.:13.925   3rd Qu.:3.125   3rd Qu.:0.4167  \n",
       "                    Max.   :19.700   Max.   :4.900   Max.   :1.0000  \n",
       "     awake          brainwt            bodywt        \n",
       " Min.   : 4.30   Min.   :0.00014   Min.   :  0.0050  \n",
       " 1st Qu.:10.07   1st Qu.:0.00115   1st Qu.:  0.0945  \n",
       " Median :12.70   Median :0.00590   Median :  0.7490  \n",
       " Mean   :12.78   Mean   :0.07882   Mean   : 72.1177  \n",
       " 3rd Qu.:15.07   3rd Qu.:0.03670   3rd Qu.:  6.1250  \n",
       " Max.   :21.10   Max.   :0.65500   Max.   :600.0000  "
      ]
     },
     "metadata": {},
     "output_type": "display_data"
    }
   ],
   "source": [
    "#You can use the complete.cases() function in R to remove missing values in a vector, \n",
    "#matrix, or data frame.\n",
    "\n",
    "#Use drop = FALSE if you are subsetting a matrix, array, or data frame and you want to preserve the \n",
    "#original dimensions. You should almost always use it when subsetting inside a function (e.g. you don't want \n",
    "#a data frame to become a 1-dimensional vector). \n",
    "#See a discussion on https://win-vector.com/2018/02/27/r-tip-use-drop-false-with-data-frames/\n",
    "\n",
    "clean_base_1 <- msleep[complete.cases(msleep), , drop = FALSE]\n",
    "\n",
    "head(clean_base_1)\n",
    "\n",
    "summary(clean_base_1)\n",
    "\n",
    "help(complete.cases)"
   ]
  },
  {
   "cell_type": "code",
   "execution_count": 15,
   "id": "9d2f9d06",
   "metadata": {},
   "outputs": [
    {
     "data": {
      "text/html": [
       "20"
      ],
      "text/latex": [
       "20"
      ],
      "text/markdown": [
       "20"
      ],
      "text/plain": [
       "[1] 20"
      ]
     },
     "metadata": {},
     "output_type": "display_data"
    }
   ],
   "source": [
    "nrow(clean_base_1)"
   ]
  },
  {
   "cell_type": "code",
   "execution_count": 16,
   "id": "83e7b267",
   "metadata": {},
   "outputs": [],
   "source": [
    "clean_base_2 = na.omit(msleep)"
   ]
  },
  {
   "cell_type": "code",
   "execution_count": 17,
   "id": "acb0bd3e",
   "metadata": {},
   "outputs": [
    {
     "data": {
      "text/html": [
       "20"
      ],
      "text/latex": [
       "20"
      ],
      "text/markdown": [
       "20"
      ],
      "text/plain": [
       "[1] 20"
      ]
     },
     "metadata": {},
     "output_type": "display_data"
    }
   ],
   "source": [
    "nrow(clean_base_2)\n",
    "#It was already cleaned (no NA values)"
   ]
  },
  {
   "cell_type": "markdown",
   "id": "ab726c21",
   "metadata": {},
   "source": [
    "Extra credit:\n",
    "\n",
    "Explain your solution to this problem using data.table and DPLYR."
   ]
  },
  {
   "cell_type": "markdown",
   "id": "f0e50085",
   "metadata": {},
   "source": [
    "## Ordering rows"
   ]
  },
  {
   "cell_type": "code",
   "execution_count": 2,
   "id": "a7d6e3c9",
   "metadata": {},
   "outputs": [
    {
     "name": "stdout",
     "output_type": "stream",
     "text": [
      "[1] 1 4 6 2 3 5\n"
     ]
    },
    {
     "data": {
      "text/html": [
       "<table class=\"dataframe\">\n",
       "<caption>A data.frame: 6 × 4</caption>\n",
       "<thead>\n",
       "\t<tr><th></th><th scope=col>day</th><th scope=col>hour</th><th scope=col>n_purchase</th><th scope=col>running_total</th></tr>\n",
       "\t<tr><th></th><th scope=col>&lt;dbl&gt;</th><th scope=col>&lt;dbl&gt;</th><th scope=col>&lt;dbl&gt;</th><th scope=col>&lt;dbl&gt;</th></tr>\n",
       "</thead>\n",
       "<tbody>\n",
       "\t<tr><th scope=row>1</th><td>1</td><td> 9</td><td>5</td><td> 5</td></tr>\n",
       "\t<tr><th scope=row>4</th><td>1</td><td>13</td><td>1</td><td> 6</td></tr>\n",
       "\t<tr><th scope=row>6</th><td>1</td><td>14</td><td>1</td><td> 7</td></tr>\n",
       "\t<tr><th scope=row>2</th><td>2</td><td> 9</td><td>3</td><td>10</td></tr>\n",
       "\t<tr><th scope=row>3</th><td>2</td><td>11</td><td>5</td><td>15</td></tr>\n",
       "\t<tr><th scope=row>5</th><td>2</td><td>13</td><td>3</td><td>18</td></tr>\n",
       "</tbody>\n",
       "</table>\n"
      ],
      "text/latex": [
       "A data.frame: 6 × 4\n",
       "\\begin{tabular}{r|llll}\n",
       "  & day & hour & n\\_purchase & running\\_total\\\\\n",
       "  & <dbl> & <dbl> & <dbl> & <dbl>\\\\\n",
       "\\hline\n",
       "\t1 & 1 &  9 & 5 &  5\\\\\n",
       "\t4 & 1 & 13 & 1 &  6\\\\\n",
       "\t6 & 1 & 14 & 1 &  7\\\\\n",
       "\t2 & 2 &  9 & 3 & 10\\\\\n",
       "\t3 & 2 & 11 & 5 & 15\\\\\n",
       "\t5 & 2 & 13 & 3 & 18\\\\\n",
       "\\end{tabular}\n"
      ],
      "text/markdown": [
       "\n",
       "A data.frame: 6 × 4\n",
       "\n",
       "| <!--/--> | day &lt;dbl&gt; | hour &lt;dbl&gt; | n_purchase &lt;dbl&gt; | running_total &lt;dbl&gt; |\n",
       "|---|---|---|---|---|\n",
       "| 1 | 1 |  9 | 5 |  5 |\n",
       "| 4 | 1 | 13 | 1 |  6 |\n",
       "| 6 | 1 | 14 | 1 |  7 |\n",
       "| 2 | 2 |  9 | 3 | 10 |\n",
       "| 3 | 2 | 11 | 5 | 15 |\n",
       "| 5 | 2 | 13 | 3 | 18 |\n",
       "\n"
      ],
      "text/plain": [
       "  day hour n_purchase running_total\n",
       "1 1    9   5           5           \n",
       "4 1   13   1           6           \n",
       "6 1   14   1           7           \n",
       "2 2    9   3          10           \n",
       "3 2   11   5          15           \n",
       "5 2   13   3          18           "
      ]
     },
     "metadata": {},
     "output_type": "display_data"
    }
   ],
   "source": [
    "purchases <- wrapr::build_frame(\n",
    "\"day\", \"hour\", \"n_purchase\" | 1,9,5| 2,9,3| 2,11,5 | 1,13,1 | 2,13,3 | 1,14,1 )\n",
    "\n",
    "order_index <- with(purchases, order(day, hour))\n",
    "print(order_index) #order indexes starting from 1\n",
    "purchases_ordered <- purchases[order_index, , drop = FALSE]\n",
    "purchases_ordered$running_total <- cumsum(purchases_ordered$n_purchase) \n",
    "purchases_ordered"
   ]
  },
  {
   "cell_type": "code",
   "execution_count": 9,
   "id": "21cc23f1",
   "metadata": {},
   "outputs": [
    {
     "name": "stdout",
     "output_type": "stream",
     "text": [
      "   day hour n_purchase running_total\n",
      "1:   1    9          5             5\n",
      "2:   1   13          1             6\n",
      "3:   1   14          1             7\n",
      "4:   2    9          3            10\n",
      "5:   2   11          5            15\n",
      "6:   2   13          3            18\n"
     ]
    }
   ],
   "source": [
    "#data.table solution\n",
    "library(\"data.table\")\n",
    "DT_purchases <- as.data.table(purchases)\n",
    "order_cols <- c(\"day\", \"hour\")\n",
    "setorderv(DT_purchases, order_cols)\n",
    "DT_purchases[ , running_total := cumsum(n_purchase)]\n",
    "print(DT_purchases)"
   ]
  },
  {
   "cell_type": "markdown",
   "id": "1db0cb87",
   "metadata": {},
   "source": [
    "For extra credit: explain the difference between setorder and setorderv. Which one is more efficient? Why?"
   ]
  },
  {
   "cell_type": "code",
   "execution_count": 4,
   "id": "e74f7150",
   "metadata": {},
   "outputs": [
    {
     "name": "stdout",
     "output_type": "stream",
     "text": [
      "  day hour n_purchase running_total\n",
      "1   1    9          5             5\n",
      "2   1   13          1             6\n",
      "3   1   14          1             7\n",
      "4   2    9          3            10\n",
      "5   2   11          5            15\n",
      "6   2   13          3            18\n"
     ]
    }
   ],
   "source": [
    "#dplyr solution\n",
    "#dplyr uses the word arrange to order data, and mutate to add a new column:\n",
    "#install.packages(\"dplyr\")\n",
    "library(\"dplyr\")\n",
    "res <- purchases %>%\n",
    "  arrange(., day, hour) %>%\n",
    "  mutate(., running_total = cumsum(n_purchase))\n",
    "print(res)\n"
   ]
  },
  {
   "cell_type": "markdown",
   "id": "da2c717a",
   "metadata": {},
   "source": [
    "## Adding new columns"
   ]
  },
  {
   "cell_type": "code",
   "execution_count": 39,
   "id": "86da825a",
   "metadata": {},
   "outputs": [
    {
     "data": {
      "text/plain": [
       "     Ozone           Solar.R           Wind             Temp      \n",
       " Min.   :  1.00   Min.   :  7.0   Min.   : 1.700   Min.   :56.00  \n",
       " 1st Qu.: 18.00   1st Qu.:115.8   1st Qu.: 7.400   1st Qu.:72.00  \n",
       " Median : 31.50   Median :205.0   Median : 9.700   Median :79.00  \n",
       " Mean   : 42.13   Mean   :185.9   Mean   : 9.958   Mean   :77.88  \n",
       " 3rd Qu.: 63.25   3rd Qu.:258.8   3rd Qu.:11.500   3rd Qu.:85.00  \n",
       " Max.   :168.00   Max.   :334.0   Max.   :20.700   Max.   :97.00  \n",
       " NA's   :37       NA's   :7                                       \n",
       "     Month            Day      \n",
       " Min.   :5.000   Min.   : 1.0  \n",
       " 1st Qu.:6.000   1st Qu.: 8.0  \n",
       " Median :7.000   Median :16.0  \n",
       " Mean   :6.993   Mean   :15.8  \n",
       " 3rd Qu.:8.000   3rd Qu.:23.0  \n",
       " Max.   :9.000   Max.   :31.0  \n",
       "                               "
      ]
     },
     "metadata": {},
     "output_type": "display_data"
    }
   ],
   "source": [
    "library(\"datasets\")\n",
    "library(\"ggplot2\")\n",
    "summary(airquality) \n",
    "#We will use air quality measurements with missing data and non-standard date formatting for the year 1973"
   ]
  },
  {
   "cell_type": "code",
   "execution_count": 7,
   "id": "a0eea709",
   "metadata": {},
   "outputs": [
    {
     "data": {
      "text/html": [
       "\n",
       "<table style=\"width: 100%;\"><tr><td>paste {base}</td><td style=\"text-align: right;\">R Documentation</td></tr></table>\n",
       "\n",
       "<h2>Concatenate Strings</h2>\n",
       "\n",
       "<h3>Description</h3>\n",
       "\n",
       "<p>Concatenate vectors after converting to character.\n",
       "Concatenation happens in two basically different ways, determined by\n",
       "<code>collapse</code> being a string or not.\n",
       "</p>\n",
       "\n",
       "\n",
       "<h3>Usage</h3>\n",
       "\n",
       "<pre><code class='language-R'>paste (..., sep = \" \", collapse = NULL, recycle0 = FALSE)\n",
       "paste0(...,            collapse = NULL, recycle0 = FALSE)\n",
       "</code></pre>\n",
       "\n",
       "\n",
       "<h3>Arguments</h3>\n",
       "\n",
       "<table>\n",
       "<tr><td><code id=\"...\">...</code></td>\n",
       "<td>\n",
       "<p>one or more <span class=\"rlang\"><b>R</b></span> objects, to be converted to character vectors.</p>\n",
       "</td></tr>\n",
       "<tr><td><code id=\"sep\">sep</code></td>\n",
       "<td>\n",
       "<p>a character string to separate the terms.  Not\n",
       "<code>NA_character_</code>.</p>\n",
       "</td></tr>\n",
       "<tr><td><code id=\"collapse\">collapse</code></td>\n",
       "<td>\n",
       "<p>an optional character string to separate the results.  Not\n",
       "<code>NA_character_</code>.  When <code>collapse</code> is a string,\n",
       "the result is always a string (<code>character</code> of length 1).</p>\n",
       "</td></tr>\n",
       "<tr><td><code id=\"recycle0\">recycle0</code></td>\n",
       "<td>\n",
       "<p><code>logical</code> indicating if zero-length\n",
       "character arguments should result in the zero-length\n",
       "<code>character(0)</code>.  Note that when <code>collapse</code> is\n",
       "a string, <code>recycle0</code> does <em>not</em> recycle to zero-length, but\n",
       "to <code>\"\"</code>.</p>\n",
       "</td></tr>\n",
       "</table>\n",
       "\n",
       "\n",
       "<h3>Details</h3>\n",
       "\n",
       "<p><code>paste</code> converts its arguments (<em>via</em>\n",
       "<code>as.character</code>) to character strings, and concatenates\n",
       "them (separating them by the string given by <code>sep</code>).\n",
       "</p>\n",
       "<p>If the arguments are vectors, they are concatenated term-by-term to give a\n",
       "character vector result.  Vector arguments are recycled as needed.\n",
       "Zero-length arguments are recycled as <code>\"\"</code> unless <code>recycle0</code>\n",
       "is <code>TRUE</code> and <code>collapse</code> is <code>NULL</code>.\n",
       "</p>\n",
       "<p>Note that <code>paste()</code> coerces <code>NA_character_</code>, the\n",
       "character missing value, to <code>\"NA\"</code> which may seem\n",
       "undesirable, e.g., when pasting two character vectors, or very\n",
       "desirable, e.g. in <code>paste(\"the value of p is \", p)</code>.\n",
       "</p>\n",
       "<p><code>paste0(..., collapse)</code> is equivalent to\n",
       "<code>paste(..., sep = \"\", collapse)</code>, slightly more efficiently.\n",
       "</p>\n",
       "<p>If a value is specified for <code>collapse</code>, the values in the result\n",
       "are then concatenated into a single string, with the elements being\n",
       "separated by the value of <code>collapse</code>.\n",
       "</p>\n",
       "\n",
       "\n",
       "<h3>Value</h3>\n",
       "\n",
       "<p>A character vector of the concatenated values.  This will be of length\n",
       "zero if all the objects are, unless <code>collapse</code> is non-NULL, in which\n",
       "case it is <code>\"\"</code> (a single empty string).\n",
       "</p>\n",
       "<p>If any input into an element of the result is in UTF-8 (and none are\n",
       "declared with encoding <code>\"bytes\"</code>, see <code>Encoding</code>),\n",
       "that element will be in UTF-8, otherwise in the current encoding in\n",
       "which case the encoding of the element is declared if the current\n",
       "locale is either Latin-1 or UTF-8, at least one of the corresponding\n",
       "inputs (including separators) had a declared encoding and all inputs\n",
       "were either ASCII or declared.\n",
       "</p>\n",
       "<p>If an input into an element is declared with encoding <code>\"bytes\"</code>,\n",
       "no translation will be done of any of the elements and the resulting\n",
       "element will have encoding <code>\"bytes\"</code>.  If <code>collapse</code> is\n",
       "non-NULL, this applies also to the second, collapsing, phase, but some\n",
       "translation may have been done in pasting object together in the first\n",
       "phase.\n",
       "</p>\n",
       "\n",
       "\n",
       "<h3>References</h3>\n",
       "\n",
       "<p>Becker, R. A., Chambers, J. M. and Wilks, A. R. (1988)\n",
       "<em>The New S Language</em>.\n",
       "Wadsworth &amp; Brooks/Cole.\n",
       "</p>\n",
       "\n",
       "\n",
       "<h3>See Also</h3>\n",
       "\n",
       "<p><code>toString</code> typically calls <code>paste(*, collapse=\", \")</code>.\n",
       "String manipulation with\n",
       "<code>as.character</code>, <code>substr</code>, <code>nchar</code>,\n",
       "<code>strsplit</code>; further, <code>cat</code> which concatenates and\n",
       "writes to a file, and <code>sprintf</code> for C like string\n",
       "construction.\n",
       "</p>\n",
       "<p>&lsquo;plotmath&rsquo; for the use of <code>paste</code> in plot annotation.\n",
       "</p>\n",
       "\n",
       "\n",
       "<h3>Examples</h3>\n",
       "\n",
       "<pre><code class='language-R'>## When passing a single vector, paste0 and paste work like as.character.\n",
       "paste0(1:12)\n",
       "paste(1:12)        # same\n",
       "as.character(1:12) # same\n",
       "\n",
       "## If you pass several vectors to paste0, they are concatenated in a\n",
       "## vectorized way.\n",
       "(nth &lt;- paste0(1:12, c(\"st\", \"nd\", \"rd\", rep(\"th\", 9))))\n",
       "\n",
       "## paste works the same, but separates each input with a space.\n",
       "## Notice that the recycling rules make every input as long as the longest input.\n",
       "paste(month.abb, \"is the\", nth, \"month of the year.\")\n",
       "paste(month.abb, letters)\n",
       "\n",
       "## You can change the separator by passing a sep argument\n",
       "## which can be multiple characters.\n",
       "paste(month.abb, \"is the\", nth, \"month of the year.\", sep = \"_*_\")\n",
       "\n",
       "## To collapse the output into a single string, pass a collapse argument.\n",
       "paste0(nth, collapse = \", \")\n",
       "\n",
       "## For inputs of length 1, use the sep argument rather than collapse\n",
       "paste(\"1st\", \"2nd\", \"3rd\", collapse = \", \") # probably not what you wanted\n",
       "paste(\"1st\", \"2nd\", \"3rd\", sep = \", \")\n",
       "\n",
       "## You can combine the sep and collapse arguments together.\n",
       "paste(month.abb, nth, sep = \": \", collapse = \"; \")\n",
       "\n",
       "## Using paste() in combination with strwrap() can be useful\n",
       "## for dealing with long strings.\n",
       "(title &lt;- paste(strwrap(\n",
       "    \"Stopping distance of cars (ft) vs. speed (mph) from Ezekiel (1930)\",\n",
       "    width = 30), collapse = \"\\n\"))\n",
       "plot(dist ~ speed, cars, main = title)\n",
       "\n",
       "## zero length arguments recycled as `\"\"` -- NB: `{}` &lt;==&gt; character(0)  here\n",
       "paste({}, 1:2)\n",
       "\n",
       "## 'recycle0 = TRUE' allows standard vectorized behaviour, i.e., zero-length\n",
       "##                   recycling resulting in zero-length result character(0):\n",
       "valid &lt;- FALSE\n",
       "val &lt;- pi\n",
       "paste(\"The value is\", val[valid], \"-- not so good!\") # -&gt;  \".. value is  -- not ..\"\n",
       "paste(\"The value is\", val[valid], \"-- good: empty!\", recycle0=TRUE) # -&gt; character(0)\n",
       "\n",
       "## When 'collapse = &lt;string&gt;',  result is (length 1) string in all cases\n",
       "paste(\"foo\", {}, \"bar\", collapse = \"|\")                  # |--&gt;  \"foo  bar\"\n",
       "paste(\"foo\", {},        collapse = \"|\", recycle0 = TRUE) # |--&gt;  \"\"\n",
       "## If all arguments are empty (and collapse a string),   \"\"  results always\n",
       "paste(    collapse = \"|\")\n",
       "paste(    collapse = \"|\", recycle0 = TRUE)\n",
       "paste({}, collapse = \"|\")\n",
       "paste({}, collapse = \"|\", recycle0 = TRUE)\n",
       "</code></pre>\n",
       "\n",
       "<hr /><div style=\"text-align: center;\">[Package <em>base</em> version 4.4.1 ]</div></main>\n",
       "\n",
       "</div>"
      ],
      "text/latex": [
       "\\inputencoding{utf8}\n",
       "\\HeaderA{paste}{Concatenate Strings}{paste}\n",
       "\\aliasA{paste0}{paste}{paste0}\n",
       "\\keyword{combine strings}{paste}\n",
       "\\keyword{character}{paste}\n",
       "%\n",
       "\\begin{Description}\n",
       "Concatenate vectors after converting to character.\n",
       "Concatenation happens in two basically different ways, determined by\n",
       "\\code{collapse} being a string or not.\n",
       "\\end{Description}\n",
       "%\n",
       "\\begin{Usage}\n",
       "\\begin{verbatim}\n",
       "paste (..., sep = \" \", collapse = NULL, recycle0 = FALSE)\n",
       "paste0(...,            collapse = NULL, recycle0 = FALSE)\n",
       "\\end{verbatim}\n",
       "\\end{Usage}\n",
       "%\n",
       "\\begin{Arguments}\n",
       "\\begin{ldescription}\n",
       "\\item[\\code{...}] one or more \\R{} objects, to be converted to character vectors.\n",
       "\\item[\\code{sep}] a character string to separate the terms.  Not\n",
       "\\code{\\LinkA{NA\\_character\\_}{NA.Rul.character.Rul.}}.\n",
       "\\item[\\code{collapse}] an optional character string to separate the results.  Not\n",
       "\\code{\\LinkA{NA\\_character\\_}{NA.Rul.character.Rul.}}.  When \\code{collapse} is a string,\n",
       "the result is always a string (\\code{\\LinkA{character}{character}} of length 1).\n",
       "\\item[\\code{recycle0}] \\code{\\LinkA{logical}{logical}} indicating if zero-length\n",
       "character arguments should result in the zero-length\n",
       "\\code{\\LinkA{character}{character}(0)}.  Note that when \\code{collapse} is\n",
       "a string, \\code{recycle0} does \\emph{not} recycle to zero-length, but\n",
       "to \\code{\"\"}.\n",
       "\\end{ldescription}\n",
       "\\end{Arguments}\n",
       "%\n",
       "\\begin{Details}\n",
       "\\code{paste} converts its arguments (\\emph{via}\n",
       "\\code{\\LinkA{as.character}{as.character}}) to character strings, and concatenates\n",
       "them (separating them by the string given by \\code{sep}).\n",
       "\n",
       "If the arguments are vectors, they are concatenated term-by-term to give a\n",
       "character vector result.  Vector arguments are recycled as needed.\n",
       "Zero-length arguments are recycled as \\code{\"\"} unless \\code{recycle0}\n",
       "is \\code{TRUE} and \\code{collapse} is \\code{NULL}.\n",
       "\n",
       "Note that \\code{paste()} coerces \\code{\\LinkA{NA\\_character\\_}{NA.Rul.character.Rul.}}, the\n",
       "character missing value, to \\code{\"NA\"} which may seem\n",
       "undesirable, e.g., when pasting two character vectors, or very\n",
       "desirable, e.g.~in \\code{paste(\"the value of p is \", p)}.\n",
       "\n",
       "\\code{paste0(..., collapse)} is equivalent to\n",
       "\\code{paste(..., sep = \"\", collapse)}, slightly more efficiently.\n",
       "\n",
       "If a value is specified for \\code{collapse}, the values in the result\n",
       "are then concatenated into a single string, with the elements being\n",
       "separated by the value of \\code{collapse}.\n",
       "\\end{Details}\n",
       "%\n",
       "\\begin{Value}\n",
       "A character vector of the concatenated values.  This will be of length\n",
       "zero if all the objects are, unless \\code{collapse} is non-NULL, in which\n",
       "case it is \\code{\"\"} (a single empty string).\n",
       "\n",
       "If any input into an element of the result is in UTF-8 (and none are\n",
       "declared with encoding \\code{\"bytes\"}, see \\code{\\LinkA{Encoding}{Encoding}}),\n",
       "that element will be in UTF-8, otherwise in the current encoding in\n",
       "which case the encoding of the element is declared if the current\n",
       "locale is either Latin-1 or UTF-8, at least one of the corresponding\n",
       "inputs (including separators) had a declared encoding and all inputs\n",
       "were either ASCII or declared.\n",
       "\n",
       "If an input into an element is declared with encoding \\code{\"bytes\"},\n",
       "no translation will be done of any of the elements and the resulting\n",
       "element will have encoding \\code{\"bytes\"}.  If \\code{collapse} is\n",
       "non-NULL, this applies also to the second, collapsing, phase, but some\n",
       "translation may have been done in pasting object together in the first\n",
       "phase.\n",
       "\\end{Value}\n",
       "%\n",
       "\\begin{References}\n",
       "Becker, R. A., Chambers, J. M. and Wilks, A. R. (1988)\n",
       "\\emph{The New S Language}.\n",
       "Wadsworth \\& Brooks/Cole.\n",
       "\\end{References}\n",
       "%\n",
       "\\begin{SeeAlso}\n",
       "\\code{\\LinkA{toString}{toString}} typically calls \\code{paste(*, collapse=\", \")}.\n",
       "String manipulation with\n",
       "\\code{\\LinkA{as.character}{as.character}}, \\code{\\LinkA{substr}{substr}}, \\code{\\LinkA{nchar}{nchar}},\n",
       "\\code{\\LinkA{strsplit}{strsplit}}; further, \\code{\\LinkA{cat}{cat}} which concatenates and\n",
       "writes to a file, and \\code{\\LinkA{sprintf}{sprintf}} for C like string\n",
       "construction.\n",
       "\n",
       "`\\LinkA{plotmath}{plotmath}' for the use of \\code{paste} in plot annotation.\n",
       "\\end{SeeAlso}\n",
       "%\n",
       "\\begin{Examples}\n",
       "\\begin{ExampleCode}\n",
       "## When passing a single vector, paste0 and paste work like as.character.\n",
       "paste0(1:12)\n",
       "paste(1:12)        # same\n",
       "as.character(1:12) # same\n",
       "\n",
       "## If you pass several vectors to paste0, they are concatenated in a\n",
       "## vectorized way.\n",
       "(nth <- paste0(1:12, c(\"st\", \"nd\", \"rd\", rep(\"th\", 9))))\n",
       "\n",
       "## paste works the same, but separates each input with a space.\n",
       "## Notice that the recycling rules make every input as long as the longest input.\n",
       "paste(month.abb, \"is the\", nth, \"month of the year.\")\n",
       "paste(month.abb, letters)\n",
       "\n",
       "## You can change the separator by passing a sep argument\n",
       "## which can be multiple characters.\n",
       "paste(month.abb, \"is the\", nth, \"month of the year.\", sep = \"_*_\")\n",
       "\n",
       "## To collapse the output into a single string, pass a collapse argument.\n",
       "paste0(nth, collapse = \", \")\n",
       "\n",
       "## For inputs of length 1, use the sep argument rather than collapse\n",
       "paste(\"1st\", \"2nd\", \"3rd\", collapse = \", \") # probably not what you wanted\n",
       "paste(\"1st\", \"2nd\", \"3rd\", sep = \", \")\n",
       "\n",
       "## You can combine the sep and collapse arguments together.\n",
       "paste(month.abb, nth, sep = \": \", collapse = \"; \")\n",
       "\n",
       "## Using paste() in combination with strwrap() can be useful\n",
       "## for dealing with long strings.\n",
       "(title <- paste(strwrap(\n",
       "    \"Stopping distance of cars (ft) vs. speed (mph) from Ezekiel (1930)\",\n",
       "    width = 30), collapse = \"\\n\"))\n",
       "plot(dist ~ speed, cars, main = title)\n",
       "\n",
       "## zero length arguments recycled as `\"\"` -- NB: `{}` <==> character(0)  here\n",
       "paste({}, 1:2)\n",
       "\n",
       "## 'recycle0 = TRUE' allows standard vectorized behaviour, i.e., zero-length\n",
       "##                   recycling resulting in zero-length result character(0):\n",
       "valid <- FALSE\n",
       "val <- pi\n",
       "paste(\"The value is\", val[valid], \"-- not so good!\") # ->  \".. value is  -- not ..\"\n",
       "paste(\"The value is\", val[valid], \"-- good: empty!\", recycle0=TRUE) # -> character(0)\n",
       "\n",
       "## When 'collapse = <string>',  result is (length 1) string in all cases\n",
       "paste(\"foo\", {}, \"bar\", collapse = \"|\")                  # |-->  \"foo  bar\"\n",
       "paste(\"foo\", {},        collapse = \"|\", recycle0 = TRUE) # |-->  \"\"\n",
       "## If all arguments are empty (and collapse a string),   \"\"  results always\n",
       "paste(    collapse = \"|\")\n",
       "paste(    collapse = \"|\", recycle0 = TRUE)\n",
       "paste({}, collapse = \"|\")\n",
       "paste({}, collapse = \"|\", recycle0 = TRUE)\n",
       "\\end{ExampleCode}\n",
       "\\end{Examples}"
      ],
      "text/plain": [
       "paste                   package:base                   R Documentation\n",
       "\n",
       "_\bC_\bo_\bn_\bc_\ba_\bt_\be_\bn_\ba_\bt_\be _\bS_\bt_\br_\bi_\bn_\bg_\bs\n",
       "\n",
       "_\bD_\be_\bs_\bc_\br_\bi_\bp_\bt_\bi_\bo_\bn:\n",
       "\n",
       "     Concatenate vectors after converting to character.  Concatenation\n",
       "     happens in two basically different ways, determined by ‘collapse’\n",
       "     being a string or not.\n",
       "\n",
       "_\bU_\bs_\ba_\bg_\be:\n",
       "\n",
       "     paste (..., sep = \" \", collapse = NULL, recycle0 = FALSE)\n",
       "     paste0(...,            collapse = NULL, recycle0 = FALSE)\n",
       "     \n",
       "_\bA_\br_\bg_\bu_\bm_\be_\bn_\bt_\bs:\n",
       "\n",
       "     ...: one or more R objects, to be converted to character vectors.\n",
       "\n",
       "     sep: a character string to separate the terms.  Not\n",
       "          ‘NA_character_’.\n",
       "\n",
       "collapse: an optional character string to separate the results.  Not\n",
       "          ‘NA_character_’.  When ‘collapse’ is a string, the result is\n",
       "          always a string (‘character’ of length 1).\n",
       "\n",
       "recycle0: ‘logical’ indicating if zero-length character arguments\n",
       "          should result in the zero-length ‘character(0)’.  Note that\n",
       "          when ‘collapse’ is a string, ‘recycle0’ does _not_ recycle to\n",
       "          zero-length, but to ‘\"\"’.\n",
       "\n",
       "_\bD_\be_\bt_\ba_\bi_\bl_\bs:\n",
       "\n",
       "     ‘paste’ converts its arguments (_via_ ‘as.character’) to character\n",
       "     strings, and concatenates them (separating them by the string\n",
       "     given by ‘sep’).\n",
       "\n",
       "     If the arguments are vectors, they are concatenated term-by-term\n",
       "     to give a character vector result.  Vector arguments are recycled\n",
       "     as needed.  Zero-length arguments are recycled as ‘\"\"’ unless\n",
       "     ‘recycle0’ is ‘TRUE’ and ‘collapse’ is ‘NULL’.\n",
       "\n",
       "     Note that ‘paste()’ coerces ‘NA_character_’, the character missing\n",
       "     value, to ‘\"NA\"’ which may seem undesirable, e.g., when pasting\n",
       "     two character vectors, or very desirable, e.g. in ‘paste(\"the\n",
       "     value of p is \", p)’.\n",
       "\n",
       "     ‘paste0(..., collapse)’ is equivalent to ‘paste(..., sep = \"\",\n",
       "     collapse)’, slightly more efficiently.\n",
       "\n",
       "     If a value is specified for ‘collapse’, the values in the result\n",
       "     are then concatenated into a single string, with the elements\n",
       "     being separated by the value of ‘collapse’.\n",
       "\n",
       "_\bV_\ba_\bl_\bu_\be:\n",
       "\n",
       "     A character vector of the concatenated values.  This will be of\n",
       "     length zero if all the objects are, unless ‘collapse’ is non-NULL,\n",
       "     in which case it is ‘\"\"’ (a single empty string).\n",
       "\n",
       "     If any input into an element of the result is in UTF-8 (and none\n",
       "     are declared with encoding ‘\"bytes\"’, see ‘Encoding’), that\n",
       "     element will be in UTF-8, otherwise in the current encoding in\n",
       "     which case the encoding of the element is declared if the current\n",
       "     locale is either Latin-1 or UTF-8, at least one of the\n",
       "     corresponding inputs (including separators) had a declared\n",
       "     encoding and all inputs were either ASCII or declared.\n",
       "\n",
       "     If an input into an element is declared with encoding ‘\"bytes\"’,\n",
       "     no translation will be done of any of the elements and the\n",
       "     resulting element will have encoding ‘\"bytes\"’.  If ‘collapse’ is\n",
       "     non-NULL, this applies also to the second, collapsing, phase, but\n",
       "     some translation may have been done in pasting object together in\n",
       "     the first phase.\n",
       "\n",
       "_\bR_\be_\bf_\be_\br_\be_\bn_\bc_\be_\bs:\n",
       "\n",
       "     Becker, R. A., Chambers, J. M. and Wilks, A. R. (1988) _The New S\n",
       "     Language_.  Wadsworth & Brooks/Cole.\n",
       "\n",
       "_\bS_\be_\be _\bA_\bl_\bs_\bo:\n",
       "\n",
       "     ‘toString’ typically calls ‘paste(*, collapse=\", \")’.  String\n",
       "     manipulation with ‘as.character’, ‘substr’, ‘nchar’, ‘strsplit’;\n",
       "     further, ‘cat’ which concatenates and writes to a file, and\n",
       "     ‘sprintf’ for C like string construction.\n",
       "\n",
       "     ‘plotmath’ for the use of ‘paste’ in plot annotation.\n",
       "\n",
       "_\bE_\bx_\ba_\bm_\bp_\bl_\be_\bs:\n",
       "\n",
       "     ## When passing a single vector, paste0 and paste work like as.character.\n",
       "     paste0(1:12)\n",
       "     paste(1:12)        # same\n",
       "     as.character(1:12) # same\n",
       "     \n",
       "     ## If you pass several vectors to paste0, they are concatenated in a\n",
       "     ## vectorized way.\n",
       "     (nth <- paste0(1:12, c(\"st\", \"nd\", \"rd\", rep(\"th\", 9))))\n",
       "     \n",
       "     ## paste works the same, but separates each input with a space.\n",
       "     ## Notice that the recycling rules make every input as long as the longest input.\n",
       "     paste(month.abb, \"is the\", nth, \"month of the year.\")\n",
       "     paste(month.abb, letters)\n",
       "     \n",
       "     ## You can change the separator by passing a sep argument\n",
       "     ## which can be multiple characters.\n",
       "     paste(month.abb, \"is the\", nth, \"month of the year.\", sep = \"_*_\")\n",
       "     \n",
       "     ## To collapse the output into a single string, pass a collapse argument.\n",
       "     paste0(nth, collapse = \", \")\n",
       "     \n",
       "     ## For inputs of length 1, use the sep argument rather than collapse\n",
       "     paste(\"1st\", \"2nd\", \"3rd\", collapse = \", \") # probably not what you wanted\n",
       "     paste(\"1st\", \"2nd\", \"3rd\", sep = \", \")\n",
       "     \n",
       "     ## You can combine the sep and collapse arguments together.\n",
       "     paste(month.abb, nth, sep = \": \", collapse = \"; \")\n",
       "     \n",
       "     ## Using paste() in combination with strwrap() can be useful\n",
       "     ## for dealing with long strings.\n",
       "     (title <- paste(strwrap(\n",
       "         \"Stopping distance of cars (ft) vs. speed (mph) from Ezekiel (1930)\",\n",
       "         width = 30), collapse = \"\\n\"))\n",
       "     plot(dist ~ speed, cars, main = title)\n",
       "     \n",
       "     ## zero length arguments recycled as `\"\"` -- NB: `{}` <==> character(0)  here\n",
       "     paste({}, 1:2)\n",
       "     \n",
       "     ## 'recycle0 = TRUE' allows standard vectorized behaviour, i.e., zero-length\n",
       "     ##                   recycling resulting in zero-length result character(0):\n",
       "     valid <- FALSE\n",
       "     val <- pi\n",
       "     paste(\"The value is\", val[valid], \"-- not so good!\") # ->  \".. value is  -- not ..\"\n",
       "     paste(\"The value is\", val[valid], \"-- good: empty!\", recycle0=TRUE) # -> character(0)\n",
       "     \n",
       "     ## When 'collapse = <string>',  result is (length 1) string in all cases\n",
       "     paste(\"foo\", {}, \"bar\", collapse = \"|\")                  # |-->  \"foo  bar\"\n",
       "     paste(\"foo\", {},        collapse = \"|\", recycle0 = TRUE) # |-->  \"\"\n",
       "     ## If all arguments are empty (and collapse a string),   \"\"  results always\n",
       "     paste(    collapse = \"|\")\n",
       "     paste(    collapse = \"|\", recycle0 = TRUE)\n",
       "     paste({}, collapse = \"|\")\n",
       "     paste({}, collapse = \"|\", recycle0 = TRUE)\n",
       "     "
      ]
     },
     "metadata": {},
     "output_type": "display_data"
    }
   ],
   "source": [
    "library(\"lubridate\")\n",
    "library(\"ggplot2\")\n",
    "# create a function to make the date string.\n",
    "datestr = function(day, month, year) {\n",
    "  paste(day, month, year, sep=\"-\")\n",
    "}\n",
    "\n",
    "help(paste)"
   ]
  },
  {
   "cell_type": "code",
   "execution_count": 36,
   "id": "a61a3c78",
   "metadata": {},
   "outputs": [
    {
     "data": {
      "text/html": [
       "<table class=\"dataframe\">\n",
       "<caption>A data.frame: 6 × 2</caption>\n",
       "<thead>\n",
       "\t<tr><th></th><th scope=col>Ozone</th><th scope=col>date</th></tr>\n",
       "\t<tr><th></th><th scope=col>&lt;int&gt;</th><th scope=col>&lt;date&gt;</th></tr>\n",
       "</thead>\n",
       "<tbody>\n",
       "\t<tr><th scope=row>1</th><td>41</td><td>1973-05-01</td></tr>\n",
       "\t<tr><th scope=row>2</th><td>36</td><td>1973-05-02</td></tr>\n",
       "\t<tr><th scope=row>3</th><td>12</td><td>1973-05-03</td></tr>\n",
       "\t<tr><th scope=row>4</th><td>18</td><td>1973-05-04</td></tr>\n",
       "\t<tr><th scope=row>5</th><td>NA</td><td>1973-05-05</td></tr>\n",
       "\t<tr><th scope=row>6</th><td>28</td><td>1973-05-06</td></tr>\n",
       "</tbody>\n",
       "</table>\n"
      ],
      "text/latex": [
       "A data.frame: 6 × 2\n",
       "\\begin{tabular}{r|ll}\n",
       "  & Ozone & date\\\\\n",
       "  & <int> & <date>\\\\\n",
       "\\hline\n",
       "\t1 & 41 & 1973-05-01\\\\\n",
       "\t2 & 36 & 1973-05-02\\\\\n",
       "\t3 & 12 & 1973-05-03\\\\\n",
       "\t4 & 18 & 1973-05-04\\\\\n",
       "\t5 & NA & 1973-05-05\\\\\n",
       "\t6 & 28 & 1973-05-06\\\\\n",
       "\\end{tabular}\n"
      ],
      "text/markdown": [
       "\n",
       "A data.frame: 6 × 2\n",
       "\n",
       "| <!--/--> | Ozone &lt;int&gt; | date &lt;date&gt; |\n",
       "|---|---|---|\n",
       "| 1 | 41 | 1973-05-01 |\n",
       "| 2 | 36 | 1973-05-02 |\n",
       "| 3 | 12 | 1973-05-03 |\n",
       "| 4 | 18 | 1973-05-04 |\n",
       "| 5 | NA | 1973-05-05 |\n",
       "| 6 | 28 | 1973-05-06 |\n",
       "\n"
      ],
      "text/plain": [
       "  Ozone date      \n",
       "1 41    1973-05-01\n",
       "2 36    1973-05-02\n",
       "3 12    1973-05-03\n",
       "4 18    1973-05-04\n",
       "5 NA    1973-05-05\n",
       "6 28    1973-05-06"
      ]
     },
     "metadata": {},
     "output_type": "display_data"
    },
    {
     "name": "stderr",
     "output_type": "stream",
     "text": [
      "Warning message:\n",
      "“Removed 37 rows containing missing values (geom_point).”\n"
     ]
    },
    {
     "data": {
      "image/png": "[encoded data removed]",
      "text/plain": [
       "plot without title"
      ]
     },
     "metadata": {
      "image/png": {
       "height": 420,
       "width": 420
      }
     },
     "output_type": "display_data"
    }
   ],
   "source": [
    "airquality_with_date <- airquality #Builds a copy of the data\n",
    "#Adds the date column, using with () to refer to columns without needing the table name:\n",
    "airquality_with_date$date <- with(airquality_with_date,\n",
    "                                   dmy(datestr(Day, Month, 1973)))\n",
    "airquality_with_date <- airquality_with_date[,\n",
    "                                             c(\"Ozone\", \"date\"),\n",
    "                                             drop = FALSE] #Limits down to the columns of interest\n",
    "head(airquality_with_date) #Shows the results\n",
    "ggplot(airquality_with_date, aes(x = date, y = Ozone)) +\n",
    "  geom_point() +\n",
    "  geom_line() +\n",
    "  xlab(\"Date\") +\n",
    "  ggtitle(\"New York ozone readings, May 1 - Sept 30, 1973\")"
   ]
  },
  {
   "cell_type": "code",
   "execution_count": 10,
   "id": "3ebb4d4d",
   "metadata": {},
   "outputs": [
    {
     "name": "stdout",
     "output_type": "stream",
     "text": [
      "[1] \"Pipeline Method\"\n"
     ]
    },
    {
     "data": {
      "text/html": [
       "<table class=\"dataframe\">\n",
       "<caption>A data.frame: 6 × 2</caption>\n",
       "<thead>\n",
       "\t<tr><th></th><th scope=col>Ozone</th><th scope=col>date</th></tr>\n",
       "\t<tr><th></th><th scope=col>&lt;int&gt;</th><th scope=col>&lt;date&gt;</th></tr>\n",
       "</thead>\n",
       "<tbody>\n",
       "\t<tr><th scope=row>1</th><td>41</td><td>1973-05-01</td></tr>\n",
       "\t<tr><th scope=row>2</th><td>36</td><td>1973-05-02</td></tr>\n",
       "\t<tr><th scope=row>3</th><td>12</td><td>1973-05-03</td></tr>\n",
       "\t<tr><th scope=row>4</th><td>18</td><td>1973-05-04</td></tr>\n",
       "\t<tr><th scope=row>5</th><td>NA</td><td>1973-05-05</td></tr>\n",
       "\t<tr><th scope=row>6</th><td>28</td><td>1973-05-06</td></tr>\n",
       "</tbody>\n",
       "</table>\n"
      ],
      "text/latex": [
       "A data.frame: 6 × 2\n",
       "\\begin{tabular}{r|ll}\n",
       "  & Ozone & date\\\\\n",
       "  & <int> & <date>\\\\\n",
       "\\hline\n",
       "\t1 & 41 & 1973-05-01\\\\\n",
       "\t2 & 36 & 1973-05-02\\\\\n",
       "\t3 & 12 & 1973-05-03\\\\\n",
       "\t4 & 18 & 1973-05-04\\\\\n",
       "\t5 & NA & 1973-05-05\\\\\n",
       "\t6 & 28 & 1973-05-06\\\\\n",
       "\\end{tabular}\n"
      ],
      "text/markdown": [
       "\n",
       "A data.frame: 6 × 2\n",
       "\n",
       "| <!--/--> | Ozone &lt;int&gt; | date &lt;date&gt; |\n",
       "|---|---|---|\n",
       "| 1 | 41 | 1973-05-01 |\n",
       "| 2 | 36 | 1973-05-02 |\n",
       "| 3 | 12 | 1973-05-03 |\n",
       "| 4 | 18 | 1973-05-04 |\n",
       "| 5 | NA | 1973-05-05 |\n",
       "| 6 | 28 | 1973-05-06 |\n",
       "\n"
      ],
      "text/plain": [
       "  Ozone date      \n",
       "1 41    1973-05-01\n",
       "2 36    1973-05-02\n",
       "3 12    1973-05-03\n",
       "4 18    1973-05-04\n",
       "5 NA    1973-05-05\n",
       "6 28    1973-05-06"
      ]
     },
     "metadata": {},
     "output_type": "display_data"
    },
    {
     "name": "stdout",
     "output_type": "stream",
     "text": [
      "[1] \"Reassignment Method\"\n"
     ]
    },
    {
     "data": {
      "text/html": [
       "<table class=\"dataframe\">\n",
       "<caption>A data.frame: 6 × 2</caption>\n",
       "<thead>\n",
       "\t<tr><th></th><th scope=col>Ozone</th><th scope=col>date</th></tr>\n",
       "\t<tr><th></th><th scope=col>&lt;int&gt;</th><th scope=col>&lt;date&gt;</th></tr>\n",
       "</thead>\n",
       "<tbody>\n",
       "\t<tr><th scope=row>1</th><td>41</td><td>1973-05-01</td></tr>\n",
       "\t<tr><th scope=row>2</th><td>36</td><td>1973-05-02</td></tr>\n",
       "\t<tr><th scope=row>3</th><td>12</td><td>1973-05-03</td></tr>\n",
       "\t<tr><th scope=row>4</th><td>18</td><td>1973-05-04</td></tr>\n",
       "\t<tr><th scope=row>5</th><td>NA</td><td>1973-05-05</td></tr>\n",
       "\t<tr><th scope=row>6</th><td>28</td><td>1973-05-06</td></tr>\n",
       "</tbody>\n",
       "</table>\n"
      ],
      "text/latex": [
       "A data.frame: 6 × 2\n",
       "\\begin{tabular}{r|ll}\n",
       "  & Ozone & date\\\\\n",
       "  & <int> & <date>\\\\\n",
       "\\hline\n",
       "\t1 & 41 & 1973-05-01\\\\\n",
       "\t2 & 36 & 1973-05-02\\\\\n",
       "\t3 & 12 & 1973-05-03\\\\\n",
       "\t4 & 18 & 1973-05-04\\\\\n",
       "\t5 & NA & 1973-05-05\\\\\n",
       "\t6 & 28 & 1973-05-06\\\\\n",
       "\\end{tabular}\n"
      ],
      "text/markdown": [
       "\n",
       "A data.frame: 6 × 2\n",
       "\n",
       "| <!--/--> | Ozone &lt;int&gt; | date &lt;date&gt; |\n",
       "|---|---|---|\n",
       "| 1 | 41 | 1973-05-01 |\n",
       "| 2 | 36 | 1973-05-02 |\n",
       "| 3 | 12 | 1973-05-03 |\n",
       "| 4 | 18 | 1973-05-04 |\n",
       "| 5 | NA | 1973-05-05 |\n",
       "| 6 | 28 | 1973-05-06 |\n",
       "\n"
      ],
      "text/plain": [
       "  Ozone date      \n",
       "1 41    1973-05-01\n",
       "2 36    1973-05-02\n",
       "3 12    1973-05-03\n",
       "4 18    1973-05-04\n",
       "5 NA    1973-05-05\n",
       "6 28    1973-05-06"
      ]
     },
     "metadata": {},
     "output_type": "display_data"
    }
   ],
   "source": [
    "#dplyr solution\n",
    "library(\"dplyr\")\n",
    "airquality_with_date2 <- airquality %>%\n",
    "  mutate(., date = dmy(datestr(Day, Month, 1973))) %>%\n",
    "  select(., Ozone, date)\n",
    "\n",
    "\n",
    "airquality_new <- mutate(airquality, date = dmy(datestr(Day, Month, 1973)))\n",
    "airquality_new <- select(airquality_new, Ozone, date)\n",
    "\n",
    "print(\"Pipeline Method\")\n",
    "head(airquality_with_date2)\n",
    "print(\"Reassignment Method\")\n",
    "head(airquality_new)"
   ]
  },
  {
   "cell_type": "markdown",
   "id": "9b3276e1",
   "metadata": {},
   "source": [
    "## Renaming columns names"
   ]
  },
  {
   "cell_type": "code",
   "execution_count": 51,
   "id": "762f8091",
   "metadata": {},
   "outputs": [
    {
     "name": "stdout",
     "output_type": "stream",
     "text": [
      "  x y\n",
      "1 1 3\n",
      "2 2 4\n",
      "  BIGX BIGY\n",
      "1    1    3\n",
      "2    2    4\n"
     ]
    }
   ],
   "source": [
    "d <- data.frame(x = 1:2, y = 3:4)\n",
    "print(d)\n",
    "colnames(d) <- c(\"BIGX\", \"BIGY\") \n",
    "print(d)"
   ]
  },
  {
   "cell_type": "markdown",
   "id": "e7e7e67a",
   "metadata": {},
   "source": [
    "## Aggregating transforms"
   ]
  },
  {
   "cell_type": "code",
   "execution_count": 54,
   "id": "63857ad8",
   "metadata": {},
   "outputs": [
    {
     "data": {
      "text/html": [
       "<table>\n",
       "<thead><tr><th scope=col>Sepal.Length</th><th scope=col>Sepal.Width</th><th scope=col>Petal.Length</th><th scope=col>Petal.Width</th><th scope=col>Species</th></tr></thead>\n",
       "<tbody>\n",
       "\t<tr><td>5.1   </td><td>3.5   </td><td>1.4   </td><td>0.2   </td><td>setosa</td></tr>\n",
       "\t<tr><td>4.9   </td><td>3.0   </td><td>1.4   </td><td>0.2   </td><td>setosa</td></tr>\n",
       "\t<tr><td>4.7   </td><td>3.2   </td><td>1.3   </td><td>0.2   </td><td>setosa</td></tr>\n",
       "\t<tr><td>4.6   </td><td>3.1   </td><td>1.5   </td><td>0.2   </td><td>setosa</td></tr>\n",
       "\t<tr><td>5.0   </td><td>3.6   </td><td>1.4   </td><td>0.2   </td><td>setosa</td></tr>\n",
       "\t<tr><td>5.4   </td><td>3.9   </td><td>1.7   </td><td>0.4   </td><td>setosa</td></tr>\n",
       "</tbody>\n",
       "</table>\n"
      ],
      "text/latex": [
       "\\begin{tabular}{r|lllll}\n",
       " Sepal.Length & Sepal.Width & Petal.Length & Petal.Width & Species\\\\\n",
       "\\hline\n",
       "\t 5.1    & 3.5    & 1.4    & 0.2    & setosa\\\\\n",
       "\t 4.9    & 3.0    & 1.4    & 0.2    & setosa\\\\\n",
       "\t 4.7    & 3.2    & 1.3    & 0.2    & setosa\\\\\n",
       "\t 4.6    & 3.1    & 1.5    & 0.2    & setosa\\\\\n",
       "\t 5.0    & 3.6    & 1.4    & 0.2    & setosa\\\\\n",
       "\t 5.4    & 3.9    & 1.7    & 0.4    & setosa\\\\\n",
       "\\end{tabular}\n"
      ],
      "text/markdown": [
       "\n",
       "| Sepal.Length | Sepal.Width | Petal.Length | Petal.Width | Species |\n",
       "|---|---|---|---|---|\n",
       "| 5.1    | 3.5    | 1.4    | 0.2    | setosa |\n",
       "| 4.9    | 3.0    | 1.4    | 0.2    | setosa |\n",
       "| 4.7    | 3.2    | 1.3    | 0.2    | setosa |\n",
       "| 4.6    | 3.1    | 1.5    | 0.2    | setosa |\n",
       "| 5.0    | 3.6    | 1.4    | 0.2    | setosa |\n",
       "| 5.4    | 3.9    | 1.7    | 0.4    | setosa |\n",
       "\n"
      ],
      "text/plain": [
       "  Sepal.Length Sepal.Width Petal.Length Petal.Width Species\n",
       "1 5.1          3.5         1.4          0.2         setosa \n",
       "2 4.9          3.0         1.4          0.2         setosa \n",
       "3 4.7          3.2         1.3          0.2         setosa \n",
       "4 4.6          3.1         1.5          0.2         setosa \n",
       "5 5.0          3.6         1.4          0.2         setosa \n",
       "6 5.4          3.9         1.7          0.4         setosa "
      ]
     },
     "metadata": {},
     "output_type": "display_data"
    }
   ],
   "source": [
    "#Combining many rows into summary rows\n",
    "#Scenario: We have been asked to make a report summarizing iris petals by species.\n",
    "\n",
    "library(\"datasets\")\n",
    "library(\"ggplot2\")\n",
    "head(iris)"
   ]
  },
  {
   "cell_type": "code",
   "execution_count": 11,
   "id": "fd77ee04",
   "metadata": {},
   "outputs": [
    {
     "name": "stdout",
     "output_type": "stream",
     "text": [
      "     Species Petal.Length Petal.Width\n",
      "1     setosa        1.462       0.246\n",
      "2 versicolor        4.260       1.326\n",
      "3  virginica        5.552       2.026\n"
     ]
    },
    {
     "data": {
      "image/png": "[encoded data removed]",
      "text/plain": [
       "plot without title"
      ]
     },
     "metadata": {
      "image/png": {
       "height": 420,
       "width": 420
      }
     },
     "output_type": "display_data"
    }
   ],
   "source": [
    "iris_summary <- aggregate(\n",
    "  cbind(Petal.Length, Petal.Width) ~ Species,\n",
    "  data = iris,\n",
    "  FUN = mean)\n",
    "#aggregate: Splits the data into subsets (e.g. species (setosa, versicolor, and virginica), \n",
    "#computes summary statistics for each, and returns the result in a convenient form.\n",
    "#cbind: Takes a sequence of vector, matrix or data-frame arguments and combines by columns \n",
    "#(petal.length and petal.width)\n",
    "print(iris_summary)\n",
    "\n",
    "ggplot(mapping = aes(x = Petal.Length, y = Petal.Width,\n",
    "                     shape = Species, color = Species)) +\n",
    "  geom_point(data = iris, # raw data\n",
    "             alpha = 0.5) +\n",
    "  geom_point(data = iris_summary, # per-group summaries\n",
    "             size = 5) +\n",
    "  ggtitle(\"Average Petal dimensions by iris species\\n(with raw data for refer\n",
    "ence)\")"
   ]
  },
  {
   "cell_type": "markdown",
   "id": "65945785",
   "metadata": {},
   "source": [
    "## Multitable data transforms"
   ]
  },
  {
   "cell_type": "code",
   "execution_count": 1,
   "id": "f45ee2e0",
   "metadata": {},
   "outputs": [
    {
     "name": "stdout",
     "output_type": "stream",
     "text": [
      "  productID price\n",
      "1        p1  9.99\n",
      "2        p2 16.29\n",
      "3        p3 19.99\n",
      "4        p4  5.49\n",
      "5        p5 24.49\n",
      "  productID price\n",
      "1        n1 25.49\n",
      "2        n2 33.99\n",
      "3        n3 17.99\n",
      "'data.frame':\t8 obs. of  2 variables:\n",
      " $ productID: Factor w/ 8 levels \"p1\",\"p2\",\"p3\",..: 1 2 3 4 5 6 7 8\n",
      " $ price    : num  9.99 16.29 19.99 5.49 24.49 ...\n"
     ]
    },
    {
     "data": {
      "text/html": [
       "<table class=\"dataframe\">\n",
       "<caption>A data.frame: 8 × 2</caption>\n",
       "<thead>\n",
       "\t<tr><th scope=col>productID</th><th scope=col>price</th></tr>\n",
       "\t<tr><th scope=col>&lt;fct&gt;</th><th scope=col>&lt;dbl&gt;</th></tr>\n",
       "</thead>\n",
       "<tbody>\n",
       "\t<tr><td>p1</td><td> 9.99</td></tr>\n",
       "\t<tr><td>p2</td><td>16.29</td></tr>\n",
       "\t<tr><td>p3</td><td>19.99</td></tr>\n",
       "\t<tr><td>p4</td><td> 5.49</td></tr>\n",
       "\t<tr><td>p5</td><td>24.49</td></tr>\n",
       "\t<tr><td>n1</td><td>25.49</td></tr>\n",
       "\t<tr><td>n2</td><td>33.99</td></tr>\n",
       "\t<tr><td>n3</td><td>17.99</td></tr>\n",
       "</tbody>\n",
       "</table>\n"
      ],
      "text/latex": [
       "A data.frame: 8 × 2\n",
       "\\begin{tabular}{ll}\n",
       " productID & price\\\\\n",
       " <fct> & <dbl>\\\\\n",
       "\\hline\n",
       "\t p1 &  9.99\\\\\n",
       "\t p2 & 16.29\\\\\n",
       "\t p3 & 19.99\\\\\n",
       "\t p4 &  5.49\\\\\n",
       "\t p5 & 24.49\\\\\n",
       "\t n1 & 25.49\\\\\n",
       "\t n2 & 33.99\\\\\n",
       "\t n3 & 17.99\\\\\n",
       "\\end{tabular}\n"
      ],
      "text/markdown": [
       "\n",
       "A data.frame: 8 × 2\n",
       "\n",
       "| productID &lt;fct&gt; | price &lt;dbl&gt; |\n",
       "|---|---|\n",
       "| p1 |  9.99 |\n",
       "| p2 | 16.29 |\n",
       "| p3 | 19.99 |\n",
       "| p4 |  5.49 |\n",
       "| p5 | 24.49 |\n",
       "| n1 | 25.49 |\n",
       "| n2 | 33.99 |\n",
       "| n3 | 17.99 |\n",
       "\n"
      ],
      "text/plain": [
       "  productID price\n",
       "1 p1         9.99\n",
       "2 p2        16.29\n",
       "3 p3        19.99\n",
       "4 p4         5.49\n",
       "5 p5        24.49\n",
       "6 n1        25.49\n",
       "7 n2        33.99\n",
       "8 n3        17.99"
      ]
     },
     "metadata": {},
     "output_type": "display_data"
    }
   ],
   "source": [
    "#Combining two or more ordered data frames quickly\n",
    "\n",
    "productTable <- wrapr::build_frame(\n",
    "           \"productID\", \"price\" |\n",
    "\"p1\" , 9.99 |\n",
    "\"p2\" , 16.29 |\n",
    "\"p3\" , 19.99 |\n",
    "\"p4\" , 5.49 |\n",
    "\"p5\" , 24.49 )\n",
    "        salesTable <- wrapr::build_frame(\n",
    "           \"productID\", \"sold_store\", \"sold_online\" |\n",
    "\"p1\" ,6 ,64 |\n",
    "\"p2\" ,31 ,1 |\n",
    "\"p3\" ,30 ,23 |\n",
    "\"p4\" ,31 ,67 |\n",
    "\"p5\" ,43 ,51 )\n",
    "productTable2 <- wrapr::build_frame( \"productID\", \"price\" |\n",
    "\"n1\" ,25.49 |\n",
    "\"n2\" , 33.99 |\n",
    "\"n3\" , 17.99)\n",
    "\n",
    "productTable$productID <- factor(productTable$productID) #factor = category\n",
    "print(productTable)\n",
    "productTable2$productID <- factor(productTable2$productID) \n",
    "print(productTable2)\n",
    "\n",
    "#PROBLEM 1: APPENDING ROWS\n",
    "#When two tables have the exact same column structure, we can concatenate them to get a larger table.\n",
    "\n",
    "#Base R solution\n",
    "rbind_base = rbind(productTable,productTable2)\n",
    "str(rbind_base)\n",
    "rbind_base"
   ]
  },
  {
   "cell_type": "code",
   "execution_count": 2,
   "id": "5d21cad7",
   "metadata": {},
   "outputs": [
    {
     "data": {
      "text/html": [
       "<table class=\"dataframe\">\n",
       "<caption>A data.table: 8 × 2</caption>\n",
       "<thead>\n",
       "\t<tr><th scope=col>productID</th><th scope=col>price</th></tr>\n",
       "\t<tr><th scope=col>&lt;fct&gt;</th><th scope=col>&lt;dbl&gt;</th></tr>\n",
       "</thead>\n",
       "<tbody>\n",
       "\t<tr><td>p1</td><td> 9.99</td></tr>\n",
       "\t<tr><td>p2</td><td>16.29</td></tr>\n",
       "\t<tr><td>p3</td><td>19.99</td></tr>\n",
       "\t<tr><td>p4</td><td> 5.49</td></tr>\n",
       "\t<tr><td>p5</td><td>24.49</td></tr>\n",
       "\t<tr><td>n1</td><td>25.49</td></tr>\n",
       "\t<tr><td>n2</td><td>33.99</td></tr>\n",
       "\t<tr><td>n3</td><td>17.99</td></tr>\n",
       "</tbody>\n",
       "</table>\n"
      ],
      "text/latex": [
       "A data.table: 8 × 2\n",
       "\\begin{tabular}{ll}\n",
       " productID & price\\\\\n",
       " <fct> & <dbl>\\\\\n",
       "\\hline\n",
       "\t p1 &  9.99\\\\\n",
       "\t p2 & 16.29\\\\\n",
       "\t p3 & 19.99\\\\\n",
       "\t p4 &  5.49\\\\\n",
       "\t p5 & 24.49\\\\\n",
       "\t n1 & 25.49\\\\\n",
       "\t n2 & 33.99\\\\\n",
       "\t n3 & 17.99\\\\\n",
       "\\end{tabular}\n"
      ],
      "text/markdown": [
       "\n",
       "A data.table: 8 × 2\n",
       "\n",
       "| productID &lt;fct&gt; | price &lt;dbl&gt; |\n",
       "|---|---|\n",
       "| p1 |  9.99 |\n",
       "| p2 | 16.29 |\n",
       "| p3 | 19.99 |\n",
       "| p4 |  5.49 |\n",
       "| p5 | 24.49 |\n",
       "| n1 | 25.49 |\n",
       "| n2 | 33.99 |\n",
       "| n3 | 17.99 |\n",
       "\n"
      ],
      "text/plain": [
       "  productID price\n",
       "1 p1         9.99\n",
       "2 p2        16.29\n",
       "3 p3        19.99\n",
       "4 p4         5.49\n",
       "5 p5        24.49\n",
       "6 n1        25.49\n",
       "7 n2        33.99\n",
       "8 n3        17.99"
      ]
     },
     "metadata": {},
     "output_type": "display_data"
    }
   ],
   "source": [
    "#data.table solution\n",
    "library(\"data.table\")\n",
    "rbindlist(list(productTable, productTable2))"
   ]
  },
  {
   "cell_type": "code",
   "execution_count": 3,
   "id": "58417948",
   "metadata": {},
   "outputs": [
    {
     "data": {
      "text/html": [
       "<table class=\"dataframe\">\n",
       "<caption>A data.frame: 8 × 3</caption>\n",
       "<thead>\n",
       "\t<tr><th scope=col>productID</th><th scope=col>price</th><th scope=col>table</th></tr>\n",
       "\t<tr><th scope=col>&lt;fct&gt;</th><th scope=col>&lt;dbl&gt;</th><th scope=col>&lt;chr&gt;</th></tr>\n",
       "</thead>\n",
       "<tbody>\n",
       "\t<tr><td>p1</td><td> 9.99</td><td>productTable </td></tr>\n",
       "\t<tr><td>p2</td><td>16.29</td><td>productTable </td></tr>\n",
       "\t<tr><td>p3</td><td>19.99</td><td>productTable </td></tr>\n",
       "\t<tr><td>p4</td><td> 5.49</td><td>productTable </td></tr>\n",
       "\t<tr><td>p5</td><td>24.49</td><td>productTable </td></tr>\n",
       "\t<tr><td>n1</td><td>25.49</td><td>productTable2</td></tr>\n",
       "\t<tr><td>n2</td><td>33.99</td><td>productTable2</td></tr>\n",
       "\t<tr><td>n3</td><td>17.99</td><td>productTable2</td></tr>\n",
       "</tbody>\n",
       "</table>\n"
      ],
      "text/latex": [
       "A data.frame: 8 × 3\n",
       "\\begin{tabular}{lll}\n",
       " productID & price & table\\\\\n",
       " <fct> & <dbl> & <chr>\\\\\n",
       "\\hline\n",
       "\t p1 &  9.99 & productTable \\\\\n",
       "\t p2 & 16.29 & productTable \\\\\n",
       "\t p3 & 19.99 & productTable \\\\\n",
       "\t p4 &  5.49 & productTable \\\\\n",
       "\t p5 & 24.49 & productTable \\\\\n",
       "\t n1 & 25.49 & productTable2\\\\\n",
       "\t n2 & 33.99 & productTable2\\\\\n",
       "\t n3 & 17.99 & productTable2\\\\\n",
       "\\end{tabular}\n"
      ],
      "text/markdown": [
       "\n",
       "A data.frame: 8 × 3\n",
       "\n",
       "| productID &lt;fct&gt; | price &lt;dbl&gt; | table &lt;chr&gt; |\n",
       "|---|---|---|\n",
       "| p1 |  9.99 | productTable  |\n",
       "| p2 | 16.29 | productTable  |\n",
       "| p3 | 19.99 | productTable  |\n",
       "| p4 |  5.49 | productTable  |\n",
       "| p5 | 24.49 | productTable  |\n",
       "| n1 | 25.49 | productTable2 |\n",
       "| n2 | 33.99 | productTable2 |\n",
       "| n3 | 17.99 | productTable2 |\n",
       "\n"
      ],
      "text/plain": [
       "  productID price table        \n",
       "1 p1         9.99 productTable \n",
       "2 p2        16.29 productTable \n",
       "3 p3        19.99 productTable \n",
       "4 p4         5.49 productTable \n",
       "5 p5        24.49 productTable \n",
       "6 n1        25.49 productTable2\n",
       "7 n2        33.99 productTable2\n",
       "8 n3        17.99 productTable2"
      ]
     },
     "metadata": {},
     "output_type": "display_data"
    }
   ],
   "source": [
    "#PROBLEM 2: SPLITTING TABLES\n",
    "\n",
    "# add an extra column telling us which table\n",
    "# each row comes from\n",
    "productTable_marked <- productTable\n",
    "productTable_marked$table <- \"productTable\"\n",
    "\n",
    "productTable2_marked <- productTable2\n",
    "productTable2_marked$table <- \"productTable2\"\n",
    "# combine the tables\n",
    "rbind_base <- rbind(productTable_marked,\n",
    "productTable2_marked)\n",
    "rbind_base"
   ]
  },
  {
   "cell_type": "code",
   "execution_count": 5,
   "id": "2fc2c14a",
   "metadata": {},
   "outputs": [
    {
     "data": {
      "text/html": [
       "<pre class=language-r><code>function (..., deparse.level = 1) \n",
       ".Internal(cbind(deparse.level, ...))</code></pre>"
      ],
      "text/latex": [
       "\\begin{minted}{r}\n",
       "function (..., deparse.level = 1) \n",
       ".Internal(cbind(deparse.level, ...))\n",
       "\\end{minted}"
      ],
      "text/markdown": [
       "```r\n",
       "function (..., deparse.level = 1) \n",
       ".Internal(cbind(deparse.level, ...))\n",
       "```"
      ],
      "text/plain": [
       "function (..., deparse.level = 1) \n",
       ".Internal(cbind(deparse.level, ...))\n",
       "<bytecode: 0x55a9590a8cb0>\n",
       "<environment: namespace:base>"
      ]
     },
     "metadata": {},
     "output_type": "display_data"
    },
    {
     "data": {
      "text/html": [
       "<table class=\"dataframe\">\n",
       "<caption>A data.frame: 5 × 5</caption>\n",
       "<thead>\n",
       "\t<tr><th scope=col>productID</th><th scope=col>price</th><th scope=col>productID</th><th scope=col>sold_store</th><th scope=col>sold_online</th></tr>\n",
       "\t<tr><th scope=col>&lt;fct&gt;</th><th scope=col>&lt;dbl&gt;</th><th scope=col>&lt;chr&gt;</th><th scope=col>&lt;dbl&gt;</th><th scope=col>&lt;dbl&gt;</th></tr>\n",
       "</thead>\n",
       "<tbody>\n",
       "\t<tr><td>p1</td><td> 9.99</td><td>p1</td><td> 6</td><td>64</td></tr>\n",
       "\t<tr><td>p2</td><td>16.29</td><td>p2</td><td>31</td><td> 1</td></tr>\n",
       "\t<tr><td>p3</td><td>19.99</td><td>p3</td><td>30</td><td>23</td></tr>\n",
       "\t<tr><td>p4</td><td> 5.49</td><td>p4</td><td>31</td><td>67</td></tr>\n",
       "\t<tr><td>p5</td><td>24.49</td><td>p5</td><td>43</td><td>51</td></tr>\n",
       "</tbody>\n",
       "</table>\n"
      ],
      "text/latex": [
       "A data.frame: 5 × 5\n",
       "\\begin{tabular}{lllll}\n",
       " productID & price & productID & sold\\_store & sold\\_online\\\\\n",
       " <fct> & <dbl> & <chr> & <dbl> & <dbl>\\\\\n",
       "\\hline\n",
       "\t p1 &  9.99 & p1 &  6 & 64\\\\\n",
       "\t p2 & 16.29 & p2 & 31 &  1\\\\\n",
       "\t p3 & 19.99 & p3 & 30 & 23\\\\\n",
       "\t p4 &  5.49 & p4 & 31 & 67\\\\\n",
       "\t p5 & 24.49 & p5 & 43 & 51\\\\\n",
       "\\end{tabular}\n"
      ],
      "text/markdown": [
       "\n",
       "A data.frame: 5 × 5\n",
       "\n",
       "| productID &lt;fct&gt; | price &lt;dbl&gt; | productID &lt;chr&gt; | sold_store &lt;dbl&gt; | sold_online &lt;dbl&gt; |\n",
       "|---|---|---|---|---|\n",
       "| p1 |  9.99 | p1 |  6 | 64 |\n",
       "| p2 | 16.29 | p2 | 31 |  1 |\n",
       "| p3 | 19.99 | p3 | 30 | 23 |\n",
       "| p4 |  5.49 | p4 | 31 | 67 |\n",
       "| p5 | 24.49 | p5 | 43 | 51 |\n",
       "\n"
      ],
      "text/plain": [
       "  productID price productID sold_store sold_online\n",
       "1 p1         9.99 p1         6         64         \n",
       "2 p2        16.29 p2        31          1         \n",
       "3 p3        19.99 p3        30         23         \n",
       "4 p4         5.49 p4        31         67         \n",
       "5 p5        24.49 p5        43         51         "
      ]
     },
     "metadata": {},
     "output_type": "display_data"
    }
   ],
   "source": [
    "#PROBLEM 3: APPENDING COLUMNS\n",
    "\n",
    "cbind\n",
    "cbind(productTable, salesTable[, -1])\n",
    "\n",
    "#What does [, -1] does? extra credit"
   ]
  },
  {
   "cell_type": "markdown",
   "id": "67f2039d",
   "metadata": {},
   "source": [
    "## Reshaping data"
   ]
  },
  {
   "cell_type": "markdown",
   "id": "857a3f3b",
   "metadata": {},
   "source": [
    "See additional details at: https://rafalab.github.io/dsbook/r-basics.html"
   ]
  },
  {
   "cell_type": "markdown",
   "id": "77047848",
   "metadata": {},
   "source": [
    "### Pivot longer"
   ]
  },
  {
   "cell_type": "markdown",
   "id": "a5885732",
   "metadata": {},
   "source": [
    "One of the most used functions in the tidyr package is pivot_longer, which is useful for converting wide data into tidy data.\n",
    "\n",
    "As with most tidyverse functions, the pivot_longer function’s first argument is the data frame that will be converted. Here we want to reshape the wide_data dataset so that each row represents a fertility observation, which implies we need three columns to store the year, country, and the observed value. In its current form, data from different years are in different columns with the year values stored in the column names. Through the names_to and values_to argument we will tell pivot_longer the column names we want to assign to the columns containing the current column names and observations, respectively. The default names are name and value, which are often usable choices. In this case a better choice for these two arguments would be year and fertility. Note that nowhere in the data file does it tell us this is fertility data. Instead, we deciphered this from the file name. Through cols, the second argument we specify the columns containing observed values; these are the columns that will be pivoted. The default is to pivot all columns so, in most cases, we have to specify the columns. In our example we want columns 1960, 1961 up to 2015.\n",
    "\n",
    "The code to pivot the fertility data therefore looks like this:"
   ]
  },
  {
   "cell_type": "code",
   "execution_count": 25,
   "id": "7708e672",
   "metadata": {},
   "outputs": [
    {
     "name": "stderr",
     "output_type": "stream",
     "text": [
      "── \u001b[1mAttaching packages\u001b[22m ─────────────────────────────────────── tidyverse 1.3.2 ──\n",
      "\u001b[32m✔\u001b[39m \u001b[34mtibble \u001b[39m 3.1.8     \u001b[32m✔\u001b[39m \u001b[34mdplyr  \u001b[39m 1.0.9\n",
      "\u001b[32m✔\u001b[39m \u001b[34mtidyr  \u001b[39m 1.2.0     \u001b[32m✔\u001b[39m \u001b[34mstringr\u001b[39m 1.4.1\n",
      "\u001b[32m✔\u001b[39m \u001b[34mreadr  \u001b[39m 2.1.2     \u001b[32m✔\u001b[39m \u001b[34mforcats\u001b[39m 0.5.2\n",
      "\u001b[32m✔\u001b[39m \u001b[34mpurrr  \u001b[39m 0.3.4     \n",
      "── \u001b[1mConflicts\u001b[22m ────────────────────────────────────────── tidyverse_conflicts() ──\n",
      "\u001b[31m✖\u001b[39m \u001b[34mlubridate\u001b[39m::\u001b[32mas.difftime()\u001b[39m masks \u001b[34mbase\u001b[39m::as.difftime()\n",
      "\u001b[31m✖\u001b[39m \u001b[34mdplyr\u001b[39m::\u001b[32mbetween()\u001b[39m         masks \u001b[34mdata.table\u001b[39m::between()\n",
      "\u001b[31m✖\u001b[39m \u001b[34mlubridate\u001b[39m::\u001b[32mdate()\u001b[39m        masks \u001b[34mbase\u001b[39m::date()\n",
      "\u001b[31m✖\u001b[39m \u001b[34mdplyr\u001b[39m::\u001b[32mfilter()\u001b[39m          masks \u001b[34mstats\u001b[39m::filter()\n",
      "\u001b[31m✖\u001b[39m \u001b[34mdplyr\u001b[39m::\u001b[32mfirst()\u001b[39m           masks \u001b[34mdata.table\u001b[39m::first()\n",
      "\u001b[31m✖\u001b[39m \u001b[34mlubridate\u001b[39m::\u001b[32mhour()\u001b[39m        masks \u001b[34mdata.table\u001b[39m::hour()\n",
      "\u001b[31m✖\u001b[39m \u001b[34mlubridate\u001b[39m::\u001b[32mintersect()\u001b[39m   masks \u001b[34mbase\u001b[39m::intersect()\n",
      "\u001b[31m✖\u001b[39m \u001b[34mlubridate\u001b[39m::\u001b[32misoweek()\u001b[39m     masks \u001b[34mdata.table\u001b[39m::isoweek()\n",
      "\u001b[31m✖\u001b[39m \u001b[34mdplyr\u001b[39m::\u001b[32mlag()\u001b[39m             masks \u001b[34mstats\u001b[39m::lag()\n",
      "\u001b[31m✖\u001b[39m \u001b[34mdplyr\u001b[39m::\u001b[32mlast()\u001b[39m            masks \u001b[34mdata.table\u001b[39m::last()\n",
      "\u001b[31m✖\u001b[39m \u001b[34mlubridate\u001b[39m::\u001b[32mmday()\u001b[39m        masks \u001b[34mdata.table\u001b[39m::mday()\n",
      "\u001b[31m✖\u001b[39m \u001b[34mlubridate\u001b[39m::\u001b[32mminute()\u001b[39m      masks \u001b[34mdata.table\u001b[39m::minute()\n",
      "\u001b[31m✖\u001b[39m \u001b[34mlubridate\u001b[39m::\u001b[32mmonth()\u001b[39m       masks \u001b[34mdata.table\u001b[39m::month()\n",
      "\u001b[31m✖\u001b[39m \u001b[34mlubridate\u001b[39m::\u001b[32mquarter()\u001b[39m     masks \u001b[34mdata.table\u001b[39m::quarter()\n",
      "\u001b[31m✖\u001b[39m \u001b[34mlubridate\u001b[39m::\u001b[32msecond()\u001b[39m      masks \u001b[34mdata.table\u001b[39m::second()\n",
      "\u001b[31m✖\u001b[39m \u001b[34mlubridate\u001b[39m::\u001b[32msetdiff()\u001b[39m     masks \u001b[34mbase\u001b[39m::setdiff()\n",
      "\u001b[31m✖\u001b[39m \u001b[34mpurrr\u001b[39m::\u001b[32mtranspose()\u001b[39m       masks \u001b[34mdata.table\u001b[39m::transpose()\n",
      "\u001b[31m✖\u001b[39m \u001b[34mlubridate\u001b[39m::\u001b[32munion()\u001b[39m       masks \u001b[34mbase\u001b[39m::union()\n",
      "\u001b[31m✖\u001b[39m \u001b[34mlubridate\u001b[39m::\u001b[32mwday()\u001b[39m        masks \u001b[34mdata.table\u001b[39m::wday()\n",
      "\u001b[31m✖\u001b[39m \u001b[34mlubridate\u001b[39m::\u001b[32mweek()\u001b[39m        masks \u001b[34mdata.table\u001b[39m::week()\n",
      "\u001b[31m✖\u001b[39m \u001b[34mlubridate\u001b[39m::\u001b[32myday()\u001b[39m        masks \u001b[34mdata.table\u001b[39m::yday()\n",
      "\u001b[31m✖\u001b[39m \u001b[34mlubridate\u001b[39m::\u001b[32myear()\u001b[39m        masks \u001b[34mdata.table\u001b[39m::year()\n",
      "\u001b[1mRows: \u001b[22m\u001b[34m2\u001b[39m \u001b[1mColumns: \u001b[22m\u001b[34m57\u001b[39m\n",
      "\u001b[36m──\u001b[39m \u001b[1mColumn specification\u001b[22m \u001b[36m────────────────────────────────────────────────────────\u001b[39m\n",
      "\u001b[1mDelimiter:\u001b[22m \",\"\n",
      "\u001b[31mchr\u001b[39m  (1): country\n",
      "\u001b[32mdbl\u001b[39m (56): 1960, 1961, 1962, 1963, 1964, 1965, 1966, 1967, 1968, 1969, 1970, ...\n",
      "\n",
      "\u001b[36mℹ\u001b[39m Use `spec()` to retrieve the full column specification for this data.\n",
      "\u001b[36mℹ\u001b[39m Specify the column types or set `show_col_types = FALSE` to quiet this message.\n"
     ]
    },
    {
     "data": {
      "text/html": [
       "<table class=\"dataframe\">\n",
       "<caption>A tibble: 2 × 57</caption>\n",
       "<thead>\n",
       "\t<tr><th scope=col>country</th><th scope=col>1960</th><th scope=col>1961</th><th scope=col>1962</th><th scope=col>1963</th><th scope=col>1964</th><th scope=col>1965</th><th scope=col>1966</th><th scope=col>1967</th><th scope=col>1968</th><th scope=col>⋯</th><th scope=col>2006</th><th scope=col>2007</th><th scope=col>2008</th><th scope=col>2009</th><th scope=col>2010</th><th scope=col>2011</th><th scope=col>2012</th><th scope=col>2013</th><th scope=col>2014</th><th scope=col>2015</th></tr>\n",
       "\t<tr><th scope=col>&lt;chr&gt;</th><th scope=col>&lt;dbl&gt;</th><th scope=col>&lt;dbl&gt;</th><th scope=col>&lt;dbl&gt;</th><th scope=col>&lt;dbl&gt;</th><th scope=col>&lt;dbl&gt;</th><th scope=col>&lt;dbl&gt;</th><th scope=col>&lt;dbl&gt;</th><th scope=col>&lt;dbl&gt;</th><th scope=col>&lt;dbl&gt;</th><th scope=col>⋯</th><th scope=col>&lt;dbl&gt;</th><th scope=col>&lt;dbl&gt;</th><th scope=col>&lt;dbl&gt;</th><th scope=col>&lt;dbl&gt;</th><th scope=col>&lt;dbl&gt;</th><th scope=col>&lt;dbl&gt;</th><th scope=col>&lt;dbl&gt;</th><th scope=col>&lt;dbl&gt;</th><th scope=col>&lt;dbl&gt;</th><th scope=col>&lt;dbl&gt;</th></tr>\n",
       "</thead>\n",
       "<tbody>\n",
       "\t<tr><td>Germany    </td><td>2.41</td><td>2.44</td><td>2.47</td><td>2.49</td><td>2.49</td><td>2.48</td><td>2.44</td><td>2.37</td><td>2.28</td><td>⋯</td><td>1.36</td><td>1.36</td><td>1.37</td><td>1.38</td><td>1.39</td><td>1.40</td><td>1.41</td><td>1.42</td><td>1.43</td><td>1.44</td></tr>\n",
       "\t<tr><td>South Korea</td><td>6.16</td><td>5.99</td><td>5.79</td><td>5.57</td><td>5.36</td><td>5.16</td><td>4.99</td><td>4.85</td><td>4.73</td><td>⋯</td><td>1.20</td><td>1.21</td><td>1.23</td><td>1.25</td><td>1.27</td><td>1.29</td><td>1.30</td><td>1.32</td><td>1.34</td><td>1.36</td></tr>\n",
       "</tbody>\n",
       "</table>\n"
      ],
      "text/latex": [
       "A tibble: 2 × 57\n",
       "\\begin{tabular}{lllllllllllllllllllll}\n",
       " country & 1960 & 1961 & 1962 & 1963 & 1964 & 1965 & 1966 & 1967 & 1968 & ⋯ & 2006 & 2007 & 2008 & 2009 & 2010 & 2011 & 2012 & 2013 & 2014 & 2015\\\\\n",
       " <chr> & <dbl> & <dbl> & <dbl> & <dbl> & <dbl> & <dbl> & <dbl> & <dbl> & <dbl> & ⋯ & <dbl> & <dbl> & <dbl> & <dbl> & <dbl> & <dbl> & <dbl> & <dbl> & <dbl> & <dbl>\\\\\n",
       "\\hline\n",
       "\t Germany     & 2.41 & 2.44 & 2.47 & 2.49 & 2.49 & 2.48 & 2.44 & 2.37 & 2.28 & ⋯ & 1.36 & 1.36 & 1.37 & 1.38 & 1.39 & 1.40 & 1.41 & 1.42 & 1.43 & 1.44\\\\\n",
       "\t South Korea & 6.16 & 5.99 & 5.79 & 5.57 & 5.36 & 5.16 & 4.99 & 4.85 & 4.73 & ⋯ & 1.20 & 1.21 & 1.23 & 1.25 & 1.27 & 1.29 & 1.30 & 1.32 & 1.34 & 1.36\\\\\n",
       "\\end{tabular}\n"
      ],
      "text/markdown": [
       "\n",
       "A tibble: 2 × 57\n",
       "\n",
       "| country &lt;chr&gt; | 1960 &lt;dbl&gt; | 1961 &lt;dbl&gt; | 1962 &lt;dbl&gt; | 1963 &lt;dbl&gt; | 1964 &lt;dbl&gt; | 1965 &lt;dbl&gt; | 1966 &lt;dbl&gt; | 1967 &lt;dbl&gt; | 1968 &lt;dbl&gt; | ⋯ ⋯ | 2006 &lt;dbl&gt; | 2007 &lt;dbl&gt; | 2008 &lt;dbl&gt; | 2009 &lt;dbl&gt; | 2010 &lt;dbl&gt; | 2011 &lt;dbl&gt; | 2012 &lt;dbl&gt; | 2013 &lt;dbl&gt; | 2014 &lt;dbl&gt; | 2015 &lt;dbl&gt; |\n",
       "|---|---|---|---|---|---|---|---|---|---|---|---|---|---|---|---|---|---|---|---|---|\n",
       "| Germany     | 2.41 | 2.44 | 2.47 | 2.49 | 2.49 | 2.48 | 2.44 | 2.37 | 2.28 | ⋯ | 1.36 | 1.36 | 1.37 | 1.38 | 1.39 | 1.40 | 1.41 | 1.42 | 1.43 | 1.44 |\n",
       "| South Korea | 6.16 | 5.99 | 5.79 | 5.57 | 5.36 | 5.16 | 4.99 | 4.85 | 4.73 | ⋯ | 1.20 | 1.21 | 1.23 | 1.25 | 1.27 | 1.29 | 1.30 | 1.32 | 1.34 | 1.36 |\n",
       "\n"
      ],
      "text/plain": [
       "  country     1960 1961 1962 1963 1964 1965 1966 1967 1968 ⋯ 2006 2007 2008\n",
       "1 Germany     2.41 2.44 2.47 2.49 2.49 2.48 2.44 2.37 2.28 ⋯ 1.36 1.36 1.37\n",
       "2 South Korea 6.16 5.99 5.79 5.57 5.36 5.16 4.99 4.85 4.73 ⋯ 1.20 1.21 1.23\n",
       "  2009 2010 2011 2012 2013 2014 2015\n",
       "1 1.38 1.39 1.40 1.41 1.42 1.43 1.44\n",
       "2 1.25 1.27 1.29 1.30 1.32 1.34 1.36"
      ]
     },
     "metadata": {},
     "output_type": "display_data"
    }
   ],
   "source": [
    "#We will use the fertility wide format dataset\n",
    "#install.packages(\"dslabs\")\n",
    "library(tidyverse) \n",
    "library(dslabs)\n",
    "path <- system.file(\"extdata\", package=\"dslabs\")\n",
    "filename <- file.path(path, \"fertility-two-countries-example.csv\")\n",
    "wide_data <- read_csv(filename)\n",
    "\n",
    "head(wide_data)"
   ]
  },
  {
   "cell_type": "code",
   "execution_count": 26,
   "id": "df2cc912",
   "metadata": {},
   "outputs": [],
   "source": [
    "new_tidy_data <- pivot_longer(wide_data, `1960`:`2015`, names_to = \"year\", values_to = \"fertility\")\n",
    "\n",
    "#names_to: A character vector specifying the new column or columns to create from the information \n",
    "#stored in the column names of data specified by cols.\n",
    "\n",
    "#values_to: A string specifying the name of the column to create from the data stored in cell values. "
   ]
  },
  {
   "cell_type": "code",
   "execution_count": 31,
   "id": "404a62be",
   "metadata": {},
   "outputs": [
    {
     "data": {
      "text/html": [
       "<table class=\"dataframe\">\n",
       "<caption>A tibble: 112 × 3</caption>\n",
       "<thead>\n",
       "\t<tr><th scope=col>country</th><th scope=col>year</th><th scope=col>fertility</th></tr>\n",
       "\t<tr><th scope=col>&lt;chr&gt;</th><th scope=col>&lt;chr&gt;</th><th scope=col>&lt;dbl&gt;</th></tr>\n",
       "</thead>\n",
       "<tbody>\n",
       "\t<tr><td>Germany</td><td>1960</td><td>2.41</td></tr>\n",
       "\t<tr><td>Germany</td><td>1961</td><td>2.44</td></tr>\n",
       "\t<tr><td>Germany</td><td>1962</td><td>2.47</td></tr>\n",
       "\t<tr><td>Germany</td><td>1963</td><td>2.49</td></tr>\n",
       "\t<tr><td>Germany</td><td>1964</td><td>2.49</td></tr>\n",
       "\t<tr><td>Germany</td><td>1965</td><td>2.48</td></tr>\n",
       "\t<tr><td>Germany</td><td>1966</td><td>2.44</td></tr>\n",
       "\t<tr><td>Germany</td><td>1967</td><td>2.37</td></tr>\n",
       "\t<tr><td>Germany</td><td>1968</td><td>2.28</td></tr>\n",
       "\t<tr><td>Germany</td><td>1969</td><td>2.17</td></tr>\n",
       "\t<tr><td>Germany</td><td>1970</td><td>2.04</td></tr>\n",
       "\t<tr><td>Germany</td><td>1971</td><td>1.92</td></tr>\n",
       "\t<tr><td>Germany</td><td>1972</td><td>1.80</td></tr>\n",
       "\t<tr><td>Germany</td><td>1973</td><td>1.70</td></tr>\n",
       "\t<tr><td>Germany</td><td>1974</td><td>1.62</td></tr>\n",
       "\t<tr><td>Germany</td><td>1975</td><td>1.56</td></tr>\n",
       "\t<tr><td>Germany</td><td>1976</td><td>1.53</td></tr>\n",
       "\t<tr><td>Germany</td><td>1977</td><td>1.50</td></tr>\n",
       "\t<tr><td>Germany</td><td>1978</td><td>1.49</td></tr>\n",
       "\t<tr><td>Germany</td><td>1979</td><td>1.48</td></tr>\n",
       "\t<tr><td>Germany</td><td>1980</td><td>1.47</td></tr>\n",
       "\t<tr><td>Germany</td><td>1981</td><td>1.47</td></tr>\n",
       "\t<tr><td>Germany</td><td>1982</td><td>1.46</td></tr>\n",
       "\t<tr><td>Germany</td><td>1983</td><td>1.46</td></tr>\n",
       "\t<tr><td>Germany</td><td>1984</td><td>1.46</td></tr>\n",
       "\t<tr><td>Germany</td><td>1985</td><td>1.45</td></tr>\n",
       "\t<tr><td>Germany</td><td>1986</td><td>1.44</td></tr>\n",
       "\t<tr><td>Germany</td><td>1987</td><td>1.43</td></tr>\n",
       "\t<tr><td>Germany</td><td>1988</td><td>1.41</td></tr>\n",
       "\t<tr><td>Germany</td><td>1989</td><td>1.38</td></tr>\n",
       "\t<tr><td>⋮</td><td>⋮</td><td>⋮</td></tr>\n",
       "\t<tr><td>South Korea</td><td>1986</td><td>1.75</td></tr>\n",
       "\t<tr><td>South Korea</td><td>1987</td><td>1.67</td></tr>\n",
       "\t<tr><td>South Korea</td><td>1988</td><td>1.63</td></tr>\n",
       "\t<tr><td>South Korea</td><td>1989</td><td>1.61</td></tr>\n",
       "\t<tr><td>South Korea</td><td>1990</td><td>1.61</td></tr>\n",
       "\t<tr><td>South Korea</td><td>1991</td><td>1.63</td></tr>\n",
       "\t<tr><td>South Korea</td><td>1992</td><td>1.65</td></tr>\n",
       "\t<tr><td>South Korea</td><td>1993</td><td>1.66</td></tr>\n",
       "\t<tr><td>South Korea</td><td>1994</td><td>1.65</td></tr>\n",
       "\t<tr><td>South Korea</td><td>1995</td><td>1.63</td></tr>\n",
       "\t<tr><td>South Korea</td><td>1996</td><td>1.59</td></tr>\n",
       "\t<tr><td>South Korea</td><td>1997</td><td>1.54</td></tr>\n",
       "\t<tr><td>South Korea</td><td>1998</td><td>1.48</td></tr>\n",
       "\t<tr><td>South Korea</td><td>1999</td><td>1.41</td></tr>\n",
       "\t<tr><td>South Korea</td><td>2000</td><td>1.35</td></tr>\n",
       "\t<tr><td>South Korea</td><td>2001</td><td>1.30</td></tr>\n",
       "\t<tr><td>South Korea</td><td>2002</td><td>1.25</td></tr>\n",
       "\t<tr><td>South Korea</td><td>2003</td><td>1.22</td></tr>\n",
       "\t<tr><td>South Korea</td><td>2004</td><td>1.20</td></tr>\n",
       "\t<tr><td>South Korea</td><td>2005</td><td>1.20</td></tr>\n",
       "\t<tr><td>South Korea</td><td>2006</td><td>1.20</td></tr>\n",
       "\t<tr><td>South Korea</td><td>2007</td><td>1.21</td></tr>\n",
       "\t<tr><td>South Korea</td><td>2008</td><td>1.23</td></tr>\n",
       "\t<tr><td>South Korea</td><td>2009</td><td>1.25</td></tr>\n",
       "\t<tr><td>South Korea</td><td>2010</td><td>1.27</td></tr>\n",
       "\t<tr><td>South Korea</td><td>2011</td><td>1.29</td></tr>\n",
       "\t<tr><td>South Korea</td><td>2012</td><td>1.30</td></tr>\n",
       "\t<tr><td>South Korea</td><td>2013</td><td>1.32</td></tr>\n",
       "\t<tr><td>South Korea</td><td>2014</td><td>1.34</td></tr>\n",
       "\t<tr><td>South Korea</td><td>2015</td><td>1.36</td></tr>\n",
       "</tbody>\n",
       "</table>\n"
      ],
      "text/latex": [
       "A tibble: 112 × 3\n",
       "\\begin{tabular}{lll}\n",
       " country & year & fertility\\\\\n",
       " <chr> & <chr> & <dbl>\\\\\n",
       "\\hline\n",
       "\t Germany & 1960 & 2.41\\\\\n",
       "\t Germany & 1961 & 2.44\\\\\n",
       "\t Germany & 1962 & 2.47\\\\\n",
       "\t Germany & 1963 & 2.49\\\\\n",
       "\t Germany & 1964 & 2.49\\\\\n",
       "\t Germany & 1965 & 2.48\\\\\n",
       "\t Germany & 1966 & 2.44\\\\\n",
       "\t Germany & 1967 & 2.37\\\\\n",
       "\t Germany & 1968 & 2.28\\\\\n",
       "\t Germany & 1969 & 2.17\\\\\n",
       "\t Germany & 1970 & 2.04\\\\\n",
       "\t Germany & 1971 & 1.92\\\\\n",
       "\t Germany & 1972 & 1.80\\\\\n",
       "\t Germany & 1973 & 1.70\\\\\n",
       "\t Germany & 1974 & 1.62\\\\\n",
       "\t Germany & 1975 & 1.56\\\\\n",
       "\t Germany & 1976 & 1.53\\\\\n",
       "\t Germany & 1977 & 1.50\\\\\n",
       "\t Germany & 1978 & 1.49\\\\\n",
       "\t Germany & 1979 & 1.48\\\\\n",
       "\t Germany & 1980 & 1.47\\\\\n",
       "\t Germany & 1981 & 1.47\\\\\n",
       "\t Germany & 1982 & 1.46\\\\\n",
       "\t Germany & 1983 & 1.46\\\\\n",
       "\t Germany & 1984 & 1.46\\\\\n",
       "\t Germany & 1985 & 1.45\\\\\n",
       "\t Germany & 1986 & 1.44\\\\\n",
       "\t Germany & 1987 & 1.43\\\\\n",
       "\t Germany & 1988 & 1.41\\\\\n",
       "\t Germany & 1989 & 1.38\\\\\n",
       "\t ⋮ & ⋮ & ⋮\\\\\n",
       "\t South Korea & 1986 & 1.75\\\\\n",
       "\t South Korea & 1987 & 1.67\\\\\n",
       "\t South Korea & 1988 & 1.63\\\\\n",
       "\t South Korea & 1989 & 1.61\\\\\n",
       "\t South Korea & 1990 & 1.61\\\\\n",
       "\t South Korea & 1991 & 1.63\\\\\n",
       "\t South Korea & 1992 & 1.65\\\\\n",
       "\t South Korea & 1993 & 1.66\\\\\n",
       "\t South Korea & 1994 & 1.65\\\\\n",
       "\t South Korea & 1995 & 1.63\\\\\n",
       "\t South Korea & 1996 & 1.59\\\\\n",
       "\t South Korea & 1997 & 1.54\\\\\n",
       "\t South Korea & 1998 & 1.48\\\\\n",
       "\t South Korea & 1999 & 1.41\\\\\n",
       "\t South Korea & 2000 & 1.35\\\\\n",
       "\t South Korea & 2001 & 1.30\\\\\n",
       "\t South Korea & 2002 & 1.25\\\\\n",
       "\t South Korea & 2003 & 1.22\\\\\n",
       "\t South Korea & 2004 & 1.20\\\\\n",
       "\t South Korea & 2005 & 1.20\\\\\n",
       "\t South Korea & 2006 & 1.20\\\\\n",
       "\t South Korea & 2007 & 1.21\\\\\n",
       "\t South Korea & 2008 & 1.23\\\\\n",
       "\t South Korea & 2009 & 1.25\\\\\n",
       "\t South Korea & 2010 & 1.27\\\\\n",
       "\t South Korea & 2011 & 1.29\\\\\n",
       "\t South Korea & 2012 & 1.30\\\\\n",
       "\t South Korea & 2013 & 1.32\\\\\n",
       "\t South Korea & 2014 & 1.34\\\\\n",
       "\t South Korea & 2015 & 1.36\\\\\n",
       "\\end{tabular}\n"
      ],
      "text/markdown": [
       "\n",
       "A tibble: 112 × 3\n",
       "\n",
       "| country &lt;chr&gt; | year &lt;chr&gt; | fertility &lt;dbl&gt; |\n",
       "|---|---|---|\n",
       "| Germany | 1960 | 2.41 |\n",
       "| Germany | 1961 | 2.44 |\n",
       "| Germany | 1962 | 2.47 |\n",
       "| Germany | 1963 | 2.49 |\n",
       "| Germany | 1964 | 2.49 |\n",
       "| Germany | 1965 | 2.48 |\n",
       "| Germany | 1966 | 2.44 |\n",
       "| Germany | 1967 | 2.37 |\n",
       "| Germany | 1968 | 2.28 |\n",
       "| Germany | 1969 | 2.17 |\n",
       "| Germany | 1970 | 2.04 |\n",
       "| Germany | 1971 | 1.92 |\n",
       "| Germany | 1972 | 1.80 |\n",
       "| Germany | 1973 | 1.70 |\n",
       "| Germany | 1974 | 1.62 |\n",
       "| Germany | 1975 | 1.56 |\n",
       "| Germany | 1976 | 1.53 |\n",
       "| Germany | 1977 | 1.50 |\n",
       "| Germany | 1978 | 1.49 |\n",
       "| Germany | 1979 | 1.48 |\n",
       "| Germany | 1980 | 1.47 |\n",
       "| Germany | 1981 | 1.47 |\n",
       "| Germany | 1982 | 1.46 |\n",
       "| Germany | 1983 | 1.46 |\n",
       "| Germany | 1984 | 1.46 |\n",
       "| Germany | 1985 | 1.45 |\n",
       "| Germany | 1986 | 1.44 |\n",
       "| Germany | 1987 | 1.43 |\n",
       "| Germany | 1988 | 1.41 |\n",
       "| Germany | 1989 | 1.38 |\n",
       "| ⋮ | ⋮ | ⋮ |\n",
       "| South Korea | 1986 | 1.75 |\n",
       "| South Korea | 1987 | 1.67 |\n",
       "| South Korea | 1988 | 1.63 |\n",
       "| South Korea | 1989 | 1.61 |\n",
       "| South Korea | 1990 | 1.61 |\n",
       "| South Korea | 1991 | 1.63 |\n",
       "| South Korea | 1992 | 1.65 |\n",
       "| South Korea | 1993 | 1.66 |\n",
       "| South Korea | 1994 | 1.65 |\n",
       "| South Korea | 1995 | 1.63 |\n",
       "| South Korea | 1996 | 1.59 |\n",
       "| South Korea | 1997 | 1.54 |\n",
       "| South Korea | 1998 | 1.48 |\n",
       "| South Korea | 1999 | 1.41 |\n",
       "| South Korea | 2000 | 1.35 |\n",
       "| South Korea | 2001 | 1.30 |\n",
       "| South Korea | 2002 | 1.25 |\n",
       "| South Korea | 2003 | 1.22 |\n",
       "| South Korea | 2004 | 1.20 |\n",
       "| South Korea | 2005 | 1.20 |\n",
       "| South Korea | 2006 | 1.20 |\n",
       "| South Korea | 2007 | 1.21 |\n",
       "| South Korea | 2008 | 1.23 |\n",
       "| South Korea | 2009 | 1.25 |\n",
       "| South Korea | 2010 | 1.27 |\n",
       "| South Korea | 2011 | 1.29 |\n",
       "| South Korea | 2012 | 1.30 |\n",
       "| South Korea | 2013 | 1.32 |\n",
       "| South Korea | 2014 | 1.34 |\n",
       "| South Korea | 2015 | 1.36 |\n",
       "\n"
      ],
      "text/plain": [
       "    country     year fertility\n",
       "1   Germany     1960 2.41     \n",
       "2   Germany     1961 2.44     \n",
       "3   Germany     1962 2.47     \n",
       "4   Germany     1963 2.49     \n",
       "5   Germany     1964 2.49     \n",
       "6   Germany     1965 2.48     \n",
       "7   Germany     1966 2.44     \n",
       "8   Germany     1967 2.37     \n",
       "9   Germany     1968 2.28     \n",
       "10  Germany     1969 2.17     \n",
       "11  Germany     1970 2.04     \n",
       "12  Germany     1971 1.92     \n",
       "13  Germany     1972 1.80     \n",
       "14  Germany     1973 1.70     \n",
       "15  Germany     1974 1.62     \n",
       "16  Germany     1975 1.56     \n",
       "17  Germany     1976 1.53     \n",
       "18  Germany     1977 1.50     \n",
       "19  Germany     1978 1.49     \n",
       "20  Germany     1979 1.48     \n",
       "21  Germany     1980 1.47     \n",
       "22  Germany     1981 1.47     \n",
       "23  Germany     1982 1.46     \n",
       "24  Germany     1983 1.46     \n",
       "25  Germany     1984 1.46     \n",
       "26  Germany     1985 1.45     \n",
       "27  Germany     1986 1.44     \n",
       "28  Germany     1987 1.43     \n",
       "29  Germany     1988 1.41     \n",
       "30  Germany     1989 1.38     \n",
       "⋮   ⋮           ⋮    ⋮        \n",
       "83  South Korea 1986 1.75     \n",
       "84  South Korea 1987 1.67     \n",
       "85  South Korea 1988 1.63     \n",
       "86  South Korea 1989 1.61     \n",
       "87  South Korea 1990 1.61     \n",
       "88  South Korea 1991 1.63     \n",
       "89  South Korea 1992 1.65     \n",
       "90  South Korea 1993 1.66     \n",
       "91  South Korea 1994 1.65     \n",
       "92  South Korea 1995 1.63     \n",
       "93  South Korea 1996 1.59     \n",
       "94  South Korea 1997 1.54     \n",
       "95  South Korea 1998 1.48     \n",
       "96  South Korea 1999 1.41     \n",
       "97  South Korea 2000 1.35     \n",
       "98  South Korea 2001 1.30     \n",
       "99  South Korea 2002 1.25     \n",
       "100 South Korea 2003 1.22     \n",
       "101 South Korea 2004 1.20     \n",
       "102 South Korea 2005 1.20     \n",
       "103 South Korea 2006 1.20     \n",
       "104 South Korea 2007 1.21     \n",
       "105 South Korea 2008 1.23     \n",
       "106 South Korea 2009 1.25     \n",
       "107 South Korea 2010 1.27     \n",
       "108 South Korea 2011 1.29     \n",
       "109 South Korea 2012 1.30     \n",
       "110 South Korea 2013 1.32     \n",
       "111 South Korea 2014 1.34     \n",
       "112 South Korea 2015 1.36     "
      ]
     },
     "metadata": {},
     "output_type": "display_data"
    }
   ],
   "source": [
    "#We can see that the data have been converted to tidy format with columns year and fertility:\n",
    "\n",
    "new_tidy_data"
   ]
  },
  {
   "cell_type": "markdown",
   "id": "5d70f745",
   "metadata": {},
   "source": [
    "### Pivot wider"
   ]
  },
  {
   "cell_type": "markdown",
   "id": "fd26404b",
   "metadata": {},
   "source": [
    "The pivot_wider function is basically the inverse of pivot_longer"
   ]
  },
  {
   "cell_type": "code",
   "execution_count": 34,
   "id": "2a25139b",
   "metadata": {},
   "outputs": [
    {
     "data": {
      "text/html": [
       "<table class=\"dataframe\">\n",
       "<caption>A tibble: 2 × 9</caption>\n",
       "<thead>\n",
       "\t<tr><th scope=col>country</th><th scope=col>1960</th><th scope=col>1961</th><th scope=col>1962</th><th scope=col>1963</th><th scope=col>1964</th><th scope=col>1965</th><th scope=col>1966</th><th scope=col>1967</th></tr>\n",
       "\t<tr><th scope=col>&lt;chr&gt;</th><th scope=col>&lt;dbl&gt;</th><th scope=col>&lt;dbl&gt;</th><th scope=col>&lt;dbl&gt;</th><th scope=col>&lt;dbl&gt;</th><th scope=col>&lt;dbl&gt;</th><th scope=col>&lt;dbl&gt;</th><th scope=col>&lt;dbl&gt;</th><th scope=col>&lt;dbl&gt;</th></tr>\n",
       "</thead>\n",
       "<tbody>\n",
       "\t<tr><td>Germany    </td><td>2.41</td><td>2.44</td><td>2.47</td><td>2.49</td><td>2.49</td><td>2.48</td><td>2.44</td><td>2.37</td></tr>\n",
       "\t<tr><td>South Korea</td><td>6.16</td><td>5.99</td><td>5.79</td><td>5.57</td><td>5.36</td><td>5.16</td><td>4.99</td><td>4.85</td></tr>\n",
       "</tbody>\n",
       "</table>\n"
      ],
      "text/latex": [
       "A tibble: 2 × 9\n",
       "\\begin{tabular}{lllllllll}\n",
       " country & 1960 & 1961 & 1962 & 1963 & 1964 & 1965 & 1966 & 1967\\\\\n",
       " <chr> & <dbl> & <dbl> & <dbl> & <dbl> & <dbl> & <dbl> & <dbl> & <dbl>\\\\\n",
       "\\hline\n",
       "\t Germany     & 2.41 & 2.44 & 2.47 & 2.49 & 2.49 & 2.48 & 2.44 & 2.37\\\\\n",
       "\t South Korea & 6.16 & 5.99 & 5.79 & 5.57 & 5.36 & 5.16 & 4.99 & 4.85\\\\\n",
       "\\end{tabular}\n"
      ],
      "text/markdown": [
       "\n",
       "A tibble: 2 × 9\n",
       "\n",
       "| country &lt;chr&gt; | 1960 &lt;dbl&gt; | 1961 &lt;dbl&gt; | 1962 &lt;dbl&gt; | 1963 &lt;dbl&gt; | 1964 &lt;dbl&gt; | 1965 &lt;dbl&gt; | 1966 &lt;dbl&gt; | 1967 &lt;dbl&gt; |\n",
       "|---|---|---|---|---|---|---|---|---|\n",
       "| Germany     | 2.41 | 2.44 | 2.47 | 2.49 | 2.49 | 2.48 | 2.44 | 2.37 |\n",
       "| South Korea | 6.16 | 5.99 | 5.79 | 5.57 | 5.36 | 5.16 | 4.99 | 4.85 |\n",
       "\n"
      ],
      "text/plain": [
       "  country     1960 1961 1962 1963 1964 1965 1966 1967\n",
       "1 Germany     2.41 2.44 2.47 2.49 2.49 2.48 2.44 2.37\n",
       "2 South Korea 6.16 5.99 5.79 5.57 5.36 5.16 4.99 4.85"
      ]
     },
     "metadata": {},
     "output_type": "display_data"
    }
   ],
   "source": [
    "new_wide_data <- new_tidy_data %>% \n",
    "  pivot_wider(names_from = year, values_from = fertility)\n",
    "select(new_wide_data, country, \"1960\":\"1967\")"
   ]
  }
 ],
 "metadata": {
  "kernelspec": {
   "display_name": "R",
   "language": "R",
   "name": "ir"
  },
  "language_info": {
   "codemirror_mode": "r",
   "file_extension": ".r",
   "mimetype": "text/x-r-source",
   "name": "R",
   "pygments_lexer": "r",
   "version": "4.4.1"
  }
 },
 "nbformat": 4,
 "nbformat_minor": 5
}
