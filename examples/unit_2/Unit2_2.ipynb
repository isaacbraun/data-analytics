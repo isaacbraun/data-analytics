{
 "cells": [
  {
   "cell_type": "markdown",
   "id": "5a32130f",
   "metadata": {},
   "source": [
    "# CPTR 512 Programming in Data Analytics"
   ]
  },
  {
   "cell_type": "markdown",
   "id": "5ea010ad",
   "metadata": {},
   "source": [
    "Harvey Alférez, PhD"
   ]
  },
  {
   "cell_type": "markdown",
   "id": "5d2e7ccd",
   "metadata": {},
   "source": [
    "## Unit 2. Explore and clean data"
   ]
  },
  {
   "cell_type": "markdown",
   "id": "9a612490",
   "metadata": {},
   "source": [
    "### Exploring data"
   ]
  },
  {
   "cell_type": "markdown",
   "id": "ec746258",
   "metadata": {},
   "source": [
    "See additional details at: https://rafalab.github.io/dsbook/programming-basics.html, https://rafalab.github.io/dsbook/tidyverse.html, and https://rafalab.github.io/dsbook/importing-data.html"
   ]
  },
  {
   "cell_type": "markdown",
   "id": "e008fd07",
   "metadata": {},
   "source": [
    "Conditional expressions:"
   ]
  },
  {
   "cell_type": "code",
   "execution_count": 8,
   "id": "8ae6e660",
   "metadata": {},
   "outputs": [
    {
     "name": "stdout",
     "output_type": "stream",
     "text": [
      "[1] \"No reciprocal for 0.\"\n"
     ]
    }
   ],
   "source": [
    "a <- 0\n",
    "\n",
    "if(a!=0){\n",
    "  print(1/a)\n",
    "} else{\n",
    "  print(\"No reciprocal for 0.\")\n",
    "  #reciprocal: the inverse of a value or a number. For example, the reciprocal of 9 is 1/9 \n",
    "}\n"
   ]
  },
  {
   "cell_type": "code",
   "execution_count": 9,
   "id": "34cc47ce",
   "metadata": {},
   "outputs": [
    {
     "data": {
      "text/html": [
       "<table class=\"dataframe\">\n",
       "<caption>A data.frame: 6 × 5</caption>\n",
       "<thead>\n",
       "\t<tr><th></th><th scope=col>state</th><th scope=col>abb</th><th scope=col>region</th><th scope=col>population</th><th scope=col>total</th></tr>\n",
       "\t<tr><th></th><th scope=col>&lt;chr&gt;</th><th scope=col>&lt;chr&gt;</th><th scope=col>&lt;fct&gt;</th><th scope=col>&lt;dbl&gt;</th><th scope=col>&lt;dbl&gt;</th></tr>\n",
       "</thead>\n",
       "<tbody>\n",
       "\t<tr><th scope=row>1</th><td>Alabama   </td><td>AL</td><td>South</td><td> 4779736</td><td> 135</td></tr>\n",
       "\t<tr><th scope=row>2</th><td>Alaska    </td><td>AK</td><td>West </td><td>  710231</td><td>  19</td></tr>\n",
       "\t<tr><th scope=row>3</th><td>Arizona   </td><td>AZ</td><td>West </td><td> 6392017</td><td> 232</td></tr>\n",
       "\t<tr><th scope=row>4</th><td>Arkansas  </td><td>AR</td><td>South</td><td> 2915918</td><td>  93</td></tr>\n",
       "\t<tr><th scope=row>5</th><td>California</td><td>CA</td><td>West </td><td>37253956</td><td>1257</td></tr>\n",
       "\t<tr><th scope=row>6</th><td>Colorado  </td><td>CO</td><td>West </td><td> 5029196</td><td>  65</td></tr>\n",
       "</tbody>\n",
       "</table>\n"
      ],
      "text/latex": [
       "A data.frame: 6 × 5\n",
       "\\begin{tabular}{r|lllll}\n",
       "  & state & abb & region & population & total\\\\\n",
       "  & <chr> & <chr> & <fct> & <dbl> & <dbl>\\\\\n",
       "\\hline\n",
       "\t1 & Alabama    & AL & South &  4779736 &  135\\\\\n",
       "\t2 & Alaska     & AK & West  &   710231 &   19\\\\\n",
       "\t3 & Arizona    & AZ & West  &  6392017 &  232\\\\\n",
       "\t4 & Arkansas   & AR & South &  2915918 &   93\\\\\n",
       "\t5 & California & CA & West  & 37253956 & 1257\\\\\n",
       "\t6 & Colorado   & CO & West  &  5029196 &   65\\\\\n",
       "\\end{tabular}\n"
      ],
      "text/markdown": [
       "\n",
       "A data.frame: 6 × 5\n",
       "\n",
       "| <!--/--> | state &lt;chr&gt; | abb &lt;chr&gt; | region &lt;fct&gt; | population &lt;dbl&gt; | total &lt;dbl&gt; |\n",
       "|---|---|---|---|---|---|\n",
       "| 1 | Alabama    | AL | South |  4779736 |  135 |\n",
       "| 2 | Alaska     | AK | West  |   710231 |   19 |\n",
       "| 3 | Arizona    | AZ | West  |  6392017 |  232 |\n",
       "| 4 | Arkansas   | AR | South |  2915918 |   93 |\n",
       "| 5 | California | CA | West  | 37253956 | 1257 |\n",
       "| 6 | Colorado   | CO | West  |  5029196 |   65 |\n",
       "\n"
      ],
      "text/plain": [
       "  state      abb region population total\n",
       "1 Alabama    AL  South   4779736    135 \n",
       "2 Alaska     AK  West     710231     19 \n",
       "3 Arizona    AZ  West    6392017    232 \n",
       "4 Arkansas   AR  South   2915918     93 \n",
       "5 California CA  West   37253956   1257 \n",
       "6 Colorado   CO  West    5029196     65 "
      ]
     },
     "metadata": {},
     "output_type": "display_data"
    },
    {
     "name": "stdout",
     "output_type": "stream",
     "text": [
      "[1] 46\n",
      "[1] \"Vermont\"\n"
     ]
    }
   ],
   "source": [
    "library(dslabs)\n",
    "head(murders)\n",
    "murder_rate <- murders$total / murders$population*100000\n",
    "\n",
    "ind <- which.min(murder_rate)\n",
    "print(ind)\n",
    "\n",
    "if(murder_rate[ind] < 0.5){\n",
    "  print(murders$state[ind]) \n",
    "} else{\n",
    "  print(\"No state has murder rate that low\")\n",
    "}"
   ]
  },
  {
   "cell_type": "code",
   "execution_count": 10,
   "id": "c178fc4b",
   "metadata": {},
   "outputs": [
    {
     "name": "stdout",
     "output_type": "stream",
     "text": [
      "[1] \"No state has a murder rate that low.\"\n"
     ]
    }
   ],
   "source": [
    "if(murder_rate[ind] < 0.25){\n",
    "  print(murders$state[ind]) \n",
    "} else{\n",
    "  print(\"No state has a murder rate that low.\")\n",
    "}"
   ]
  },
  {
   "cell_type": "code",
   "execution_count": 11,
   "id": "3b82e5ec",
   "metadata": {},
   "outputs": [
    {
     "data": {
      "text/html": [
       "&lt;NA&gt;"
      ],
      "text/latex": [
       "<NA>"
      ],
      "text/markdown": [
       "&lt;NA&gt;"
      ],
      "text/plain": [
       "[1] NA"
      ]
     },
     "metadata": {},
     "output_type": "display_data"
    }
   ],
   "source": [
    "#A related function that is very useful is ifelse. This function takes three arguments: \n",
    "#a logical and two possible answers. If the logical is TRUE, the value in the second argument is returned \n",
    "#and if FALSE, the value in the third argument is returned. Here is an example:\n",
    "\n",
    "#ifelse(test, yes, no)\n",
    "\n",
    "a <- 0\n",
    "ifelse(a > 0, 1/a, NA)"
   ]
  },
  {
   "cell_type": "markdown",
   "id": "64878a85",
   "metadata": {},
   "source": [
    "Defining functions:"
   ]
  },
  {
   "cell_type": "code",
   "execution_count": 12,
   "id": "edc4f8c8",
   "metadata": {},
   "outputs": [],
   "source": [
    "#As you become more experienced, you will find yourself needing to perform the same operations over and over. \n",
    "#A simple example is computing averages. \n",
    "\n",
    "avg <- function(x){\n",
    "  s <- sum(x)\n",
    "  n <- length(x)\n",
    "  s/n\n",
    "}"
   ]
  },
  {
   "cell_type": "code",
   "execution_count": 15,
   "id": "48843bb9",
   "metadata": {},
   "outputs": [
    {
     "data": {
      "text/html": [
       "TRUE"
      ],
      "text/latex": [
       "TRUE"
      ],
      "text/markdown": [
       "TRUE"
      ],
      "text/plain": [
       "[1] TRUE"
      ]
     },
     "metadata": {},
     "output_type": "display_data"
    },
    {
     "data": {
      "text/html": [
       "FALSE"
      ],
      "text/latex": [
       "FALSE"
      ],
      "text/markdown": [
       "FALSE"
      ],
      "text/plain": [
       "[1] FALSE"
      ]
     },
     "metadata": {},
     "output_type": "display_data"
    }
   ],
   "source": [
    "x <- 1:100\n",
    "identical(mean(x), avg(x))\n",
    "mean(x) != avg(x)\n",
    "help(identical)"
   ]
  },
  {
   "cell_type": "markdown",
   "id": "3788d2bc",
   "metadata": {},
   "source": [
    "For loops:"
   ]
  },
  {
   "cell_type": "code",
   "execution_count": 8,
   "id": "aba4b9e6",
   "metadata": {},
   "outputs": [
    {
     "name": "stdout",
     "output_type": "stream",
     "text": [
      "[1] 1\n",
      "[1] 2\n",
      "[1] 3\n",
      "[1] 4\n",
      "[1] 5\n"
     ]
    }
   ],
   "source": [
    "for(i in 1:5){\n",
    "  print(i)\n",
    "}"
   ]
  },
  {
   "cell_type": "code",
   "execution_count": 42,
   "id": "cd93bc73",
   "metadata": {},
   "outputs": [
    {
     "name": "stdout",
     "output_type": "stream",
     "text": [
      "[1] \"n\"   \" = \" \"1\"  \n",
      "[1] \"x\"   \" = \" \"1\"  \n",
      "[1] \"s_n\" \" = \" \"1\"  \n",
      "[1] \"n\"   \" = \" \"2\"  \n",
      "[1] \"x\"   \" = \" \"1\"   \"2\"  \n",
      "[1] \"s_n\" \" = \" \"3\"  \n",
      "[1] \"n\"   \" = \" \"3\"  \n",
      "[1] \"x\"   \" = \" \"1\"   \"2\"   \"3\"  \n",
      "[1] \"s_n\" \" = \" \"6\"  \n",
      "[1] \"n\"   \" = \" \"4\"  \n",
      "[1] \"x\"   \" = \" \"1\"   \"2\"   \"3\"   \"4\"  \n",
      "[1] \"s_n\" \" = \" \"10\" \n",
      "[1] \"n\"   \" = \" \"5\"  \n",
      "[1] \"x\"   \" = \" \"1\"   \"2\"   \"3\"   \"4\"   \"5\"  \n",
      "[1] \"s_n\" \" = \" \"15\" \n",
      "[1] \"n\"   \" = \" \"6\"  \n",
      "[1] \"x\"   \" = \" \"1\"   \"2\"   \"3\"   \"4\"   \"5\"   \"6\"  \n",
      "[1] \"s_n\" \" = \" \"21\" \n",
      "[1] \"n\"   \" = \" \"7\"  \n",
      "[1] \"x\"   \" = \" \"1\"   \"2\"   \"3\"   \"4\"   \"5\"   \"6\"   \"7\"  \n",
      "[1] \"s_n\" \" = \" \"28\" \n",
      "[1] \"n\"   \" = \" \"8\"  \n",
      " [1] \"x\"   \" = \" \"1\"   \"2\"   \"3\"   \"4\"   \"5\"   \"6\"   \"7\"   \"8\"  \n",
      "[1] \"s_n\" \" = \" \"36\" \n",
      "[1] \"n\"   \" = \" \"9\"  \n",
      " [1] \"x\"   \" = \" \"1\"   \"2\"   \"3\"   \"4\"   \"5\"   \"6\"   \"7\"   \"8\"   \"9\"  \n",
      "[1] \"s_n\" \" = \" \"45\" \n",
      "[1] \"n\"   \" = \" \"10\" \n",
      " [1] \"x\"   \" = \" \"1\"   \"2\"   \"3\"   \"4\"   \"5\"   \"6\"   \"7\"   \"8\"   \"9\"   \"10\" \n",
      "[1] \"s_n\" \" = \" \"55\" \n",
      "[1] \"n\"   \" = \" \"11\" \n",
      " [1] \"x\"   \" = \" \"1\"   \"2\"   \"3\"   \"4\"   \"5\"   \"6\"   \"7\"   \"8\"   \"9\"   \"10\" \n",
      "[13] \"11\" \n",
      "[1] \"s_n\" \" = \" \"66\" \n",
      "[1] \"n\"   \" = \" \"12\" \n",
      " [1] \"x\"   \" = \" \"1\"   \"2\"   \"3\"   \"4\"   \"5\"   \"6\"   \"7\"   \"8\"   \"9\"   \"10\" \n",
      "[13] \"11\"  \"12\" \n",
      "[1] \"s_n\" \" = \" \"78\" \n",
      "[1] \"n\"   \" = \" \"13\" \n",
      " [1] \"x\"   \" = \" \"1\"   \"2\"   \"3\"   \"4\"   \"5\"   \"6\"   \"7\"   \"8\"   \"9\"   \"10\" \n",
      "[13] \"11\"  \"12\"  \"13\" \n",
      "[1] \"s_n\" \" = \" \"91\" \n",
      "[1] \"n\"   \" = \" \"14\" \n",
      " [1] \"x\"   \" = \" \"1\"   \"2\"   \"3\"   \"4\"   \"5\"   \"6\"   \"7\"   \"8\"   \"9\"   \"10\" \n",
      "[13] \"11\"  \"12\"  \"13\"  \"14\" \n",
      "[1] \"s_n\" \" = \" \"105\"\n",
      "[1] \"n\"   \" = \" \"15\" \n",
      " [1] \"x\"   \" = \" \"1\"   \"2\"   \"3\"   \"4\"   \"5\"   \"6\"   \"7\"   \"8\"   \"9\"   \"10\" \n",
      "[13] \"11\"  \"12\"  \"13\"  \"14\"  \"15\" \n",
      "[1] \"s_n\" \" = \" \"120\"\n",
      "[1] \"n\"   \" = \" \"16\" \n",
      " [1] \"x\"   \" = \" \"1\"   \"2\"   \"3\"   \"4\"   \"5\"   \"6\"   \"7\"   \"8\"   \"9\"   \"10\" \n",
      "[13] \"11\"  \"12\"  \"13\"  \"14\"  \"15\"  \"16\" \n",
      "[1] \"s_n\" \" = \" \"136\"\n",
      "[1] \"n\"   \" = \" \"17\" \n",
      " [1] \"x\"   \" = \" \"1\"   \"2\"   \"3\"   \"4\"   \"5\"   \"6\"   \"7\"   \"8\"   \"9\"   \"10\" \n",
      "[13] \"11\"  \"12\"  \"13\"  \"14\"  \"15\"  \"16\"  \"17\" \n",
      "[1] \"s_n\" \" = \" \"153\"\n",
      "[1] \"n\"   \" = \" \"18\" \n",
      " [1] \"x\"   \" = \" \"1\"   \"2\"   \"3\"   \"4\"   \"5\"   \"6\"   \"7\"   \"8\"   \"9\"   \"10\" \n",
      "[13] \"11\"  \"12\"  \"13\"  \"14\"  \"15\"  \"16\"  \"17\"  \"18\" \n",
      "[1] \"s_n\" \" = \" \"171\"\n",
      "[1] \"n\"   \" = \" \"19\" \n",
      " [1] \"x\"   \" = \" \"1\"   \"2\"   \"3\"   \"4\"   \"5\"   \"6\"   \"7\"   \"8\"   \"9\"   \"10\" \n",
      "[13] \"11\"  \"12\"  \"13\"  \"14\"  \"15\"  \"16\"  \"17\"  \"18\"  \"19\" \n",
      "[1] \"s_n\" \" = \" \"190\"\n",
      "[1] \"n\"   \" = \" \"20\" \n",
      " [1] \"x\"   \" = \" \"1\"   \"2\"   \"3\"   \"4\"   \"5\"   \"6\"   \"7\"   \"8\"   \"9\"   \"10\" \n",
      "[13] \"11\"  \"12\"  \"13\"  \"14\"  \"15\"  \"16\"  \"17\"  \"18\"  \"19\"  \"20\" \n",
      "[1] \"s_n\" \" = \" \"210\"\n",
      "[1] \"n\"   \" = \" \"21\" \n",
      " [1] \"x\"   \" = \" \"1\"   \"2\"   \"3\"   \"4\"   \"5\"   \"6\"   \"7\"   \"8\"   \"9\"   \"10\" \n",
      "[13] \"11\"  \"12\"  \"13\"  \"14\"  \"15\"  \"16\"  \"17\"  \"18\"  \"19\"  \"20\"  \"21\" \n",
      "[1] \"s_n\" \" = \" \"231\"\n",
      "[1] \"n\"   \" = \" \"22\" \n",
      " [1] \"x\"   \" = \" \"1\"   \"2\"   \"3\"   \"4\"   \"5\"   \"6\"   \"7\"   \"8\"   \"9\"   \"10\" \n",
      "[13] \"11\"  \"12\"  \"13\"  \"14\"  \"15\"  \"16\"  \"17\"  \"18\"  \"19\"  \"20\"  \"21\"  \"22\" \n",
      "[1] \"s_n\" \" = \" \"253\"\n",
      "[1] \"n\"   \" = \" \"23\" \n",
      " [1] \"x\"   \" = \" \"1\"   \"2\"   \"3\"   \"4\"   \"5\"   \"6\"   \"7\"   \"8\"   \"9\"   \"10\" \n",
      "[13] \"11\"  \"12\"  \"13\"  \"14\"  \"15\"  \"16\"  \"17\"  \"18\"  \"19\"  \"20\"  \"21\"  \"22\" \n",
      "[25] \"23\" \n",
      "[1] \"s_n\" \" = \" \"276\"\n",
      "[1] \"n\"   \" = \" \"24\" \n",
      " [1] \"x\"   \" = \" \"1\"   \"2\"   \"3\"   \"4\"   \"5\"   \"6\"   \"7\"   \"8\"   \"9\"   \"10\" \n",
      "[13] \"11\"  \"12\"  \"13\"  \"14\"  \"15\"  \"16\"  \"17\"  \"18\"  \"19\"  \"20\"  \"21\"  \"22\" \n",
      "[25] \"23\"  \"24\" \n",
      "[1] \"s_n\" \" = \" \"300\"\n",
      "[1] \"n\"   \" = \" \"25\" \n",
      " [1] \"x\"   \" = \" \"1\"   \"2\"   \"3\"   \"4\"   \"5\"   \"6\"   \"7\"   \"8\"   \"9\"   \"10\" \n",
      "[13] \"11\"  \"12\"  \"13\"  \"14\"  \"15\"  \"16\"  \"17\"  \"18\"  \"19\"  \"20\"  \"21\"  \"22\" \n",
      "[25] \"23\"  \"24\"  \"25\" \n",
      "[1] \"s_n\" \" = \" \"325\"\n"
     ]
    },
    {
     "data": {
      "image/png": "[encoded data removed]",
      "text/plain": [
       "plot without title"
      ]
     },
     "metadata": {
      "image/png": {
       "height": 420,
       "width": 420
      }
     },
     "output_type": "display_data"
    }
   ],
   "source": [
    "compute_s_n <- function(n){\n",
    "  x <- 1:n #The 1:n syntax generates a sequence of integers starting from 1 and ending at n.\n",
    "  print(c(\"x\",\" = \",x))\n",
    "  sum(x)\n",
    "}\n",
    "\n",
    "m <- 25\n",
    "s_n <- vector(length = m) # create an empty vector\n",
    "for(n in 1:m){\n",
    "  print(c(\"n\",\" = \",n))\n",
    "  s_n[n] <- compute_s_n(n)\n",
    "  print(c(\"s_n\",\" = \", s_n[n]))  \n",
    "}\n",
    "\n",
    "n <- 1:m\n",
    "plot(n, s_n)"
   ]
  },
  {
   "cell_type": "markdown",
   "id": "8153fd72",
   "metadata": {},
   "source": [
    "Vectorization and functionals:"
   ]
  },
  {
   "cell_type": "code",
   "execution_count": 10,
   "id": "a49a48c0",
   "metadata": {},
   "outputs": [
    {
     "data": {
      "text/html": [
       "<style>\n",
       ".list-inline {list-style: none; margin:0; padding: 0}\n",
       ".list-inline>li {display: inline-block}\n",
       ".list-inline>li:not(:last-child)::after {content: \"\\00b7\"; padding: 0 .5ex}\n",
       "</style>\n",
       "<ol class=list-inline><li>1</li><li>1.4142135623731</li><li>1.73205080756888</li><li>2</li><li>2.23606797749979</li><li>2.44948974278318</li><li>2.64575131106459</li><li>2.82842712474619</li><li>3</li><li>3.16227766016838</li></ol>\n"
      ],
      "text/latex": [
       "\\begin{enumerate*}\n",
       "\\item 1\n",
       "\\item 1.4142135623731\n",
       "\\item 1.73205080756888\n",
       "\\item 2\n",
       "\\item 2.23606797749979\n",
       "\\item 2.44948974278318\n",
       "\\item 2.64575131106459\n",
       "\\item 2.82842712474619\n",
       "\\item 3\n",
       "\\item 3.16227766016838\n",
       "\\end{enumerate*}\n"
      ],
      "text/markdown": [
       "1. 1\n",
       "2. 1.4142135623731\n",
       "3. 1.73205080756888\n",
       "4. 2\n",
       "5. 2.23606797749979\n",
       "6. 2.44948974278318\n",
       "7. 2.64575131106459\n",
       "8. 2.82842712474619\n",
       "9. 3\n",
       "10. 3.16227766016838\n",
       "\n",
       "\n"
      ],
      "text/plain": [
       " [1] 1.000000 1.414214 1.732051 2.000000 2.236068 2.449490 2.645751 2.828427\n",
       " [9] 3.000000 3.162278"
      ]
     },
     "metadata": {},
     "output_type": "display_data"
    },
    {
     "data": {
      "text/html": [
       "<style>\n",
       ".list-inline {list-style: none; margin:0; padding: 0}\n",
       ".list-inline>li {display: inline-block}\n",
       ".list-inline>li:not(:last-child)::after {content: \"\\00b7\"; padding: 0 .5ex}\n",
       "</style>\n",
       "<ol class=list-inline><li>1</li><li>4</li><li>9</li><li>16</li><li>25</li><li>36</li><li>49</li><li>64</li><li>81</li><li>100</li></ol>\n"
      ],
      "text/latex": [
       "\\begin{enumerate*}\n",
       "\\item 1\n",
       "\\item 4\n",
       "\\item 9\n",
       "\\item 16\n",
       "\\item 25\n",
       "\\item 36\n",
       "\\item 49\n",
       "\\item 64\n",
       "\\item 81\n",
       "\\item 100\n",
       "\\end{enumerate*}\n"
      ],
      "text/markdown": [
       "1. 1\n",
       "2. 4\n",
       "3. 9\n",
       "4. 16\n",
       "5. 25\n",
       "6. 36\n",
       "7. 49\n",
       "8. 64\n",
       "9. 81\n",
       "10. 100\n",
       "\n",
       "\n"
      ],
      "text/plain": [
       " [1]   1   4   9  16  25  36  49  64  81 100"
      ]
     },
     "metadata": {},
     "output_type": "display_data"
    }
   ],
   "source": [
    "#Although for-loops are an important concept to understand, in R we rarely use them. \n",
    "#As you learn more R, you will realize that vectorization is preferred over for-loops \n",
    "#since it results in shorter and clearer code. \n",
    "\n",
    "x <- 1:10\n",
    "sqrt(x)\n",
    "y <- 1:10\n",
    "x*y"
   ]
  },
  {
   "cell_type": "code",
   "execution_count": 11,
   "id": "0219b306",
   "metadata": {},
   "outputs": [
    {
     "data": {
      "text/html": [
       "<style>\n",
       ".list-inline {list-style: none; margin:0; padding: 0}\n",
       ".list-inline>li {display: inline-block}\n",
       ".list-inline>li:not(:last-child)::after {content: \"\\00b7\"; padding: 0 .5ex}\n",
       "</style>\n",
       "<ol class=list-inline><li>1</li><li>1.4142135623731</li><li>1.73205080756888</li><li>2</li><li>2.23606797749979</li><li>2.44948974278318</li><li>2.64575131106459</li><li>2.82842712474619</li><li>3</li><li>3.16227766016838</li></ol>\n"
      ],
      "text/latex": [
       "\\begin{enumerate*}\n",
       "\\item 1\n",
       "\\item 1.4142135623731\n",
       "\\item 1.73205080756888\n",
       "\\item 2\n",
       "\\item 2.23606797749979\n",
       "\\item 2.44948974278318\n",
       "\\item 2.64575131106459\n",
       "\\item 2.82842712474619\n",
       "\\item 3\n",
       "\\item 3.16227766016838\n",
       "\\end{enumerate*}\n"
      ],
      "text/markdown": [
       "1. 1\n",
       "2. 1.4142135623731\n",
       "3. 1.73205080756888\n",
       "4. 2\n",
       "5. 2.23606797749979\n",
       "6. 2.44948974278318\n",
       "7. 2.64575131106459\n",
       "8. 2.82842712474619\n",
       "9. 3\n",
       "10. 3.16227766016838\n",
       "\n",
       "\n"
      ],
      "text/plain": [
       " [1] 1.000000 1.414214 1.732051 2.000000 2.236068 2.449490 2.645751 2.828427\n",
       " [9] 3.000000 3.162278"
      ]
     },
     "metadata": {},
     "output_type": "display_data"
    },
    {
     "data": {
      "text/html": [
       "<style>\n",
       ".list-inline {list-style: none; margin:0; padding: 0}\n",
       ".list-inline>li {display: inline-block}\n",
       ".list-inline>li:not(:last-child)::after {content: \"\\00b7\"; padding: 0 .5ex}\n",
       "</style>\n",
       "<ol class=list-inline><li>1</li><li>3</li><li>6</li><li>10</li><li>15</li><li>21</li><li>28</li><li>36</li><li>45</li><li>55</li><li>66</li><li>78</li><li>91</li><li>105</li><li>120</li><li>136</li><li>153</li><li>171</li><li>190</li><li>210</li><li>231</li><li>253</li><li>276</li><li>300</li><li>325</li></ol>\n"
      ],
      "text/latex": [
       "\\begin{enumerate*}\n",
       "\\item 1\n",
       "\\item 3\n",
       "\\item 6\n",
       "\\item 10\n",
       "\\item 15\n",
       "\\item 21\n",
       "\\item 28\n",
       "\\item 36\n",
       "\\item 45\n",
       "\\item 55\n",
       "\\item 66\n",
       "\\item 78\n",
       "\\item 91\n",
       "\\item 105\n",
       "\\item 120\n",
       "\\item 136\n",
       "\\item 153\n",
       "\\item 171\n",
       "\\item 190\n",
       "\\item 210\n",
       "\\item 231\n",
       "\\item 253\n",
       "\\item 276\n",
       "\\item 300\n",
       "\\item 325\n",
       "\\end{enumerate*}\n"
      ],
      "text/markdown": [
       "1. 1\n",
       "2. 3\n",
       "3. 6\n",
       "4. 10\n",
       "5. 15\n",
       "6. 21\n",
       "7. 28\n",
       "8. 36\n",
       "9. 45\n",
       "10. 55\n",
       "11. 66\n",
       "12. 78\n",
       "13. 91\n",
       "14. 105\n",
       "15. 120\n",
       "16. 136\n",
       "17. 153\n",
       "18. 171\n",
       "19. 190\n",
       "20. 210\n",
       "21. 231\n",
       "22. 253\n",
       "23. 276\n",
       "24. 300\n",
       "25. 325\n",
       "\n",
       "\n"
      ],
      "text/plain": [
       " [1]   1   3   6  10  15  21  28  36  45  55  66  78  91 105 120 136 153 171 190\n",
       "[20] 210 231 253 276 300 325"
      ]
     },
     "metadata": {},
     "output_type": "display_data"
    }
   ],
   "source": [
    "#Functionals are functions that help us apply the same function to each entry in a vector, matrix, data frame, \n",
    "#or list. Here we cover the functional that operates on numeric, logical, and character vectors: sapply.\n",
    "\n",
    "#The function sapply permits us to perform element-wise operations on any function. Here is how it works:\n",
    "\n",
    "\n",
    "x <- 1:10\n",
    "sapply(x, sqrt)\n",
    "#Each element of x is passed on to the function sqrt and the result is returned. \n",
    "#These results are concatenated. In this case, the result is a vector of the same length as the original x. \n",
    "\n",
    "n <- 1:25\n",
    "s_n <- sapply(n, compute_s_n)\n",
    "s_n"
   ]
  },
  {
   "cell_type": "markdown",
   "id": "77ced8f7",
   "metadata": {},
   "source": [
    "The Tidyverse:"
   ]
  },
  {
   "cell_type": "code",
   "execution_count": 8,
   "id": "bacac0a9",
   "metadata": {},
   "outputs": [
    {
     "data": {
      "text/html": [
       "<table class=\"dataframe\">\n",
       "<caption>A data.frame: 6 × 5</caption>\n",
       "<thead>\n",
       "\t<tr><th></th><th scope=col>state</th><th scope=col>abb</th><th scope=col>region</th><th scope=col>population</th><th scope=col>total</th></tr>\n",
       "\t<tr><th></th><th scope=col>&lt;chr&gt;</th><th scope=col>&lt;chr&gt;</th><th scope=col>&lt;fct&gt;</th><th scope=col>&lt;dbl&gt;</th><th scope=col>&lt;dbl&gt;</th></tr>\n",
       "</thead>\n",
       "<tbody>\n",
       "\t<tr><th scope=row>1</th><td>Alabama   </td><td>AL</td><td>South</td><td> 4779736</td><td> 135</td></tr>\n",
       "\t<tr><th scope=row>2</th><td>Alaska    </td><td>AK</td><td>West </td><td>  710231</td><td>  19</td></tr>\n",
       "\t<tr><th scope=row>3</th><td>Arizona   </td><td>AZ</td><td>West </td><td> 6392017</td><td> 232</td></tr>\n",
       "\t<tr><th scope=row>4</th><td>Arkansas  </td><td>AR</td><td>South</td><td> 2915918</td><td>  93</td></tr>\n",
       "\t<tr><th scope=row>5</th><td>California</td><td>CA</td><td>West </td><td>37253956</td><td>1257</td></tr>\n",
       "\t<tr><th scope=row>6</th><td>Colorado  </td><td>CO</td><td>West </td><td> 5029196</td><td>  65</td></tr>\n",
       "</tbody>\n",
       "</table>\n"
      ],
      "text/latex": [
       "A data.frame: 6 × 5\n",
       "\\begin{tabular}{r|lllll}\n",
       "  & state & abb & region & population & total\\\\\n",
       "  & <chr> & <chr> & <fct> & <dbl> & <dbl>\\\\\n",
       "\\hline\n",
       "\t1 & Alabama    & AL & South &  4779736 &  135\\\\\n",
       "\t2 & Alaska     & AK & West  &   710231 &   19\\\\\n",
       "\t3 & Arizona    & AZ & West  &  6392017 &  232\\\\\n",
       "\t4 & Arkansas   & AR & South &  2915918 &   93\\\\\n",
       "\t5 & California & CA & West  & 37253956 & 1257\\\\\n",
       "\t6 & Colorado   & CO & West  &  5029196 &   65\\\\\n",
       "\\end{tabular}\n"
      ],
      "text/markdown": [
       "\n",
       "A data.frame: 6 × 5\n",
       "\n",
       "| <!--/--> | state &lt;chr&gt; | abb &lt;chr&gt; | region &lt;fct&gt; | population &lt;dbl&gt; | total &lt;dbl&gt; |\n",
       "|---|---|---|---|---|---|\n",
       "| 1 | Alabama    | AL | South |  4779736 |  135 |\n",
       "| 2 | Alaska     | AK | West  |   710231 |   19 |\n",
       "| 3 | Arizona    | AZ | West  |  6392017 |  232 |\n",
       "| 4 | Arkansas   | AR | South |  2915918 |   93 |\n",
       "| 5 | California | CA | West  | 37253956 | 1257 |\n",
       "| 6 | Colorado   | CO | West  |  5029196 |   65 |\n",
       "\n"
      ],
      "text/plain": [
       "  state      abb region population total\n",
       "1 Alabama    AL  South   4779736    135 \n",
       "2 Alaska     AK  West     710231     19 \n",
       "3 Arizona    AZ  West    6392017    232 \n",
       "4 Arkansas   AR  South   2915918     93 \n",
       "5 California CA  West   37253956   1257 \n",
       "6 Colorado   CO  West    5029196     65 "
      ]
     },
     "metadata": {},
     "output_type": "display_data"
    }
   ],
   "source": [
    "#We say that a data table is in tidy format if each row represents one observation and columns represent \n",
    "#the different variables available for each of these observations.\n",
    "#install.packages(\"https://cran.r-project.org/src/contrib/vctrs_0.4.1.tar.gz\", repo=NULL, type=\"source\")\n",
    "library(tidyverse)\n",
    "library(dslabs) \n",
    "data(murders)\n",
    "head(murders)"
   ]
  },
  {
   "cell_type": "markdown",
   "id": "a346746a",
   "metadata": {},
   "source": [
    "Manipulating dataframes:"
   ]
  },
  {
   "cell_type": "code",
   "execution_count": 10,
   "id": "10d0339a",
   "metadata": {},
   "outputs": [
    {
     "data": {
      "text/html": [
       "<table class=\"dataframe\">\n",
       "<caption>A data.frame: 6 × 6</caption>\n",
       "<thead>\n",
       "\t<tr><th></th><th scope=col>state</th><th scope=col>abb</th><th scope=col>region</th><th scope=col>population</th><th scope=col>total</th><th scope=col>rate</th></tr>\n",
       "\t<tr><th></th><th scope=col>&lt;chr&gt;</th><th scope=col>&lt;chr&gt;</th><th scope=col>&lt;fct&gt;</th><th scope=col>&lt;dbl&gt;</th><th scope=col>&lt;dbl&gt;</th><th scope=col>&lt;dbl&gt;</th></tr>\n",
       "</thead>\n",
       "<tbody>\n",
       "\t<tr><th scope=row>1</th><td>Alabama   </td><td>AL</td><td>South</td><td> 4779736</td><td> 135</td><td>2.824424</td></tr>\n",
       "\t<tr><th scope=row>2</th><td>Alaska    </td><td>AK</td><td>West </td><td>  710231</td><td>  19</td><td>2.675186</td></tr>\n",
       "\t<tr><th scope=row>3</th><td>Arizona   </td><td>AZ</td><td>West </td><td> 6392017</td><td> 232</td><td>3.629527</td></tr>\n",
       "\t<tr><th scope=row>4</th><td>Arkansas  </td><td>AR</td><td>South</td><td> 2915918</td><td>  93</td><td>3.189390</td></tr>\n",
       "\t<tr><th scope=row>5</th><td>California</td><td>CA</td><td>West </td><td>37253956</td><td>1257</td><td>3.374138</td></tr>\n",
       "\t<tr><th scope=row>6</th><td>Colorado  </td><td>CO</td><td>West </td><td> 5029196</td><td>  65</td><td>1.292453</td></tr>\n",
       "</tbody>\n",
       "</table>\n"
      ],
      "text/latex": [
       "A data.frame: 6 × 6\n",
       "\\begin{tabular}{r|llllll}\n",
       "  & state & abb & region & population & total & rate\\\\\n",
       "  & <chr> & <chr> & <fct> & <dbl> & <dbl> & <dbl>\\\\\n",
       "\\hline\n",
       "\t1 & Alabama    & AL & South &  4779736 &  135 & 2.824424\\\\\n",
       "\t2 & Alaska     & AK & West  &   710231 &   19 & 2.675186\\\\\n",
       "\t3 & Arizona    & AZ & West  &  6392017 &  232 & 3.629527\\\\\n",
       "\t4 & Arkansas   & AR & South &  2915918 &   93 & 3.189390\\\\\n",
       "\t5 & California & CA & West  & 37253956 & 1257 & 3.374138\\\\\n",
       "\t6 & Colorado   & CO & West  &  5029196 &   65 & 1.292453\\\\\n",
       "\\end{tabular}\n"
      ],
      "text/markdown": [
       "\n",
       "A data.frame: 6 × 6\n",
       "\n",
       "| <!--/--> | state &lt;chr&gt; | abb &lt;chr&gt; | region &lt;fct&gt; | population &lt;dbl&gt; | total &lt;dbl&gt; | rate &lt;dbl&gt; |\n",
       "|---|---|---|---|---|---|---|\n",
       "| 1 | Alabama    | AL | South |  4779736 |  135 | 2.824424 |\n",
       "| 2 | Alaska     | AK | West  |   710231 |   19 | 2.675186 |\n",
       "| 3 | Arizona    | AZ | West  |  6392017 |  232 | 3.629527 |\n",
       "| 4 | Arkansas   | AR | South |  2915918 |   93 | 3.189390 |\n",
       "| 5 | California | CA | West  | 37253956 | 1257 | 3.374138 |\n",
       "| 6 | Colorado   | CO | West  |  5029196 |   65 | 1.292453 |\n",
       "\n"
      ],
      "text/plain": [
       "  state      abb region population total rate    \n",
       "1 Alabama    AL  South   4779736    135  2.824424\n",
       "2 Alaska     AK  West     710231     19  2.675186\n",
       "3 Arizona    AZ  West    6392017    232  3.629527\n",
       "4 Arkansas   AR  South   2915918     93  3.189390\n",
       "5 California CA  West   37253956   1257  3.374138\n",
       "6 Colorado   CO  West    5029196     65  1.292453"
      ]
     },
     "metadata": {},
     "output_type": "display_data"
    }
   ],
   "source": [
    "#Adding a column with mutate:\n",
    "\n",
    "library(dslabs)\n",
    "data(\"murders\")\n",
    "murders <- mutate(murders, rate = total / population * 100000)\n",
    "head(murders)"
   ]
  },
  {
   "cell_type": "code",
   "execution_count": 11,
   "id": "0c335f88",
   "metadata": {},
   "outputs": [
    {
     "data": {
      "text/html": [
       "<table class=\"dataframe\">\n",
       "<caption>A data.frame: 5 × 6</caption>\n",
       "<thead>\n",
       "\t<tr><th scope=col>state</th><th scope=col>abb</th><th scope=col>region</th><th scope=col>population</th><th scope=col>total</th><th scope=col>rate</th></tr>\n",
       "\t<tr><th scope=col>&lt;chr&gt;</th><th scope=col>&lt;chr&gt;</th><th scope=col>&lt;fct&gt;</th><th scope=col>&lt;dbl&gt;</th><th scope=col>&lt;dbl&gt;</th><th scope=col>&lt;dbl&gt;</th></tr>\n",
       "</thead>\n",
       "<tbody>\n",
       "\t<tr><td>Hawaii       </td><td>HI</td><td>West         </td><td>1360301</td><td> 7</td><td>0.5145920</td></tr>\n",
       "\t<tr><td>Iowa         </td><td>IA</td><td>North Central</td><td>3046355</td><td>21</td><td>0.6893484</td></tr>\n",
       "\t<tr><td>New Hampshire</td><td>NH</td><td>Northeast    </td><td>1316470</td><td> 5</td><td>0.3798036</td></tr>\n",
       "\t<tr><td>North Dakota </td><td>ND</td><td>North Central</td><td> 672591</td><td> 4</td><td>0.5947151</td></tr>\n",
       "\t<tr><td>Vermont      </td><td>VT</td><td>Northeast    </td><td> 625741</td><td> 2</td><td>0.3196211</td></tr>\n",
       "</tbody>\n",
       "</table>\n"
      ],
      "text/latex": [
       "A data.frame: 5 × 6\n",
       "\\begin{tabular}{llllll}\n",
       " state & abb & region & population & total & rate\\\\\n",
       " <chr> & <chr> & <fct> & <dbl> & <dbl> & <dbl>\\\\\n",
       "\\hline\n",
       "\t Hawaii        & HI & West          & 1360301 &  7 & 0.5145920\\\\\n",
       "\t Iowa          & IA & North Central & 3046355 & 21 & 0.6893484\\\\\n",
       "\t New Hampshire & NH & Northeast     & 1316470 &  5 & 0.3798036\\\\\n",
       "\t North Dakota  & ND & North Central &  672591 &  4 & 0.5947151\\\\\n",
       "\t Vermont       & VT & Northeast     &  625741 &  2 & 0.3196211\\\\\n",
       "\\end{tabular}\n"
      ],
      "text/markdown": [
       "\n",
       "A data.frame: 5 × 6\n",
       "\n",
       "| state &lt;chr&gt; | abb &lt;chr&gt; | region &lt;fct&gt; | population &lt;dbl&gt; | total &lt;dbl&gt; | rate &lt;dbl&gt; |\n",
       "|---|---|---|---|---|---|\n",
       "| Hawaii        | HI | West          | 1360301 |  7 | 0.5145920 |\n",
       "| Iowa          | IA | North Central | 3046355 | 21 | 0.6893484 |\n",
       "| New Hampshire | NH | Northeast     | 1316470 |  5 | 0.3798036 |\n",
       "| North Dakota  | ND | North Central |  672591 |  4 | 0.5947151 |\n",
       "| Vermont       | VT | Northeast     |  625741 |  2 | 0.3196211 |\n",
       "\n"
      ],
      "text/plain": [
       "  state         abb region        population total rate     \n",
       "1 Hawaii        HI  West          1360301     7    0.5145920\n",
       "2 Iowa          IA  North Central 3046355    21    0.6893484\n",
       "3 New Hampshire NH  Northeast     1316470     5    0.3798036\n",
       "4 North Dakota  ND  North Central  672591     4    0.5947151\n",
       "5 Vermont       VT  Northeast      625741     2    0.3196211"
      ]
     },
     "metadata": {},
     "output_type": "display_data"
    }
   ],
   "source": [
    "#Subsetting with filter:\n",
    "\n",
    "filter(murders, rate <= 0.71)"
   ]
  },
  {
   "cell_type": "code",
   "execution_count": 12,
   "id": "57abfd62",
   "metadata": {},
   "outputs": [
    {
     "data": {
      "text/html": [
       "<table class=\"dataframe\">\n",
       "<caption>A data.frame: 5 × 3</caption>\n",
       "<thead>\n",
       "\t<tr><th scope=col>state</th><th scope=col>region</th><th scope=col>rate</th></tr>\n",
       "\t<tr><th scope=col>&lt;chr&gt;</th><th scope=col>&lt;fct&gt;</th><th scope=col>&lt;dbl&gt;</th></tr>\n",
       "</thead>\n",
       "<tbody>\n",
       "\t<tr><td>Hawaii       </td><td>West         </td><td>0.5145920</td></tr>\n",
       "\t<tr><td>Iowa         </td><td>North Central</td><td>0.6893484</td></tr>\n",
       "\t<tr><td>New Hampshire</td><td>Northeast    </td><td>0.3798036</td></tr>\n",
       "\t<tr><td>North Dakota </td><td>North Central</td><td>0.5947151</td></tr>\n",
       "\t<tr><td>Vermont      </td><td>Northeast    </td><td>0.3196211</td></tr>\n",
       "</tbody>\n",
       "</table>\n"
      ],
      "text/latex": [
       "A data.frame: 5 × 3\n",
       "\\begin{tabular}{lll}\n",
       " state & region & rate\\\\\n",
       " <chr> & <fct> & <dbl>\\\\\n",
       "\\hline\n",
       "\t Hawaii        & West          & 0.5145920\\\\\n",
       "\t Iowa          & North Central & 0.6893484\\\\\n",
       "\t New Hampshire & Northeast     & 0.3798036\\\\\n",
       "\t North Dakota  & North Central & 0.5947151\\\\\n",
       "\t Vermont       & Northeast     & 0.3196211\\\\\n",
       "\\end{tabular}\n"
      ],
      "text/markdown": [
       "\n",
       "A data.frame: 5 × 3\n",
       "\n",
       "| state &lt;chr&gt; | region &lt;fct&gt; | rate &lt;dbl&gt; |\n",
       "|---|---|---|\n",
       "| Hawaii        | West          | 0.5145920 |\n",
       "| Iowa          | North Central | 0.6893484 |\n",
       "| New Hampshire | Northeast     | 0.3798036 |\n",
       "| North Dakota  | North Central | 0.5947151 |\n",
       "| Vermont       | Northeast     | 0.3196211 |\n",
       "\n"
      ],
      "text/plain": [
       "  state         region        rate     \n",
       "1 Hawaii        West          0.5145920\n",
       "2 Iowa          North Central 0.6893484\n",
       "3 New Hampshire Northeast     0.3798036\n",
       "4 North Dakota  North Central 0.5947151\n",
       "5 Vermont       Northeast     0.3196211"
      ]
     },
     "metadata": {},
     "output_type": "display_data"
    }
   ],
   "source": [
    "#Selecting columns with select:\n",
    "\n",
    "new_table <- select(murders, state, region, rate)\n",
    "filter(new_table, rate <= 0.71)"
   ]
  },
  {
   "cell_type": "markdown",
   "id": "4a1a2079",
   "metadata": {},
   "source": [
    "The pipe: %>% or |>:"
   ]
  },
  {
   "cell_type": "code",
   "execution_count": 13,
   "id": "2927c5ab",
   "metadata": {},
   "outputs": [
    {
     "data": {
      "text/html": [
       "<table class=\"dataframe\">\n",
       "<caption>A data.frame: 5 × 3</caption>\n",
       "<thead>\n",
       "\t<tr><th scope=col>state</th><th scope=col>region</th><th scope=col>rate</th></tr>\n",
       "\t<tr><th scope=col>&lt;chr&gt;</th><th scope=col>&lt;fct&gt;</th><th scope=col>&lt;dbl&gt;</th></tr>\n",
       "</thead>\n",
       "<tbody>\n",
       "\t<tr><td>Hawaii       </td><td>West         </td><td>0.5145920</td></tr>\n",
       "\t<tr><td>Iowa         </td><td>North Central</td><td>0.6893484</td></tr>\n",
       "\t<tr><td>New Hampshire</td><td>Northeast    </td><td>0.3798036</td></tr>\n",
       "\t<tr><td>North Dakota </td><td>North Central</td><td>0.5947151</td></tr>\n",
       "\t<tr><td>Vermont      </td><td>Northeast    </td><td>0.3196211</td></tr>\n",
       "</tbody>\n",
       "</table>\n"
      ],
      "text/latex": [
       "A data.frame: 5 × 3\n",
       "\\begin{tabular}{lll}\n",
       " state & region & rate\\\\\n",
       " <chr> & <fct> & <dbl>\\\\\n",
       "\\hline\n",
       "\t Hawaii        & West          & 0.5145920\\\\\n",
       "\t Iowa          & North Central & 0.6893484\\\\\n",
       "\t New Hampshire & Northeast     & 0.3798036\\\\\n",
       "\t North Dakota  & North Central & 0.5947151\\\\\n",
       "\t Vermont       & Northeast     & 0.3196211\\\\\n",
       "\\end{tabular}\n"
      ],
      "text/markdown": [
       "\n",
       "A data.frame: 5 × 3\n",
       "\n",
       "| state &lt;chr&gt; | region &lt;fct&gt; | rate &lt;dbl&gt; |\n",
       "|---|---|---|\n",
       "| Hawaii        | West          | 0.5145920 |\n",
       "| Iowa          | North Central | 0.6893484 |\n",
       "| New Hampshire | Northeast     | 0.3798036 |\n",
       "| North Dakota  | North Central | 0.5947151 |\n",
       "| Vermont       | Northeast     | 0.3196211 |\n",
       "\n"
      ],
      "text/plain": [
       "  state         region        rate     \n",
       "1 Hawaii        West          0.5145920\n",
       "2 Iowa          North Central 0.6893484\n",
       "3 New Hampshire Northeast     0.3798036\n",
       "4 North Dakota  North Central 0.5947151\n",
       "5 Vermont       Northeast     0.3196211"
      ]
     },
     "metadata": {},
     "output_type": "display_data"
    }
   ],
   "source": [
    "#In R we can perform a series of operations, for example select and then filter, \n",
    "#by sending the results of one function to another using what is called the pipe operator: %>%\n",
    "\n",
    "murders %>% select(state, region, rate) %>% filter(rate <= 0.71)"
   ]
  },
  {
   "cell_type": "markdown",
   "id": "19080f88",
   "metadata": {},
   "source": [
    "Summarizing data:"
   ]
  },
  {
   "cell_type": "code",
   "execution_count": 23,
   "id": "0b0883b6",
   "metadata": {},
   "outputs": [],
   "source": [
    "#The summarize function in dplyr provides a way to compute summary statistics with intuitive and readable code.\n",
    "\n",
    "\n",
    "library(dplyr)\n",
    "library(dslabs)\n",
    "data(heights)\n",
    "help(\"dplyr\")"
   ]
  },
  {
   "cell_type": "code",
   "execution_count": 24,
   "id": "e6d833d7",
   "metadata": {},
   "outputs": [
    {
     "data": {
      "text/html": [
       "<table class=\"dataframe\">\n",
       "<caption>A data.frame: 1 × 2</caption>\n",
       "<thead>\n",
       "\t<tr><th scope=col>average</th><th scope=col>standard_deviation</th></tr>\n",
       "\t<tr><th scope=col>&lt;dbl&gt;</th><th scope=col>&lt;dbl&gt;</th></tr>\n",
       "</thead>\n",
       "<tbody>\n",
       "\t<tr><td>64.93942</td><td>3.760656</td></tr>\n",
       "</tbody>\n",
       "</table>\n"
      ],
      "text/latex": [
       "A data.frame: 1 × 2\n",
       "\\begin{tabular}{ll}\n",
       " average & standard\\_deviation\\\\\n",
       " <dbl> & <dbl>\\\\\n",
       "\\hline\n",
       "\t 64.93942 & 3.760656\\\\\n",
       "\\end{tabular}\n"
      ],
      "text/markdown": [
       "\n",
       "A data.frame: 1 × 2\n",
       "\n",
       "| average &lt;dbl&gt; | standard_deviation &lt;dbl&gt; |\n",
       "|---|---|\n",
       "| 64.93942 | 3.760656 |\n",
       "\n"
      ],
      "text/plain": [
       "  average  standard_deviation\n",
       "1 64.93942 3.760656          "
      ]
     },
     "metadata": {},
     "output_type": "display_data"
    }
   ],
   "source": [
    "s <- heights %>% \n",
    "  filter(sex == \"Female\") %>%\n",
    "  summarize(average = mean(height), standard_deviation = sd(height))\n",
    "s"
   ]
  },
  {
   "cell_type": "code",
   "execution_count": 44,
   "id": "ee7dd178",
   "metadata": {},
   "outputs": [
    {
     "data": {
      "text/html": [
       "64.9394242506451"
      ],
      "text/latex": [
       "64.9394242506451"
      ],
      "text/markdown": [
       "64.9394242506451"
      ],
      "text/plain": [
       "[1] 64.93942"
      ]
     },
     "metadata": {},
     "output_type": "display_data"
    }
   ],
   "source": [
    "#Since s is a dataframe:\n",
    "s$average"
   ]
  },
  {
   "cell_type": "code",
   "execution_count": 25,
   "id": "746272b3",
   "metadata": {},
   "outputs": [
    {
     "data": {
      "text/plain": [
       "     sex          height     \n",
       " Female:238   Min.   :51.00  \n",
       " Male  :  0   1st Qu.:63.00  \n",
       "              Median :64.98  \n",
       "              Mean   :64.94  \n",
       "              3rd Qu.:67.00  \n",
       "              Max.   :79.00  "
      ]
     },
     "metadata": {},
     "output_type": "display_data"
    }
   ],
   "source": [
    "#Multiple summaries:\n",
    "\n",
    "heights %>% \n",
    "  filter(sex == \"Female\") %>%\n",
    "  summary()\n",
    "\n"
   ]
  },
  {
   "cell_type": "code",
   "execution_count": 7,
   "id": "51d54736",
   "metadata": {},
   "outputs": [],
   "source": [
    "help(summary)"
   ]
  },
  {
   "cell_type": "code",
   "execution_count": 19,
   "id": "2aeee19f",
   "metadata": {},
   "outputs": [
    {
     "data": {
      "text/html": [
       "<table class=\"dataframe\">\n",
       "<caption>A tibble: 2 × 3</caption>\n",
       "<thead>\n",
       "\t<tr><th scope=col>sex</th><th scope=col>average</th><th scope=col>standard_deviation</th></tr>\n",
       "\t<tr><th scope=col>&lt;fct&gt;</th><th scope=col>&lt;dbl&gt;</th><th scope=col>&lt;dbl&gt;</th></tr>\n",
       "</thead>\n",
       "<tbody>\n",
       "\t<tr><td>Female</td><td>64.93942</td><td>3.760656</td></tr>\n",
       "\t<tr><td>Male  </td><td>69.31475</td><td>3.611024</td></tr>\n",
       "</tbody>\n",
       "</table>\n"
      ],
      "text/latex": [
       "A tibble: 2 × 3\n",
       "\\begin{tabular}{lll}\n",
       " sex & average & standard\\_deviation\\\\\n",
       " <fct> & <dbl> & <dbl>\\\\\n",
       "\\hline\n",
       "\t Female & 64.93942 & 3.760656\\\\\n",
       "\t Male   & 69.31475 & 3.611024\\\\\n",
       "\\end{tabular}\n"
      ],
      "text/markdown": [
       "\n",
       "A tibble: 2 × 3\n",
       "\n",
       "| sex &lt;fct&gt; | average &lt;dbl&gt; | standard_deviation &lt;dbl&gt; |\n",
       "|---|---|---|\n",
       "| Female | 64.93942 | 3.760656 |\n",
       "| Male   | 69.31475 | 3.611024 |\n",
       "\n"
      ],
      "text/plain": [
       "  sex    average  standard_deviation\n",
       "1 Female 64.93942 3.760656          \n",
       "2 Male   69.31475 3.611024          "
      ]
     },
     "metadata": {},
     "output_type": "display_data"
    }
   ],
   "source": [
    "#Group then summarize with group_by:\n",
    "heights %>% \n",
    "  group_by(sex) %>%\n",
    "  summarize(average = mean(height), standard_deviation = sd(height))"
   ]
  },
  {
   "cell_type": "markdown",
   "id": "2857a365",
   "metadata": {},
   "source": [
    "Sorting data frames:"
   ]
  },
  {
   "cell_type": "code",
   "execution_count": 20,
   "id": "d502b467",
   "metadata": {},
   "outputs": [
    {
     "data": {
      "text/html": [
       "<table class=\"dataframe\">\n",
       "<caption>A data.frame: 6 × 6</caption>\n",
       "<thead>\n",
       "\t<tr><th></th><th scope=col>state</th><th scope=col>abb</th><th scope=col>region</th><th scope=col>population</th><th scope=col>total</th><th scope=col>rate</th></tr>\n",
       "\t<tr><th></th><th scope=col>&lt;chr&gt;</th><th scope=col>&lt;chr&gt;</th><th scope=col>&lt;fct&gt;</th><th scope=col>&lt;dbl&gt;</th><th scope=col>&lt;dbl&gt;</th><th scope=col>&lt;dbl&gt;</th></tr>\n",
       "</thead>\n",
       "<tbody>\n",
       "\t<tr><th scope=row>1</th><td>Wyoming             </td><td>WY</td><td>West         </td><td>563626</td><td> 5</td><td> 0.8871131</td></tr>\n",
       "\t<tr><th scope=row>2</th><td>District of Columbia</td><td>DC</td><td>South        </td><td>601723</td><td>99</td><td>16.4527532</td></tr>\n",
       "\t<tr><th scope=row>3</th><td>Vermont             </td><td>VT</td><td>Northeast    </td><td>625741</td><td> 2</td><td> 0.3196211</td></tr>\n",
       "\t<tr><th scope=row>4</th><td>North Dakota        </td><td>ND</td><td>North Central</td><td>672591</td><td> 4</td><td> 0.5947151</td></tr>\n",
       "\t<tr><th scope=row>5</th><td>Alaska              </td><td>AK</td><td>West         </td><td>710231</td><td>19</td><td> 2.6751860</td></tr>\n",
       "\t<tr><th scope=row>6</th><td>South Dakota        </td><td>SD</td><td>North Central</td><td>814180</td><td> 8</td><td> 0.9825837</td></tr>\n",
       "</tbody>\n",
       "</table>\n"
      ],
      "text/latex": [
       "A data.frame: 6 × 6\n",
       "\\begin{tabular}{r|llllll}\n",
       "  & state & abb & region & population & total & rate\\\\\n",
       "  & <chr> & <chr> & <fct> & <dbl> & <dbl> & <dbl>\\\\\n",
       "\\hline\n",
       "\t1 & Wyoming              & WY & West          & 563626 &  5 &  0.8871131\\\\\n",
       "\t2 & District of Columbia & DC & South         & 601723 & 99 & 16.4527532\\\\\n",
       "\t3 & Vermont              & VT & Northeast     & 625741 &  2 &  0.3196211\\\\\n",
       "\t4 & North Dakota         & ND & North Central & 672591 &  4 &  0.5947151\\\\\n",
       "\t5 & Alaska               & AK & West          & 710231 & 19 &  2.6751860\\\\\n",
       "\t6 & South Dakota         & SD & North Central & 814180 &  8 &  0.9825837\\\\\n",
       "\\end{tabular}\n"
      ],
      "text/markdown": [
       "\n",
       "A data.frame: 6 × 6\n",
       "\n",
       "| <!--/--> | state &lt;chr&gt; | abb &lt;chr&gt; | region &lt;fct&gt; | population &lt;dbl&gt; | total &lt;dbl&gt; | rate &lt;dbl&gt; |\n",
       "|---|---|---|---|---|---|---|\n",
       "| 1 | Wyoming              | WY | West          | 563626 |  5 |  0.8871131 |\n",
       "| 2 | District of Columbia | DC | South         | 601723 | 99 | 16.4527532 |\n",
       "| 3 | Vermont              | VT | Northeast     | 625741 |  2 |  0.3196211 |\n",
       "| 4 | North Dakota         | ND | North Central | 672591 |  4 |  0.5947151 |\n",
       "| 5 | Alaska               | AK | West          | 710231 | 19 |  2.6751860 |\n",
       "| 6 | South Dakota         | SD | North Central | 814180 |  8 |  0.9825837 |\n",
       "\n"
      ],
      "text/plain": [
       "  state                abb region        population total rate      \n",
       "1 Wyoming              WY  West          563626      5     0.8871131\n",
       "2 District of Columbia DC  South         601723     99    16.4527532\n",
       "3 Vermont              VT  Northeast     625741      2     0.3196211\n",
       "4 North Dakota         ND  North Central 672591      4     0.5947151\n",
       "5 Alaska               AK  West          710231     19     2.6751860\n",
       "6 South Dakota         SD  North Central 814180      8     0.9825837"
      ]
     },
     "metadata": {},
     "output_type": "display_data"
    }
   ],
   "source": [
    "murders %>%\n",
    "  arrange(population) %>%\n",
    "  head()"
   ]
  },
  {
   "cell_type": "code",
   "execution_count": 21,
   "id": "d045e6c6",
   "metadata": {},
   "outputs": [
    {
     "data": {
      "text/html": [
       "<table class=\"dataframe\">\n",
       "<caption>A data.frame: 51 × 6</caption>\n",
       "<thead>\n",
       "\t<tr><th scope=col>state</th><th scope=col>abb</th><th scope=col>region</th><th scope=col>population</th><th scope=col>total</th><th scope=col>rate</th></tr>\n",
       "\t<tr><th scope=col>&lt;chr&gt;</th><th scope=col>&lt;chr&gt;</th><th scope=col>&lt;fct&gt;</th><th scope=col>&lt;dbl&gt;</th><th scope=col>&lt;dbl&gt;</th><th scope=col>&lt;dbl&gt;</th></tr>\n",
       "</thead>\n",
       "<tbody>\n",
       "\t<tr><td>District of Columbia</td><td>DC</td><td>South        </td><td>  601723</td><td>  99</td><td>16.4527532</td></tr>\n",
       "\t<tr><td>Louisiana           </td><td>LA</td><td>South        </td><td> 4533372</td><td> 351</td><td> 7.7425810</td></tr>\n",
       "\t<tr><td>Missouri            </td><td>MO</td><td>North Central</td><td> 5988927</td><td> 321</td><td> 5.3598917</td></tr>\n",
       "\t<tr><td>Maryland            </td><td>MD</td><td>South        </td><td> 5773552</td><td> 293</td><td> 5.0748655</td></tr>\n",
       "\t<tr><td>South Carolina      </td><td>SC</td><td>South        </td><td> 4625364</td><td> 207</td><td> 4.4753235</td></tr>\n",
       "\t<tr><td>Delaware            </td><td>DE</td><td>South        </td><td>  897934</td><td>  38</td><td> 4.2319369</td></tr>\n",
       "\t<tr><td>Michigan            </td><td>MI</td><td>North Central</td><td> 9883640</td><td> 413</td><td> 4.1786225</td></tr>\n",
       "\t<tr><td>Mississippi         </td><td>MS</td><td>South        </td><td> 2967297</td><td> 120</td><td> 4.0440846</td></tr>\n",
       "\t<tr><td>Georgia             </td><td>GA</td><td>South        </td><td> 9920000</td><td> 376</td><td> 3.7903226</td></tr>\n",
       "\t<tr><td>Arizona             </td><td>AZ</td><td>West         </td><td> 6392017</td><td> 232</td><td> 3.6295273</td></tr>\n",
       "\t<tr><td>Pennsylvania        </td><td>PA</td><td>Northeast    </td><td>12702379</td><td> 457</td><td> 3.5977513</td></tr>\n",
       "\t<tr><td>Tennessee           </td><td>TN</td><td>South        </td><td> 6346105</td><td> 219</td><td> 3.4509357</td></tr>\n",
       "\t<tr><td>Florida             </td><td>FL</td><td>South        </td><td>19687653</td><td> 669</td><td> 3.3980688</td></tr>\n",
       "\t<tr><td>California          </td><td>CA</td><td>West         </td><td>37253956</td><td>1257</td><td> 3.3741383</td></tr>\n",
       "\t<tr><td>New Mexico          </td><td>NM</td><td>West         </td><td> 2059179</td><td>  67</td><td> 3.2537239</td></tr>\n",
       "\t<tr><td>Texas               </td><td>TX</td><td>South        </td><td>25145561</td><td> 805</td><td> 3.2013603</td></tr>\n",
       "\t<tr><td>Arkansas            </td><td>AR</td><td>South        </td><td> 2915918</td><td>  93</td><td> 3.1893901</td></tr>\n",
       "\t<tr><td>Virginia            </td><td>VA</td><td>South        </td><td> 8001024</td><td> 250</td><td> 3.1246001</td></tr>\n",
       "\t<tr><td>Nevada              </td><td>NV</td><td>West         </td><td> 2700551</td><td>  84</td><td> 3.1104763</td></tr>\n",
       "\t<tr><td>North Carolina      </td><td>NC</td><td>South        </td><td> 9535483</td><td> 286</td><td> 2.9993237</td></tr>\n",
       "\t<tr><td>Oklahoma            </td><td>OK</td><td>South        </td><td> 3751351</td><td> 111</td><td> 2.9589340</td></tr>\n",
       "\t<tr><td>Illinois            </td><td>IL</td><td>North Central</td><td>12830632</td><td> 364</td><td> 2.8369608</td></tr>\n",
       "\t<tr><td>Alabama             </td><td>AL</td><td>South        </td><td> 4779736</td><td> 135</td><td> 2.8244238</td></tr>\n",
       "\t<tr><td>New Jersey          </td><td>NJ</td><td>Northeast    </td><td> 8791894</td><td> 246</td><td> 2.7980319</td></tr>\n",
       "\t<tr><td>Connecticut         </td><td>CT</td><td>Northeast    </td><td> 3574097</td><td>  97</td><td> 2.7139722</td></tr>\n",
       "\t<tr><td>Ohio                </td><td>OH</td><td>North Central</td><td>11536504</td><td> 310</td><td> 2.6871225</td></tr>\n",
       "\t<tr><td>Alaska              </td><td>AK</td><td>West         </td><td>  710231</td><td>  19</td><td> 2.6751860</td></tr>\n",
       "\t<tr><td>Kentucky            </td><td>KY</td><td>South        </td><td> 4339367</td><td> 116</td><td> 2.6732010</td></tr>\n",
       "\t<tr><td>New York            </td><td>NY</td><td>Northeast    </td><td>19378102</td><td> 517</td><td> 2.6679599</td></tr>\n",
       "\t<tr><td>Kansas              </td><td>KS</td><td>North Central</td><td> 2853118</td><td>  63</td><td> 2.2081106</td></tr>\n",
       "\t<tr><td>Indiana             </td><td>IN</td><td>North Central</td><td> 6483802</td><td> 142</td><td> 2.1900730</td></tr>\n",
       "\t<tr><td>Massachusetts       </td><td>MA</td><td>Northeast    </td><td> 6547629</td><td> 118</td><td> 1.8021791</td></tr>\n",
       "\t<tr><td>Nebraska            </td><td>NE</td><td>North Central</td><td> 1826341</td><td>  32</td><td> 1.7521372</td></tr>\n",
       "\t<tr><td>Wisconsin           </td><td>WI</td><td>North Central</td><td> 5686986</td><td>  97</td><td> 1.7056487</td></tr>\n",
       "\t<tr><td>Rhode Island        </td><td>RI</td><td>Northeast    </td><td> 1052567</td><td>  16</td><td> 1.5200933</td></tr>\n",
       "\t<tr><td>West Virginia       </td><td>WV</td><td>South        </td><td> 1852994</td><td>  27</td><td> 1.4571013</td></tr>\n",
       "\t<tr><td>Washington          </td><td>WA</td><td>West         </td><td> 6724540</td><td>  93</td><td> 1.3829942</td></tr>\n",
       "\t<tr><td>Colorado            </td><td>CO</td><td>West         </td><td> 5029196</td><td>  65</td><td> 1.2924531</td></tr>\n",
       "\t<tr><td>Montana             </td><td>MT</td><td>West         </td><td>  989415</td><td>  12</td><td> 1.2128379</td></tr>\n",
       "\t<tr><td>Minnesota           </td><td>MN</td><td>North Central</td><td> 5303925</td><td>  53</td><td> 0.9992600</td></tr>\n",
       "\t<tr><td>South Dakota        </td><td>SD</td><td>North Central</td><td>  814180</td><td>   8</td><td> 0.9825837</td></tr>\n",
       "\t<tr><td>Oregon              </td><td>OR</td><td>West         </td><td> 3831074</td><td>  36</td><td> 0.9396843</td></tr>\n",
       "\t<tr><td>Wyoming             </td><td>WY</td><td>West         </td><td>  563626</td><td>   5</td><td> 0.8871131</td></tr>\n",
       "\t<tr><td>Maine               </td><td>ME</td><td>Northeast    </td><td> 1328361</td><td>  11</td><td> 0.8280881</td></tr>\n",
       "\t<tr><td>Utah                </td><td>UT</td><td>West         </td><td> 2763885</td><td>  22</td><td> 0.7959810</td></tr>\n",
       "\t<tr><td>Idaho               </td><td>ID</td><td>West         </td><td> 1567582</td><td>  12</td><td> 0.7655102</td></tr>\n",
       "\t<tr><td>Iowa                </td><td>IA</td><td>North Central</td><td> 3046355</td><td>  21</td><td> 0.6893484</td></tr>\n",
       "\t<tr><td>North Dakota        </td><td>ND</td><td>North Central</td><td>  672591</td><td>   4</td><td> 0.5947151</td></tr>\n",
       "\t<tr><td>Hawaii              </td><td>HI</td><td>West         </td><td> 1360301</td><td>   7</td><td> 0.5145920</td></tr>\n",
       "\t<tr><td>New Hampshire       </td><td>NH</td><td>Northeast    </td><td> 1316470</td><td>   5</td><td> 0.3798036</td></tr>\n",
       "\t<tr><td>Vermont             </td><td>VT</td><td>Northeast    </td><td>  625741</td><td>   2</td><td> 0.3196211</td></tr>\n",
       "</tbody>\n",
       "</table>\n"
      ],
      "text/latex": [
       "A data.frame: 51 × 6\n",
       "\\begin{tabular}{llllll}\n",
       " state & abb & region & population & total & rate\\\\\n",
       " <chr> & <chr> & <fct> & <dbl> & <dbl> & <dbl>\\\\\n",
       "\\hline\n",
       "\t District of Columbia & DC & South         &   601723 &   99 & 16.4527532\\\\\n",
       "\t Louisiana            & LA & South         &  4533372 &  351 &  7.7425810\\\\\n",
       "\t Missouri             & MO & North Central &  5988927 &  321 &  5.3598917\\\\\n",
       "\t Maryland             & MD & South         &  5773552 &  293 &  5.0748655\\\\\n",
       "\t South Carolina       & SC & South         &  4625364 &  207 &  4.4753235\\\\\n",
       "\t Delaware             & DE & South         &   897934 &   38 &  4.2319369\\\\\n",
       "\t Michigan             & MI & North Central &  9883640 &  413 &  4.1786225\\\\\n",
       "\t Mississippi          & MS & South         &  2967297 &  120 &  4.0440846\\\\\n",
       "\t Georgia              & GA & South         &  9920000 &  376 &  3.7903226\\\\\n",
       "\t Arizona              & AZ & West          &  6392017 &  232 &  3.6295273\\\\\n",
       "\t Pennsylvania         & PA & Northeast     & 12702379 &  457 &  3.5977513\\\\\n",
       "\t Tennessee            & TN & South         &  6346105 &  219 &  3.4509357\\\\\n",
       "\t Florida              & FL & South         & 19687653 &  669 &  3.3980688\\\\\n",
       "\t California           & CA & West          & 37253956 & 1257 &  3.3741383\\\\\n",
       "\t New Mexico           & NM & West          &  2059179 &   67 &  3.2537239\\\\\n",
       "\t Texas                & TX & South         & 25145561 &  805 &  3.2013603\\\\\n",
       "\t Arkansas             & AR & South         &  2915918 &   93 &  3.1893901\\\\\n",
       "\t Virginia             & VA & South         &  8001024 &  250 &  3.1246001\\\\\n",
       "\t Nevada               & NV & West          &  2700551 &   84 &  3.1104763\\\\\n",
       "\t North Carolina       & NC & South         &  9535483 &  286 &  2.9993237\\\\\n",
       "\t Oklahoma             & OK & South         &  3751351 &  111 &  2.9589340\\\\\n",
       "\t Illinois             & IL & North Central & 12830632 &  364 &  2.8369608\\\\\n",
       "\t Alabama              & AL & South         &  4779736 &  135 &  2.8244238\\\\\n",
       "\t New Jersey           & NJ & Northeast     &  8791894 &  246 &  2.7980319\\\\\n",
       "\t Connecticut          & CT & Northeast     &  3574097 &   97 &  2.7139722\\\\\n",
       "\t Ohio                 & OH & North Central & 11536504 &  310 &  2.6871225\\\\\n",
       "\t Alaska               & AK & West          &   710231 &   19 &  2.6751860\\\\\n",
       "\t Kentucky             & KY & South         &  4339367 &  116 &  2.6732010\\\\\n",
       "\t New York             & NY & Northeast     & 19378102 &  517 &  2.6679599\\\\\n",
       "\t Kansas               & KS & North Central &  2853118 &   63 &  2.2081106\\\\\n",
       "\t Indiana              & IN & North Central &  6483802 &  142 &  2.1900730\\\\\n",
       "\t Massachusetts        & MA & Northeast     &  6547629 &  118 &  1.8021791\\\\\n",
       "\t Nebraska             & NE & North Central &  1826341 &   32 &  1.7521372\\\\\n",
       "\t Wisconsin            & WI & North Central &  5686986 &   97 &  1.7056487\\\\\n",
       "\t Rhode Island         & RI & Northeast     &  1052567 &   16 &  1.5200933\\\\\n",
       "\t West Virginia        & WV & South         &  1852994 &   27 &  1.4571013\\\\\n",
       "\t Washington           & WA & West          &  6724540 &   93 &  1.3829942\\\\\n",
       "\t Colorado             & CO & West          &  5029196 &   65 &  1.2924531\\\\\n",
       "\t Montana              & MT & West          &   989415 &   12 &  1.2128379\\\\\n",
       "\t Minnesota            & MN & North Central &  5303925 &   53 &  0.9992600\\\\\n",
       "\t South Dakota         & SD & North Central &   814180 &    8 &  0.9825837\\\\\n",
       "\t Oregon               & OR & West          &  3831074 &   36 &  0.9396843\\\\\n",
       "\t Wyoming              & WY & West          &   563626 &    5 &  0.8871131\\\\\n",
       "\t Maine                & ME & Northeast     &  1328361 &   11 &  0.8280881\\\\\n",
       "\t Utah                 & UT & West          &  2763885 &   22 &  0.7959810\\\\\n",
       "\t Idaho                & ID & West          &  1567582 &   12 &  0.7655102\\\\\n",
       "\t Iowa                 & IA & North Central &  3046355 &   21 &  0.6893484\\\\\n",
       "\t North Dakota         & ND & North Central &   672591 &    4 &  0.5947151\\\\\n",
       "\t Hawaii               & HI & West          &  1360301 &    7 &  0.5145920\\\\\n",
       "\t New Hampshire        & NH & Northeast     &  1316470 &    5 &  0.3798036\\\\\n",
       "\t Vermont              & VT & Northeast     &   625741 &    2 &  0.3196211\\\\\n",
       "\\end{tabular}\n"
      ],
      "text/markdown": [
       "\n",
       "A data.frame: 51 × 6\n",
       "\n",
       "| state &lt;chr&gt; | abb &lt;chr&gt; | region &lt;fct&gt; | population &lt;dbl&gt; | total &lt;dbl&gt; | rate &lt;dbl&gt; |\n",
       "|---|---|---|---|---|---|\n",
       "| District of Columbia | DC | South         |   601723 |   99 | 16.4527532 |\n",
       "| Louisiana            | LA | South         |  4533372 |  351 |  7.7425810 |\n",
       "| Missouri             | MO | North Central |  5988927 |  321 |  5.3598917 |\n",
       "| Maryland             | MD | South         |  5773552 |  293 |  5.0748655 |\n",
       "| South Carolina       | SC | South         |  4625364 |  207 |  4.4753235 |\n",
       "| Delaware             | DE | South         |   897934 |   38 |  4.2319369 |\n",
       "| Michigan             | MI | North Central |  9883640 |  413 |  4.1786225 |\n",
       "| Mississippi          | MS | South         |  2967297 |  120 |  4.0440846 |\n",
       "| Georgia              | GA | South         |  9920000 |  376 |  3.7903226 |\n",
       "| Arizona              | AZ | West          |  6392017 |  232 |  3.6295273 |\n",
       "| Pennsylvania         | PA | Northeast     | 12702379 |  457 |  3.5977513 |\n",
       "| Tennessee            | TN | South         |  6346105 |  219 |  3.4509357 |\n",
       "| Florida              | FL | South         | 19687653 |  669 |  3.3980688 |\n",
       "| California           | CA | West          | 37253956 | 1257 |  3.3741383 |\n",
       "| New Mexico           | NM | West          |  2059179 |   67 |  3.2537239 |\n",
       "| Texas                | TX | South         | 25145561 |  805 |  3.2013603 |\n",
       "| Arkansas             | AR | South         |  2915918 |   93 |  3.1893901 |\n",
       "| Virginia             | VA | South         |  8001024 |  250 |  3.1246001 |\n",
       "| Nevada               | NV | West          |  2700551 |   84 |  3.1104763 |\n",
       "| North Carolina       | NC | South         |  9535483 |  286 |  2.9993237 |\n",
       "| Oklahoma             | OK | South         |  3751351 |  111 |  2.9589340 |\n",
       "| Illinois             | IL | North Central | 12830632 |  364 |  2.8369608 |\n",
       "| Alabama              | AL | South         |  4779736 |  135 |  2.8244238 |\n",
       "| New Jersey           | NJ | Northeast     |  8791894 |  246 |  2.7980319 |\n",
       "| Connecticut          | CT | Northeast     |  3574097 |   97 |  2.7139722 |\n",
       "| Ohio                 | OH | North Central | 11536504 |  310 |  2.6871225 |\n",
       "| Alaska               | AK | West          |   710231 |   19 |  2.6751860 |\n",
       "| Kentucky             | KY | South         |  4339367 |  116 |  2.6732010 |\n",
       "| New York             | NY | Northeast     | 19378102 |  517 |  2.6679599 |\n",
       "| Kansas               | KS | North Central |  2853118 |   63 |  2.2081106 |\n",
       "| Indiana              | IN | North Central |  6483802 |  142 |  2.1900730 |\n",
       "| Massachusetts        | MA | Northeast     |  6547629 |  118 |  1.8021791 |\n",
       "| Nebraska             | NE | North Central |  1826341 |   32 |  1.7521372 |\n",
       "| Wisconsin            | WI | North Central |  5686986 |   97 |  1.7056487 |\n",
       "| Rhode Island         | RI | Northeast     |  1052567 |   16 |  1.5200933 |\n",
       "| West Virginia        | WV | South         |  1852994 |   27 |  1.4571013 |\n",
       "| Washington           | WA | West          |  6724540 |   93 |  1.3829942 |\n",
       "| Colorado             | CO | West          |  5029196 |   65 |  1.2924531 |\n",
       "| Montana              | MT | West          |   989415 |   12 |  1.2128379 |\n",
       "| Minnesota            | MN | North Central |  5303925 |   53 |  0.9992600 |\n",
       "| South Dakota         | SD | North Central |   814180 |    8 |  0.9825837 |\n",
       "| Oregon               | OR | West          |  3831074 |   36 |  0.9396843 |\n",
       "| Wyoming              | WY | West          |   563626 |    5 |  0.8871131 |\n",
       "| Maine                | ME | Northeast     |  1328361 |   11 |  0.8280881 |\n",
       "| Utah                 | UT | West          |  2763885 |   22 |  0.7959810 |\n",
       "| Idaho                | ID | West          |  1567582 |   12 |  0.7655102 |\n",
       "| Iowa                 | IA | North Central |  3046355 |   21 |  0.6893484 |\n",
       "| North Dakota         | ND | North Central |   672591 |    4 |  0.5947151 |\n",
       "| Hawaii               | HI | West          |  1360301 |    7 |  0.5145920 |\n",
       "| New Hampshire        | NH | Northeast     |  1316470 |    5 |  0.3798036 |\n",
       "| Vermont              | VT | Northeast     |   625741 |    2 |  0.3196211 |\n",
       "\n"
      ],
      "text/plain": [
       "   state                abb region        population total rate      \n",
       "1  District of Columbia DC  South           601723     99  16.4527532\n",
       "2  Louisiana            LA  South          4533372    351   7.7425810\n",
       "3  Missouri             MO  North Central  5988927    321   5.3598917\n",
       "4  Maryland             MD  South          5773552    293   5.0748655\n",
       "5  South Carolina       SC  South          4625364    207   4.4753235\n",
       "6  Delaware             DE  South           897934     38   4.2319369\n",
       "7  Michigan             MI  North Central  9883640    413   4.1786225\n",
       "8  Mississippi          MS  South          2967297    120   4.0440846\n",
       "9  Georgia              GA  South          9920000    376   3.7903226\n",
       "10 Arizona              AZ  West           6392017    232   3.6295273\n",
       "11 Pennsylvania         PA  Northeast     12702379    457   3.5977513\n",
       "12 Tennessee            TN  South          6346105    219   3.4509357\n",
       "13 Florida              FL  South         19687653    669   3.3980688\n",
       "14 California           CA  West          37253956   1257   3.3741383\n",
       "15 New Mexico           NM  West           2059179     67   3.2537239\n",
       "16 Texas                TX  South         25145561    805   3.2013603\n",
       "17 Arkansas             AR  South          2915918     93   3.1893901\n",
       "18 Virginia             VA  South          8001024    250   3.1246001\n",
       "19 Nevada               NV  West           2700551     84   3.1104763\n",
       "20 North Carolina       NC  South          9535483    286   2.9993237\n",
       "21 Oklahoma             OK  South          3751351    111   2.9589340\n",
       "22 Illinois             IL  North Central 12830632    364   2.8369608\n",
       "23 Alabama              AL  South          4779736    135   2.8244238\n",
       "24 New Jersey           NJ  Northeast      8791894    246   2.7980319\n",
       "25 Connecticut          CT  Northeast      3574097     97   2.7139722\n",
       "26 Ohio                 OH  North Central 11536504    310   2.6871225\n",
       "27 Alaska               AK  West            710231     19   2.6751860\n",
       "28 Kentucky             KY  South          4339367    116   2.6732010\n",
       "29 New York             NY  Northeast     19378102    517   2.6679599\n",
       "30 Kansas               KS  North Central  2853118     63   2.2081106\n",
       "31 Indiana              IN  North Central  6483802    142   2.1900730\n",
       "32 Massachusetts        MA  Northeast      6547629    118   1.8021791\n",
       "33 Nebraska             NE  North Central  1826341     32   1.7521372\n",
       "34 Wisconsin            WI  North Central  5686986     97   1.7056487\n",
       "35 Rhode Island         RI  Northeast      1052567     16   1.5200933\n",
       "36 West Virginia        WV  South          1852994     27   1.4571013\n",
       "37 Washington           WA  West           6724540     93   1.3829942\n",
       "38 Colorado             CO  West           5029196     65   1.2924531\n",
       "39 Montana              MT  West            989415     12   1.2128379\n",
       "40 Minnesota            MN  North Central  5303925     53   0.9992600\n",
       "41 South Dakota         SD  North Central   814180      8   0.9825837\n",
       "42 Oregon               OR  West           3831074     36   0.9396843\n",
       "43 Wyoming              WY  West            563626      5   0.8871131\n",
       "44 Maine                ME  Northeast      1328361     11   0.8280881\n",
       "45 Utah                 UT  West           2763885     22   0.7959810\n",
       "46 Idaho                ID  West           1567582     12   0.7655102\n",
       "47 Iowa                 IA  North Central  3046355     21   0.6893484\n",
       "48 North Dakota         ND  North Central   672591      4   0.5947151\n",
       "49 Hawaii               HI  West           1360301      7   0.5145920\n",
       "50 New Hampshire        NH  Northeast      1316470      5   0.3798036\n",
       "51 Vermont              VT  Northeast       625741      2   0.3196211"
      ]
     },
     "metadata": {},
     "output_type": "display_data"
    }
   ],
   "source": [
    "#To sort the table in descending order, we can type:\n",
    "\n",
    "murders %>% \n",
    "  arrange(desc(rate)) "
   ]
  },
  {
   "cell_type": "code",
   "execution_count": 22,
   "id": "08d003c9",
   "metadata": {},
   "outputs": [
    {
     "data": {
      "text/html": [
       "<table class=\"dataframe\">\n",
       "<caption>A data.frame: 6 × 6</caption>\n",
       "<thead>\n",
       "\t<tr><th></th><th scope=col>state</th><th scope=col>abb</th><th scope=col>region</th><th scope=col>population</th><th scope=col>total</th><th scope=col>rate</th></tr>\n",
       "\t<tr><th></th><th scope=col>&lt;chr&gt;</th><th scope=col>&lt;chr&gt;</th><th scope=col>&lt;fct&gt;</th><th scope=col>&lt;dbl&gt;</th><th scope=col>&lt;dbl&gt;</th><th scope=col>&lt;dbl&gt;</th></tr>\n",
       "</thead>\n",
       "<tbody>\n",
       "\t<tr><th scope=row>1</th><td>Vermont      </td><td>VT</td><td>Northeast</td><td>  625741</td><td>  2</td><td>0.3196211</td></tr>\n",
       "\t<tr><th scope=row>2</th><td>New Hampshire</td><td>NH</td><td>Northeast</td><td> 1316470</td><td>  5</td><td>0.3798036</td></tr>\n",
       "\t<tr><th scope=row>3</th><td>Maine        </td><td>ME</td><td>Northeast</td><td> 1328361</td><td> 11</td><td>0.8280881</td></tr>\n",
       "\t<tr><th scope=row>4</th><td>Rhode Island </td><td>RI</td><td>Northeast</td><td> 1052567</td><td> 16</td><td>1.5200933</td></tr>\n",
       "\t<tr><th scope=row>5</th><td>Massachusetts</td><td>MA</td><td>Northeast</td><td> 6547629</td><td>118</td><td>1.8021791</td></tr>\n",
       "\t<tr><th scope=row>6</th><td>New York     </td><td>NY</td><td>Northeast</td><td>19378102</td><td>517</td><td>2.6679599</td></tr>\n",
       "</tbody>\n",
       "</table>\n"
      ],
      "text/latex": [
       "A data.frame: 6 × 6\n",
       "\\begin{tabular}{r|llllll}\n",
       "  & state & abb & region & population & total & rate\\\\\n",
       "  & <chr> & <chr> & <fct> & <dbl> & <dbl> & <dbl>\\\\\n",
       "\\hline\n",
       "\t1 & Vermont       & VT & Northeast &   625741 &   2 & 0.3196211\\\\\n",
       "\t2 & New Hampshire & NH & Northeast &  1316470 &   5 & 0.3798036\\\\\n",
       "\t3 & Maine         & ME & Northeast &  1328361 &  11 & 0.8280881\\\\\n",
       "\t4 & Rhode Island  & RI & Northeast &  1052567 &  16 & 1.5200933\\\\\n",
       "\t5 & Massachusetts & MA & Northeast &  6547629 & 118 & 1.8021791\\\\\n",
       "\t6 & New York      & NY & Northeast & 19378102 & 517 & 2.6679599\\\\\n",
       "\\end{tabular}\n"
      ],
      "text/markdown": [
       "\n",
       "A data.frame: 6 × 6\n",
       "\n",
       "| <!--/--> | state &lt;chr&gt; | abb &lt;chr&gt; | region &lt;fct&gt; | population &lt;dbl&gt; | total &lt;dbl&gt; | rate &lt;dbl&gt; |\n",
       "|---|---|---|---|---|---|---|\n",
       "| 1 | Vermont       | VT | Northeast |   625741 |   2 | 0.3196211 |\n",
       "| 2 | New Hampshire | NH | Northeast |  1316470 |   5 | 0.3798036 |\n",
       "| 3 | Maine         | ME | Northeast |  1328361 |  11 | 0.8280881 |\n",
       "| 4 | Rhode Island  | RI | Northeast |  1052567 |  16 | 1.5200933 |\n",
       "| 5 | Massachusetts | MA | Northeast |  6547629 | 118 | 1.8021791 |\n",
       "| 6 | New York      | NY | Northeast | 19378102 | 517 | 2.6679599 |\n",
       "\n"
      ],
      "text/plain": [
       "  state         abb region    population total rate     \n",
       "1 Vermont       VT  Northeast   625741     2   0.3196211\n",
       "2 New Hampshire NH  Northeast  1316470     5   0.3798036\n",
       "3 Maine         ME  Northeast  1328361    11   0.8280881\n",
       "4 Rhode Island  RI  Northeast  1052567    16   1.5200933\n",
       "5 Massachusetts MA  Northeast  6547629   118   1.8021791\n",
       "6 New York      NY  Northeast 19378102   517   2.6679599"
      ]
     },
     "metadata": {},
     "output_type": "display_data"
    }
   ],
   "source": [
    "#Nested sorting.\n",
    "#Here we order by region, then within region we order by murder rate:\n",
    "murders %>% \n",
    "  arrange(region, rate) %>% \n",
    "  head()"
   ]
  },
  {
   "cell_type": "code",
   "execution_count": 23,
   "id": "aba9517e",
   "metadata": {},
   "outputs": [
    {
     "data": {
      "text/html": [
       "<table class=\"dataframe\">\n",
       "<caption>A data.frame: 5 × 6</caption>\n",
       "<thead>\n",
       "\t<tr><th scope=col>state</th><th scope=col>abb</th><th scope=col>region</th><th scope=col>population</th><th scope=col>total</th><th scope=col>rate</th></tr>\n",
       "\t<tr><th scope=col>&lt;chr&gt;</th><th scope=col>&lt;chr&gt;</th><th scope=col>&lt;fct&gt;</th><th scope=col>&lt;dbl&gt;</th><th scope=col>&lt;dbl&gt;</th><th scope=col>&lt;dbl&gt;</th></tr>\n",
       "</thead>\n",
       "<tbody>\n",
       "\t<tr><td>District of Columbia</td><td>DC</td><td>South        </td><td> 601723</td><td> 99</td><td>16.452753</td></tr>\n",
       "\t<tr><td>Louisiana           </td><td>LA</td><td>South        </td><td>4533372</td><td>351</td><td> 7.742581</td></tr>\n",
       "\t<tr><td>Maryland            </td><td>MD</td><td>South        </td><td>5773552</td><td>293</td><td> 5.074866</td></tr>\n",
       "\t<tr><td>Missouri            </td><td>MO</td><td>North Central</td><td>5988927</td><td>321</td><td> 5.359892</td></tr>\n",
       "\t<tr><td>South Carolina      </td><td>SC</td><td>South        </td><td>4625364</td><td>207</td><td> 4.475323</td></tr>\n",
       "</tbody>\n",
       "</table>\n"
      ],
      "text/latex": [
       "A data.frame: 5 × 6\n",
       "\\begin{tabular}{llllll}\n",
       " state & abb & region & population & total & rate\\\\\n",
       " <chr> & <chr> & <fct> & <dbl> & <dbl> & <dbl>\\\\\n",
       "\\hline\n",
       "\t District of Columbia & DC & South         &  601723 &  99 & 16.452753\\\\\n",
       "\t Louisiana            & LA & South         & 4533372 & 351 &  7.742581\\\\\n",
       "\t Maryland             & MD & South         & 5773552 & 293 &  5.074866\\\\\n",
       "\t Missouri             & MO & North Central & 5988927 & 321 &  5.359892\\\\\n",
       "\t South Carolina       & SC & South         & 4625364 & 207 &  4.475323\\\\\n",
       "\\end{tabular}\n"
      ],
      "text/markdown": [
       "\n",
       "A data.frame: 5 × 6\n",
       "\n",
       "| state &lt;chr&gt; | abb &lt;chr&gt; | region &lt;fct&gt; | population &lt;dbl&gt; | total &lt;dbl&gt; | rate &lt;dbl&gt; |\n",
       "|---|---|---|---|---|---|\n",
       "| District of Columbia | DC | South         |  601723 |  99 | 16.452753 |\n",
       "| Louisiana            | LA | South         | 4533372 | 351 |  7.742581 |\n",
       "| Maryland             | MD | South         | 5773552 | 293 |  5.074866 |\n",
       "| Missouri             | MO | North Central | 5988927 | 321 |  5.359892 |\n",
       "| South Carolina       | SC | South         | 4625364 | 207 |  4.475323 |\n",
       "\n"
      ],
      "text/plain": [
       "  state                abb region        population total rate     \n",
       "1 District of Columbia DC  South          601723     99   16.452753\n",
       "2 Louisiana            LA  South         4533372    351    7.742581\n",
       "3 Maryland             MD  South         5773552    293    5.074866\n",
       "4 Missouri             MO  North Central 5988927    321    5.359892\n",
       "5 South Carolina       SC  South         4625364    207    4.475323"
      ]
     },
     "metadata": {},
     "output_type": "display_data"
    }
   ],
   "source": [
    "#The top  n\n",
    "murders %>% top_n(5, rate)"
   ]
  },
  {
   "cell_type": "markdown",
   "id": "65772aef",
   "metadata": {},
   "source": [
    "Importing data:"
   ]
  },
  {
   "cell_type": "code",
   "execution_count": 30,
   "id": "750ffa17",
   "metadata": {},
   "outputs": [
    {
     "name": "stdout",
     "output_type": "stream",
     "text": [
      "[1] \"/Library/Frameworks/R.framework/Versions/4.2-arm64/Resources/library/dslabs/extdata\"\n",
      "[1] \"/Library/Frameworks/R.framework/Versions/4.2-arm64/Resources/library/dslabs/extdata/murders.csv\"\n"
     ]
    },
    {
     "data": {
      "text/html": [
       "FALSE"
      ],
      "text/latex": [
       "FALSE"
      ],
      "text/markdown": [
       "FALSE"
      ],
      "text/plain": [
       "[1] FALSE"
      ]
     },
     "metadata": {},
     "output_type": "display_data"
    }
   ],
   "source": [
    "#A spreadsheet containing the US murders data is included as part of the dslabs package. \n",
    "#Finding this file is not straightforward, but the following lines of code copy the file to the folder in which R \n",
    "#looks in by default:\n",
    "\n",
    "filename <- \"murders.csv\"\n",
    "dir <- system.file(\"extdata\", package = \"dslabs\") \n",
    "print(dir)\n",
    "fullpath <- file.path(dir, filename)\n",
    "print(fullpath)\n",
    "file.copy(fullpath, \"murders.csv\")"
   ]
  },
  {
   "cell_type": "code",
   "execution_count": 32,
   "id": "fd101c04",
   "metadata": {},
   "outputs": [
    {
     "name": "stderr",
     "output_type": "stream",
     "text": [
      "\u001b[1mRows: \u001b[22m\u001b[34m51\u001b[39m \u001b[1mColumns: \u001b[22m\u001b[34m5\u001b[39m\n",
      "\u001b[36m──\u001b[39m \u001b[1mColumn specification\u001b[22m \u001b[36m────────────────────────────────────────────────────────\u001b[39m\n",
      "\u001b[1mDelimiter:\u001b[22m \",\"\n",
      "\u001b[31mchr\u001b[39m (3): state, abb, region\n",
      "\u001b[32mdbl\u001b[39m (2): population, total\n",
      "\n",
      "\u001b[36mℹ\u001b[39m Use `spec()` to retrieve the full column specification for this data.\n",
      "\u001b[36mℹ\u001b[39m Specify the column types or set `show_col_types = FALSE` to quiet this message.\n"
     ]
    },
    {
     "data": {
      "text/html": [
       "<table class=\"dataframe\">\n",
       "<caption>A spec_tbl_df: 51 × 5</caption>\n",
       "<thead>\n",
       "\t<tr><th scope=col>state</th><th scope=col>abb</th><th scope=col>region</th><th scope=col>population</th><th scope=col>total</th></tr>\n",
       "\t<tr><th scope=col>&lt;chr&gt;</th><th scope=col>&lt;chr&gt;</th><th scope=col>&lt;chr&gt;</th><th scope=col>&lt;dbl&gt;</th><th scope=col>&lt;dbl&gt;</th></tr>\n",
       "</thead>\n",
       "<tbody>\n",
       "\t<tr><td>Alabama             </td><td>AL</td><td>South        </td><td> 4779736</td><td> 135</td></tr>\n",
       "\t<tr><td>Alaska              </td><td>AK</td><td>West         </td><td>  710231</td><td>  19</td></tr>\n",
       "\t<tr><td>Arizona             </td><td>AZ</td><td>West         </td><td> 6392017</td><td> 232</td></tr>\n",
       "\t<tr><td>Arkansas            </td><td>AR</td><td>South        </td><td> 2915918</td><td>  93</td></tr>\n",
       "\t<tr><td>California          </td><td>CA</td><td>West         </td><td>37253956</td><td>1257</td></tr>\n",
       "\t<tr><td>Colorado            </td><td>CO</td><td>West         </td><td> 5029196</td><td>  65</td></tr>\n",
       "\t<tr><td>Connecticut         </td><td>CT</td><td>Northeast    </td><td> 3574097</td><td>  97</td></tr>\n",
       "\t<tr><td>Delaware            </td><td>DE</td><td>South        </td><td>  897934</td><td>  38</td></tr>\n",
       "\t<tr><td>District of Columbia</td><td>DC</td><td>South        </td><td>  601723</td><td>  99</td></tr>\n",
       "\t<tr><td>Florida             </td><td>FL</td><td>South        </td><td>19687653</td><td> 669</td></tr>\n",
       "\t<tr><td>Georgia             </td><td>GA</td><td>South        </td><td> 9920000</td><td> 376</td></tr>\n",
       "\t<tr><td>Hawaii              </td><td>HI</td><td>West         </td><td> 1360301</td><td>   7</td></tr>\n",
       "\t<tr><td>Idaho               </td><td>ID</td><td>West         </td><td> 1567582</td><td>  12</td></tr>\n",
       "\t<tr><td>Illinois            </td><td>IL</td><td>North Central</td><td>12830632</td><td> 364</td></tr>\n",
       "\t<tr><td>Indiana             </td><td>IN</td><td>North Central</td><td> 6483802</td><td> 142</td></tr>\n",
       "\t<tr><td>Iowa                </td><td>IA</td><td>North Central</td><td> 3046355</td><td>  21</td></tr>\n",
       "\t<tr><td>Kansas              </td><td>KS</td><td>North Central</td><td> 2853118</td><td>  63</td></tr>\n",
       "\t<tr><td>Kentucky            </td><td>KY</td><td>South        </td><td> 4339367</td><td> 116</td></tr>\n",
       "\t<tr><td>Louisiana           </td><td>LA</td><td>South        </td><td> 4533372</td><td> 351</td></tr>\n",
       "\t<tr><td>Maine               </td><td>ME</td><td>Northeast    </td><td> 1328361</td><td>  11</td></tr>\n",
       "\t<tr><td>Maryland            </td><td>MD</td><td>South        </td><td> 5773552</td><td> 293</td></tr>\n",
       "\t<tr><td>Massachusetts       </td><td>MA</td><td>Northeast    </td><td> 6547629</td><td> 118</td></tr>\n",
       "\t<tr><td>Michigan            </td><td>MI</td><td>North Central</td><td> 9883640</td><td> 413</td></tr>\n",
       "\t<tr><td>Minnesota           </td><td>MN</td><td>North Central</td><td> 5303925</td><td>  53</td></tr>\n",
       "\t<tr><td>Mississippi         </td><td>MS</td><td>South        </td><td> 2967297</td><td> 120</td></tr>\n",
       "\t<tr><td>Missouri            </td><td>MO</td><td>North Central</td><td> 5988927</td><td> 321</td></tr>\n",
       "\t<tr><td>Montana             </td><td>MT</td><td>West         </td><td>  989415</td><td>  12</td></tr>\n",
       "\t<tr><td>Nebraska            </td><td>NE</td><td>North Central</td><td> 1826341</td><td>  32</td></tr>\n",
       "\t<tr><td>Nevada              </td><td>NV</td><td>West         </td><td> 2700551</td><td>  84</td></tr>\n",
       "\t<tr><td>New Hampshire       </td><td>NH</td><td>Northeast    </td><td> 1316470</td><td>   5</td></tr>\n",
       "\t<tr><td>New Jersey          </td><td>NJ</td><td>Northeast    </td><td> 8791894</td><td> 246</td></tr>\n",
       "\t<tr><td>New Mexico          </td><td>NM</td><td>West         </td><td> 2059179</td><td>  67</td></tr>\n",
       "\t<tr><td>New York            </td><td>NY</td><td>Northeast    </td><td>19378102</td><td> 517</td></tr>\n",
       "\t<tr><td>North Carolina      </td><td>NC</td><td>South        </td><td> 9535483</td><td> 286</td></tr>\n",
       "\t<tr><td>North Dakota        </td><td>ND</td><td>North Central</td><td>  672591</td><td>   4</td></tr>\n",
       "\t<tr><td>Ohio                </td><td>OH</td><td>North Central</td><td>11536504</td><td> 310</td></tr>\n",
       "\t<tr><td>Oklahoma            </td><td>OK</td><td>South        </td><td> 3751351</td><td> 111</td></tr>\n",
       "\t<tr><td>Oregon              </td><td>OR</td><td>West         </td><td> 3831074</td><td>  36</td></tr>\n",
       "\t<tr><td>Pennsylvania        </td><td>PA</td><td>Northeast    </td><td>12702379</td><td> 457</td></tr>\n",
       "\t<tr><td>Rhode Island        </td><td>RI</td><td>Northeast    </td><td> 1052567</td><td>  16</td></tr>\n",
       "\t<tr><td>South Carolina      </td><td>SC</td><td>South        </td><td> 4625364</td><td> 207</td></tr>\n",
       "\t<tr><td>South Dakota        </td><td>SD</td><td>North Central</td><td>  814180</td><td>   8</td></tr>\n",
       "\t<tr><td>Tennessee           </td><td>TN</td><td>South        </td><td> 6346105</td><td> 219</td></tr>\n",
       "\t<tr><td>Texas               </td><td>TX</td><td>South        </td><td>25145561</td><td> 805</td></tr>\n",
       "\t<tr><td>Utah                </td><td>UT</td><td>West         </td><td> 2763885</td><td>  22</td></tr>\n",
       "\t<tr><td>Vermont             </td><td>VT</td><td>Northeast    </td><td>  625741</td><td>   2</td></tr>\n",
       "\t<tr><td>Virginia            </td><td>VA</td><td>South        </td><td> 8001024</td><td> 250</td></tr>\n",
       "\t<tr><td>Washington          </td><td>WA</td><td>West         </td><td> 6724540</td><td>  93</td></tr>\n",
       "\t<tr><td>West Virginia       </td><td>WV</td><td>South        </td><td> 1852994</td><td>  27</td></tr>\n",
       "\t<tr><td>Wisconsin           </td><td>WI</td><td>North Central</td><td> 5686986</td><td>  97</td></tr>\n",
       "\t<tr><td>Wyoming             </td><td>WY</td><td>West         </td><td>  563626</td><td>   5</td></tr>\n",
       "</tbody>\n",
       "</table>\n"
      ],
      "text/latex": [
       "A spec\\_tbl\\_df: 51 × 5\n",
       "\\begin{tabular}{lllll}\n",
       " state & abb & region & population & total\\\\\n",
       " <chr> & <chr> & <chr> & <dbl> & <dbl>\\\\\n",
       "\\hline\n",
       "\t Alabama              & AL & South         &  4779736 &  135\\\\\n",
       "\t Alaska               & AK & West          &   710231 &   19\\\\\n",
       "\t Arizona              & AZ & West          &  6392017 &  232\\\\\n",
       "\t Arkansas             & AR & South         &  2915918 &   93\\\\\n",
       "\t California           & CA & West          & 37253956 & 1257\\\\\n",
       "\t Colorado             & CO & West          &  5029196 &   65\\\\\n",
       "\t Connecticut          & CT & Northeast     &  3574097 &   97\\\\\n",
       "\t Delaware             & DE & South         &   897934 &   38\\\\\n",
       "\t District of Columbia & DC & South         &   601723 &   99\\\\\n",
       "\t Florida              & FL & South         & 19687653 &  669\\\\\n",
       "\t Georgia              & GA & South         &  9920000 &  376\\\\\n",
       "\t Hawaii               & HI & West          &  1360301 &    7\\\\\n",
       "\t Idaho                & ID & West          &  1567582 &   12\\\\\n",
       "\t Illinois             & IL & North Central & 12830632 &  364\\\\\n",
       "\t Indiana              & IN & North Central &  6483802 &  142\\\\\n",
       "\t Iowa                 & IA & North Central &  3046355 &   21\\\\\n",
       "\t Kansas               & KS & North Central &  2853118 &   63\\\\\n",
       "\t Kentucky             & KY & South         &  4339367 &  116\\\\\n",
       "\t Louisiana            & LA & South         &  4533372 &  351\\\\\n",
       "\t Maine                & ME & Northeast     &  1328361 &   11\\\\\n",
       "\t Maryland             & MD & South         &  5773552 &  293\\\\\n",
       "\t Massachusetts        & MA & Northeast     &  6547629 &  118\\\\\n",
       "\t Michigan             & MI & North Central &  9883640 &  413\\\\\n",
       "\t Minnesota            & MN & North Central &  5303925 &   53\\\\\n",
       "\t Mississippi          & MS & South         &  2967297 &  120\\\\\n",
       "\t Missouri             & MO & North Central &  5988927 &  321\\\\\n",
       "\t Montana              & MT & West          &   989415 &   12\\\\\n",
       "\t Nebraska             & NE & North Central &  1826341 &   32\\\\\n",
       "\t Nevada               & NV & West          &  2700551 &   84\\\\\n",
       "\t New Hampshire        & NH & Northeast     &  1316470 &    5\\\\\n",
       "\t New Jersey           & NJ & Northeast     &  8791894 &  246\\\\\n",
       "\t New Mexico           & NM & West          &  2059179 &   67\\\\\n",
       "\t New York             & NY & Northeast     & 19378102 &  517\\\\\n",
       "\t North Carolina       & NC & South         &  9535483 &  286\\\\\n",
       "\t North Dakota         & ND & North Central &   672591 &    4\\\\\n",
       "\t Ohio                 & OH & North Central & 11536504 &  310\\\\\n",
       "\t Oklahoma             & OK & South         &  3751351 &  111\\\\\n",
       "\t Oregon               & OR & West          &  3831074 &   36\\\\\n",
       "\t Pennsylvania         & PA & Northeast     & 12702379 &  457\\\\\n",
       "\t Rhode Island         & RI & Northeast     &  1052567 &   16\\\\\n",
       "\t South Carolina       & SC & South         &  4625364 &  207\\\\\n",
       "\t South Dakota         & SD & North Central &   814180 &    8\\\\\n",
       "\t Tennessee            & TN & South         &  6346105 &  219\\\\\n",
       "\t Texas                & TX & South         & 25145561 &  805\\\\\n",
       "\t Utah                 & UT & West          &  2763885 &   22\\\\\n",
       "\t Vermont              & VT & Northeast     &   625741 &    2\\\\\n",
       "\t Virginia             & VA & South         &  8001024 &  250\\\\\n",
       "\t Washington           & WA & West          &  6724540 &   93\\\\\n",
       "\t West Virginia        & WV & South         &  1852994 &   27\\\\\n",
       "\t Wisconsin            & WI & North Central &  5686986 &   97\\\\\n",
       "\t Wyoming              & WY & West          &   563626 &    5\\\\\n",
       "\\end{tabular}\n"
      ],
      "text/markdown": [
       "\n",
       "A spec_tbl_df: 51 × 5\n",
       "\n",
       "| state &lt;chr&gt; | abb &lt;chr&gt; | region &lt;chr&gt; | population &lt;dbl&gt; | total &lt;dbl&gt; |\n",
       "|---|---|---|---|---|\n",
       "| Alabama              | AL | South         |  4779736 |  135 |\n",
       "| Alaska               | AK | West          |   710231 |   19 |\n",
       "| Arizona              | AZ | West          |  6392017 |  232 |\n",
       "| Arkansas             | AR | South         |  2915918 |   93 |\n",
       "| California           | CA | West          | 37253956 | 1257 |\n",
       "| Colorado             | CO | West          |  5029196 |   65 |\n",
       "| Connecticut          | CT | Northeast     |  3574097 |   97 |\n",
       "| Delaware             | DE | South         |   897934 |   38 |\n",
       "| District of Columbia | DC | South         |   601723 |   99 |\n",
       "| Florida              | FL | South         | 19687653 |  669 |\n",
       "| Georgia              | GA | South         |  9920000 |  376 |\n",
       "| Hawaii               | HI | West          |  1360301 |    7 |\n",
       "| Idaho                | ID | West          |  1567582 |   12 |\n",
       "| Illinois             | IL | North Central | 12830632 |  364 |\n",
       "| Indiana              | IN | North Central |  6483802 |  142 |\n",
       "| Iowa                 | IA | North Central |  3046355 |   21 |\n",
       "| Kansas               | KS | North Central |  2853118 |   63 |\n",
       "| Kentucky             | KY | South         |  4339367 |  116 |\n",
       "| Louisiana            | LA | South         |  4533372 |  351 |\n",
       "| Maine                | ME | Northeast     |  1328361 |   11 |\n",
       "| Maryland             | MD | South         |  5773552 |  293 |\n",
       "| Massachusetts        | MA | Northeast     |  6547629 |  118 |\n",
       "| Michigan             | MI | North Central |  9883640 |  413 |\n",
       "| Minnesota            | MN | North Central |  5303925 |   53 |\n",
       "| Mississippi          | MS | South         |  2967297 |  120 |\n",
       "| Missouri             | MO | North Central |  5988927 |  321 |\n",
       "| Montana              | MT | West          |   989415 |   12 |\n",
       "| Nebraska             | NE | North Central |  1826341 |   32 |\n",
       "| Nevada               | NV | West          |  2700551 |   84 |\n",
       "| New Hampshire        | NH | Northeast     |  1316470 |    5 |\n",
       "| New Jersey           | NJ | Northeast     |  8791894 |  246 |\n",
       "| New Mexico           | NM | West          |  2059179 |   67 |\n",
       "| New York             | NY | Northeast     | 19378102 |  517 |\n",
       "| North Carolina       | NC | South         |  9535483 |  286 |\n",
       "| North Dakota         | ND | North Central |   672591 |    4 |\n",
       "| Ohio                 | OH | North Central | 11536504 |  310 |\n",
       "| Oklahoma             | OK | South         |  3751351 |  111 |\n",
       "| Oregon               | OR | West          |  3831074 |   36 |\n",
       "| Pennsylvania         | PA | Northeast     | 12702379 |  457 |\n",
       "| Rhode Island         | RI | Northeast     |  1052567 |   16 |\n",
       "| South Carolina       | SC | South         |  4625364 |  207 |\n",
       "| South Dakota         | SD | North Central |   814180 |    8 |\n",
       "| Tennessee            | TN | South         |  6346105 |  219 |\n",
       "| Texas                | TX | South         | 25145561 |  805 |\n",
       "| Utah                 | UT | West          |  2763885 |   22 |\n",
       "| Vermont              | VT | Northeast     |   625741 |    2 |\n",
       "| Virginia             | VA | South         |  8001024 |  250 |\n",
       "| Washington           | WA | West          |  6724540 |   93 |\n",
       "| West Virginia        | WV | South         |  1852994 |   27 |\n",
       "| Wisconsin            | WI | North Central |  5686986 |   97 |\n",
       "| Wyoming              | WY | West          |   563626 |    5 |\n",
       "\n"
      ],
      "text/plain": [
       "   state                abb region        population total\n",
       "1  Alabama              AL  South          4779736    135 \n",
       "2  Alaska               AK  West            710231     19 \n",
       "3  Arizona              AZ  West           6392017    232 \n",
       "4  Arkansas             AR  South          2915918     93 \n",
       "5  California           CA  West          37253956   1257 \n",
       "6  Colorado             CO  West           5029196     65 \n",
       "7  Connecticut          CT  Northeast      3574097     97 \n",
       "8  Delaware             DE  South           897934     38 \n",
       "9  District of Columbia DC  South           601723     99 \n",
       "10 Florida              FL  South         19687653    669 \n",
       "11 Georgia              GA  South          9920000    376 \n",
       "12 Hawaii               HI  West           1360301      7 \n",
       "13 Idaho                ID  West           1567582     12 \n",
       "14 Illinois             IL  North Central 12830632    364 \n",
       "15 Indiana              IN  North Central  6483802    142 \n",
       "16 Iowa                 IA  North Central  3046355     21 \n",
       "17 Kansas               KS  North Central  2853118     63 \n",
       "18 Kentucky             KY  South          4339367    116 \n",
       "19 Louisiana            LA  South          4533372    351 \n",
       "20 Maine                ME  Northeast      1328361     11 \n",
       "21 Maryland             MD  South          5773552    293 \n",
       "22 Massachusetts        MA  Northeast      6547629    118 \n",
       "23 Michigan             MI  North Central  9883640    413 \n",
       "24 Minnesota            MN  North Central  5303925     53 \n",
       "25 Mississippi          MS  South          2967297    120 \n",
       "26 Missouri             MO  North Central  5988927    321 \n",
       "27 Montana              MT  West            989415     12 \n",
       "28 Nebraska             NE  North Central  1826341     32 \n",
       "29 Nevada               NV  West           2700551     84 \n",
       "30 New Hampshire        NH  Northeast      1316470      5 \n",
       "31 New Jersey           NJ  Northeast      8791894    246 \n",
       "32 New Mexico           NM  West           2059179     67 \n",
       "33 New York             NY  Northeast     19378102    517 \n",
       "34 North Carolina       NC  South          9535483    286 \n",
       "35 North Dakota         ND  North Central   672591      4 \n",
       "36 Ohio                 OH  North Central 11536504    310 \n",
       "37 Oklahoma             OK  South          3751351    111 \n",
       "38 Oregon               OR  West           3831074     36 \n",
       "39 Pennsylvania         PA  Northeast     12702379    457 \n",
       "40 Rhode Island         RI  Northeast      1052567     16 \n",
       "41 South Carolina       SC  South          4625364    207 \n",
       "42 South Dakota         SD  North Central   814180      8 \n",
       "43 Tennessee            TN  South          6346105    219 \n",
       "44 Texas                TX  South         25145561    805 \n",
       "45 Utah                 UT  West           2763885     22 \n",
       "46 Vermont              VT  Northeast       625741      2 \n",
       "47 Virginia             VA  South          8001024    250 \n",
       "48 Washington           WA  West           6724540     93 \n",
       "49 West Virginia        WV  South          1852994     27 \n",
       "50 Wisconsin            WI  North Central  5686986     97 \n",
       "51 Wyoming              WY  West            563626      5 "
      ]
     },
     "metadata": {},
     "output_type": "display_data"
    }
   ],
   "source": [
    "#The previous code does not read the data into R, it just copies a file. \n",
    "#But once the file is copied, we can import the data with a simple line of code. \n",
    "#install.packages(\"tidyverse\")\n",
    "library(tidyverse)\n",
    "dat <- read_csv(filename)\n",
    "dat"
   ]
  },
  {
   "cell_type": "code",
   "execution_count": 25,
   "id": "9e319075",
   "metadata": {},
   "outputs": [
    {
     "data": {
      "text/html": [
       "'/home/jupyter-admin3/R/x86_64-pc-linux-gnu-library/4.0/dslabs'"
      ],
      "text/latex": [
       "'/home/jupyter-admin3/R/x86\\_64-pc-linux-gnu-library/4.0/dslabs'"
      ],
      "text/markdown": [
       "'/home/jupyter-admin3/R/x86_64-pc-linux-gnu-library/4.0/dslabs'"
      ],
      "text/plain": [
       "[1] \"/home/jupyter-admin3/R/x86_64-pc-linux-gnu-library/4.0/dslabs\""
      ]
     },
     "metadata": {},
     "output_type": "display_data"
    }
   ],
   "source": [
    "#An example of a full path:\n",
    "system.file(package = \"dslabs\")"
   ]
  },
  {
   "cell_type": "code",
   "execution_count": 26,
   "id": "25e1bc29",
   "metadata": {},
   "outputs": [
    {
     "data": {
      "text/html": [
       "<style>\n",
       ".list-inline {list-style: none; margin:0; padding: 0}\n",
       ".list-inline>li {display: inline-block}\n",
       ".list-inline>li:not(:last-child)::after {content: \"\\00b7\"; padding: 0 .5ex}\n",
       "</style>\n",
       "<ol class=list-inline><li>'data'</li><li>'DESCRIPTION'</li><li>'extdata'</li><li>'help'</li><li>'html'</li><li>'INDEX'</li><li>'Meta'</li><li>'NAMESPACE'</li><li>'R'</li><li>'script'</li></ol>\n"
      ],
      "text/latex": [
       "\\begin{enumerate*}\n",
       "\\item 'data'\n",
       "\\item 'DESCRIPTION'\n",
       "\\item 'extdata'\n",
       "\\item 'help'\n",
       "\\item 'html'\n",
       "\\item 'INDEX'\n",
       "\\item 'Meta'\n",
       "\\item 'NAMESPACE'\n",
       "\\item 'R'\n",
       "\\item 'script'\n",
       "\\end{enumerate*}\n"
      ],
      "text/markdown": [
       "1. 'data'\n",
       "2. 'DESCRIPTION'\n",
       "3. 'extdata'\n",
       "4. 'help'\n",
       "5. 'html'\n",
       "6. 'INDEX'\n",
       "7. 'Meta'\n",
       "8. 'NAMESPACE'\n",
       "9. 'R'\n",
       "10. 'script'\n",
       "\n",
       "\n"
      ],
      "text/plain": [
       " [1] \"data\"        \"DESCRIPTION\" \"extdata\"     \"help\"        \"html\"       \n",
       " [6] \"INDEX\"       \"Meta\"        \"NAMESPACE\"   \"R\"           \"script\"     "
      ]
     },
     "metadata": {},
     "output_type": "display_data"
    }
   ],
   "source": [
    "#Relative paths:\n",
    "dir <- system.file(package = \"dslabs\")\n",
    "list.files(path = dir)"
   ]
  },
  {
   "cell_type": "code",
   "execution_count": 33,
   "id": "9dab8aa8",
   "metadata": {},
   "outputs": [
    {
     "data": {
      "text/html": [
       "'/Users/harveyalferez/Documents/Courses Fall 2023-2024/Programming in Data Analytics and AI/CPTR512NotebooksFromServer/Unit3'"
      ],
      "text/latex": [
       "'/Users/harveyalferez/Documents/Courses Fall 2023-2024/Programming in Data Analytics and AI/CPTR512NotebooksFromServer/Unit3'"
      ],
      "text/markdown": [
       "'/Users/harveyalferez/Documents/Courses Fall 2023-2024/Programming in Data Analytics and AI/CPTR512NotebooksFromServer/Unit3'"
      ],
      "text/plain": [
       "[1] \"/Users/harveyalferez/Documents/Courses Fall 2023-2024/Programming in Data Analytics and AI/CPTR512NotebooksFromServer/Unit3\""
      ]
     },
     "metadata": {},
     "output_type": "display_data"
    }
   ],
   "source": [
    "#The working directory:\n",
    "wd <- getwd()\n",
    "wd"
   ]
  },
  {
   "attachments": {
    "Screen%20Shot%202022-03-15%20at%2010.58.35.png": {
     "image/png": "[encoded data removed]"
    }
   },
   "cell_type": "markdown",
   "id": "b704b160",
   "metadata": {},
   "source": [
    "![Screen%20Shot%202022-03-15%20at%2010.58.35.png](attachment:Screen%20Shot%202022-03-15%20at%2010.58.35.png)"
   ]
  },
  {
   "cell_type": "code",
   "execution_count": 35,
   "id": "252150e8",
   "metadata": {},
   "outputs": [
    {
     "data": {
      "text/html": [
       "<style>\n",
       ".list-inline {list-style: none; margin:0; padding: 0}\n",
       ".list-inline>li {display: inline-block}\n",
       ".list-inline>li:not(:last-child)::after {content: \"\\00b7\"; padding: 0 .5ex}\n",
       "</style>\n",
       "<ol class=list-inline><li>'state,abb,region,population,total'</li><li>'Alabama,AL,South,4779736,135'</li><li>'Alaska,AK,West,710231,19'</li></ol>\n"
      ],
      "text/latex": [
       "\\begin{enumerate*}\n",
       "\\item 'state,abb,region,population,total'\n",
       "\\item 'Alabama,AL,South,4779736,135'\n",
       "\\item 'Alaska,AK,West,710231,19'\n",
       "\\end{enumerate*}\n"
      ],
      "text/markdown": [
       "1. 'state,abb,region,population,total'\n",
       "2. 'Alabama,AL,South,4779736,135'\n",
       "3. 'Alaska,AK,West,710231,19'\n",
       "\n",
       "\n"
      ],
      "text/plain": [
       "[1] \"state,abb,region,population,total\" \"Alabama,AL,South,4779736,135\"     \n",
       "[3] \"Alaska,AK,West,710231,19\"         "
      ]
     },
     "metadata": {},
     "output_type": "display_data"
    },
    {
     "name": "stdout",
     "output_type": "stream",
     "text": [
      "\u001b[90m# A tibble: 51 × 5\u001b[39m\n",
      "   state                abb   region    population total\n",
      "   \u001b[3m\u001b[90m<chr>\u001b[39m\u001b[23m                \u001b[3m\u001b[90m<chr>\u001b[39m\u001b[23m \u001b[3m\u001b[90m<chr>\u001b[39m\u001b[23m          \u001b[3m\u001b[90m<dbl>\u001b[39m\u001b[23m \u001b[3m\u001b[90m<dbl>\u001b[39m\u001b[23m\n",
      "\u001b[90m 1\u001b[39m Alabama              AL    South        4\u001b[4m7\u001b[24m\u001b[4m7\u001b[24m\u001b[4m9\u001b[24m736   135\n",
      "\u001b[90m 2\u001b[39m Alaska               AK    West          \u001b[4m7\u001b[24m\u001b[4m1\u001b[24m\u001b[4m0\u001b[24m231    19\n",
      "\u001b[90m 3\u001b[39m Arizona              AZ    West         6\u001b[4m3\u001b[24m\u001b[4m9\u001b[24m\u001b[4m2\u001b[24m017   232\n",
      "\u001b[90m 4\u001b[39m Arkansas             AR    South        2\u001b[4m9\u001b[24m\u001b[4m1\u001b[24m\u001b[4m5\u001b[24m918    93\n",
      "\u001b[90m 5\u001b[39m California           CA    West        37\u001b[4m2\u001b[24m\u001b[4m5\u001b[24m\u001b[4m3\u001b[24m956  \u001b[4m1\u001b[24m257\n",
      "\u001b[90m 6\u001b[39m Colorado             CO    West         5\u001b[4m0\u001b[24m\u001b[4m2\u001b[24m\u001b[4m9\u001b[24m196    65\n",
      "\u001b[90m 7\u001b[39m Connecticut          CT    Northeast    3\u001b[4m5\u001b[24m\u001b[4m7\u001b[24m\u001b[4m4\u001b[24m097    97\n",
      "\u001b[90m 8\u001b[39m Delaware             DE    South         \u001b[4m8\u001b[24m\u001b[4m9\u001b[24m\u001b[4m7\u001b[24m934    38\n",
      "\u001b[90m 9\u001b[39m District of Columbia DC    South         \u001b[4m6\u001b[24m\u001b[4m0\u001b[24m\u001b[4m1\u001b[24m723    99\n",
      "\u001b[90m10\u001b[39m Florida              FL    South       19\u001b[4m6\u001b[24m\u001b[4m8\u001b[24m\u001b[4m7\u001b[24m653   669\n",
      "\u001b[90m# … with 41 more rows\u001b[39m\n"
     ]
    }
   ],
   "source": [
    "read_lines(\"murders.csv\", n_max = 3)\n",
    "dat <- read_csv(filename, show_col_types = FALSE)\n",
    "print(dat)\n",
    "#A tibble, or tbl_df, is a modern reimagining of the data.frame\n",
    "#Setting show_col_types = FALSE means that the function will not display the inferred column types in the output."
   ]
  },
  {
   "cell_type": "code",
   "execution_count": 29,
   "id": "78f445e4",
   "metadata": {},
   "outputs": [],
   "source": [
    "#You can load the readxl package using\n",
    "library(readxl)"
   ]
  },
  {
   "attachments": {
    "Screen%20Shot%202022-03-15%20at%2010.58.35.png": {
     "image/png": "[encoded data removed]"
    }
   },
   "cell_type": "markdown",
   "id": "2f9ddfec",
   "metadata": {},
   "source": [
    "![Screen%20Shot%202022-03-15%20at%2010.58.35.png](attachment:Screen%20Shot%202022-03-15%20at%2010.58.35.png)"
   ]
  },
  {
   "cell_type": "markdown",
   "id": "f525c8f4",
   "metadata": {},
   "source": [
    "Downloading files:"
   ]
  },
  {
   "cell_type": "code",
   "execution_count": 37,
   "id": "a2797b8d",
   "metadata": {},
   "outputs": [],
   "source": [
    "url <- \"https://raw.githubusercontent.com/rafalab/dslabs/master/inst/extdata/murders.csv\"\n",
    "dat <- read_csv(url, show_col_types = FALSE)\n",
    "\n",
    "download.file(url, \"murders.csv\")"
   ]
  },
  {
   "cell_type": "markdown",
   "id": "3cbee012",
   "metadata": {},
   "source": [
    "### Cleaning data"
   ]
  },
  {
   "cell_type": "markdown",
   "id": "4c7b7a62",
   "metadata": {},
   "source": [
    "In this section, we’ll address issues that you discovered during the data exploration/visualization phase, in particular, invalid and missing values. Missing values in data happen quite commonly, and the way you treat them is generally the same from project to project. Handling invalid values is often domain-specific: which values are invalid, and what you do about them, depends on the problem that you are trying to solve.\n",
    "\n",
    "Source: Nina Zumel & John Mount (2020). Practical Data Science with R. Manning, second edition. ISBN: 9781617291562"
   ]
  },
  {
   "cell_type": "code",
   "execution_count": 50,
   "id": "b2915aef",
   "metadata": {},
   "outputs": [
    {
     "data": {
      "text/plain": [
       "    custid              sex        is_employed         income       \n",
       " Length:73262       Female:37837   Mode :logical   Min.   :  -6900  \n",
       " Class :character   Male  :35425   FALSE:2351      1st Qu.:  10700  \n",
       " Mode  :character                  TRUE :45137     Median :  26200  \n",
       "                                   NA's :25774     Mean   :  41764  \n",
       "                                                   3rd Qu.:  51700  \n",
       "                                                   Max.   :1257000  \n",
       "                                                                    \n",
       "            marital_status  health_ins     \n",
       " Divorced/Separated:10693   Mode :logical  \n",
       " Married           :38400   FALSE:7307     \n",
       " Never married     :19407   TRUE :65955    \n",
       " Widowed           : 4762                  \n",
       "                                           \n",
       "                                           \n",
       "                                           \n",
       "                       housing_type   recent_move      num_vehicles  \n",
       " Homeowner free and clear    :16763   Mode :logical   Min.   :0.000  \n",
       " Homeowner with mortgage/loan:31387   FALSE:62418     1st Qu.:1.000  \n",
       " Occupied with no rent       : 1138   TRUE :9123      Median :2.000  \n",
       " Rented                      :22254   NA's :1721      Mean   :2.066  \n",
       " NA's                        : 1720                   3rd Qu.:3.000  \n",
       "                                                      Max.   :6.000  \n",
       "                                                      NA's   :1720   \n",
       "      age               state_of_res     gas_usage     \n",
       " Min.   :  0.00   California  : 8962   Min.   :  1.00  \n",
       " 1st Qu.: 34.00   Texas       : 6026   1st Qu.:  3.00  \n",
       " Median : 48.00   Florida     : 4979   Median : 10.00  \n",
       " Mean   : 49.16   New York    : 4431   Mean   : 41.17  \n",
       " 3rd Qu.: 62.00   Pennsylvania: 2997   3rd Qu.: 60.00  \n",
       " Max.   :120.00   Illinois    : 2925   Max.   :570.00  \n",
       "                  (Other)     :42942   NA's   :1720    "
      ]
     },
     "metadata": {},
     "output_type": "display_data"
    }
   ],
   "source": [
    "#https://github.com/WinVector/PDSwR2/tree/master/Custdata\n",
    "\n",
    "customer_data = readRDS(\"custdata.RDS\")\n",
    "summary(customer_data)\n",
    "\n",
    "#The variable is_employed is missing for about a third of the data. \n",
    "#The variable income has negative values, which are potentially invalid.\n",
    "#The variables housing_type, recent_move, num_vehicles, and gas_usage are each missing 1720 or 1721 values."
   ]
  },
  {
   "cell_type": "markdown",
   "id": "8314aee5",
   "metadata": {},
   "source": [
    "Spotting problems using graphics and visualization:"
   ]
  },
  {
   "cell_type": "code",
   "execution_count": 51,
   "id": "85aec20d",
   "metadata": {},
   "outputs": [
    {
     "data": {
      "text/plain": [
       "   Min. 1st Qu.  Median    Mean 3rd Qu.    Max. \n",
       "   0.00   34.00   48.00   49.16   62.00  120.00 "
      ]
     },
     "metadata": {},
     "output_type": "display_data"
    }
   ],
   "source": [
    "summary(customer_data$age)"
   ]
  },
  {
   "cell_type": "code",
   "execution_count": 35,
   "id": "4447b2c3",
   "metadata": {},
   "outputs": [
    {
     "data": {
      "image/png": "[encoded data removed]",
      "text/plain": [
       "plot without title"
      ]
     },
     "metadata": {
      "image/png": {
       "height": 420,
       "width": 420
      }
     },
     "output_type": "display_data"
    }
   ],
   "source": [
    "library(ggplot2)\n",
    "p <- ggplot(customer_data, aes(x=age)) + geom_density()\n",
    "p\n",
    "\n",
    "#Invalid values at the beginning (o to 17)?\n",
    "#Curious blip around 90. Data input problem?\n",
    "#Outliers around 100 and 125"
   ]
  },
  {
   "cell_type": "code",
   "execution_count": 77,
   "id": "257ff2d5",
   "metadata": {},
   "outputs": [
    {
     "name": "stdout",
     "output_type": "stream",
     "text": [
      "            custid    sex is_employed income     marital_status health_ins\n",
      "823   000881186_01   Male        TRUE  50000      Never married      FALSE\n",
      "1773  000054490_02   Male       FALSE      0            Married       TRUE\n",
      "2332  000432667_03 Female        TRUE  24700      Never married       TRUE\n",
      "3304  001119983_05 Female        TRUE   2400 Divorced/Separated       TRUE\n",
      "4048  000377914_02 Female          NA   9700            Married       TRUE\n",
      "7108  000294100_02   Male        TRUE  65000            Married       TRUE\n",
      "7305  000320642_01   Male        TRUE 140000            Married       TRUE\n",
      "9315  000567847_01 Female        TRUE   8500            Married       TRUE\n",
      "12344 000940662_02   Male        TRUE 100000      Never married       TRUE\n",
      "13105 001037248_02 Female          NA      0 Divorced/Separated       TRUE\n",
      "13162 001044459_03   Male          NA      0      Never married       TRUE\n",
      "13353 001067824_02   Male        TRUE   4000            Married       TRUE\n",
      "13546 001092857_01 Female        TRUE   1800 Divorced/Separated       TRUE\n",
      "15770 001361826_01 Female          NA      0            Married       TRUE\n",
      "16641 001470204_02   Male          NA  12900            Married       TRUE\n",
      "16773 001490902_01 Female        TRUE  27000      Never married       TRUE\n",
      "16994 001516398_01 Female        TRUE  36000 Divorced/Separated       TRUE\n",
      "17477 000359589_01 Female        TRUE  29000 Divorced/Separated       TRUE\n",
      "19146 000486763_02 Female          NA  25200            Widowed       TRUE\n",
      "19222 000574557_01   Male          NA  19900            Married       TRUE\n",
      "21900 000346959_01 Female          NA  23700            Widowed       TRUE\n",
      "26600 001446862_02   Male          NA   8800      Never married       TRUE\n",
      "29889 001473877_02 Female        TRUE  75000            Married       TRUE\n",
      "33947 001184235_02 Female        TRUE  16900            Married       TRUE\n",
      "35997 000813905_01 Female          NA      0            Married       TRUE\n",
      "36502 001206433_02 Female          NA  13600            Married       TRUE\n",
      "38411 000850371_02 Female        TRUE  45000            Married       TRUE\n",
      "38926 000138014_01 Female          NA  30000            Widowed       TRUE\n",
      "41168 001041094_02 Female          NA  12800            Married       TRUE\n",
      "41433 001315111_03   Male          NA      0      Never married       TRUE\n",
      "41664 000078850_01   Male        TRUE 100000            Married       TRUE\n",
      "45062 000881855_01   Male        TRUE  93000            Married       TRUE\n",
      "45595 001203163_01 Female        TRUE 103000            Married       TRUE\n",
      "47212 000585327_01   Male          NA  16600            Widowed       TRUE\n",
      "48466 001191911_01 Female          NA   4000            Widowed       TRUE\n",
      "50098 000912048_01 Female        TRUE  60000      Never married       TRUE\n",
      "50792 000062820_02 Female        TRUE  27000            Married       TRUE\n",
      "56842 000555312_03   Male        TRUE 185000      Never married       TRUE\n",
      "57583 000973168_02 Female        TRUE  12000            Married       TRUE\n",
      "57703 001035753_02 Female          NA   8800            Married       TRUE\n",
      "58735 000470140_01 Female          NA  21030            Widowed       TRUE\n",
      "58804 000616949_02   Male        TRUE  20000            Married      FALSE\n",
      "59662 000126958_01   Male        TRUE  68100            Married       TRUE\n",
      "61429 000593767_04   Male       FALSE  10730      Never married       TRUE\n",
      "61527 000615664_01   Male        TRUE  45000 Divorced/Separated       TRUE\n",
      "62340 000820634_01 Female          NA  30000            Married       TRUE\n",
      "65142 001520446_02 Female          NA      0            Widowed       TRUE\n",
      "65729 000282342_02   Male          NA  17300 Divorced/Separated       TRUE\n",
      "65844 000337405_02 Female        TRUE  10240            Married       TRUE\n",
      "68089 001406429_02   Male        TRUE 195000            Married       TRUE\n",
      "70868 000969224_02   Male        TRUE  73100            Married       TRUE\n",
      "71640 001280380_02   Male          NA      0      Never married       TRUE\n",
      "72366 000245764_02 Female        TRUE  70000            Married       TRUE\n",
      "72434 000338421_01 Female          NA   8300            Married       TRUE\n",
      "75985 000503468_02   Male        TRUE  61000            Married       TRUE\n",
      "77324 001016221_01 Female        TRUE  24000 Divorced/Separated       TRUE\n",
      "77825 001204900_01   Male        TRUE  78100            Married       TRUE\n",
      "77987 001261710_01   Male        TRUE   9550            Married       TRUE\n",
      "79029 000142103_01 Female          NA  30000            Married       TRUE\n",
      "80004 001065473_01   Male          NA      0 Divorced/Separated       TRUE\n",
      "80341 001400532_01   Male          NA  29800            Married       TRUE\n",
      "80726 000018865_02 Female          NA   3300            Married       TRUE\n",
      "81118 000294175_01 Female        TRUE  25000            Married       TRUE\n",
      "81607 000670262_01 Female        TRUE  23000            Married       TRUE\n",
      "82999 000036749_01 Female        TRUE  52000            Married       TRUE\n",
      "83247 000077701_04   Male          NA   5200            Married       TRUE\n",
      "83587 000141166_01   Male        TRUE  30000      Never married       TRUE\n",
      "87049 000749166_03 Female          NA   2000      Never married       TRUE\n",
      "90048 001287848_01   Male        TRUE  28600            Married       TRUE\n",
      "90086 001295052_02   Male        TRUE 151100            Married       TRUE\n",
      "90853 001426736_01 Female        TRUE  81000 Divorced/Separated       TRUE\n",
      "92484 000860626_02 Female          NA   5000            Married       TRUE\n",
      "93859 000764269_01 Female          NA   5000            Widowed       TRUE\n",
      "94849 001308522_01 Female        TRUE  80000            Married       TRUE\n",
      "95538 000225215_02   Male          NA      0      Never married       TRUE\n",
      "96667 000954515_01   Male        TRUE  75000 Divorced/Separated       TRUE\n",
      "96887 001105751_02 Female        TRUE  65000            Married       TRUE\n",
      "                      housing_type recent_move num_vehicles age   state_of_res\n",
      "823                         Rented        TRUE            1  NA        Alabama\n",
      "1773                        Rented       FALSE            0  NA        Arizona\n",
      "2332                        Rented       FALSE            3  NA        Arizona\n",
      "3304                        Rented        TRUE            0  NA        Arizona\n",
      "4048      Homeowner free and clear       FALSE            3  NA       Arkansas\n",
      "7108  Homeowner with mortgage/loan       FALSE            2  NA     California\n",
      "7305  Homeowner with mortgage/loan       FALSE            2  NA     California\n",
      "9315  Homeowner with mortgage/loan       FALSE            2  NA     California\n",
      "12344 Homeowner with mortgage/loan       FALSE            2  NA     California\n",
      "13105 Homeowner with mortgage/loan       FALSE            3  NA     California\n",
      "13162 Homeowner with mortgage/loan       FALSE            3  NA     California\n",
      "13353                       Rented       FALSE            1  NA     California\n",
      "13546                       Rented       FALSE            1  NA     California\n",
      "15770     Homeowner free and clear       FALSE            4  NA     California\n",
      "16641     Homeowner free and clear       FALSE            2  NA     California\n",
      "16773                       Rented       FALSE            1  NA     California\n",
      "16994                       Rented       FALSE            1  NA     California\n",
      "17477                       Rented       FALSE            3  NA       Colorado\n",
      "19146     Homeowner free and clear       FALSE            1  NA    Connecticut\n",
      "19222     Homeowner free and clear       FALSE            1  NA    Connecticut\n",
      "21900                       Rented       FALSE            1  NA        Florida\n",
      "26600                       Rented       FALSE            1  NA        Florida\n",
      "29889     Homeowner free and clear       FALSE            2  NA        Georgia\n",
      "33947 Homeowner with mortgage/loan        TRUE            2  NA       Illinois\n",
      "35997 Homeowner with mortgage/loan       FALSE            4  NA        Indiana\n",
      "36502     Homeowner free and clear       FALSE            3  NA        Indiana\n",
      "38411 Homeowner with mortgage/loan       FALSE            3  NA         Kansas\n",
      "38926                       Rented       FALSE            0  NA       Kentucky\n",
      "41168 Homeowner with mortgage/loan       FALSE            3  NA      Louisiana\n",
      "41433     Homeowner free and clear       FALSE            4  NA      Louisiana\n",
      "41664 Homeowner with mortgage/loan       FALSE            1  NA          Maine\n",
      "45062 Homeowner with mortgage/loan       FALSE            2  NA  Massachusetts\n",
      "45595     Homeowner free and clear       FALSE            2  NA  Massachusetts\n",
      "47212     Homeowner free and clear       FALSE            1  NA       Michigan\n",
      "48466     Homeowner free and clear       FALSE            3  NA       Michigan\n",
      "50098                       Rented       FALSE            1  NA      Minnesota\n",
      "50792 Homeowner with mortgage/loan       FALSE            4  NA    Mississippi\n",
      "56842     Homeowner free and clear       FALSE            2  NA     New Jersey\n",
      "57583 Homeowner with mortgage/loan       FALSE            4  NA     New Jersey\n",
      "57703                       Rented        TRUE            1  NA     New Jersey\n",
      "58735 Homeowner with mortgage/loan       FALSE            2  NA     New Mexico\n",
      "58804                       Rented       FALSE            1  NA     New Mexico\n",
      "59662 Homeowner with mortgage/loan       FALSE            2  NA       New York\n",
      "61429     Homeowner free and clear       FALSE            1  NA       New York\n",
      "61527                       Rented        TRUE            1  NA       New York\n",
      "62340 Homeowner with mortgage/loan       FALSE            4  NA       New York\n",
      "65142     Homeowner free and clear       FALSE            1  NA       New York\n",
      "65729     Homeowner free and clear       FALSE            1  NA North Carolina\n",
      "65844     Homeowner free and clear       FALSE            2  NA North Carolina\n",
      "68089     Homeowner free and clear        TRUE            2  NA North Carolina\n",
      "70868 Homeowner with mortgage/loan       FALSE            4  NA           Ohio\n",
      "71640     Homeowner free and clear        TRUE            1  NA           Ohio\n",
      "72366 Homeowner with mortgage/loan       FALSE            3  NA       Oklahoma\n",
      "72434     Homeowner free and clear        TRUE            3  NA       Oklahoma\n",
      "75985 Homeowner with mortgage/loan       FALSE            1  NA   Pennsylvania\n",
      "77324                       Rented        TRUE            1  NA   Pennsylvania\n",
      "77825     Homeowner free and clear       FALSE            2  NA   Pennsylvania\n",
      "77987 Homeowner with mortgage/loan       FALSE            2  NA   Pennsylvania\n",
      "79029     Homeowner free and clear       FALSE            3  NA South Carolina\n",
      "80004                         <NA>          NA           NA  NA South Carolina\n",
      "80341     Homeowner free and clear       FALSE            1  NA South Carolina\n",
      "80726     Homeowner free and clear       FALSE            1  NA      Tennessee\n",
      "81118                       Rented       FALSE            2  NA      Tennessee\n",
      "81607 Homeowner with mortgage/loan       FALSE            2  NA      Tennessee\n",
      "82999 Homeowner with mortgage/loan        TRUE            2  NA          Texas\n",
      "83247 Homeowner with mortgage/loan       FALSE            2  NA          Texas\n",
      "83587                       Rented        TRUE            1  NA          Texas\n",
      "87049     Homeowner free and clear       FALSE            2  NA          Texas\n",
      "90048     Homeowner free and clear       FALSE            2  NA          Texas\n",
      "90086 Homeowner with mortgage/loan       FALSE            3  NA          Texas\n",
      "90853 Homeowner with mortgage/loan       FALSE            2  NA          Texas\n",
      "92484 Homeowner with mortgage/loan       FALSE            1  NA        Vermont\n",
      "93859 Homeowner with mortgage/loan       FALSE            0  NA       Virginia\n",
      "94849 Homeowner with mortgage/loan       FALSE            2  NA       Virginia\n",
      "95538                       Rented       FALSE            2  NA     Washington\n",
      "96667     Homeowner free and clear       FALSE            2  NA     Washington\n",
      "96887 Homeowner with mortgage/loan       FALSE            3  NA     Washington\n",
      "      gas_usage\n",
      "823           3\n",
      "1773          3\n",
      "2332          3\n",
      "3304          3\n",
      "4048          3\n",
      "7108         40\n",
      "7305         40\n",
      "9315         20\n",
      "12344         2\n",
      "13105         3\n",
      "13162         2\n",
      "13353        40\n",
      "13546         3\n",
      "15770        20\n",
      "16641        30\n",
      "16773         3\n",
      "16994         3\n",
      "17477         2\n",
      "19146         3\n",
      "19222        50\n",
      "21900         3\n",
      "26600         3\n",
      "29889       100\n",
      "33947        30\n",
      "35997        80\n",
      "36502         2\n",
      "38411        50\n",
      "38926         3\n",
      "41168         3\n",
      "41433        20\n",
      "41664       330\n",
      "45062        50\n",
      "45595         3\n",
      "47212         2\n",
      "48466         2\n",
      "50098         1\n",
      "50792         3\n",
      "56842         2\n",
      "57583        40\n",
      "57703         3\n",
      "58735         2\n",
      "58804         3\n",
      "59662         2\n",
      "61429       120\n",
      "61527       190\n",
      "62340        30\n",
      "65142        30\n",
      "65729        50\n",
      "65844         3\n",
      "68089        10\n",
      "70868         3\n",
      "71640        90\n",
      "72366        20\n",
      "72434        60\n",
      "75985         3\n",
      "77324        70\n",
      "77825         3\n",
      "77987        30\n",
      "79029        60\n",
      "80004        NA\n",
      "80341         3\n",
      "80726         3\n",
      "81118         3\n",
      "81607         3\n",
      "82999        40\n",
      "83247        40\n",
      "83587         3\n",
      "87049         3\n",
      "90048       100\n",
      "90086        20\n",
      "90853        60\n",
      "92484       200\n",
      "93859         3\n",
      "94849        90\n",
      "95538         3\n",
      "96667         3\n",
      "96887        40\n"
     ]
    }
   ],
   "source": [
    "# A quick way to treat the age and income variables is to convert the invalid values to NA, \n",
    "#as if they were missing variables. \n",
    "\n",
    "customer_data <- customer_data %>%\n",
    "        mutate(age = na_if(age, 0), income = ifelse(income < 0, NA, income))\n",
    "\n",
    "print(customer_data[is.na(customer_data$age), ])"
   ]
  },
  {
   "cell_type": "markdown",
   "id": "2ca4cf46",
   "metadata": {},
   "source": [
    "Treating missing values:"
   ]
  },
  {
   "cell_type": "code",
   "execution_count": 78,
   "id": "c7e41e4c",
   "metadata": {},
   "outputs": [],
   "source": [
    "count_missing = function(df) {\n",
    "   sapply(df, FUN=function(col) sum(is.na(col)) )\n",
    "}\n",
    "          \n",
    "help(sapply)          "
   ]
  },
  {
   "cell_type": "code",
   "execution_count": 79,
   "id": "f0b1c234",
   "metadata": {},
   "outputs": [
    {
     "data": {
      "text/html": [
       "<style>\n",
       ".dl-inline {width: auto; margin:0; padding: 0}\n",
       ".dl-inline>dt, .dl-inline>dd {float: none; width: auto; display: inline-block}\n",
       ".dl-inline>dt::after {content: \":\\0020\"; padding-right: .5ex}\n",
       ".dl-inline>dt:not(:first-of-type) {padding-left: .5ex}\n",
       "</style><dl class=dl-inline><dt>is_employed</dt><dd>25774</dd><dt>income</dt><dd>45</dd><dt>housing_type</dt><dd>1720</dd><dt>recent_move</dt><dd>1721</dd><dt>num_vehicles</dt><dd>1720</dd><dt>age</dt><dd>77</dd><dt>gas_usage</dt><dd>1720</dd></dl>\n"
      ],
      "text/latex": [
       "\\begin{description*}\n",
       "\\item[is\\textbackslash{}\\_employed] 25774\n",
       "\\item[income] 45\n",
       "\\item[housing\\textbackslash{}\\_type] 1720\n",
       "\\item[recent\\textbackslash{}\\_move] 1721\n",
       "\\item[num\\textbackslash{}\\_vehicles] 1720\n",
       "\\item[age] 77\n",
       "\\item[gas\\textbackslash{}\\_usage] 1720\n",
       "\\end{description*}\n"
      ],
      "text/markdown": [
       "is_employed\n",
       ":   25774income\n",
       ":   45housing_type\n",
       ":   1720recent_move\n",
       ":   1721num_vehicles\n",
       ":   1720age\n",
       ":   77gas_usage\n",
       ":   1720\n",
       "\n"
      ],
      "text/plain": [
       " is_employed       income housing_type  recent_move num_vehicles          age \n",
       "       25774           45         1720         1721         1720           77 \n",
       "   gas_usage \n",
       "        1720 "
      ]
     },
     "metadata": {},
     "output_type": "display_data"
    }
   ],
   "source": [
    "nacounts <- count_missing(customer_data)\n",
    "hasNA = which(nacounts > 0)\n",
    "nacounts[hasNA]"
   ]
  },
  {
   "cell_type": "markdown",
   "id": "1e7225db",
   "metadata": {},
   "source": [
    "Fundamentally, there are two things you can do with these variables: drop the rows with missing values, or convert the missing values to a meaningful value. For variables like income or age that have very few missing values relative to the size of the data (customer_data has 73,262 rows), it could be safe to drop the rows. It wouldn’t be safe to drop rows from variables like is_employed or gas_usage, where a large fraction of the values is missing."
   ]
  },
  {
   "attachments": {
    "Screen%20Shot%202022-03-15%20at%2012.28.33.png": {
     "image/png": "[encoded data removed]"
    }
   },
   "cell_type": "markdown",
   "id": "4f071f24",
   "metadata": {},
   "source": [
    "Even a few missing values can lose all your data:\n",
    "\n",
    "![Screen%20Shot%202022-03-15%20at%2012.28.33.png](attachment:Screen%20Shot%202022-03-15%20at%2012.28.33.png)"
   ]
  },
  {
   "attachments": {
    "Screen%20Shot%202022-03-15%20at%2012.30.54.png": {
     "image/png": "[encoded data removed]"
    }
   },
   "cell_type": "markdown",
   "id": "f37cb9e6",
   "metadata": {},
   "source": [
    "Missing data in categorical variables:\n",
    "\n",
    "When the variable with missing values is categorical, an easy solution is to create a new category for the variable, called, for instance, missing or _invalid_. \n",
    "\n",
    "![Screen%20Shot%202022-03-15%20at%2012.30.54.png](attachment:Screen%20Shot%202022-03-15%20at%2012.30.54.png)"
   ]
  },
  {
   "cell_type": "markdown",
   "id": "888c32f6",
   "metadata": {},
   "source": [
    "Missing values in numeric or logical variables\n",
    "\n",
    "Suppose your income variable were missing substantial data (i.e., so many null values). You believe that income is still an important predictor of the probability of health insurance coverage, so you still want to use the variable. What do you do? This can depend on why you think the data is missing.\n",
    "\n",
    "You can replace the missing values with a “reasonable estimate,” or imputed value. Statistically, one commonly used estimate is the expected, or mean, income.\n",
    "\n",
    "Assuming that the customers with missing income are distributed the same way as the others, replacing missing values with the mean will be correct on average. It’s also an easy fix to implement. \n",
    "\n",
    "CAUTION: It’s possible that the customers with missing income data are systematically different from the others. For instance, it could be the case that the customers with missing income information truly have no income, because they are full-time students or stay-at-home spouses or otherwise not in the active workforce. If this is so, then “filling in” their income information by using one of the preceding methods is an insufficient treatment, and may lead to false conclusions.\n",
    "\n",
    "The text R in Action, Second Edition (Robert Kabacoff, 2014, http://mng.bz/ybS4) includes an extensive discussion of several value imputation methods available in R."
   ]
  },
  {
   "cell_type": "markdown",
   "id": "6953b8d7",
   "metadata": {},
   "source": [
    "The vtreat package for automatically treating missing variables"
   ]
  },
  {
   "cell_type": "code",
   "execution_count": 59,
   "id": "c8b5f0a4",
   "metadata": {},
   "outputs": [
    {
     "data": {
      "text/html": [
       "<style>\n",
       ".list-inline {list-style: none; margin:0; padding: 0}\n",
       ".list-inline>li {display: inline-block}\n",
       ".list-inline>li:not(:last-child)::after {content: \"\\00b7\"; padding: 0 .5ex}\n",
       "</style>\n",
       "<ol class=list-inline><li>'custid'</li><li>'sex'</li><li>'is_employed'</li><li>'income'</li><li>'marital_status'</li><li>'health_ins'</li><li>'housing_type'</li><li>'recent_move'</li><li>'num_vehicles'</li><li>'age'</li><li>'state_of_res'</li><li>'gas_usage'</li></ol>\n"
      ],
      "text/latex": [
       "\\begin{enumerate*}\n",
       "\\item 'custid'\n",
       "\\item 'sex'\n",
       "\\item 'is\\_employed'\n",
       "\\item 'income'\n",
       "\\item 'marital\\_status'\n",
       "\\item 'health\\_ins'\n",
       "\\item 'housing\\_type'\n",
       "\\item 'recent\\_move'\n",
       "\\item 'num\\_vehicles'\n",
       "\\item 'age'\n",
       "\\item 'state\\_of\\_res'\n",
       "\\item 'gas\\_usage'\n",
       "\\end{enumerate*}\n"
      ],
      "text/markdown": [
       "1. 'custid'\n",
       "2. 'sex'\n",
       "3. 'is_employed'\n",
       "4. 'income'\n",
       "5. 'marital_status'\n",
       "6. 'health_ins'\n",
       "7. 'housing_type'\n",
       "8. 'recent_move'\n",
       "9. 'num_vehicles'\n",
       "10. 'age'\n",
       "11. 'state_of_res'\n",
       "12. 'gas_usage'\n",
       "\n",
       "\n"
      ],
      "text/plain": [
       " [1] \"custid\"         \"sex\"            \"is_employed\"    \"income\"        \n",
       " [5] \"marital_status\" \"health_ins\"     \"housing_type\"   \"recent_move\"   \n",
       " [9] \"num_vehicles\"   \"age\"            \"state_of_res\"   \"gas_usage\"     "
      ]
     },
     "metadata": {},
     "output_type": "display_data"
    },
    {
     "data": {
      "text/html": [
       "<style>\n",
       ".list-inline {list-style: none; margin:0; padding: 0}\n",
       ".list-inline>li {display: inline-block}\n",
       ".list-inline>li:not(:last-child)::after {content: \"\\00b7\"; padding: 0 .5ex}\n",
       "</style>\n",
       "<ol class=list-inline><li>'sex'</li><li>'is_employed'</li><li>'income'</li><li>'marital_status'</li><li>'housing_type'</li><li>'recent_move'</li><li>'num_vehicles'</li><li>'age'</li><li>'state_of_res'</li><li>'gas_usage'</li></ol>\n"
      ],
      "text/latex": [
       "\\begin{enumerate*}\n",
       "\\item 'sex'\n",
       "\\item 'is\\_employed'\n",
       "\\item 'income'\n",
       "\\item 'marital\\_status'\n",
       "\\item 'housing\\_type'\n",
       "\\item 'recent\\_move'\n",
       "\\item 'num\\_vehicles'\n",
       "\\item 'age'\n",
       "\\item 'state\\_of\\_res'\n",
       "\\item 'gas\\_usage'\n",
       "\\end{enumerate*}\n"
      ],
      "text/markdown": [
       "1. 'sex'\n",
       "2. 'is_employed'\n",
       "3. 'income'\n",
       "4. 'marital_status'\n",
       "5. 'housing_type'\n",
       "6. 'recent_move'\n",
       "7. 'num_vehicles'\n",
       "8. 'age'\n",
       "9. 'state_of_res'\n",
       "10. 'gas_usage'\n",
       "\n",
       "\n"
      ],
      "text/plain": [
       " [1] \"sex\"            \"is_employed\"    \"income\"         \"marital_status\"\n",
       " [5] \"housing_type\"   \"recent_move\"    \"num_vehicles\"   \"age\"           \n",
       " [9] \"state_of_res\"   \"gas_usage\"     "
      ]
     },
     "metadata": {},
     "output_type": "display_data"
    }
   ],
   "source": [
    "#install.packages(\"vtreat\")\n",
    "customer_data <- readRDS(\"custdata.RDS\")\n",
    "\n",
    "colnames(customer_data)\n",
    "\n",
    "varlist <- setdiff(colnames(customer_data), c(\"custid\", \"health_ins\")) #it excludes two columns\n",
    "\n",
    "varlist\n",
    "\n",
    "library(vtreat)\n",
    "        treatment_plan <-\n",
    "              design_missingness_treatment(customer_data, varlist = varlist)\n",
    "        training_prepared <- prepare(treatment_plan, customer_data)"
   ]
  },
  {
   "cell_type": "code",
   "execution_count": 83,
   "id": "368e388b",
   "metadata": {},
   "outputs": [
    {
     "data": {
      "text/html": [
       "<style>\n",
       ".list-inline {list-style: none; margin:0; padding: 0}\n",
       ".list-inline>li {display: inline-block}\n",
       ".list-inline>li:not(:last-child)::after {content: \"\\00b7\"; padding: 0 .5ex}\n",
       "</style>\n",
       "<ol class=list-inline><li>'custid'</li><li>'sex'</li><li>'is_employed'</li><li>'income'</li><li>'marital_status'</li><li>'health_ins'</li><li>'housing_type'</li><li>'recent_move'</li><li>'num_vehicles'</li><li>'age'</li><li>'state_of_res'</li><li>'gas_usage'</li></ol>\n"
      ],
      "text/latex": [
       "\\begin{enumerate*}\n",
       "\\item 'custid'\n",
       "\\item 'sex'\n",
       "\\item 'is\\_employed'\n",
       "\\item 'income'\n",
       "\\item 'marital\\_status'\n",
       "\\item 'health\\_ins'\n",
       "\\item 'housing\\_type'\n",
       "\\item 'recent\\_move'\n",
       "\\item 'num\\_vehicles'\n",
       "\\item 'age'\n",
       "\\item 'state\\_of\\_res'\n",
       "\\item 'gas\\_usage'\n",
       "\\end{enumerate*}\n"
      ],
      "text/markdown": [
       "1. 'custid'\n",
       "2. 'sex'\n",
       "3. 'is_employed'\n",
       "4. 'income'\n",
       "5. 'marital_status'\n",
       "6. 'health_ins'\n",
       "7. 'housing_type'\n",
       "8. 'recent_move'\n",
       "9. 'num_vehicles'\n",
       "10. 'age'\n",
       "11. 'state_of_res'\n",
       "12. 'gas_usage'\n",
       "\n",
       "\n"
      ],
      "text/plain": [
       " [1] \"custid\"         \"sex\"            \"is_employed\"    \"income\"        \n",
       " [5] \"marital_status\" \"health_ins\"     \"housing_type\"   \"recent_move\"   \n",
       " [9] \"num_vehicles\"   \"age\"            \"state_of_res\"   \"gas_usage\"     "
      ]
     },
     "metadata": {},
     "output_type": "display_data"
    },
    {
     "data": {
      "text/html": [
       "<style>\n",
       ".list-inline {list-style: none; margin:0; padding: 0}\n",
       ".list-inline>li {display: inline-block}\n",
       ".list-inline>li:not(:last-child)::after {content: \"\\00b7\"; padding: 0 .5ex}\n",
       "</style>\n",
       "<ol class=list-inline><li>'custid'</li><li>'health_ins'</li><li>'sex'</li><li>'is_employed'</li><li>'is_employed_isBAD'</li><li>'income'</li><li>'marital_status'</li><li>'housing_type'</li><li>'recent_move'</li><li>'recent_move_isBAD'</li><li>'num_vehicles'</li><li>'num_vehicles_isBAD'</li><li>'age'</li><li>'state_of_res'</li><li>'gas_usage'</li><li>'gas_usage_isBAD'</li></ol>\n"
      ],
      "text/latex": [
       "\\begin{enumerate*}\n",
       "\\item 'custid'\n",
       "\\item 'health\\_ins'\n",
       "\\item 'sex'\n",
       "\\item 'is\\_employed'\n",
       "\\item 'is\\_employed\\_isBAD'\n",
       "\\item 'income'\n",
       "\\item 'marital\\_status'\n",
       "\\item 'housing\\_type'\n",
       "\\item 'recent\\_move'\n",
       "\\item 'recent\\_move\\_isBAD'\n",
       "\\item 'num\\_vehicles'\n",
       "\\item 'num\\_vehicles\\_isBAD'\n",
       "\\item 'age'\n",
       "\\item 'state\\_of\\_res'\n",
       "\\item 'gas\\_usage'\n",
       "\\item 'gas\\_usage\\_isBAD'\n",
       "\\end{enumerate*}\n"
      ],
      "text/markdown": [
       "1. 'custid'\n",
       "2. 'health_ins'\n",
       "3. 'sex'\n",
       "4. 'is_employed'\n",
       "5. 'is_employed_isBAD'\n",
       "6. 'income'\n",
       "7. 'marital_status'\n",
       "8. 'housing_type'\n",
       "9. 'recent_move'\n",
       "10. 'recent_move_isBAD'\n",
       "11. 'num_vehicles'\n",
       "12. 'num_vehicles_isBAD'\n",
       "13. 'age'\n",
       "14. 'state_of_res'\n",
       "15. 'gas_usage'\n",
       "16. 'gas_usage_isBAD'\n",
       "\n",
       "\n"
      ],
      "text/plain": [
       " [1] \"custid\"             \"health_ins\"         \"sex\"               \n",
       " [4] \"is_employed\"        \"is_employed_isBAD\"  \"income\"            \n",
       " [7] \"marital_status\"     \"housing_type\"       \"recent_move\"       \n",
       "[10] \"recent_move_isBAD\"  \"num_vehicles\"       \"num_vehicles_isBAD\"\n",
       "[13] \"age\"                \"state_of_res\"       \"gas_usage\"         \n",
       "[16] \"gas_usage_isBAD\"   "
      ]
     },
     "metadata": {},
     "output_type": "display_data"
    },
    {
     "data": {
      "text/html": [
       "<table class=\"dataframe\">\n",
       "<caption>A data.frame: 6 × 12</caption>\n",
       "<thead>\n",
       "\t<tr><th></th><th scope=col>custid</th><th scope=col>sex</th><th scope=col>is_employed</th><th scope=col>income</th><th scope=col>marital_status</th><th scope=col>health_ins</th><th scope=col>housing_type</th><th scope=col>recent_move</th><th scope=col>num_vehicles</th><th scope=col>age</th><th scope=col>state_of_res</th><th scope=col>gas_usage</th></tr>\n",
       "\t<tr><th></th><th scope=col>&lt;chr&gt;</th><th scope=col>&lt;fct&gt;</th><th scope=col>&lt;lgl&gt;</th><th scope=col>&lt;dbl&gt;</th><th scope=col>&lt;fct&gt;</th><th scope=col>&lt;lgl&gt;</th><th scope=col>&lt;fct&gt;</th><th scope=col>&lt;lgl&gt;</th><th scope=col>&lt;dbl&gt;</th><th scope=col>&lt;dbl&gt;</th><th scope=col>&lt;fct&gt;</th><th scope=col>&lt;dbl&gt;</th></tr>\n",
       "</thead>\n",
       "<tbody>\n",
       "\t<tr><th scope=row>7</th><td>000006646_03</td><td>Male  </td><td>TRUE</td><td>22000</td><td>Never married     </td><td>TRUE</td><td>Homeowner free and clear    </td><td>FALSE</td><td>0</td><td>24</td><td>Alabama</td><td>210</td></tr>\n",
       "\t<tr><th scope=row>8</th><td>000007827_01</td><td>Female</td><td>  NA</td><td>23200</td><td>Divorced/Separated</td><td>TRUE</td><td>Rented                      </td><td> TRUE</td><td>0</td><td>82</td><td>Alabama</td><td>  3</td></tr>\n",
       "\t<tr><th scope=row>9</th><td>000008359_04</td><td>Female</td><td>TRUE</td><td>21000</td><td>Never married     </td><td>TRUE</td><td>Homeowner with mortgage/loan</td><td>FALSE</td><td>2</td><td>31</td><td>Alabama</td><td> 40</td></tr>\n",
       "\t<tr><th scope=row>10</th><td>000008529_01</td><td>Female</td><td>  NA</td><td>37770</td><td>Widowed           </td><td>TRUE</td><td>Homeowner free and clear    </td><td>FALSE</td><td>1</td><td>93</td><td>Alabama</td><td>120</td></tr>\n",
       "\t<tr><th scope=row>11</th><td>000008744_02</td><td>Male  </td><td>TRUE</td><td>39000</td><td>Divorced/Separated</td><td>TRUE</td><td>Rented                      </td><td>FALSE</td><td>2</td><td>67</td><td>Alabama</td><td>  3</td></tr>\n",
       "\t<tr><th scope=row>15</th><td>000011466_01</td><td>Male  </td><td>  NA</td><td>11100</td><td>Married           </td><td>TRUE</td><td>Homeowner free and clear    </td><td>FALSE</td><td>2</td><td>76</td><td>Alabama</td><td>200</td></tr>\n",
       "</tbody>\n",
       "</table>\n"
      ],
      "text/latex": [
       "A data.frame: 6 × 12\n",
       "\\begin{tabular}{r|llllllllllll}\n",
       "  & custid & sex & is\\_employed & income & marital\\_status & health\\_ins & housing\\_type & recent\\_move & num\\_vehicles & age & state\\_of\\_res & gas\\_usage\\\\\n",
       "  & <chr> & <fct> & <lgl> & <dbl> & <fct> & <lgl> & <fct> & <lgl> & <dbl> & <dbl> & <fct> & <dbl>\\\\\n",
       "\\hline\n",
       "\t7 & 000006646\\_03 & Male   & TRUE & 22000 & Never married      & TRUE & Homeowner free and clear     & FALSE & 0 & 24 & Alabama & 210\\\\\n",
       "\t8 & 000007827\\_01 & Female &   NA & 23200 & Divorced/Separated & TRUE & Rented                       &  TRUE & 0 & 82 & Alabama &   3\\\\\n",
       "\t9 & 000008359\\_04 & Female & TRUE & 21000 & Never married      & TRUE & Homeowner with mortgage/loan & FALSE & 2 & 31 & Alabama &  40\\\\\n",
       "\t10 & 000008529\\_01 & Female &   NA & 37770 & Widowed            & TRUE & Homeowner free and clear     & FALSE & 1 & 93 & Alabama & 120\\\\\n",
       "\t11 & 000008744\\_02 & Male   & TRUE & 39000 & Divorced/Separated & TRUE & Rented                       & FALSE & 2 & 67 & Alabama &   3\\\\\n",
       "\t15 & 000011466\\_01 & Male   &   NA & 11100 & Married            & TRUE & Homeowner free and clear     & FALSE & 2 & 76 & Alabama & 200\\\\\n",
       "\\end{tabular}\n"
      ],
      "text/markdown": [
       "\n",
       "A data.frame: 6 × 12\n",
       "\n",
       "| <!--/--> | custid &lt;chr&gt; | sex &lt;fct&gt; | is_employed &lt;lgl&gt; | income &lt;dbl&gt; | marital_status &lt;fct&gt; | health_ins &lt;lgl&gt; | housing_type &lt;fct&gt; | recent_move &lt;lgl&gt; | num_vehicles &lt;dbl&gt; | age &lt;dbl&gt; | state_of_res &lt;fct&gt; | gas_usage &lt;dbl&gt; |\n",
       "|---|---|---|---|---|---|---|---|---|---|---|---|---|\n",
       "| 7 | 000006646_03 | Male   | TRUE | 22000 | Never married      | TRUE | Homeowner free and clear     | FALSE | 0 | 24 | Alabama | 210 |\n",
       "| 8 | 000007827_01 | Female |   NA | 23200 | Divorced/Separated | TRUE | Rented                       |  TRUE | 0 | 82 | Alabama |   3 |\n",
       "| 9 | 000008359_04 | Female | TRUE | 21000 | Never married      | TRUE | Homeowner with mortgage/loan | FALSE | 2 | 31 | Alabama |  40 |\n",
       "| 10 | 000008529_01 | Female |   NA | 37770 | Widowed            | TRUE | Homeowner free and clear     | FALSE | 1 | 93 | Alabama | 120 |\n",
       "| 11 | 000008744_02 | Male   | TRUE | 39000 | Divorced/Separated | TRUE | Rented                       | FALSE | 2 | 67 | Alabama |   3 |\n",
       "| 15 | 000011466_01 | Male   |   NA | 11100 | Married            | TRUE | Homeowner free and clear     | FALSE | 2 | 76 | Alabama | 200 |\n",
       "\n"
      ],
      "text/plain": [
       "   custid       sex    is_employed income marital_status     health_ins\n",
       "7  000006646_03 Male   TRUE        22000  Never married      TRUE      \n",
       "8  000007827_01 Female   NA        23200  Divorced/Separated TRUE      \n",
       "9  000008359_04 Female TRUE        21000  Never married      TRUE      \n",
       "10 000008529_01 Female   NA        37770  Widowed            TRUE      \n",
       "11 000008744_02 Male   TRUE        39000  Divorced/Separated TRUE      \n",
       "15 000011466_01 Male     NA        11100  Married            TRUE      \n",
       "   housing_type                 recent_move num_vehicles age state_of_res\n",
       "7  Homeowner free and clear     FALSE       0            24  Alabama     \n",
       "8  Rented                        TRUE       0            82  Alabama     \n",
       "9  Homeowner with mortgage/loan FALSE       2            31  Alabama     \n",
       "10 Homeowner free and clear     FALSE       1            93  Alabama     \n",
       "11 Rented                       FALSE       2            67  Alabama     \n",
       "15 Homeowner free and clear     FALSE       2            76  Alabama     \n",
       "   gas_usage\n",
       "7  210      \n",
       "8    3      \n",
       "9   40      \n",
       "10 120      \n",
       "11   3      \n",
       "15 200      "
      ]
     },
     "metadata": {},
     "output_type": "display_data"
    },
    {
     "data": {
      "text/html": [
       "<table class=\"dataframe\">\n",
       "<caption>A data.frame: 6 × 16</caption>\n",
       "<thead>\n",
       "\t<tr><th></th><th scope=col>custid</th><th scope=col>health_ins</th><th scope=col>sex</th><th scope=col>is_employed</th><th scope=col>is_employed_isBAD</th><th scope=col>income</th><th scope=col>marital_status</th><th scope=col>housing_type</th><th scope=col>recent_move</th><th scope=col>recent_move_isBAD</th><th scope=col>num_vehicles</th><th scope=col>num_vehicles_isBAD</th><th scope=col>age</th><th scope=col>state_of_res</th><th scope=col>gas_usage</th><th scope=col>gas_usage_isBAD</th></tr>\n",
       "\t<tr><th></th><th scope=col>&lt;chr&gt;</th><th scope=col>&lt;lgl&gt;</th><th scope=col>&lt;chr&gt;</th><th scope=col>&lt;dbl&gt;</th><th scope=col>&lt;dbl&gt;</th><th scope=col>&lt;dbl&gt;</th><th scope=col>&lt;chr&gt;</th><th scope=col>&lt;chr&gt;</th><th scope=col>&lt;dbl&gt;</th><th scope=col>&lt;dbl&gt;</th><th scope=col>&lt;dbl&gt;</th><th scope=col>&lt;dbl&gt;</th><th scope=col>&lt;dbl&gt;</th><th scope=col>&lt;chr&gt;</th><th scope=col>&lt;dbl&gt;</th><th scope=col>&lt;dbl&gt;</th></tr>\n",
       "</thead>\n",
       "<tbody>\n",
       "\t<tr><th scope=row>7</th><td>000006646_03</td><td>TRUE</td><td>Male  </td><td>1.0000000</td><td>0</td><td>22000</td><td>Never married     </td><td>Homeowner free and clear    </td><td>0</td><td>0</td><td>0</td><td>0</td><td>24</td><td>Alabama</td><td>210</td><td>0</td></tr>\n",
       "\t<tr><th scope=row>8</th><td>000007827_01</td><td>TRUE</td><td>Female</td><td>0.9504928</td><td>1</td><td>23200</td><td>Divorced/Separated</td><td>Rented                      </td><td>1</td><td>0</td><td>0</td><td>0</td><td>82</td><td>Alabama</td><td>  3</td><td>0</td></tr>\n",
       "\t<tr><th scope=row>9</th><td>000008359_04</td><td>TRUE</td><td>Female</td><td>1.0000000</td><td>0</td><td>21000</td><td>Never married     </td><td>Homeowner with mortgage/loan</td><td>0</td><td>0</td><td>2</td><td>0</td><td>31</td><td>Alabama</td><td> 40</td><td>0</td></tr>\n",
       "\t<tr><th scope=row>10</th><td>000008529_01</td><td>TRUE</td><td>Female</td><td>0.9504928</td><td>1</td><td>37770</td><td>Widowed           </td><td>Homeowner free and clear    </td><td>0</td><td>0</td><td>1</td><td>0</td><td>93</td><td>Alabama</td><td>120</td><td>0</td></tr>\n",
       "\t<tr><th scope=row>11</th><td>000008744_02</td><td>TRUE</td><td>Male  </td><td>1.0000000</td><td>0</td><td>39000</td><td>Divorced/Separated</td><td>Rented                      </td><td>0</td><td>0</td><td>2</td><td>0</td><td>67</td><td>Alabama</td><td>  3</td><td>0</td></tr>\n",
       "\t<tr><th scope=row>15</th><td>000011466_01</td><td>TRUE</td><td>Male  </td><td>0.9504928</td><td>1</td><td>11100</td><td>Married           </td><td>Homeowner free and clear    </td><td>0</td><td>0</td><td>2</td><td>0</td><td>76</td><td>Alabama</td><td>200</td><td>0</td></tr>\n",
       "</tbody>\n",
       "</table>\n"
      ],
      "text/latex": [
       "A data.frame: 6 × 16\n",
       "\\begin{tabular}{r|llllllllllllllll}\n",
       "  & custid & health\\_ins & sex & is\\_employed & is\\_employed\\_isBAD & income & marital\\_status & housing\\_type & recent\\_move & recent\\_move\\_isBAD & num\\_vehicles & num\\_vehicles\\_isBAD & age & state\\_of\\_res & gas\\_usage & gas\\_usage\\_isBAD\\\\\n",
       "  & <chr> & <lgl> & <chr> & <dbl> & <dbl> & <dbl> & <chr> & <chr> & <dbl> & <dbl> & <dbl> & <dbl> & <dbl> & <chr> & <dbl> & <dbl>\\\\\n",
       "\\hline\n",
       "\t7 & 000006646\\_03 & TRUE & Male   & 1.0000000 & 0 & 22000 & Never married      & Homeowner free and clear     & 0 & 0 & 0 & 0 & 24 & Alabama & 210 & 0\\\\\n",
       "\t8 & 000007827\\_01 & TRUE & Female & 0.9504928 & 1 & 23200 & Divorced/Separated & Rented                       & 1 & 0 & 0 & 0 & 82 & Alabama &   3 & 0\\\\\n",
       "\t9 & 000008359\\_04 & TRUE & Female & 1.0000000 & 0 & 21000 & Never married      & Homeowner with mortgage/loan & 0 & 0 & 2 & 0 & 31 & Alabama &  40 & 0\\\\\n",
       "\t10 & 000008529\\_01 & TRUE & Female & 0.9504928 & 1 & 37770 & Widowed            & Homeowner free and clear     & 0 & 0 & 1 & 0 & 93 & Alabama & 120 & 0\\\\\n",
       "\t11 & 000008744\\_02 & TRUE & Male   & 1.0000000 & 0 & 39000 & Divorced/Separated & Rented                       & 0 & 0 & 2 & 0 & 67 & Alabama &   3 & 0\\\\\n",
       "\t15 & 000011466\\_01 & TRUE & Male   & 0.9504928 & 1 & 11100 & Married            & Homeowner free and clear     & 0 & 0 & 2 & 0 & 76 & Alabama & 200 & 0\\\\\n",
       "\\end{tabular}\n"
      ],
      "text/markdown": [
       "\n",
       "A data.frame: 6 × 16\n",
       "\n",
       "| <!--/--> | custid &lt;chr&gt; | health_ins &lt;lgl&gt; | sex &lt;chr&gt; | is_employed &lt;dbl&gt; | is_employed_isBAD &lt;dbl&gt; | income &lt;dbl&gt; | marital_status &lt;chr&gt; | housing_type &lt;chr&gt; | recent_move &lt;dbl&gt; | recent_move_isBAD &lt;dbl&gt; | num_vehicles &lt;dbl&gt; | num_vehicles_isBAD &lt;dbl&gt; | age &lt;dbl&gt; | state_of_res &lt;chr&gt; | gas_usage &lt;dbl&gt; | gas_usage_isBAD &lt;dbl&gt; |\n",
       "|---|---|---|---|---|---|---|---|---|---|---|---|---|---|---|---|---|\n",
       "| 7 | 000006646_03 | TRUE | Male   | 1.0000000 | 0 | 22000 | Never married      | Homeowner free and clear     | 0 | 0 | 0 | 0 | 24 | Alabama | 210 | 0 |\n",
       "| 8 | 000007827_01 | TRUE | Female | 0.9504928 | 1 | 23200 | Divorced/Separated | Rented                       | 1 | 0 | 0 | 0 | 82 | Alabama |   3 | 0 |\n",
       "| 9 | 000008359_04 | TRUE | Female | 1.0000000 | 0 | 21000 | Never married      | Homeowner with mortgage/loan | 0 | 0 | 2 | 0 | 31 | Alabama |  40 | 0 |\n",
       "| 10 | 000008529_01 | TRUE | Female | 0.9504928 | 1 | 37770 | Widowed            | Homeowner free and clear     | 0 | 0 | 1 | 0 | 93 | Alabama | 120 | 0 |\n",
       "| 11 | 000008744_02 | TRUE | Male   | 1.0000000 | 0 | 39000 | Divorced/Separated | Rented                       | 0 | 0 | 2 | 0 | 67 | Alabama |   3 | 0 |\n",
       "| 15 | 000011466_01 | TRUE | Male   | 0.9504928 | 1 | 11100 | Married            | Homeowner free and clear     | 0 | 0 | 2 | 0 | 76 | Alabama | 200 | 0 |\n",
       "\n"
      ],
      "text/plain": [
       "   custid       health_ins sex    is_employed is_employed_isBAD income\n",
       "7  000006646_03 TRUE       Male   1.0000000   0                 22000 \n",
       "8  000007827_01 TRUE       Female 0.9504928   1                 23200 \n",
       "9  000008359_04 TRUE       Female 1.0000000   0                 21000 \n",
       "10 000008529_01 TRUE       Female 0.9504928   1                 37770 \n",
       "11 000008744_02 TRUE       Male   1.0000000   0                 39000 \n",
       "15 000011466_01 TRUE       Male   0.9504928   1                 11100 \n",
       "   marital_status     housing_type                 recent_move\n",
       "7  Never married      Homeowner free and clear     0          \n",
       "8  Divorced/Separated Rented                       1          \n",
       "9  Never married      Homeowner with mortgage/loan 0          \n",
       "10 Widowed            Homeowner free and clear     0          \n",
       "11 Divorced/Separated Rented                       0          \n",
       "15 Married            Homeowner free and clear     0          \n",
       "   recent_move_isBAD num_vehicles num_vehicles_isBAD age state_of_res gas_usage\n",
       "7  0                 0            0                  24  Alabama      210      \n",
       "8  0                 0            0                  82  Alabama        3      \n",
       "9  0                 2            0                  31  Alabama       40      \n",
       "10 0                 1            0                  93  Alabama      120      \n",
       "11 0                 2            0                  67  Alabama        3      \n",
       "15 0                 2            0                  76  Alabama      200      \n",
       "   gas_usage_isBAD\n",
       "7  0              \n",
       "8  0              \n",
       "9  0              \n",
       "10 0              \n",
       "11 0              \n",
       "15 0              "
      ]
     },
     "metadata": {},
     "output_type": "display_data"
    }
   ],
   "source": [
    "colnames(customer_data)\n",
    "\n",
    "colnames(training_prepared)\n",
    "#The prepared data has additional columns that are not in the original data, \n",
    "#most importantly those with the _isBAD designation.\n",
    "\n",
    "head(customer_data)\n",
    "#vs.\n",
    "head(training_prepared)"
   ]
  },
  {
   "cell_type": "code",
   "execution_count": 63,
   "id": "f0d64d9a",
   "metadata": {},
   "outputs": [
    {
     "data": {
      "text/html": [
       "0"
      ],
      "text/latex": [
       "0"
      ],
      "text/markdown": [
       "0"
      ],
      "text/plain": [
       "[1] 0"
      ]
     },
     "metadata": {},
     "output_type": "display_data"
    }
   ],
   "source": [
    "nacounts <- sapply(training_prepared, FUN=function(col) sum(is.na(col)) )\n",
    "sum(nacounts) #The prepared data has no missing values."
   ]
  },
  {
   "cell_type": "code",
   "execution_count": 65,
   "id": "40b0f978",
   "metadata": {},
   "outputs": [
    {
     "data": {
      "text/html": [
       "<table class=\"dataframe\">\n",
       "<caption>A data.frame: 1720 × 5</caption>\n",
       "<thead>\n",
       "\t<tr><th></th><th scope=col>custid</th><th scope=col>is_employed</th><th scope=col>num_vehicles</th><th scope=col>housing_type</th><th scope=col>health_ins</th></tr>\n",
       "\t<tr><th></th><th scope=col>&lt;chr&gt;</th><th scope=col>&lt;lgl&gt;</th><th scope=col>&lt;dbl&gt;</th><th scope=col>&lt;fct&gt;</th><th scope=col>&lt;lgl&gt;</th></tr>\n",
       "</thead>\n",
       "<tbody>\n",
       "\t<tr><th scope=row>80</th><td>000082691_01</td><td>TRUE</td><td>NA</td><td>NA</td><td>FALSE</td></tr>\n",
       "\t<tr><th scope=row>100</th><td>000116191_01</td><td>TRUE</td><td>NA</td><td>NA</td><td> TRUE</td></tr>\n",
       "\t<tr><th scope=row>237</th><td>000269295_01</td><td>  NA</td><td>NA</td><td>NA</td><td>FALSE</td></tr>\n",
       "\t<tr><th scope=row>299</th><td>000349708_01</td><td>  NA</td><td>NA</td><td>NA</td><td>FALSE</td></tr>\n",
       "\t<tr><th scope=row>311</th><td>000362630_01</td><td>  NA</td><td>NA</td><td>NA</td><td> TRUE</td></tr>\n",
       "\t<tr><th scope=row>413</th><td>000443953_01</td><td>  NA</td><td>NA</td><td>NA</td><td> TRUE</td></tr>\n",
       "\t<tr><th scope=row>438</th><td>000474922_01</td><td>  NA</td><td>NA</td><td>NA</td><td> TRUE</td></tr>\n",
       "\t<tr><th scope=row>454</th><td>000490510_01</td><td>  NA</td><td>NA</td><td>NA</td><td> TRUE</td></tr>\n",
       "\t<tr><th scope=row>479</th><td>000513710_01</td><td>  NA</td><td>NA</td><td>NA</td><td> TRUE</td></tr>\n",
       "\t<tr><th scope=row>572</th><td>000613169_01</td><td>  NA</td><td>NA</td><td>NA</td><td> TRUE</td></tr>\n",
       "\t<tr><th scope=row>612</th><td>000659895_01</td><td>  NA</td><td>NA</td><td>NA</td><td>FALSE</td></tr>\n",
       "\t<tr><th scope=row>622</th><td>000672383_01</td><td>  NA</td><td>NA</td><td>NA</td><td> TRUE</td></tr>\n",
       "\t<tr><th scope=row>626</th><td>000677405_01</td><td>  NA</td><td>NA</td><td>NA</td><td> TRUE</td></tr>\n",
       "\t<tr><th scope=row>641</th><td>000691483_01</td><td>  NA</td><td>NA</td><td>NA</td><td> TRUE</td></tr>\n",
       "\t<tr><th scope=row>784</th><td>000843749_01</td><td>  NA</td><td>NA</td><td>NA</td><td> TRUE</td></tr>\n",
       "\t<tr><th scope=row>857</th><td>000914812_01</td><td>  NA</td><td>NA</td><td>NA</td><td> TRUE</td></tr>\n",
       "\t<tr><th scope=row>989</th><td>001031931_01</td><td>  NA</td><td>NA</td><td>NA</td><td> TRUE</td></tr>\n",
       "\t<tr><th scope=row>995</th><td>001038983_01</td><td>  NA</td><td>NA</td><td>NA</td><td> TRUE</td></tr>\n",
       "\t<tr><th scope=row>1006</th><td>001045173_01</td><td>  NA</td><td>NA</td><td>NA</td><td>FALSE</td></tr>\n",
       "\t<tr><th scope=row>1105</th><td>001153794_01</td><td>TRUE</td><td>NA</td><td>NA</td><td>FALSE</td></tr>\n",
       "\t<tr><th scope=row>1152</th><td>001207172_01</td><td>  NA</td><td>NA</td><td>NA</td><td>FALSE</td></tr>\n",
       "\t<tr><th scope=row>1193</th><td>001251875_01</td><td>  NA</td><td>NA</td><td>NA</td><td> TRUE</td></tr>\n",
       "\t<tr><th scope=row>1284</th><td>001349025_01</td><td>  NA</td><td>NA</td><td>NA</td><td> TRUE</td></tr>\n",
       "\t<tr><th scope=row>1330</th><td>001404628_01</td><td>  NA</td><td>NA</td><td>NA</td><td>FALSE</td></tr>\n",
       "\t<tr><th scope=row>1420</th><td>001500289_01</td><td>  NA</td><td>NA</td><td>NA</td><td>FALSE</td></tr>\n",
       "\t<tr><th scope=row>1508</th><td>000327685_01</td><td>TRUE</td><td>NA</td><td>NA</td><td> TRUE</td></tr>\n",
       "\t<tr><th scope=row>1521</th><td>000404595_01</td><td>  NA</td><td>NA</td><td>NA</td><td> TRUE</td></tr>\n",
       "\t<tr><th scope=row>1535</th><td>000535520_01</td><td>TRUE</td><td>NA</td><td>NA</td><td> TRUE</td></tr>\n",
       "\t<tr><th scope=row>1573</th><td>000812796_01</td><td>TRUE</td><td>NA</td><td>NA</td><td> TRUE</td></tr>\n",
       "\t<tr><th scope=row>1602</th><td>000985558_01</td><td>TRUE</td><td>NA</td><td>NA</td><td> TRUE</td></tr>\n",
       "\t<tr><th scope=row>⋮</th><td>⋮</td><td>⋮</td><td>⋮</td><td>⋮</td><td>⋮</td></tr>\n",
       "\t<tr><th scope=row>98033</th><td>001484965_01</td><td>   NA</td><td>NA</td><td>NA</td><td> TRUE</td></tr>\n",
       "\t<tr><th scope=row>98064</th><td>000019725_01</td><td>FALSE</td><td>NA</td><td>NA</td><td> TRUE</td></tr>\n",
       "\t<tr><th scope=row>98065</th><td>000020261_01</td><td> TRUE</td><td>NA</td><td>NA</td><td> TRUE</td></tr>\n",
       "\t<tr><th scope=row>98304</th><td>000230868_01</td><td>   NA</td><td>NA</td><td>NA</td><td> TRUE</td></tr>\n",
       "\t<tr><th scope=row>98520</th><td>000432623_01</td><td>   NA</td><td>NA</td><td>NA</td><td> TRUE</td></tr>\n",
       "\t<tr><th scope=row>98524</th><td>000434053_01</td><td>   NA</td><td>NA</td><td>NA</td><td> TRUE</td></tr>\n",
       "\t<tr><th scope=row>98569</th><td>000465730_01</td><td>   NA</td><td>NA</td><td>NA</td><td> TRUE</td></tr>\n",
       "\t<tr><th scope=row>98584</th><td>000478448_01</td><td>   NA</td><td>NA</td><td>NA</td><td> TRUE</td></tr>\n",
       "\t<tr><th scope=row>98674</th><td>000551521_01</td><td>   NA</td><td>NA</td><td>NA</td><td>FALSE</td></tr>\n",
       "\t<tr><th scope=row>98703</th><td>000570618_01</td><td>   NA</td><td>NA</td><td>NA</td><td> TRUE</td></tr>\n",
       "\t<tr><th scope=row>98839</th><td>000673280_01</td><td> TRUE</td><td>NA</td><td>NA</td><td> TRUE</td></tr>\n",
       "\t<tr><th scope=row>98904</th><td>000721256_01</td><td>   NA</td><td>NA</td><td>NA</td><td>FALSE</td></tr>\n",
       "\t<tr><th scope=row>98905</th><td>000721450_01</td><td>   NA</td><td>NA</td><td>NA</td><td> TRUE</td></tr>\n",
       "\t<tr><th scope=row>99028</th><td>000834602_01</td><td>   NA</td><td>NA</td><td>NA</td><td> TRUE</td></tr>\n",
       "\t<tr><th scope=row>99063</th><td>000871026_01</td><td> TRUE</td><td>NA</td><td>NA</td><td> TRUE</td></tr>\n",
       "\t<tr><th scope=row>99093</th><td>000892062_01</td><td>   NA</td><td>NA</td><td>NA</td><td>FALSE</td></tr>\n",
       "\t<tr><th scope=row>99104</th><td>000903871_01</td><td>   NA</td><td>NA</td><td>NA</td><td> TRUE</td></tr>\n",
       "\t<tr><th scope=row>99124</th><td>000923589_01</td><td>   NA</td><td>NA</td><td>NA</td><td>FALSE</td></tr>\n",
       "\t<tr><th scope=row>99189</th><td>000982063_01</td><td>   NA</td><td>NA</td><td>NA</td><td> TRUE</td></tr>\n",
       "\t<tr><th scope=row>99206</th><td>000992884_01</td><td>   NA</td><td>NA</td><td>NA</td><td>FALSE</td></tr>\n",
       "\t<tr><th scope=row>99214</th><td>001000224_01</td><td>   NA</td><td>NA</td><td>NA</td><td>FALSE</td></tr>\n",
       "\t<tr><th scope=row>99321</th><td>001110860_01</td><td>   NA</td><td>NA</td><td>NA</td><td>FALSE</td></tr>\n",
       "\t<tr><th scope=row>99330</th><td>001115994_01</td><td>   NA</td><td>NA</td><td>NA</td><td> TRUE</td></tr>\n",
       "\t<tr><th scope=row>99514</th><td>001277464_01</td><td>   NA</td><td>NA</td><td>NA</td><td> TRUE</td></tr>\n",
       "\t<tr><th scope=row>99706</th><td>001422369_01</td><td>   NA</td><td>NA</td><td>NA</td><td>FALSE</td></tr>\n",
       "\t<tr><th scope=row>99764</th><td>001464842_01</td><td>   NA</td><td>NA</td><td>NA</td><td> TRUE</td></tr>\n",
       "\t<tr><th scope=row>99859</th><td>000325202_01</td><td>   NA</td><td>NA</td><td>NA</td><td> TRUE</td></tr>\n",
       "\t<tr><th scope=row>99906</th><td>000635137_01</td><td>   NA</td><td>NA</td><td>NA</td><td>FALSE</td></tr>\n",
       "\t<tr><th scope=row>99946</th><td>001062738_01</td><td>   NA</td><td>NA</td><td>NA</td><td>FALSE</td></tr>\n",
       "\t<tr><th scope=row>100000</th><td>001520877_01</td><td> TRUE</td><td>NA</td><td>NA</td><td> TRUE</td></tr>\n",
       "</tbody>\n",
       "</table>\n"
      ],
      "text/latex": [
       "A data.frame: 1720 × 5\n",
       "\\begin{tabular}{r|lllll}\n",
       "  & custid & is\\_employed & num\\_vehicles & housing\\_type & health\\_ins\\\\\n",
       "  & <chr> & <lgl> & <dbl> & <fct> & <lgl>\\\\\n",
       "\\hline\n",
       "\t80 & 000082691\\_01 & TRUE & NA & NA & FALSE\\\\\n",
       "\t100 & 000116191\\_01 & TRUE & NA & NA &  TRUE\\\\\n",
       "\t237 & 000269295\\_01 &   NA & NA & NA & FALSE\\\\\n",
       "\t299 & 000349708\\_01 &   NA & NA & NA & FALSE\\\\\n",
       "\t311 & 000362630\\_01 &   NA & NA & NA &  TRUE\\\\\n",
       "\t413 & 000443953\\_01 &   NA & NA & NA &  TRUE\\\\\n",
       "\t438 & 000474922\\_01 &   NA & NA & NA &  TRUE\\\\\n",
       "\t454 & 000490510\\_01 &   NA & NA & NA &  TRUE\\\\\n",
       "\t479 & 000513710\\_01 &   NA & NA & NA &  TRUE\\\\\n",
       "\t572 & 000613169\\_01 &   NA & NA & NA &  TRUE\\\\\n",
       "\t612 & 000659895\\_01 &   NA & NA & NA & FALSE\\\\\n",
       "\t622 & 000672383\\_01 &   NA & NA & NA &  TRUE\\\\\n",
       "\t626 & 000677405\\_01 &   NA & NA & NA &  TRUE\\\\\n",
       "\t641 & 000691483\\_01 &   NA & NA & NA &  TRUE\\\\\n",
       "\t784 & 000843749\\_01 &   NA & NA & NA &  TRUE\\\\\n",
       "\t857 & 000914812\\_01 &   NA & NA & NA &  TRUE\\\\\n",
       "\t989 & 001031931\\_01 &   NA & NA & NA &  TRUE\\\\\n",
       "\t995 & 001038983\\_01 &   NA & NA & NA &  TRUE\\\\\n",
       "\t1006 & 001045173\\_01 &   NA & NA & NA & FALSE\\\\\n",
       "\t1105 & 001153794\\_01 & TRUE & NA & NA & FALSE\\\\\n",
       "\t1152 & 001207172\\_01 &   NA & NA & NA & FALSE\\\\\n",
       "\t1193 & 001251875\\_01 &   NA & NA & NA &  TRUE\\\\\n",
       "\t1284 & 001349025\\_01 &   NA & NA & NA &  TRUE\\\\\n",
       "\t1330 & 001404628\\_01 &   NA & NA & NA & FALSE\\\\\n",
       "\t1420 & 001500289\\_01 &   NA & NA & NA & FALSE\\\\\n",
       "\t1508 & 000327685\\_01 & TRUE & NA & NA &  TRUE\\\\\n",
       "\t1521 & 000404595\\_01 &   NA & NA & NA &  TRUE\\\\\n",
       "\t1535 & 000535520\\_01 & TRUE & NA & NA &  TRUE\\\\\n",
       "\t1573 & 000812796\\_01 & TRUE & NA & NA &  TRUE\\\\\n",
       "\t1602 & 000985558\\_01 & TRUE & NA & NA &  TRUE\\\\\n",
       "\t⋮ & ⋮ & ⋮ & ⋮ & ⋮ & ⋮\\\\\n",
       "\t98033 & 001484965\\_01 &    NA & NA & NA &  TRUE\\\\\n",
       "\t98064 & 000019725\\_01 & FALSE & NA & NA &  TRUE\\\\\n",
       "\t98065 & 000020261\\_01 &  TRUE & NA & NA &  TRUE\\\\\n",
       "\t98304 & 000230868\\_01 &    NA & NA & NA &  TRUE\\\\\n",
       "\t98520 & 000432623\\_01 &    NA & NA & NA &  TRUE\\\\\n",
       "\t98524 & 000434053\\_01 &    NA & NA & NA &  TRUE\\\\\n",
       "\t98569 & 000465730\\_01 &    NA & NA & NA &  TRUE\\\\\n",
       "\t98584 & 000478448\\_01 &    NA & NA & NA &  TRUE\\\\\n",
       "\t98674 & 000551521\\_01 &    NA & NA & NA & FALSE\\\\\n",
       "\t98703 & 000570618\\_01 &    NA & NA & NA &  TRUE\\\\\n",
       "\t98839 & 000673280\\_01 &  TRUE & NA & NA &  TRUE\\\\\n",
       "\t98904 & 000721256\\_01 &    NA & NA & NA & FALSE\\\\\n",
       "\t98905 & 000721450\\_01 &    NA & NA & NA &  TRUE\\\\\n",
       "\t99028 & 000834602\\_01 &    NA & NA & NA &  TRUE\\\\\n",
       "\t99063 & 000871026\\_01 &  TRUE & NA & NA &  TRUE\\\\\n",
       "\t99093 & 000892062\\_01 &    NA & NA & NA & FALSE\\\\\n",
       "\t99104 & 000903871\\_01 &    NA & NA & NA &  TRUE\\\\\n",
       "\t99124 & 000923589\\_01 &    NA & NA & NA & FALSE\\\\\n",
       "\t99189 & 000982063\\_01 &    NA & NA & NA &  TRUE\\\\\n",
       "\t99206 & 000992884\\_01 &    NA & NA & NA & FALSE\\\\\n",
       "\t99214 & 001000224\\_01 &    NA & NA & NA & FALSE\\\\\n",
       "\t99321 & 001110860\\_01 &    NA & NA & NA & FALSE\\\\\n",
       "\t99330 & 001115994\\_01 &    NA & NA & NA &  TRUE\\\\\n",
       "\t99514 & 001277464\\_01 &    NA & NA & NA &  TRUE\\\\\n",
       "\t99706 & 001422369\\_01 &    NA & NA & NA & FALSE\\\\\n",
       "\t99764 & 001464842\\_01 &    NA & NA & NA &  TRUE\\\\\n",
       "\t99859 & 000325202\\_01 &    NA & NA & NA &  TRUE\\\\\n",
       "\t99906 & 000635137\\_01 &    NA & NA & NA & FALSE\\\\\n",
       "\t99946 & 001062738\\_01 &    NA & NA & NA & FALSE\\\\\n",
       "\t100000 & 001520877\\_01 &  TRUE & NA & NA &  TRUE\\\\\n",
       "\\end{tabular}\n"
      ],
      "text/markdown": [
       "\n",
       "A data.frame: 1720 × 5\n",
       "\n",
       "| <!--/--> | custid &lt;chr&gt; | is_employed &lt;lgl&gt; | num_vehicles &lt;dbl&gt; | housing_type &lt;fct&gt; | health_ins &lt;lgl&gt; |\n",
       "|---|---|---|---|---|---|\n",
       "| 80 | 000082691_01 | TRUE | NA | NA | FALSE |\n",
       "| 100 | 000116191_01 | TRUE | NA | NA |  TRUE |\n",
       "| 237 | 000269295_01 |   NA | NA | NA | FALSE |\n",
       "| 299 | 000349708_01 |   NA | NA | NA | FALSE |\n",
       "| 311 | 000362630_01 |   NA | NA | NA |  TRUE |\n",
       "| 413 | 000443953_01 |   NA | NA | NA |  TRUE |\n",
       "| 438 | 000474922_01 |   NA | NA | NA |  TRUE |\n",
       "| 454 | 000490510_01 |   NA | NA | NA |  TRUE |\n",
       "| 479 | 000513710_01 |   NA | NA | NA |  TRUE |\n",
       "| 572 | 000613169_01 |   NA | NA | NA |  TRUE |\n",
       "| 612 | 000659895_01 |   NA | NA | NA | FALSE |\n",
       "| 622 | 000672383_01 |   NA | NA | NA |  TRUE |\n",
       "| 626 | 000677405_01 |   NA | NA | NA |  TRUE |\n",
       "| 641 | 000691483_01 |   NA | NA | NA |  TRUE |\n",
       "| 784 | 000843749_01 |   NA | NA | NA |  TRUE |\n",
       "| 857 | 000914812_01 |   NA | NA | NA |  TRUE |\n",
       "| 989 | 001031931_01 |   NA | NA | NA |  TRUE |\n",
       "| 995 | 001038983_01 |   NA | NA | NA |  TRUE |\n",
       "| 1006 | 001045173_01 |   NA | NA | NA | FALSE |\n",
       "| 1105 | 001153794_01 | TRUE | NA | NA | FALSE |\n",
       "| 1152 | 001207172_01 |   NA | NA | NA | FALSE |\n",
       "| 1193 | 001251875_01 |   NA | NA | NA |  TRUE |\n",
       "| 1284 | 001349025_01 |   NA | NA | NA |  TRUE |\n",
       "| 1330 | 001404628_01 |   NA | NA | NA | FALSE |\n",
       "| 1420 | 001500289_01 |   NA | NA | NA | FALSE |\n",
       "| 1508 | 000327685_01 | TRUE | NA | NA |  TRUE |\n",
       "| 1521 | 000404595_01 |   NA | NA | NA |  TRUE |\n",
       "| 1535 | 000535520_01 | TRUE | NA | NA |  TRUE |\n",
       "| 1573 | 000812796_01 | TRUE | NA | NA |  TRUE |\n",
       "| 1602 | 000985558_01 | TRUE | NA | NA |  TRUE |\n",
       "| ⋮ | ⋮ | ⋮ | ⋮ | ⋮ | ⋮ |\n",
       "| 98033 | 001484965_01 |    NA | NA | NA |  TRUE |\n",
       "| 98064 | 000019725_01 | FALSE | NA | NA |  TRUE |\n",
       "| 98065 | 000020261_01 |  TRUE | NA | NA |  TRUE |\n",
       "| 98304 | 000230868_01 |    NA | NA | NA |  TRUE |\n",
       "| 98520 | 000432623_01 |    NA | NA | NA |  TRUE |\n",
       "| 98524 | 000434053_01 |    NA | NA | NA |  TRUE |\n",
       "| 98569 | 000465730_01 |    NA | NA | NA |  TRUE |\n",
       "| 98584 | 000478448_01 |    NA | NA | NA |  TRUE |\n",
       "| 98674 | 000551521_01 |    NA | NA | NA | FALSE |\n",
       "| 98703 | 000570618_01 |    NA | NA | NA |  TRUE |\n",
       "| 98839 | 000673280_01 |  TRUE | NA | NA |  TRUE |\n",
       "| 98904 | 000721256_01 |    NA | NA | NA | FALSE |\n",
       "| 98905 | 000721450_01 |    NA | NA | NA |  TRUE |\n",
       "| 99028 | 000834602_01 |    NA | NA | NA |  TRUE |\n",
       "| 99063 | 000871026_01 |  TRUE | NA | NA |  TRUE |\n",
       "| 99093 | 000892062_01 |    NA | NA | NA | FALSE |\n",
       "| 99104 | 000903871_01 |    NA | NA | NA |  TRUE |\n",
       "| 99124 | 000923589_01 |    NA | NA | NA | FALSE |\n",
       "| 99189 | 000982063_01 |    NA | NA | NA |  TRUE |\n",
       "| 99206 | 000992884_01 |    NA | NA | NA | FALSE |\n",
       "| 99214 | 001000224_01 |    NA | NA | NA | FALSE |\n",
       "| 99321 | 001110860_01 |    NA | NA | NA | FALSE |\n",
       "| 99330 | 001115994_01 |    NA | NA | NA |  TRUE |\n",
       "| 99514 | 001277464_01 |    NA | NA | NA |  TRUE |\n",
       "| 99706 | 001422369_01 |    NA | NA | NA | FALSE |\n",
       "| 99764 | 001464842_01 |    NA | NA | NA |  TRUE |\n",
       "| 99859 | 000325202_01 |    NA | NA | NA |  TRUE |\n",
       "| 99906 | 000635137_01 |    NA | NA | NA | FALSE |\n",
       "| 99946 | 001062738_01 |    NA | NA | NA | FALSE |\n",
       "| 100000 | 001520877_01 |  TRUE | NA | NA |  TRUE |\n",
       "\n"
      ],
      "text/plain": [
       "       custid       is_employed num_vehicles housing_type health_ins\n",
       "80     000082691_01 TRUE        NA           NA           FALSE     \n",
       "100    000116191_01 TRUE        NA           NA            TRUE     \n",
       "237    000269295_01   NA        NA           NA           FALSE     \n",
       "299    000349708_01   NA        NA           NA           FALSE     \n",
       "311    000362630_01   NA        NA           NA            TRUE     \n",
       "413    000443953_01   NA        NA           NA            TRUE     \n",
       "438    000474922_01   NA        NA           NA            TRUE     \n",
       "454    000490510_01   NA        NA           NA            TRUE     \n",
       "479    000513710_01   NA        NA           NA            TRUE     \n",
       "572    000613169_01   NA        NA           NA            TRUE     \n",
       "612    000659895_01   NA        NA           NA           FALSE     \n",
       "622    000672383_01   NA        NA           NA            TRUE     \n",
       "626    000677405_01   NA        NA           NA            TRUE     \n",
       "641    000691483_01   NA        NA           NA            TRUE     \n",
       "784    000843749_01   NA        NA           NA            TRUE     \n",
       "857    000914812_01   NA        NA           NA            TRUE     \n",
       "989    001031931_01   NA        NA           NA            TRUE     \n",
       "995    001038983_01   NA        NA           NA            TRUE     \n",
       "1006   001045173_01   NA        NA           NA           FALSE     \n",
       "1105   001153794_01 TRUE        NA           NA           FALSE     \n",
       "1152   001207172_01   NA        NA           NA           FALSE     \n",
       "1193   001251875_01   NA        NA           NA            TRUE     \n",
       "1284   001349025_01   NA        NA           NA            TRUE     \n",
       "1330   001404628_01   NA        NA           NA           FALSE     \n",
       "1420   001500289_01   NA        NA           NA           FALSE     \n",
       "1508   000327685_01 TRUE        NA           NA            TRUE     \n",
       "1521   000404595_01   NA        NA           NA            TRUE     \n",
       "1535   000535520_01 TRUE        NA           NA            TRUE     \n",
       "1573   000812796_01 TRUE        NA           NA            TRUE     \n",
       "1602   000985558_01 TRUE        NA           NA            TRUE     \n",
       "⋮      ⋮            ⋮           ⋮            ⋮            ⋮         \n",
       "98033  001484965_01    NA       NA           NA            TRUE     \n",
       "98064  000019725_01 FALSE       NA           NA            TRUE     \n",
       "98065  000020261_01  TRUE       NA           NA            TRUE     \n",
       "98304  000230868_01    NA       NA           NA            TRUE     \n",
       "98520  000432623_01    NA       NA           NA            TRUE     \n",
       "98524  000434053_01    NA       NA           NA            TRUE     \n",
       "98569  000465730_01    NA       NA           NA            TRUE     \n",
       "98584  000478448_01    NA       NA           NA            TRUE     \n",
       "98674  000551521_01    NA       NA           NA           FALSE     \n",
       "98703  000570618_01    NA       NA           NA            TRUE     \n",
       "98839  000673280_01  TRUE       NA           NA            TRUE     \n",
       "98904  000721256_01    NA       NA           NA           FALSE     \n",
       "98905  000721450_01    NA       NA           NA            TRUE     \n",
       "99028  000834602_01    NA       NA           NA            TRUE     \n",
       "99063  000871026_01  TRUE       NA           NA            TRUE     \n",
       "99093  000892062_01    NA       NA           NA           FALSE     \n",
       "99104  000903871_01    NA       NA           NA            TRUE     \n",
       "99124  000923589_01    NA       NA           NA           FALSE     \n",
       "99189  000982063_01    NA       NA           NA            TRUE     \n",
       "99206  000992884_01    NA       NA           NA           FALSE     \n",
       "99214  001000224_01    NA       NA           NA           FALSE     \n",
       "99321  001110860_01    NA       NA           NA           FALSE     \n",
       "99330  001115994_01    NA       NA           NA            TRUE     \n",
       "99514  001277464_01    NA       NA           NA            TRUE     \n",
       "99706  001422369_01    NA       NA           NA           FALSE     \n",
       "99764  001464842_01    NA       NA           NA            TRUE     \n",
       "99859  000325202_01    NA       NA           NA            TRUE     \n",
       "99906  000635137_01    NA       NA           NA           FALSE     \n",
       "99946  001062738_01    NA       NA           NA           FALSE     \n",
       "100000 001520877_01  TRUE       NA           NA            TRUE     "
      ]
     },
     "metadata": {},
     "output_type": "display_data"
    }
   ],
   "source": [
    "#Finds the rows where housing_type was missing:\n",
    "htmissing <- which(is.na(customer_data$housing_type))\n",
    "\n",
    "#Looks at a few columns from those rows in the ORIGINAL data:\n",
    "columns_to_look_at <- c(\"custid\", \"is_employed\", \"num_vehicles\",\n",
    "                               \"housing_type\", \"health_ins\")\n",
    "customer_data[htmissing, columns_to_look_at]"
   ]
  },
  {
   "cell_type": "code",
   "execution_count": 75,
   "id": "e09ad033",
   "metadata": {},
   "outputs": [
    {
     "data": {
      "text/html": [
       "<table class=\"dataframe\">\n",
       "<caption>A data.frame: 1720 × 7</caption>\n",
       "<thead>\n",
       "\t<tr><th></th><th scope=col>custid</th><th scope=col>is_employed</th><th scope=col>is_employed_isBAD</th><th scope=col>num_vehicles</th><th scope=col>num_vehicles_isBAD</th><th scope=col>housing_type</th><th scope=col>health_ins</th></tr>\n",
       "\t<tr><th></th><th scope=col>&lt;chr&gt;</th><th scope=col>&lt;dbl&gt;</th><th scope=col>&lt;dbl&gt;</th><th scope=col>&lt;dbl&gt;</th><th scope=col>&lt;dbl&gt;</th><th scope=col>&lt;chr&gt;</th><th scope=col>&lt;lgl&gt;</th></tr>\n",
       "</thead>\n",
       "<tbody>\n",
       "\t<tr><th scope=row>80</th><td>000082691_01</td><td>1.0000000</td><td>0</td><td>2.0655</td><td>1</td><td>_invalid_</td><td>FALSE</td></tr>\n",
       "\t<tr><th scope=row>100</th><td>000116191_01</td><td>1.0000000</td><td>0</td><td>2.0655</td><td>1</td><td>_invalid_</td><td> TRUE</td></tr>\n",
       "\t<tr><th scope=row>237</th><td>000269295_01</td><td>0.9504928</td><td>1</td><td>2.0655</td><td>1</td><td>_invalid_</td><td>FALSE</td></tr>\n",
       "\t<tr><th scope=row>299</th><td>000349708_01</td><td>0.9504928</td><td>1</td><td>2.0655</td><td>1</td><td>_invalid_</td><td>FALSE</td></tr>\n",
       "\t<tr><th scope=row>311</th><td>000362630_01</td><td>0.9504928</td><td>1</td><td>2.0655</td><td>1</td><td>_invalid_</td><td> TRUE</td></tr>\n",
       "\t<tr><th scope=row>413</th><td>000443953_01</td><td>0.9504928</td><td>1</td><td>2.0655</td><td>1</td><td>_invalid_</td><td> TRUE</td></tr>\n",
       "\t<tr><th scope=row>438</th><td>000474922_01</td><td>0.9504928</td><td>1</td><td>2.0655</td><td>1</td><td>_invalid_</td><td> TRUE</td></tr>\n",
       "\t<tr><th scope=row>454</th><td>000490510_01</td><td>0.9504928</td><td>1</td><td>2.0655</td><td>1</td><td>_invalid_</td><td> TRUE</td></tr>\n",
       "\t<tr><th scope=row>479</th><td>000513710_01</td><td>0.9504928</td><td>1</td><td>2.0655</td><td>1</td><td>_invalid_</td><td> TRUE</td></tr>\n",
       "\t<tr><th scope=row>572</th><td>000613169_01</td><td>0.9504928</td><td>1</td><td>2.0655</td><td>1</td><td>_invalid_</td><td> TRUE</td></tr>\n",
       "\t<tr><th scope=row>612</th><td>000659895_01</td><td>0.9504928</td><td>1</td><td>2.0655</td><td>1</td><td>_invalid_</td><td>FALSE</td></tr>\n",
       "\t<tr><th scope=row>622</th><td>000672383_01</td><td>0.9504928</td><td>1</td><td>2.0655</td><td>1</td><td>_invalid_</td><td> TRUE</td></tr>\n",
       "\t<tr><th scope=row>626</th><td>000677405_01</td><td>0.9504928</td><td>1</td><td>2.0655</td><td>1</td><td>_invalid_</td><td> TRUE</td></tr>\n",
       "\t<tr><th scope=row>641</th><td>000691483_01</td><td>0.9504928</td><td>1</td><td>2.0655</td><td>1</td><td>_invalid_</td><td> TRUE</td></tr>\n",
       "\t<tr><th scope=row>784</th><td>000843749_01</td><td>0.9504928</td><td>1</td><td>2.0655</td><td>1</td><td>_invalid_</td><td> TRUE</td></tr>\n",
       "\t<tr><th scope=row>857</th><td>000914812_01</td><td>0.9504928</td><td>1</td><td>2.0655</td><td>1</td><td>_invalid_</td><td> TRUE</td></tr>\n",
       "\t<tr><th scope=row>989</th><td>001031931_01</td><td>0.9504928</td><td>1</td><td>2.0655</td><td>1</td><td>_invalid_</td><td> TRUE</td></tr>\n",
       "\t<tr><th scope=row>995</th><td>001038983_01</td><td>0.9504928</td><td>1</td><td>2.0655</td><td>1</td><td>_invalid_</td><td> TRUE</td></tr>\n",
       "\t<tr><th scope=row>1006</th><td>001045173_01</td><td>0.9504928</td><td>1</td><td>2.0655</td><td>1</td><td>_invalid_</td><td>FALSE</td></tr>\n",
       "\t<tr><th scope=row>1105</th><td>001153794_01</td><td>1.0000000</td><td>0</td><td>2.0655</td><td>1</td><td>_invalid_</td><td>FALSE</td></tr>\n",
       "\t<tr><th scope=row>1152</th><td>001207172_01</td><td>0.9504928</td><td>1</td><td>2.0655</td><td>1</td><td>_invalid_</td><td>FALSE</td></tr>\n",
       "\t<tr><th scope=row>1193</th><td>001251875_01</td><td>0.9504928</td><td>1</td><td>2.0655</td><td>1</td><td>_invalid_</td><td> TRUE</td></tr>\n",
       "\t<tr><th scope=row>1284</th><td>001349025_01</td><td>0.9504928</td><td>1</td><td>2.0655</td><td>1</td><td>_invalid_</td><td> TRUE</td></tr>\n",
       "\t<tr><th scope=row>1330</th><td>001404628_01</td><td>0.9504928</td><td>1</td><td>2.0655</td><td>1</td><td>_invalid_</td><td>FALSE</td></tr>\n",
       "\t<tr><th scope=row>1420</th><td>001500289_01</td><td>0.9504928</td><td>1</td><td>2.0655</td><td>1</td><td>_invalid_</td><td>FALSE</td></tr>\n",
       "\t<tr><th scope=row>1508</th><td>000327685_01</td><td>1.0000000</td><td>0</td><td>2.0655</td><td>1</td><td>_invalid_</td><td> TRUE</td></tr>\n",
       "\t<tr><th scope=row>1521</th><td>000404595_01</td><td>0.9504928</td><td>1</td><td>2.0655</td><td>1</td><td>_invalid_</td><td> TRUE</td></tr>\n",
       "\t<tr><th scope=row>1535</th><td>000535520_01</td><td>1.0000000</td><td>0</td><td>2.0655</td><td>1</td><td>_invalid_</td><td> TRUE</td></tr>\n",
       "\t<tr><th scope=row>1573</th><td>000812796_01</td><td>1.0000000</td><td>0</td><td>2.0655</td><td>1</td><td>_invalid_</td><td> TRUE</td></tr>\n",
       "\t<tr><th scope=row>1602</th><td>000985558_01</td><td>1.0000000</td><td>0</td><td>2.0655</td><td>1</td><td>_invalid_</td><td> TRUE</td></tr>\n",
       "\t<tr><th scope=row>⋮</th><td>⋮</td><td>⋮</td><td>⋮</td><td>⋮</td><td>⋮</td><td>⋮</td><td>⋮</td></tr>\n",
       "\t<tr><th scope=row>98033</th><td>001484965_01</td><td>0.9504928</td><td>1</td><td>2.0655</td><td>1</td><td>_invalid_</td><td> TRUE</td></tr>\n",
       "\t<tr><th scope=row>98064</th><td>000019725_01</td><td>0.0000000</td><td>0</td><td>2.0655</td><td>1</td><td>_invalid_</td><td> TRUE</td></tr>\n",
       "\t<tr><th scope=row>98065</th><td>000020261_01</td><td>1.0000000</td><td>0</td><td>2.0655</td><td>1</td><td>_invalid_</td><td> TRUE</td></tr>\n",
       "\t<tr><th scope=row>98304</th><td>000230868_01</td><td>0.9504928</td><td>1</td><td>2.0655</td><td>1</td><td>_invalid_</td><td> TRUE</td></tr>\n",
       "\t<tr><th scope=row>98520</th><td>000432623_01</td><td>0.9504928</td><td>1</td><td>2.0655</td><td>1</td><td>_invalid_</td><td> TRUE</td></tr>\n",
       "\t<tr><th scope=row>98524</th><td>000434053_01</td><td>0.9504928</td><td>1</td><td>2.0655</td><td>1</td><td>_invalid_</td><td> TRUE</td></tr>\n",
       "\t<tr><th scope=row>98569</th><td>000465730_01</td><td>0.9504928</td><td>1</td><td>2.0655</td><td>1</td><td>_invalid_</td><td> TRUE</td></tr>\n",
       "\t<tr><th scope=row>98584</th><td>000478448_01</td><td>0.9504928</td><td>1</td><td>2.0655</td><td>1</td><td>_invalid_</td><td> TRUE</td></tr>\n",
       "\t<tr><th scope=row>98674</th><td>000551521_01</td><td>0.9504928</td><td>1</td><td>2.0655</td><td>1</td><td>_invalid_</td><td>FALSE</td></tr>\n",
       "\t<tr><th scope=row>98703</th><td>000570618_01</td><td>0.9504928</td><td>1</td><td>2.0655</td><td>1</td><td>_invalid_</td><td> TRUE</td></tr>\n",
       "\t<tr><th scope=row>98839</th><td>000673280_01</td><td>1.0000000</td><td>0</td><td>2.0655</td><td>1</td><td>_invalid_</td><td> TRUE</td></tr>\n",
       "\t<tr><th scope=row>98904</th><td>000721256_01</td><td>0.9504928</td><td>1</td><td>2.0655</td><td>1</td><td>_invalid_</td><td>FALSE</td></tr>\n",
       "\t<tr><th scope=row>98905</th><td>000721450_01</td><td>0.9504928</td><td>1</td><td>2.0655</td><td>1</td><td>_invalid_</td><td> TRUE</td></tr>\n",
       "\t<tr><th scope=row>99028</th><td>000834602_01</td><td>0.9504928</td><td>1</td><td>2.0655</td><td>1</td><td>_invalid_</td><td> TRUE</td></tr>\n",
       "\t<tr><th scope=row>99063</th><td>000871026_01</td><td>1.0000000</td><td>0</td><td>2.0655</td><td>1</td><td>_invalid_</td><td> TRUE</td></tr>\n",
       "\t<tr><th scope=row>99093</th><td>000892062_01</td><td>0.9504928</td><td>1</td><td>2.0655</td><td>1</td><td>_invalid_</td><td>FALSE</td></tr>\n",
       "\t<tr><th scope=row>99104</th><td>000903871_01</td><td>0.9504928</td><td>1</td><td>2.0655</td><td>1</td><td>_invalid_</td><td> TRUE</td></tr>\n",
       "\t<tr><th scope=row>99124</th><td>000923589_01</td><td>0.9504928</td><td>1</td><td>2.0655</td><td>1</td><td>_invalid_</td><td>FALSE</td></tr>\n",
       "\t<tr><th scope=row>99189</th><td>000982063_01</td><td>0.9504928</td><td>1</td><td>2.0655</td><td>1</td><td>_invalid_</td><td> TRUE</td></tr>\n",
       "\t<tr><th scope=row>99206</th><td>000992884_01</td><td>0.9504928</td><td>1</td><td>2.0655</td><td>1</td><td>_invalid_</td><td>FALSE</td></tr>\n",
       "\t<tr><th scope=row>99214</th><td>001000224_01</td><td>0.9504928</td><td>1</td><td>2.0655</td><td>1</td><td>_invalid_</td><td>FALSE</td></tr>\n",
       "\t<tr><th scope=row>99321</th><td>001110860_01</td><td>0.9504928</td><td>1</td><td>2.0655</td><td>1</td><td>_invalid_</td><td>FALSE</td></tr>\n",
       "\t<tr><th scope=row>99330</th><td>001115994_01</td><td>0.9504928</td><td>1</td><td>2.0655</td><td>1</td><td>_invalid_</td><td> TRUE</td></tr>\n",
       "\t<tr><th scope=row>99514</th><td>001277464_01</td><td>0.9504928</td><td>1</td><td>2.0655</td><td>1</td><td>_invalid_</td><td> TRUE</td></tr>\n",
       "\t<tr><th scope=row>99706</th><td>001422369_01</td><td>0.9504928</td><td>1</td><td>2.0655</td><td>1</td><td>_invalid_</td><td>FALSE</td></tr>\n",
       "\t<tr><th scope=row>99764</th><td>001464842_01</td><td>0.9504928</td><td>1</td><td>2.0655</td><td>1</td><td>_invalid_</td><td> TRUE</td></tr>\n",
       "\t<tr><th scope=row>99859</th><td>000325202_01</td><td>0.9504928</td><td>1</td><td>2.0655</td><td>1</td><td>_invalid_</td><td> TRUE</td></tr>\n",
       "\t<tr><th scope=row>99906</th><td>000635137_01</td><td>0.9504928</td><td>1</td><td>2.0655</td><td>1</td><td>_invalid_</td><td>FALSE</td></tr>\n",
       "\t<tr><th scope=row>99946</th><td>001062738_01</td><td>0.9504928</td><td>1</td><td>2.0655</td><td>1</td><td>_invalid_</td><td>FALSE</td></tr>\n",
       "\t<tr><th scope=row>100000</th><td>001520877_01</td><td>1.0000000</td><td>0</td><td>2.0655</td><td>1</td><td>_invalid_</td><td> TRUE</td></tr>\n",
       "</tbody>\n",
       "</table>\n"
      ],
      "text/latex": [
       "A data.frame: 1720 × 7\n",
       "\\begin{tabular}{r|lllllll}\n",
       "  & custid & is\\_employed & is\\_employed\\_isBAD & num\\_vehicles & num\\_vehicles\\_isBAD & housing\\_type & health\\_ins\\\\\n",
       "  & <chr> & <dbl> & <dbl> & <dbl> & <dbl> & <chr> & <lgl>\\\\\n",
       "\\hline\n",
       "\t80 & 000082691\\_01 & 1.0000000 & 0 & 2.0655 & 1 & \\_invalid\\_ & FALSE\\\\\n",
       "\t100 & 000116191\\_01 & 1.0000000 & 0 & 2.0655 & 1 & \\_invalid\\_ &  TRUE\\\\\n",
       "\t237 & 000269295\\_01 & 0.9504928 & 1 & 2.0655 & 1 & \\_invalid\\_ & FALSE\\\\\n",
       "\t299 & 000349708\\_01 & 0.9504928 & 1 & 2.0655 & 1 & \\_invalid\\_ & FALSE\\\\\n",
       "\t311 & 000362630\\_01 & 0.9504928 & 1 & 2.0655 & 1 & \\_invalid\\_ &  TRUE\\\\\n",
       "\t413 & 000443953\\_01 & 0.9504928 & 1 & 2.0655 & 1 & \\_invalid\\_ &  TRUE\\\\\n",
       "\t438 & 000474922\\_01 & 0.9504928 & 1 & 2.0655 & 1 & \\_invalid\\_ &  TRUE\\\\\n",
       "\t454 & 000490510\\_01 & 0.9504928 & 1 & 2.0655 & 1 & \\_invalid\\_ &  TRUE\\\\\n",
       "\t479 & 000513710\\_01 & 0.9504928 & 1 & 2.0655 & 1 & \\_invalid\\_ &  TRUE\\\\\n",
       "\t572 & 000613169\\_01 & 0.9504928 & 1 & 2.0655 & 1 & \\_invalid\\_ &  TRUE\\\\\n",
       "\t612 & 000659895\\_01 & 0.9504928 & 1 & 2.0655 & 1 & \\_invalid\\_ & FALSE\\\\\n",
       "\t622 & 000672383\\_01 & 0.9504928 & 1 & 2.0655 & 1 & \\_invalid\\_ &  TRUE\\\\\n",
       "\t626 & 000677405\\_01 & 0.9504928 & 1 & 2.0655 & 1 & \\_invalid\\_ &  TRUE\\\\\n",
       "\t641 & 000691483\\_01 & 0.9504928 & 1 & 2.0655 & 1 & \\_invalid\\_ &  TRUE\\\\\n",
       "\t784 & 000843749\\_01 & 0.9504928 & 1 & 2.0655 & 1 & \\_invalid\\_ &  TRUE\\\\\n",
       "\t857 & 000914812\\_01 & 0.9504928 & 1 & 2.0655 & 1 & \\_invalid\\_ &  TRUE\\\\\n",
       "\t989 & 001031931\\_01 & 0.9504928 & 1 & 2.0655 & 1 & \\_invalid\\_ &  TRUE\\\\\n",
       "\t995 & 001038983\\_01 & 0.9504928 & 1 & 2.0655 & 1 & \\_invalid\\_ &  TRUE\\\\\n",
       "\t1006 & 001045173\\_01 & 0.9504928 & 1 & 2.0655 & 1 & \\_invalid\\_ & FALSE\\\\\n",
       "\t1105 & 001153794\\_01 & 1.0000000 & 0 & 2.0655 & 1 & \\_invalid\\_ & FALSE\\\\\n",
       "\t1152 & 001207172\\_01 & 0.9504928 & 1 & 2.0655 & 1 & \\_invalid\\_ & FALSE\\\\\n",
       "\t1193 & 001251875\\_01 & 0.9504928 & 1 & 2.0655 & 1 & \\_invalid\\_ &  TRUE\\\\\n",
       "\t1284 & 001349025\\_01 & 0.9504928 & 1 & 2.0655 & 1 & \\_invalid\\_ &  TRUE\\\\\n",
       "\t1330 & 001404628\\_01 & 0.9504928 & 1 & 2.0655 & 1 & \\_invalid\\_ & FALSE\\\\\n",
       "\t1420 & 001500289\\_01 & 0.9504928 & 1 & 2.0655 & 1 & \\_invalid\\_ & FALSE\\\\\n",
       "\t1508 & 000327685\\_01 & 1.0000000 & 0 & 2.0655 & 1 & \\_invalid\\_ &  TRUE\\\\\n",
       "\t1521 & 000404595\\_01 & 0.9504928 & 1 & 2.0655 & 1 & \\_invalid\\_ &  TRUE\\\\\n",
       "\t1535 & 000535520\\_01 & 1.0000000 & 0 & 2.0655 & 1 & \\_invalid\\_ &  TRUE\\\\\n",
       "\t1573 & 000812796\\_01 & 1.0000000 & 0 & 2.0655 & 1 & \\_invalid\\_ &  TRUE\\\\\n",
       "\t1602 & 000985558\\_01 & 1.0000000 & 0 & 2.0655 & 1 & \\_invalid\\_ &  TRUE\\\\\n",
       "\t⋮ & ⋮ & ⋮ & ⋮ & ⋮ & ⋮ & ⋮ & ⋮\\\\\n",
       "\t98033 & 001484965\\_01 & 0.9504928 & 1 & 2.0655 & 1 & \\_invalid\\_ &  TRUE\\\\\n",
       "\t98064 & 000019725\\_01 & 0.0000000 & 0 & 2.0655 & 1 & \\_invalid\\_ &  TRUE\\\\\n",
       "\t98065 & 000020261\\_01 & 1.0000000 & 0 & 2.0655 & 1 & \\_invalid\\_ &  TRUE\\\\\n",
       "\t98304 & 000230868\\_01 & 0.9504928 & 1 & 2.0655 & 1 & \\_invalid\\_ &  TRUE\\\\\n",
       "\t98520 & 000432623\\_01 & 0.9504928 & 1 & 2.0655 & 1 & \\_invalid\\_ &  TRUE\\\\\n",
       "\t98524 & 000434053\\_01 & 0.9504928 & 1 & 2.0655 & 1 & \\_invalid\\_ &  TRUE\\\\\n",
       "\t98569 & 000465730\\_01 & 0.9504928 & 1 & 2.0655 & 1 & \\_invalid\\_ &  TRUE\\\\\n",
       "\t98584 & 000478448\\_01 & 0.9504928 & 1 & 2.0655 & 1 & \\_invalid\\_ &  TRUE\\\\\n",
       "\t98674 & 000551521\\_01 & 0.9504928 & 1 & 2.0655 & 1 & \\_invalid\\_ & FALSE\\\\\n",
       "\t98703 & 000570618\\_01 & 0.9504928 & 1 & 2.0655 & 1 & \\_invalid\\_ &  TRUE\\\\\n",
       "\t98839 & 000673280\\_01 & 1.0000000 & 0 & 2.0655 & 1 & \\_invalid\\_ &  TRUE\\\\\n",
       "\t98904 & 000721256\\_01 & 0.9504928 & 1 & 2.0655 & 1 & \\_invalid\\_ & FALSE\\\\\n",
       "\t98905 & 000721450\\_01 & 0.9504928 & 1 & 2.0655 & 1 & \\_invalid\\_ &  TRUE\\\\\n",
       "\t99028 & 000834602\\_01 & 0.9504928 & 1 & 2.0655 & 1 & \\_invalid\\_ &  TRUE\\\\\n",
       "\t99063 & 000871026\\_01 & 1.0000000 & 0 & 2.0655 & 1 & \\_invalid\\_ &  TRUE\\\\\n",
       "\t99093 & 000892062\\_01 & 0.9504928 & 1 & 2.0655 & 1 & \\_invalid\\_ & FALSE\\\\\n",
       "\t99104 & 000903871\\_01 & 0.9504928 & 1 & 2.0655 & 1 & \\_invalid\\_ &  TRUE\\\\\n",
       "\t99124 & 000923589\\_01 & 0.9504928 & 1 & 2.0655 & 1 & \\_invalid\\_ & FALSE\\\\\n",
       "\t99189 & 000982063\\_01 & 0.9504928 & 1 & 2.0655 & 1 & \\_invalid\\_ &  TRUE\\\\\n",
       "\t99206 & 000992884\\_01 & 0.9504928 & 1 & 2.0655 & 1 & \\_invalid\\_ & FALSE\\\\\n",
       "\t99214 & 001000224\\_01 & 0.9504928 & 1 & 2.0655 & 1 & \\_invalid\\_ & FALSE\\\\\n",
       "\t99321 & 001110860\\_01 & 0.9504928 & 1 & 2.0655 & 1 & \\_invalid\\_ & FALSE\\\\\n",
       "\t99330 & 001115994\\_01 & 0.9504928 & 1 & 2.0655 & 1 & \\_invalid\\_ &  TRUE\\\\\n",
       "\t99514 & 001277464\\_01 & 0.9504928 & 1 & 2.0655 & 1 & \\_invalid\\_ &  TRUE\\\\\n",
       "\t99706 & 001422369\\_01 & 0.9504928 & 1 & 2.0655 & 1 & \\_invalid\\_ & FALSE\\\\\n",
       "\t99764 & 001464842\\_01 & 0.9504928 & 1 & 2.0655 & 1 & \\_invalid\\_ &  TRUE\\\\\n",
       "\t99859 & 000325202\\_01 & 0.9504928 & 1 & 2.0655 & 1 & \\_invalid\\_ &  TRUE\\\\\n",
       "\t99906 & 000635137\\_01 & 0.9504928 & 1 & 2.0655 & 1 & \\_invalid\\_ & FALSE\\\\\n",
       "\t99946 & 001062738\\_01 & 0.9504928 & 1 & 2.0655 & 1 & \\_invalid\\_ & FALSE\\\\\n",
       "\t100000 & 001520877\\_01 & 1.0000000 & 0 & 2.0655 & 1 & \\_invalid\\_ &  TRUE\\\\\n",
       "\\end{tabular}\n"
      ],
      "text/markdown": [
       "\n",
       "A data.frame: 1720 × 7\n",
       "\n",
       "| <!--/--> | custid &lt;chr&gt; | is_employed &lt;dbl&gt; | is_employed_isBAD &lt;dbl&gt; | num_vehicles &lt;dbl&gt; | num_vehicles_isBAD &lt;dbl&gt; | housing_type &lt;chr&gt; | health_ins &lt;lgl&gt; |\n",
       "|---|---|---|---|---|---|---|---|\n",
       "| 80 | 000082691_01 | 1.0000000 | 0 | 2.0655 | 1 | _invalid_ | FALSE |\n",
       "| 100 | 000116191_01 | 1.0000000 | 0 | 2.0655 | 1 | _invalid_ |  TRUE |\n",
       "| 237 | 000269295_01 | 0.9504928 | 1 | 2.0655 | 1 | _invalid_ | FALSE |\n",
       "| 299 | 000349708_01 | 0.9504928 | 1 | 2.0655 | 1 | _invalid_ | FALSE |\n",
       "| 311 | 000362630_01 | 0.9504928 | 1 | 2.0655 | 1 | _invalid_ |  TRUE |\n",
       "| 413 | 000443953_01 | 0.9504928 | 1 | 2.0655 | 1 | _invalid_ |  TRUE |\n",
       "| 438 | 000474922_01 | 0.9504928 | 1 | 2.0655 | 1 | _invalid_ |  TRUE |\n",
       "| 454 | 000490510_01 | 0.9504928 | 1 | 2.0655 | 1 | _invalid_ |  TRUE |\n",
       "| 479 | 000513710_01 | 0.9504928 | 1 | 2.0655 | 1 | _invalid_ |  TRUE |\n",
       "| 572 | 000613169_01 | 0.9504928 | 1 | 2.0655 | 1 | _invalid_ |  TRUE |\n",
       "| 612 | 000659895_01 | 0.9504928 | 1 | 2.0655 | 1 | _invalid_ | FALSE |\n",
       "| 622 | 000672383_01 | 0.9504928 | 1 | 2.0655 | 1 | _invalid_ |  TRUE |\n",
       "| 626 | 000677405_01 | 0.9504928 | 1 | 2.0655 | 1 | _invalid_ |  TRUE |\n",
       "| 641 | 000691483_01 | 0.9504928 | 1 | 2.0655 | 1 | _invalid_ |  TRUE |\n",
       "| 784 | 000843749_01 | 0.9504928 | 1 | 2.0655 | 1 | _invalid_ |  TRUE |\n",
       "| 857 | 000914812_01 | 0.9504928 | 1 | 2.0655 | 1 | _invalid_ |  TRUE |\n",
       "| 989 | 001031931_01 | 0.9504928 | 1 | 2.0655 | 1 | _invalid_ |  TRUE |\n",
       "| 995 | 001038983_01 | 0.9504928 | 1 | 2.0655 | 1 | _invalid_ |  TRUE |\n",
       "| 1006 | 001045173_01 | 0.9504928 | 1 | 2.0655 | 1 | _invalid_ | FALSE |\n",
       "| 1105 | 001153794_01 | 1.0000000 | 0 | 2.0655 | 1 | _invalid_ | FALSE |\n",
       "| 1152 | 001207172_01 | 0.9504928 | 1 | 2.0655 | 1 | _invalid_ | FALSE |\n",
       "| 1193 | 001251875_01 | 0.9504928 | 1 | 2.0655 | 1 | _invalid_ |  TRUE |\n",
       "| 1284 | 001349025_01 | 0.9504928 | 1 | 2.0655 | 1 | _invalid_ |  TRUE |\n",
       "| 1330 | 001404628_01 | 0.9504928 | 1 | 2.0655 | 1 | _invalid_ | FALSE |\n",
       "| 1420 | 001500289_01 | 0.9504928 | 1 | 2.0655 | 1 | _invalid_ | FALSE |\n",
       "| 1508 | 000327685_01 | 1.0000000 | 0 | 2.0655 | 1 | _invalid_ |  TRUE |\n",
       "| 1521 | 000404595_01 | 0.9504928 | 1 | 2.0655 | 1 | _invalid_ |  TRUE |\n",
       "| 1535 | 000535520_01 | 1.0000000 | 0 | 2.0655 | 1 | _invalid_ |  TRUE |\n",
       "| 1573 | 000812796_01 | 1.0000000 | 0 | 2.0655 | 1 | _invalid_ |  TRUE |\n",
       "| 1602 | 000985558_01 | 1.0000000 | 0 | 2.0655 | 1 | _invalid_ |  TRUE |\n",
       "| ⋮ | ⋮ | ⋮ | ⋮ | ⋮ | ⋮ | ⋮ | ⋮ |\n",
       "| 98033 | 001484965_01 | 0.9504928 | 1 | 2.0655 | 1 | _invalid_ |  TRUE |\n",
       "| 98064 | 000019725_01 | 0.0000000 | 0 | 2.0655 | 1 | _invalid_ |  TRUE |\n",
       "| 98065 | 000020261_01 | 1.0000000 | 0 | 2.0655 | 1 | _invalid_ |  TRUE |\n",
       "| 98304 | 000230868_01 | 0.9504928 | 1 | 2.0655 | 1 | _invalid_ |  TRUE |\n",
       "| 98520 | 000432623_01 | 0.9504928 | 1 | 2.0655 | 1 | _invalid_ |  TRUE |\n",
       "| 98524 | 000434053_01 | 0.9504928 | 1 | 2.0655 | 1 | _invalid_ |  TRUE |\n",
       "| 98569 | 000465730_01 | 0.9504928 | 1 | 2.0655 | 1 | _invalid_ |  TRUE |\n",
       "| 98584 | 000478448_01 | 0.9504928 | 1 | 2.0655 | 1 | _invalid_ |  TRUE |\n",
       "| 98674 | 000551521_01 | 0.9504928 | 1 | 2.0655 | 1 | _invalid_ | FALSE |\n",
       "| 98703 | 000570618_01 | 0.9504928 | 1 | 2.0655 | 1 | _invalid_ |  TRUE |\n",
       "| 98839 | 000673280_01 | 1.0000000 | 0 | 2.0655 | 1 | _invalid_ |  TRUE |\n",
       "| 98904 | 000721256_01 | 0.9504928 | 1 | 2.0655 | 1 | _invalid_ | FALSE |\n",
       "| 98905 | 000721450_01 | 0.9504928 | 1 | 2.0655 | 1 | _invalid_ |  TRUE |\n",
       "| 99028 | 000834602_01 | 0.9504928 | 1 | 2.0655 | 1 | _invalid_ |  TRUE |\n",
       "| 99063 | 000871026_01 | 1.0000000 | 0 | 2.0655 | 1 | _invalid_ |  TRUE |\n",
       "| 99093 | 000892062_01 | 0.9504928 | 1 | 2.0655 | 1 | _invalid_ | FALSE |\n",
       "| 99104 | 000903871_01 | 0.9504928 | 1 | 2.0655 | 1 | _invalid_ |  TRUE |\n",
       "| 99124 | 000923589_01 | 0.9504928 | 1 | 2.0655 | 1 | _invalid_ | FALSE |\n",
       "| 99189 | 000982063_01 | 0.9504928 | 1 | 2.0655 | 1 | _invalid_ |  TRUE |\n",
       "| 99206 | 000992884_01 | 0.9504928 | 1 | 2.0655 | 1 | _invalid_ | FALSE |\n",
       "| 99214 | 001000224_01 | 0.9504928 | 1 | 2.0655 | 1 | _invalid_ | FALSE |\n",
       "| 99321 | 001110860_01 | 0.9504928 | 1 | 2.0655 | 1 | _invalid_ | FALSE |\n",
       "| 99330 | 001115994_01 | 0.9504928 | 1 | 2.0655 | 1 | _invalid_ |  TRUE |\n",
       "| 99514 | 001277464_01 | 0.9504928 | 1 | 2.0655 | 1 | _invalid_ |  TRUE |\n",
       "| 99706 | 001422369_01 | 0.9504928 | 1 | 2.0655 | 1 | _invalid_ | FALSE |\n",
       "| 99764 | 001464842_01 | 0.9504928 | 1 | 2.0655 | 1 | _invalid_ |  TRUE |\n",
       "| 99859 | 000325202_01 | 0.9504928 | 1 | 2.0655 | 1 | _invalid_ |  TRUE |\n",
       "| 99906 | 000635137_01 | 0.9504928 | 1 | 2.0655 | 1 | _invalid_ | FALSE |\n",
       "| 99946 | 001062738_01 | 0.9504928 | 1 | 2.0655 | 1 | _invalid_ | FALSE |\n",
       "| 100000 | 001520877_01 | 1.0000000 | 0 | 2.0655 | 1 | _invalid_ |  TRUE |\n",
       "\n"
      ],
      "text/plain": [
       "       custid       is_employed is_employed_isBAD num_vehicles\n",
       "80     000082691_01 1.0000000   0                 2.0655      \n",
       "100    000116191_01 1.0000000   0                 2.0655      \n",
       "237    000269295_01 0.9504928   1                 2.0655      \n",
       "299    000349708_01 0.9504928   1                 2.0655      \n",
       "311    000362630_01 0.9504928   1                 2.0655      \n",
       "413    000443953_01 0.9504928   1                 2.0655      \n",
       "438    000474922_01 0.9504928   1                 2.0655      \n",
       "454    000490510_01 0.9504928   1                 2.0655      \n",
       "479    000513710_01 0.9504928   1                 2.0655      \n",
       "572    000613169_01 0.9504928   1                 2.0655      \n",
       "612    000659895_01 0.9504928   1                 2.0655      \n",
       "622    000672383_01 0.9504928   1                 2.0655      \n",
       "626    000677405_01 0.9504928   1                 2.0655      \n",
       "641    000691483_01 0.9504928   1                 2.0655      \n",
       "784    000843749_01 0.9504928   1                 2.0655      \n",
       "857    000914812_01 0.9504928   1                 2.0655      \n",
       "989    001031931_01 0.9504928   1                 2.0655      \n",
       "995    001038983_01 0.9504928   1                 2.0655      \n",
       "1006   001045173_01 0.9504928   1                 2.0655      \n",
       "1105   001153794_01 1.0000000   0                 2.0655      \n",
       "1152   001207172_01 0.9504928   1                 2.0655      \n",
       "1193   001251875_01 0.9504928   1                 2.0655      \n",
       "1284   001349025_01 0.9504928   1                 2.0655      \n",
       "1330   001404628_01 0.9504928   1                 2.0655      \n",
       "1420   001500289_01 0.9504928   1                 2.0655      \n",
       "1508   000327685_01 1.0000000   0                 2.0655      \n",
       "1521   000404595_01 0.9504928   1                 2.0655      \n",
       "1535   000535520_01 1.0000000   0                 2.0655      \n",
       "1573   000812796_01 1.0000000   0                 2.0655      \n",
       "1602   000985558_01 1.0000000   0                 2.0655      \n",
       "⋮      ⋮            ⋮           ⋮                 ⋮           \n",
       "98033  001484965_01 0.9504928   1                 2.0655      \n",
       "98064  000019725_01 0.0000000   0                 2.0655      \n",
       "98065  000020261_01 1.0000000   0                 2.0655      \n",
       "98304  000230868_01 0.9504928   1                 2.0655      \n",
       "98520  000432623_01 0.9504928   1                 2.0655      \n",
       "98524  000434053_01 0.9504928   1                 2.0655      \n",
       "98569  000465730_01 0.9504928   1                 2.0655      \n",
       "98584  000478448_01 0.9504928   1                 2.0655      \n",
       "98674  000551521_01 0.9504928   1                 2.0655      \n",
       "98703  000570618_01 0.9504928   1                 2.0655      \n",
       "98839  000673280_01 1.0000000   0                 2.0655      \n",
       "98904  000721256_01 0.9504928   1                 2.0655      \n",
       "98905  000721450_01 0.9504928   1                 2.0655      \n",
       "99028  000834602_01 0.9504928   1                 2.0655      \n",
       "99063  000871026_01 1.0000000   0                 2.0655      \n",
       "99093  000892062_01 0.9504928   1                 2.0655      \n",
       "99104  000903871_01 0.9504928   1                 2.0655      \n",
       "99124  000923589_01 0.9504928   1                 2.0655      \n",
       "99189  000982063_01 0.9504928   1                 2.0655      \n",
       "99206  000992884_01 0.9504928   1                 2.0655      \n",
       "99214  001000224_01 0.9504928   1                 2.0655      \n",
       "99321  001110860_01 0.9504928   1                 2.0655      \n",
       "99330  001115994_01 0.9504928   1                 2.0655      \n",
       "99514  001277464_01 0.9504928   1                 2.0655      \n",
       "99706  001422369_01 0.9504928   1                 2.0655      \n",
       "99764  001464842_01 0.9504928   1                 2.0655      \n",
       "99859  000325202_01 0.9504928   1                 2.0655      \n",
       "99906  000635137_01 0.9504928   1                 2.0655      \n",
       "99946  001062738_01 0.9504928   1                 2.0655      \n",
       "100000 001520877_01 1.0000000   0                 2.0655      \n",
       "       num_vehicles_isBAD housing_type health_ins\n",
       "80     1                  _invalid_    FALSE     \n",
       "100    1                  _invalid_     TRUE     \n",
       "237    1                  _invalid_    FALSE     \n",
       "299    1                  _invalid_    FALSE     \n",
       "311    1                  _invalid_     TRUE     \n",
       "413    1                  _invalid_     TRUE     \n",
       "438    1                  _invalid_     TRUE     \n",
       "454    1                  _invalid_     TRUE     \n",
       "479    1                  _invalid_     TRUE     \n",
       "572    1                  _invalid_     TRUE     \n",
       "612    1                  _invalid_    FALSE     \n",
       "622    1                  _invalid_     TRUE     \n",
       "626    1                  _invalid_     TRUE     \n",
       "641    1                  _invalid_     TRUE     \n",
       "784    1                  _invalid_     TRUE     \n",
       "857    1                  _invalid_     TRUE     \n",
       "989    1                  _invalid_     TRUE     \n",
       "995    1                  _invalid_     TRUE     \n",
       "1006   1                  _invalid_    FALSE     \n",
       "1105   1                  _invalid_    FALSE     \n",
       "1152   1                  _invalid_    FALSE     \n",
       "1193   1                  _invalid_     TRUE     \n",
       "1284   1                  _invalid_     TRUE     \n",
       "1330   1                  _invalid_    FALSE     \n",
       "1420   1                  _invalid_    FALSE     \n",
       "1508   1                  _invalid_     TRUE     \n",
       "1521   1                  _invalid_     TRUE     \n",
       "1535   1                  _invalid_     TRUE     \n",
       "1573   1                  _invalid_     TRUE     \n",
       "1602   1                  _invalid_     TRUE     \n",
       "⋮      ⋮                  ⋮            ⋮         \n",
       "98033  1                  _invalid_     TRUE     \n",
       "98064  1                  _invalid_     TRUE     \n",
       "98065  1                  _invalid_     TRUE     \n",
       "98304  1                  _invalid_     TRUE     \n",
       "98520  1                  _invalid_     TRUE     \n",
       "98524  1                  _invalid_     TRUE     \n",
       "98569  1                  _invalid_     TRUE     \n",
       "98584  1                  _invalid_     TRUE     \n",
       "98674  1                  _invalid_    FALSE     \n",
       "98703  1                  _invalid_     TRUE     \n",
       "98839  1                  _invalid_     TRUE     \n",
       "98904  1                  _invalid_    FALSE     \n",
       "98905  1                  _invalid_     TRUE     \n",
       "99028  1                  _invalid_     TRUE     \n",
       "99063  1                  _invalid_     TRUE     \n",
       "99093  1                  _invalid_    FALSE     \n",
       "99104  1                  _invalid_     TRUE     \n",
       "99124  1                  _invalid_    FALSE     \n",
       "99189  1                  _invalid_     TRUE     \n",
       "99206  1                  _invalid_    FALSE     \n",
       "99214  1                  _invalid_    FALSE     \n",
       "99321  1                  _invalid_    FALSE     \n",
       "99330  1                  _invalid_     TRUE     \n",
       "99514  1                  _invalid_     TRUE     \n",
       "99706  1                  _invalid_    FALSE     \n",
       "99764  1                  _invalid_     TRUE     \n",
       "99859  1                  _invalid_     TRUE     \n",
       "99906  1                  _invalid_    FALSE     \n",
       "99946  1                  _invalid_    FALSE     \n",
       "100000 1                  _invalid_     TRUE     "
      ]
     },
     "metadata": {},
     "output_type": "display_data"
    },
    {
     "data": {
      "text/html": [
       "<table class=\"dataframe\">\n",
       "<caption>A data.frame: 6 × 16</caption>\n",
       "<thead>\n",
       "\t<tr><th></th><th scope=col>custid</th><th scope=col>health_ins</th><th scope=col>sex</th><th scope=col>is_employed</th><th scope=col>is_employed_isBAD</th><th scope=col>income</th><th scope=col>marital_status</th><th scope=col>housing_type</th><th scope=col>recent_move</th><th scope=col>recent_move_isBAD</th><th scope=col>num_vehicles</th><th scope=col>num_vehicles_isBAD</th><th scope=col>age</th><th scope=col>state_of_res</th><th scope=col>gas_usage</th><th scope=col>gas_usage_isBAD</th></tr>\n",
       "\t<tr><th></th><th scope=col>&lt;chr&gt;</th><th scope=col>&lt;lgl&gt;</th><th scope=col>&lt;chr&gt;</th><th scope=col>&lt;dbl&gt;</th><th scope=col>&lt;dbl&gt;</th><th scope=col>&lt;dbl&gt;</th><th scope=col>&lt;chr&gt;</th><th scope=col>&lt;chr&gt;</th><th scope=col>&lt;dbl&gt;</th><th scope=col>&lt;dbl&gt;</th><th scope=col>&lt;dbl&gt;</th><th scope=col>&lt;dbl&gt;</th><th scope=col>&lt;dbl&gt;</th><th scope=col>&lt;chr&gt;</th><th scope=col>&lt;dbl&gt;</th><th scope=col>&lt;dbl&gt;</th></tr>\n",
       "</thead>\n",
       "<tbody>\n",
       "\t<tr><th scope=row>7</th><td>000006646_03</td><td>TRUE</td><td>Male  </td><td>1.0000000</td><td>0</td><td>22000</td><td>Never married     </td><td>Homeowner free and clear    </td><td>0</td><td>0</td><td>0</td><td>0</td><td>24</td><td>Alabama</td><td>210</td><td>0</td></tr>\n",
       "\t<tr><th scope=row>8</th><td>000007827_01</td><td>TRUE</td><td>Female</td><td>0.9504928</td><td>1</td><td>23200</td><td>Divorced/Separated</td><td>Rented                      </td><td>1</td><td>0</td><td>0</td><td>0</td><td>82</td><td>Alabama</td><td>  3</td><td>0</td></tr>\n",
       "\t<tr><th scope=row>9</th><td>000008359_04</td><td>TRUE</td><td>Female</td><td>1.0000000</td><td>0</td><td>21000</td><td>Never married     </td><td>Homeowner with mortgage/loan</td><td>0</td><td>0</td><td>2</td><td>0</td><td>31</td><td>Alabama</td><td> 40</td><td>0</td></tr>\n",
       "\t<tr><th scope=row>10</th><td>000008529_01</td><td>TRUE</td><td>Female</td><td>0.9504928</td><td>1</td><td>37770</td><td>Widowed           </td><td>Homeowner free and clear    </td><td>0</td><td>0</td><td>1</td><td>0</td><td>93</td><td>Alabama</td><td>120</td><td>0</td></tr>\n",
       "\t<tr><th scope=row>11</th><td>000008744_02</td><td>TRUE</td><td>Male  </td><td>1.0000000</td><td>0</td><td>39000</td><td>Divorced/Separated</td><td>Rented                      </td><td>0</td><td>0</td><td>2</td><td>0</td><td>67</td><td>Alabama</td><td>  3</td><td>0</td></tr>\n",
       "\t<tr><th scope=row>15</th><td>000011466_01</td><td>TRUE</td><td>Male  </td><td>0.9504928</td><td>1</td><td>11100</td><td>Married           </td><td>Homeowner free and clear    </td><td>0</td><td>0</td><td>2</td><td>0</td><td>76</td><td>Alabama</td><td>200</td><td>0</td></tr>\n",
       "</tbody>\n",
       "</table>\n"
      ],
      "text/latex": [
       "A data.frame: 6 × 16\n",
       "\\begin{tabular}{r|llllllllllllllll}\n",
       "  & custid & health\\_ins & sex & is\\_employed & is\\_employed\\_isBAD & income & marital\\_status & housing\\_type & recent\\_move & recent\\_move\\_isBAD & num\\_vehicles & num\\_vehicles\\_isBAD & age & state\\_of\\_res & gas\\_usage & gas\\_usage\\_isBAD\\\\\n",
       "  & <chr> & <lgl> & <chr> & <dbl> & <dbl> & <dbl> & <chr> & <chr> & <dbl> & <dbl> & <dbl> & <dbl> & <dbl> & <chr> & <dbl> & <dbl>\\\\\n",
       "\\hline\n",
       "\t7 & 000006646\\_03 & TRUE & Male   & 1.0000000 & 0 & 22000 & Never married      & Homeowner free and clear     & 0 & 0 & 0 & 0 & 24 & Alabama & 210 & 0\\\\\n",
       "\t8 & 000007827\\_01 & TRUE & Female & 0.9504928 & 1 & 23200 & Divorced/Separated & Rented                       & 1 & 0 & 0 & 0 & 82 & Alabama &   3 & 0\\\\\n",
       "\t9 & 000008359\\_04 & TRUE & Female & 1.0000000 & 0 & 21000 & Never married      & Homeowner with mortgage/loan & 0 & 0 & 2 & 0 & 31 & Alabama &  40 & 0\\\\\n",
       "\t10 & 000008529\\_01 & TRUE & Female & 0.9504928 & 1 & 37770 & Widowed            & Homeowner free and clear     & 0 & 0 & 1 & 0 & 93 & Alabama & 120 & 0\\\\\n",
       "\t11 & 000008744\\_02 & TRUE & Male   & 1.0000000 & 0 & 39000 & Divorced/Separated & Rented                       & 0 & 0 & 2 & 0 & 67 & Alabama &   3 & 0\\\\\n",
       "\t15 & 000011466\\_01 & TRUE & Male   & 0.9504928 & 1 & 11100 & Married            & Homeowner free and clear     & 0 & 0 & 2 & 0 & 76 & Alabama & 200 & 0\\\\\n",
       "\\end{tabular}\n"
      ],
      "text/markdown": [
       "\n",
       "A data.frame: 6 × 16\n",
       "\n",
       "| <!--/--> | custid &lt;chr&gt; | health_ins &lt;lgl&gt; | sex &lt;chr&gt; | is_employed &lt;dbl&gt; | is_employed_isBAD &lt;dbl&gt; | income &lt;dbl&gt; | marital_status &lt;chr&gt; | housing_type &lt;chr&gt; | recent_move &lt;dbl&gt; | recent_move_isBAD &lt;dbl&gt; | num_vehicles &lt;dbl&gt; | num_vehicles_isBAD &lt;dbl&gt; | age &lt;dbl&gt; | state_of_res &lt;chr&gt; | gas_usage &lt;dbl&gt; | gas_usage_isBAD &lt;dbl&gt; |\n",
       "|---|---|---|---|---|---|---|---|---|---|---|---|---|---|---|---|---|\n",
       "| 7 | 000006646_03 | TRUE | Male   | 1.0000000 | 0 | 22000 | Never married      | Homeowner free and clear     | 0 | 0 | 0 | 0 | 24 | Alabama | 210 | 0 |\n",
       "| 8 | 000007827_01 | TRUE | Female | 0.9504928 | 1 | 23200 | Divorced/Separated | Rented                       | 1 | 0 | 0 | 0 | 82 | Alabama |   3 | 0 |\n",
       "| 9 | 000008359_04 | TRUE | Female | 1.0000000 | 0 | 21000 | Never married      | Homeowner with mortgage/loan | 0 | 0 | 2 | 0 | 31 | Alabama |  40 | 0 |\n",
       "| 10 | 000008529_01 | TRUE | Female | 0.9504928 | 1 | 37770 | Widowed            | Homeowner free and clear     | 0 | 0 | 1 | 0 | 93 | Alabama | 120 | 0 |\n",
       "| 11 | 000008744_02 | TRUE | Male   | 1.0000000 | 0 | 39000 | Divorced/Separated | Rented                       | 0 | 0 | 2 | 0 | 67 | Alabama |   3 | 0 |\n",
       "| 15 | 000011466_01 | TRUE | Male   | 0.9504928 | 1 | 11100 | Married            | Homeowner free and clear     | 0 | 0 | 2 | 0 | 76 | Alabama | 200 | 0 |\n",
       "\n"
      ],
      "text/plain": [
       "   custid       health_ins sex    is_employed is_employed_isBAD income\n",
       "7  000006646_03 TRUE       Male   1.0000000   0                 22000 \n",
       "8  000007827_01 TRUE       Female 0.9504928   1                 23200 \n",
       "9  000008359_04 TRUE       Female 1.0000000   0                 21000 \n",
       "10 000008529_01 TRUE       Female 0.9504928   1                 37770 \n",
       "11 000008744_02 TRUE       Male   1.0000000   0                 39000 \n",
       "15 000011466_01 TRUE       Male   0.9504928   1                 11100 \n",
       "   marital_status     housing_type                 recent_move\n",
       "7  Never married      Homeowner free and clear     0          \n",
       "8  Divorced/Separated Rented                       1          \n",
       "9  Never married      Homeowner with mortgage/loan 0          \n",
       "10 Widowed            Homeowner free and clear     0          \n",
       "11 Divorced/Separated Rented                       0          \n",
       "15 Married            Homeowner free and clear     0          \n",
       "   recent_move_isBAD num_vehicles num_vehicles_isBAD age state_of_res gas_usage\n",
       "7  0                 0            0                  24  Alabama      210      \n",
       "8  0                 0            0                  82  Alabama        3      \n",
       "9  0                 2            0                  31  Alabama       40      \n",
       "10 0                 1            0                  93  Alabama      120      \n",
       "11 0                 2            0                  67  Alabama        3      \n",
       "15 0                 2            0                  76  Alabama      200      \n",
       "   gas_usage_isBAD\n",
       "7  0              \n",
       "8  0              \n",
       "9  0              \n",
       "10 0              \n",
       "11 0              \n",
       "15 0              "
      ]
     },
     "metadata": {},
     "output_type": "display_data"
    }
   ],
   "source": [
    "columns_to_look_at = c(\"custid\", \"is_employed\", \"is_employed_isBAD\",\n",
    "                       \"num_vehicles\",\"num_vehicles_isBAD\",\n",
    "                       \"housing_type\", \"health_ins\")\n",
    "\n",
    "#Looks at those rows and columns in the treated data (along with the isBADs):\n",
    "training_prepared[htmissing, columns_to_look_at] \n",
    "\n",
    "#You see that vtreat replaced missing values of the categorical variable housing_type with the token invalid, \n",
    "#and missing values of the numerical column num_vehicles with its average value in the original data. \n",
    "#It also converted the logical variable is_employed to a numeric variable, and replaced missing values \n",
    "#with its average value in the original data."
   ]
  }
 ],
 "metadata": {
  "kernelspec": {
   "display_name": "R",
   "language": "R",
   "name": "ir"
  },
  "language_info": {
   "codemirror_mode": "r",
   "file_extension": ".r",
   "mimetype": "text/x-r-source",
   "name": "R",
   "pygments_lexer": "r",
   "version": "4.4.1"
  }
 },
 "nbformat": 4,
 "nbformat_minor": 5
}
