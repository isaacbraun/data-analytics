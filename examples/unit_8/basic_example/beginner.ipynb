{
  "cells": [
    {
      "cell_type": "markdown",
      "metadata": {
        "id": "rX8mhOLljYeM"
      },
      "source": [
        "##### Copyright 2019 The TensorFlow Authors."
      ]
    },
    {
      "cell_type": "code",
      "execution_count": null,
      "metadata": {
        "cellView": "form",
        "id": "BZSlp3DAjdYf"
      },
      "outputs": [],
      "source": [
        "#@title Licensed under the Apache License, Version 2.0 (the \"License\");\n",
        "# you may not use this file except in compliance with the License.\n",
        "# You may obtain a copy of the License at\n",
        "#\n",
        "# https://www.apache.org/licenses/LICENSE-2.0\n",
        "#\n",
        "# Unless required by applicable law or agreed to in writing, software\n",
        "# distributed under the License is distributed on an \"AS IS\" BASIS,\n",
        "# WITHOUT WARRANTIES OR CONDITIONS OF ANY KIND, either express or implied.\n",
        "# See the License for the specific language governing permissions and\n",
        "# limitations under the License."
      ]
    },
    {
      "cell_type": "markdown",
      "metadata": {
        "id": "3wF5wszaj97Y"
      },
      "source": [
        "# TensorFlow 2 quickstart for beginners"
      ]
    },
    {
      "cell_type": "markdown",
      "metadata": {
        "id": "DUNzJc4jTj6G"
      },
      "source": [
        "<table class=\"tfo-notebook-buttons\" align=\"left\">\n",
        "  <td>\n",
        "    <a target=\"_blank\" href=\"https://www.tensorflow.org/tutorials/quickstart/beginner\"><img src=\"https://www.tensorflow.org/images/tf_logo_32px.png\" />View on TensorFlow.org</a>\n",
        "  </td>\n",
        "  <td>\n",
        "    <a target=\"_blank\" href=\"https://colab.research.google.com/github/tensorflow/docs/blob/master/site/en/tutorials/quickstart/beginner.ipynb\"><img src=\"https://www.tensorflow.org/images/colab_logo_32px.png\" />Run in Google Colab</a>\n",
        "  </td>\n",
        "  <td>\n",
        "    <a target=\"_blank\" href=\"https://github.com/tensorflow/docs/blob/master/site/en/tutorials/quickstart/beginner.ipynb\"><img src=\"https://www.tensorflow.org/images/GitHub-Mark-32px.png\" />View source on GitHub</a>\n",
        "  </td>\n",
        "  <td>\n",
        "    <a href=\"https://storage.googleapis.com/tensorflow_docs/docs/site/en/tutorials/quickstart/beginner.ipynb\"><img src=\"https://www.tensorflow.org/images/download_logo_32px.png\" />Download notebook</a>\n",
        "  </td>\n",
        "</table>"
      ]
    },
    {
      "cell_type": "markdown",
      "metadata": {
        "id": "04QgGZc9bF5D"
      },
      "source": [
        "This short introduction uses [Keras](https://www.tensorflow.org/guide/keras/overview) to:\n",
        "\n",
        "1. Load a prebuilt dataset.\n",
        "1. Build a neural network machine learning model that classifies images.\n",
        "2. Train this neural network.\n",
        "3. Evaluate the accuracy of the model."
      ]
    },
    {
      "cell_type": "markdown",
      "metadata": {
        "id": "hiH7AC-NTniF"
      },
      "source": [
        "This tutorial is a [Google Colaboratory](https://colab.research.google.com/notebooks/welcome.ipynb) notebook. Python programs are run directly in the browser—a great way to learn and use TensorFlow. To follow this tutorial, run the notebook in Google Colab by clicking the button at the top of this page.\n",
        "\n",
        "1. In Colab, connect to a Python runtime: At the top-right of the menu bar, select *CONNECT*.\n",
        "2. To run all the code in the notebook, select **Runtime** > **Run all**. To run the code cells one at a time, hover over each cell and select the **Run cell** icon.\n",
        "\n",
        "![Run cell icon](https://github.com/tensorflow/docs/blob/master/site/en/tutorials/quickstart/images/beginner/run_cell_icon.png?raw=1)"
      ]
    },
    {
      "cell_type": "markdown",
      "metadata": {
        "id": "nnrWf3PCEzXL"
      },
      "source": [
        "## Set up TensorFlow\n",
        "\n",
        "Import TensorFlow into your program to get started:"
      ]
    },
    {
      "cell_type": "code",
      "execution_count": 6,
      "metadata": {
        "colab": {
          "base_uri": "https://localhost:8080/"
        },
        "id": "0trJmd6DjqBZ",
        "outputId": "4cefb016-e03a-4a41-cdfb-a4218f1133ce"
      },
      "outputs": [
        {
          "name": "stdout",
          "output_type": "stream",
          "text": [
            "TensorFlow version: 2.13.0\n"
          ]
        }
      ],
      "source": [
        "import tensorflow as tf\n",
        "print(\"TensorFlow version:\", tf.__version__)"
      ]
    },
    {
      "cell_type": "markdown",
      "metadata": {
        "id": "7NAbSZiaoJ4z"
      },
      "source": [
        "If you are following along in your own development environment, rather than [Colab](https://colab.research.google.com/github/tensorflow/docs/blob/master/site/en/tutorials/quickstart/beginner.ipynb), see the [install guide](https://www.tensorflow.org/install) for setting up TensorFlow for development.\n",
        "\n",
        "Note: Make sure you have upgraded to the latest `pip` to install the TensorFlow 2 package if you are using your own development environment. See the [install guide](https://www.tensorflow.org/install) for details.\n",
        "\n",
        "## Load a dataset\n",
        "\n",
        "Load and prepare the [MNIST dataset](http://yann.lecun.com/exdb/mnist/). The pixel values of the images range from 0 through 255. Scale these values to a range of 0 to 1 by dividing the values by `255.0`. This also converts the sample data from integers to floating-point numbers:"
      ]
    },
    {
      "cell_type": "code",
      "execution_count": 7,
      "metadata": {
        "colab": {
          "base_uri": "https://localhost:8080/"
        },
        "id": "7FP5258xjs-v",
        "outputId": "4ccdd381-1ed7-4356-fee8-09d6d6c263e2"
      },
      "outputs": [
        {
          "name": "stdout",
          "output_type": "stream",
          "text": [
            "Downloading data from https://storage.googleapis.com/tensorflow/tf-keras-datasets/mnist.npz\n",
            "11490434/11490434 [==============================] - 0s 0us/step\n"
          ]
        }
      ],
      "source": [
        "mnist = tf.keras.datasets.mnist\n",
        "\n",
        "(x_train, y_train), (x_test, y_test) = mnist.load_data()\n",
        "x_train, x_test = x_train / 255.0, x_test / 255.0"
      ]
    },
    {
      "cell_type": "code",
      "execution_count": 8,
      "metadata": {
        "colab": {
          "base_uri": "https://localhost:8080/",
          "height": 452
        },
        "id": "iLOfu21dSqZ8",
        "outputId": "4d9aa993-b8b7-415a-be8d-ef061cd25c20"
      },
      "outputs": [
        {
          "data": {
            "image/png": "[encoded data removed]",
            "text/plain": [
              "<Figure size 640x480 with 1 Axes>"
            ]
          },
          "metadata": {},
          "output_type": "display_data"
        }
      ],
      "source": [
        "import matplotlib.pyplot as plt\n",
        "# Display the first image\n",
        "plt.imshow(x_train[0], cmap='gray')\n",
        "plt.title(f'Label: {y_train[0]}')\n",
        "plt.show()"
      ]
    },
    {
      "cell_type": "markdown",
      "metadata": {
        "id": "BPZ68wASog_I"
      },
      "source": [
        "## Build a machine learning model\n",
        "\n",
        "Build a `tf.keras.Sequential` model:"
      ]
    },
    {
      "cell_type": "code",
      "execution_count": 9,
      "metadata": {
        "id": "h3IKyzTCDNGo"
      },
      "outputs": [],
      "source": [
        "model = tf.keras.models.Sequential([\n",
        "  tf.keras.layers.Flatten(input_shape=(28, 28)),\n",
        "  tf.keras.layers.Dense(128, activation='relu'),\n",
        "  tf.keras.layers.Dropout(0.2),\n",
        "  tf.keras.layers.Dense(10)\n",
        "])"
      ]
    },
    {
      "cell_type": "markdown",
      "metadata": {},
      "source": [
        "- ReLU is generally preferred for hidden layers in deep neural networks due to its simplicity and faster training. It’s used in modern architectures like CNNs and RNNs because of its ability to avoid the vanishing gradient problem for positive inputs.\n",
        "- Sigmoid is typically used in the output layer when the task involves binary classification because its output can be interpreted as a probability. However, for hidden layers, it’s generally avoided in favor of ReLU due to the vanishing gradient problem."
      ]
    },
    {
      "cell_type": "markdown",
      "metadata": {},
      "source": [
        "***Understanding the Vanishing Gradient problem***"
      ]
    },
    {
      "cell_type": "code",
      "execution_count": 1,
      "metadata": {},
      "outputs": [
        {
          "name": "stdout",
          "output_type": "stream",
          "text": [
            "[0.2350037122015945, 0.05522674474852985, 0.012978490028714429, 0.0030499933355192695, 0.0007167597560371516, 0.00016844120342543985, 3.95843080926823e-05, 9.302459346711958e-06, 2.18611247908173e-06, 5.137445478744372e-07]\n"
          ]
        }
      ],
      "source": [
        "import numpy as np\n",
        "\n",
        "# Input and weight\n",
        "x = 5\n",
        "w = 0.1\n",
        "\n",
        "# Linear combination\n",
        "z = w * x\n",
        "\n",
        "# Sigmoid activation function\n",
        "sigmoid = 1 / (1 + np.exp(-z))\n",
        "\n",
        "# Gradient of the sigmoid function\n",
        "sigmoid_gradient = sigmoid * (1 - sigmoid)\n",
        "\n",
        "# Learning rate\n",
        "eta = 0.01\n",
        "\n",
        "# Change in weight (gradient * input * learning rate)\n",
        "delta_w = eta * sigmoid_gradient * x\n",
        "\n",
        "# Simulate vanishing gradient across 10 layers\n",
        "layers = 10\n",
        "gradients = []\n",
        "\n",
        "# Start with sigmoid gradient from the current layer\n",
        "current_gradient = sigmoid_gradient\n",
        "\n",
        "# Multiply by the same small gradient repeatedly for each layer\n",
        "for layer in range(layers):\n",
        "    gradients.append(current_gradient)\n",
        "    current_gradient *= sigmoid_gradient\n",
        "\n",
        "# Display gradients for each layer\n",
        "print(gradients)"
      ]
    },
    {
      "cell_type": "markdown",
      "metadata": {},
      "source": [
        "Now with ReLU:"
      ]
    },
    {
      "cell_type": "code",
      "execution_count": 4,
      "metadata": {},
      "outputs": [
        {
          "name": "stdout",
          "output_type": "stream",
          "text": [
            "Gradients across layers:\n",
            "Layer 1: 1\n",
            "Layer 2: 1\n",
            "Layer 3: 1\n",
            "Layer 4: 1\n",
            "Layer 5: 1\n",
            "Layer 6: 1\n",
            "Layer 7: 1\n",
            "Layer 8: 1\n",
            "Layer 9: 1\n",
            "Layer 10: 1\n"
          ]
        }
      ],
      "source": [
        "# Input and weight\n",
        "x = 5\n",
        "w = 0.1\n",
        "\n",
        "# Linear combination\n",
        "z = w * x\n",
        "\n",
        "# ReLU activation function\n",
        "relu = np.maximum(0, z)\n",
        "\n",
        "# Gradient of the ReLU function (1 if z > 0, otherwise 0)\n",
        "relu_gradient = np.where(z > 0, 1, 0)\n",
        "\n",
        "# Learning rate\n",
        "eta = 0.01\n",
        "\n",
        "# Change in weight (gradient * input * learning rate)\n",
        "delta_w = eta * relu_gradient * x\n",
        "\n",
        "# Simulate ReLU gradient across 10 layers\n",
        "layers = 10\n",
        "gradients = []\n",
        "\n",
        "# Start with ReLU gradient from the current layer\n",
        "current_gradient = relu_gradient\n",
        "\n",
        "# Multiply by the same gradient (always 1 for ReLU with positive inputs) for each layer\n",
        "for layer in range(layers):\n",
        "    gradients.append(current_gradient)\n",
        "    current_gradient *= relu_gradient\n",
        "\n",
        "# Display gradients for each layer (should be 1 for each layer)\n",
        "print(\"Gradients across layers:\")\n",
        "for i, gradient in enumerate(gradients):\n",
        "    print(f\"Layer {i+1}: {gradient}\")\n"
      ]
    },
    {
      "cell_type": "markdown",
      "metadata": {},
      "source": [
        "Not everything is perfect. For extra credit: The dying ReLU problem occurs when a ReLU activation function outputs zero for all inputs, effectively “dying” and not contributing to learning. "
      ]
    },
    {
      "cell_type": "markdown",
      "metadata": {
        "id": "l2hiez2eIUz8"
      },
      "source": [
        "[`Sequential`](https://www.tensorflow.org/guide/keras/sequential_model) is useful for stacking layers where each layer has one input [tensor](https://www.tensorflow.org/guide/tensor) and one output tensor. Layers are functions with a known mathematical structure that can be reused and have trainable variables. Most TensorFlow models are composed of layers. This model uses the [`Flatten`](https://www.tensorflow.org/api_docs/python/tf/keras/layers/Flatten), [`Dense`](https://www.tensorflow.org/api_docs/python/tf/keras/layers/Dense), and [`Dropout`](https://www.tensorflow.org/api_docs/python/tf/keras/layers/Dropout) layers.\n",
        "\n",
        "For each example, the model returns a vector of [logits](https://developers.google.com/machine-learning/glossary#logits) or [log-odds](https://developers.google.com/machine-learning/glossary#log-odds) scores, one for each class."
      ]
    },
    {
      "cell_type": "markdown",
      "metadata": {},
      "source": [
        "1. **Definition**: Logits are the raw, unnormalized scores outputted by a neural network before applying any activation function, like softmax or sigmoid.\n",
        "\n",
        "2. **Purpose**: They serve as the input to these activation functions to produce probabilities. Logits can take any real number, which means they can be positive, negative, or zero.\n",
        "\n",
        "3. **Usage in Classification**:\n",
        "   - In **binary classification**, a single logit is used, which is then passed through a sigmoid function to produce a value between 0 and 1 (interpreted as the probability of the positive class).\n",
        "   - In **multi-class classification**, multiple logits are generated (one for each class). The softmax function is applied to these logits to convert them into probabilities.\n",
        "\n",
        "### Example\n",
        "\n",
        "Let’s say we have a simple model that predicts whether an image is of a cat or a dog. \n",
        "\n",
        "- The model outputs a logit score of **z = 2.0** for \"cat\" and **z = -1.0** for \"dog\".\n",
        "  \n",
        "#### Step 1: Converting Logits to Probabilities\n",
        "\n",
        "For binary classification, we can use the sigmoid function:\n",
        "\n",
        "P(y=1) = sigmoid(z) = 1 / (1 + e^(-z))\n",
        "\n",
        "- For \"cat\":\n",
        "  P(cat) = 1 / (1 + e^(-2.0)) ≈ 0.88\n",
        "  \n",
        "- For \"dog\":\n",
        "  P(dog) = 1 - P(cat) ≈ 0.12\n",
        "\n",
        "This means there's an 88% probability the image is a cat and a 12% probability it is a dog.\n",
        "\n",
        "#### Step 2: In Multi-Class Classification\n",
        "\n",
        "If we had three classes (cat, dog, rabbit), the logits might be:\n",
        "- Cat: z1 = 2.0\n",
        "- Dog: z2 = 1.0\n",
        "- Rabbit: z3 = 0.5\n",
        "\n",
        "We can apply the softmax function to convert these logits into probabilities:\n",
        "\n",
        "P(i) = e^(zi) / Σ e^(zj)\n",
        "\n",
        "For example:\n",
        "- Calculate e^(2.0), e^(1.0), e^(0.5).\n",
        "- Compute the probabilities for each class."
      ]
    },
    {
      "cell_type": "code",
      "execution_count": 18,
      "metadata": {
        "colab": {
          "base_uri": "https://localhost:8080/"
        },
        "id": "OeOrNdnkEEcR",
        "outputId": "99129d8e-b3b7-477d-b112-459ae12ffa24"
      },
      "outputs": [
        {
          "data": {
            "text/plain": [
              "array([[ 0.6471596 ,  0.75369275, -0.41990176, -0.46445358, -0.34835944,\n",
              "         0.78990304, -0.00809492,  0.72333944,  0.3353809 ,  0.34838843]],\n",
              "      dtype=float32)"
            ]
          },
          "execution_count": 18,
          "metadata": {},
          "output_type": "execute_result"
        }
      ],
      "source": [
        "#This passes the first sample from the x_train dataset \n",
        "#to your model to get predictions\n",
        "predictions = model(x_train[:1]).numpy()\n",
        "predictions"
      ]
    },
    {
      "cell_type": "markdown",
      "metadata": {
        "id": "tgjhDQGcIniO"
      },
      "source": [
        "The `tf.nn.softmax` function converts these logits to *probabilities* for each class:"
      ]
    },
    {
      "cell_type": "code",
      "execution_count": 19,
      "metadata": {
        "colab": {
          "base_uri": "https://localhost:8080/"
        },
        "id": "zWSRnQ0WI5eq",
        "outputId": "4d1fd7be-9c62-4feb-b1c2-1d6acfeba4fc"
      },
      "outputs": [
        {
          "data": {
            "text/plain": [
              "array([[0.1354873 , 0.15071808, 0.04661007, 0.04457908, 0.05006684,\n",
              "        0.15627564, 0.07035989, 0.14621203, 0.09919615, 0.10049488]],\n",
              "      dtype=float32)"
            ]
          },
          "execution_count": 19,
          "metadata": {},
          "output_type": "execute_result"
        }
      ],
      "source": [
        "tf.nn.softmax(predictions).numpy()"
      ]
    },
    {
      "cell_type": "markdown",
      "metadata": {
        "id": "he5u_okAYS4a"
      },
      "source": [
        "For extra credit: It is possible to bake the `tf.nn.softmax` function into the activation function for the last layer of the network. While this can make the model output more directly interpretable, this approach is discouraged as it's impossible to provide an exact and numerically stable loss calculation for all models when using a softmax output."
      ]
    },
    {
      "cell_type": "markdown",
      "metadata": {
        "id": "hQyugpgRIyrA"
      },
      "source": [
        "Define a loss function for training using `losses.SparseCategoricalCrossentropy`:"
      ]
    },
    {
      "cell_type": "code",
      "execution_count": 20,
      "metadata": {
        "id": "RSkzdv8MD0tT"
      },
      "outputs": [],
      "source": [
        "loss_fn = tf.keras.losses.SparseCategoricalCrossentropy(from_logits=True)"
      ]
    },
    {
      "cell_type": "markdown",
      "metadata": {
        "id": "ada44eb947d4"
      },
      "source": [
        "Before you start training, configure and compile the model using Keras `Model.compile`. Set the [`optimizer`](https://www.tensorflow.org/api_docs/python/tf/keras/optimizers) class to `adam`, set the `loss` to the `loss_fn` function you defined earlier, and specify a metric to be evaluated for the model by setting the `metrics` parameter to `accuracy`."
      ]
    },
    {
      "cell_type": "code",
      "execution_count": 22,
      "metadata": {
        "id": "9foNKHzTD2Vo"
      },
      "outputs": [],
      "source": [
        "model.compile(optimizer='adam',\n",
        "              loss=loss_fn,\n",
        "              metrics=['accuracy'])"
      ]
    },
    {
      "cell_type": "markdown",
      "metadata": {
        "id": "ix4mEL65on-w"
      },
      "source": [
        "## Train and evaluate your model\n",
        "\n",
        "Use the `Model.fit` method to adjust your model parameters and minimize the loss:"
      ]
    },
    {
      "cell_type": "code",
      "execution_count": 23,
      "metadata": {
        "colab": {
          "base_uri": "https://localhost:8080/"
        },
        "id": "y7suUbJXVLqP",
        "outputId": "9b916793-36f3-4b7f-86e5-0833df6ab67f"
      },
      "outputs": [
        {
          "name": "stdout",
          "output_type": "stream",
          "text": [
            "Epoch 1/5\n",
            "1875/1875 [==============================] - 9s 5ms/step - loss: 0.2937 - accuracy: 0.9150\n",
            "Epoch 2/5\n",
            "1875/1875 [==============================] - 7s 4ms/step - loss: 0.1412 - accuracy: 0.9575\n",
            "Epoch 3/5\n",
            "1875/1875 [==============================] - 6s 3ms/step - loss: 0.1063 - accuracy: 0.9671\n",
            "Epoch 4/5\n",
            "1875/1875 [==============================] - 7s 4ms/step - loss: 0.0866 - accuracy: 0.9738\n",
            "Epoch 5/5\n",
            "1875/1875 [==============================] - 7s 4ms/step - loss: 0.0768 - accuracy: 0.9756\n"
          ]
        },
        {
          "data": {
            "text/plain": [
              "<keras.src.callbacks.History at 0x79093fa0b520>"
            ]
          },
          "execution_count": 23,
          "metadata": {},
          "output_type": "execute_result"
        }
      ],
      "source": [
        "model.fit(x_train, y_train, epochs=5)"
      ]
    },
    {
      "cell_type": "markdown",
      "metadata": {
        "id": "4mDAAPFqVVgn"
      },
      "source": [
        "The `Model.evaluate` method checks the model's performance, usually on a [validation set](https://developers.google.com/machine-learning/glossary#validation-set) or [test set](https://developers.google.com/machine-learning/glossary#test-set)."
      ]
    },
    {
      "cell_type": "code",
      "execution_count": 24,
      "metadata": {
        "colab": {
          "base_uri": "https://localhost:8080/"
        },
        "id": "F7dTAzgHDUh7",
        "outputId": "88d3f644-a998-4afc-e744-dd4ccd1236e4"
      },
      "outputs": [
        {
          "name": "stdout",
          "output_type": "stream",
          "text": [
            "313/313 - 1s - loss: 0.0797 - accuracy: 0.9755 - 588ms/epoch - 2ms/step\n"
          ]
        },
        {
          "data": {
            "text/plain": [
              "[0.07970916479825974, 0.9754999876022339]"
            ]
          },
          "execution_count": 24,
          "metadata": {},
          "output_type": "execute_result"
        }
      ],
      "source": [
        "model.evaluate(x_test,  y_test, verbose=2)"
      ]
    },
    {
      "cell_type": "markdown",
      "metadata": {
        "id": "T4JfEh7kvx6m"
      },
      "source": [
        "The image classifier is now trained to ~98% accuracy on this dataset. To learn more, read the [TensorFlow tutorials](https://www.tensorflow.org/tutorials/)."
      ]
    },
    {
      "cell_type": "markdown",
      "metadata": {
        "id": "Aj8NrlzlJqDG"
      },
      "source": [
        "If you want your model to return a probability, you can wrap the trained model, and attach the softmax to it:"
      ]
    },
    {
      "cell_type": "code",
      "execution_count": 28,
      "metadata": {
        "id": "rYb6DrEH0GMv"
      },
      "outputs": [],
      "source": [
        "probability_model = tf.keras.Sequential([\n",
        "  model,\n",
        "  tf.keras.layers.Softmax()\n",
        "])"
      ]
    },
    {
      "cell_type": "code",
      "execution_count": 30,
      "metadata": {
        "colab": {
          "base_uri": "https://localhost:8080/"
        },
        "id": "cnqOZtUp1YR_",
        "outputId": "2485940e-77bb-4e44-8074-83c2f69817a9"
      },
      "outputs": [
        {
          "data": {
            "text/plain": [
              "<tf.Tensor: shape=(5, 10), dtype=float32, numpy=\n",
              "array([[6.5616513e-07, 9.5953867e-09, 3.4238326e-06, 1.2581242e-04,\n",
              "        5.2398721e-11, 1.2604234e-07, 5.2460244e-14, 9.9983907e-01,\n",
              "        2.7259505e-06, 2.8178392e-05],\n",
              "       [1.1719823e-05, 1.0075529e-04, 9.9985898e-01, 2.6978212e-05,\n",
              "        1.1487647e-15, 1.5029869e-06, 5.5551816e-08, 2.0256446e-13,\n",
              "        6.3361988e-08, 1.3794648e-11],\n",
              "       [1.3559151e-07, 9.9966300e-01, 2.2597176e-05, 1.6250016e-05,\n",
              "        9.6384501e-05, 7.8953053e-06, 2.8986817e-06, 1.2607852e-04,\n",
              "        6.4214189e-05, 6.6988406e-07],\n",
              "       [9.9998724e-01, 1.9623949e-09, 7.5009689e-06, 8.0740548e-08,\n",
              "        7.4433300e-09, 4.3462836e-07, 4.2809970e-06, 2.6923658e-07,\n",
              "        1.2024519e-08, 1.1003702e-07],\n",
              "       [5.8949936e-05, 1.6608984e-09, 6.8539721e-06, 2.5846580e-08,\n",
              "        9.7167373e-01, 1.5663242e-07, 1.1850002e-05, 1.5544279e-04,\n",
              "        9.3707206e-07, 2.8092014e-02]], dtype=float32)>"
            ]
          },
          "execution_count": 30,
          "metadata": {},
          "output_type": "execute_result"
        }
      ],
      "source": [
        "probability_model(x_test[:5])"
      ]
    },
    {
      "cell_type": "code",
      "execution_count": 31,
      "metadata": {
        "colab": {
          "base_uri": "https://localhost:8080/",
          "height": 452
        },
        "id": "1MvmDtdYW1qO",
        "outputId": "01ca8a26-f117-414e-8c96-c9dbe853e6b3"
      },
      "outputs": [
        {
          "data": {
            "image/png": "[encoded data removed]",
            "text/plain": [
              "<Figure size 640x480 with 1 Axes>"
            ]
          },
          "metadata": {},
          "output_type": "display_data"
        }
      ],
      "source": [
        "plt.imshow(x_test[0], cmap='gray')\n",
        "plt.title(f'Label: {y_test[0]}')\n",
        "plt.show()"
      ]
    },
    {
      "cell_type": "markdown",
      "metadata": {
        "id": "-47O6_GLdRuT"
      },
      "source": [
        "## Conclusion\n",
        "\n",
        "Congratulations! You have trained a machine learning model using a prebuilt dataset using the [Keras](https://www.tensorflow.org/guide/keras/overview) API.\n",
        "\n",
        "For more examples of using Keras, check out the [tutorials](https://www.tensorflow.org/tutorials/keras/). To learn more about building models with Keras, read the [guides](https://www.tensorflow.org/guide/keras). If you want learn more about loading and preparing data, see the tutorials on [image data loading](https://www.tensorflow.org/tutorials/load_data/images) or [CSV data loading](https://www.tensorflow.org/tutorials/load_data/csv).\n"
      ]
    }
  ],
  "metadata": {
    "colab": {
      "provenance": [],
      "toc_visible": true
    },
    "kernelspec": {
      "display_name": "Python 3",
      "name": "python3"
    },
    "language_info": {
      "codemirror_mode": {
        "name": "ipython",
        "version": 3
      },
      "file_extension": ".py",
      "mimetype": "text/x-python",
      "name": "python",
      "nbconvert_exporter": "python",
      "pygments_lexer": "ipython3",
      "version": "3.11.8"
    }
  },
  "nbformat": 4,
  "nbformat_minor": 0
}
