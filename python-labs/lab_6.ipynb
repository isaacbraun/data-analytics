{
 "cells": [
  {
   "cell_type": "markdown",
   "id": "bacc6dfc-056c-4bce-9686-bc2e3bd067ae",
   "metadata": {},
   "source": [
    "# Lab 6 - Predicting Image CHANGE"
   ]
  },
  {
   "cell_type": "code",
   "execution_count": null,
   "id": "ab56d616-684d-4eb8-9885-14b234d86816",
   "metadata": {},
   "outputs": [],
   "source": []
  }
 ],
 "metadata": {
  "kernelspec": {
   "display_name": "Python 3 (ipykernel)",
   "language": "python",
   "name": "python3"
  },
  "language_info": {
   "codemirror_mode": {
    "name": "ipython",
    "version": 3
   },
   "file_extension": ".py",
   "mimetype": "text/x-python",
   "name": "python",
   "nbconvert_exporter": "python",
   "pygments_lexer": "ipython3",
   "version": "3.12.5"
  }
 },
 "nbformat": 4,
 "nbformat_minor": 5
}
