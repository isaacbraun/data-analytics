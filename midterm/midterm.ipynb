{
 "cells": [
  {
   "cell_type": "markdown",
   "id": "2c03f244-43ee-45e5-8739-b43522f9a740",
   "metadata": {},
   "source": [
    "# Midterm - Network Request Detection\n",
    "Datasets from [Web Network Traffic dataset](https://www.kaggle.com/datasets/rudrakumar96/web-firewall-good-and-bad-request/data)."
   ]
  },
  {
   "cell_type": "markdown",
   "id": "270bb2a6-3d43-452c-b3a4-7d87167bfd32",
   "metadata": {
    "jp-MarkdownHeadingCollapsed": true
   },
   "source": [
    "## Importing Packages"
   ]
  },
  {
   "cell_type": "code",
   "execution_count": 97,
   "id": "18f9f3e0-1399-452a-8e7b-c003c749ac31",
   "metadata": {},
   "outputs": [],
   "source": [
    "import numpy as np\n",
    "import pandas as pd\n",
    "from sklearn import datasets, tree\n",
    "from sklearn.utils import resample, shuffle\n",
    "from sklearn.neighbors import KNeighborsClassifier\n",
    "from sklearn.model_selection import train_test_split\n",
    "from sklearn.metrics import confusion_matrix, classification_report, accuracy_score\n",
    "from sklearn.preprocessing import StandardScaler, MinMaxScaler\n",
    "from sklearn.linear_model import LogisticRegression\n",
    "from sklearn.svm import SVC\n",
    "from sklearn.neural_network import MLPClassifier\n",
    "from imblearn.combine import SMOTEENN\n",
    "from imblearn.over_sampling import RandomOverSampler"
   ]
  },
  {
   "cell_type": "markdown",
   "id": "dd4d5d73-0561-4f61-a465-b8428193763c",
   "metadata": {
    "jp-MarkdownHeadingCollapsed": true
   },
   "source": [
    "## Read in and Evaluate Data"
   ]
  },
  {
   "cell_type": "code",
   "execution_count": 2,
   "id": "8fe4248c-130e-4bd3-956d-b441d189d024",
   "metadata": {},
   "outputs": [],
   "source": [
    "base_path = '../datasets/network_requests/'\n",
    "combine_paths = ['2bad_reqff.csv', '2good_reqff.csv']\n",
    "validation_raw = pd.read_csv(base_path + 'Testing_data.csv')\n",
    "badwords = ['sleep', 'uid', 'select', 'waitfor', 'delay', 'system', 'union', 'order by', 'group by', 'admin', 'drop', 'script']\n",
    "\n",
    "combined = pd.concat([pd.read_csv(base_path + f) for f in combine_paths], ignore_index=True)"
   ]
  },
  {
   "cell_type": "code",
   "execution_count": 3,
   "id": "75d0a123-1085-4b71-87ca-6645925e1a89",
   "metadata": {},
   "outputs": [
    {
     "data": {
      "text/html": [
       "<div>\n",
       "<style scoped>\n",
       "    .dataframe tbody tr th:only-of-type {\n",
       "        vertical-align: middle;\n",
       "    }\n",
       "\n",
       "    .dataframe tbody tr th {\n",
       "        vertical-align: top;\n",
       "    }\n",
       "\n",
       "    .dataframe thead th {\n",
       "        text-align: right;\n",
       "    }\n",
       "</style>\n",
       "<table border=\"1\" class=\"dataframe\">\n",
       "  <thead>\n",
       "    <tr style=\"text-align: right;\">\n",
       "      <th></th>\n",
       "      <th>method</th>\n",
       "      <th>path</th>\n",
       "      <th>body</th>\n",
       "      <th>single_q</th>\n",
       "      <th>double_q</th>\n",
       "      <th>dashes</th>\n",
       "      <th>braces</th>\n",
       "      <th>spaces</th>\n",
       "      <th>percentages</th>\n",
       "      <th>semicolons</th>\n",
       "      <th>angle_brackets</th>\n",
       "      <th>special_chars</th>\n",
       "      <th>path_length</th>\n",
       "      <th>body_length</th>\n",
       "      <th>badwords_count</th>\n",
       "      <th>class</th>\n",
       "    </tr>\n",
       "  </thead>\n",
       "  <tbody>\n",
       "    <tr>\n",
       "      <th>0</th>\n",
       "      <td>POST</td>\n",
       "      <td>/doLogin</td>\n",
       "      <td>uid=ZAP&amp;passw=ZAP&amp;btnSubmit=Login</td>\n",
       "      <td>0</td>\n",
       "      <td>0</td>\n",
       "      <td>0</td>\n",
       "      <td>0</td>\n",
       "      <td>0</td>\n",
       "      <td>0</td>\n",
       "      <td>0</td>\n",
       "      <td>0</td>\n",
       "      <td>0</td>\n",
       "      <td>8</td>\n",
       "      <td>33</td>\n",
       "      <td>1</td>\n",
       "      <td>bad</td>\n",
       "    </tr>\n",
       "    <tr>\n",
       "      <th>1</th>\n",
       "      <td>POST</td>\n",
       "      <td>/sendFeedback</td>\n",
       "      <td>cfile=comments.txt&amp;name=ZAP&amp;email_addr=ZAP&amp;sub...</td>\n",
       "      <td>0</td>\n",
       "      <td>0</td>\n",
       "      <td>0</td>\n",
       "      <td>0</td>\n",
       "      <td>7</td>\n",
       "      <td>0</td>\n",
       "      <td>0</td>\n",
       "      <td>0</td>\n",
       "      <td>0</td>\n",
       "      <td>13</td>\n",
       "      <td>124</td>\n",
       "      <td>0</td>\n",
       "      <td>bad</td>\n",
       "    </tr>\n",
       "    <tr>\n",
       "      <th>2</th>\n",
       "      <td>GET</td>\n",
       "      <td>/admin/clients.xls</td>\n",
       "      <td>NaN</td>\n",
       "      <td>0</td>\n",
       "      <td>0</td>\n",
       "      <td>0</td>\n",
       "      <td>0</td>\n",
       "      <td>0</td>\n",
       "      <td>0</td>\n",
       "      <td>0</td>\n",
       "      <td>0</td>\n",
       "      <td>0</td>\n",
       "      <td>18</td>\n",
       "      <td>0</td>\n",
       "      <td>1</td>\n",
       "      <td>bad</td>\n",
       "    </tr>\n",
       "    <tr>\n",
       "      <th>3</th>\n",
       "      <td>GET</td>\n",
       "      <td>/my%20documents/JohnSmith/Bank%20Site%20Docume...</td>\n",
       "      <td>NaN</td>\n",
       "      <td>0</td>\n",
       "      <td>0</td>\n",
       "      <td>0</td>\n",
       "      <td>0</td>\n",
       "      <td>3</td>\n",
       "      <td>0</td>\n",
       "      <td>0</td>\n",
       "      <td>0</td>\n",
       "      <td>0</td>\n",
       "      <td>57</td>\n",
       "      <td>0</td>\n",
       "      <td>0</td>\n",
       "      <td>bad</td>\n",
       "    </tr>\n",
       "    <tr>\n",
       "      <th>4</th>\n",
       "      <td>GET</td>\n",
       "      <td>/my%20documents/JohnSmith/Bank%20Site%20Docume...</td>\n",
       "      <td>NaN</td>\n",
       "      <td>0</td>\n",
       "      <td>0</td>\n",
       "      <td>0</td>\n",
       "      <td>0</td>\n",
       "      <td>3</td>\n",
       "      <td>0</td>\n",
       "      <td>0</td>\n",
       "      <td>0</td>\n",
       "      <td>0</td>\n",
       "      <td>82</td>\n",
       "      <td>0</td>\n",
       "      <td>0</td>\n",
       "      <td>bad</td>\n",
       "    </tr>\n",
       "  </tbody>\n",
       "</table>\n",
       "</div>"
      ],
      "text/plain": [
       "  method                                               path  \\\n",
       "0   POST                                           /doLogin   \n",
       "1   POST                                      /sendFeedback   \n",
       "2    GET                                 /admin/clients.xls   \n",
       "3    GET  /my%20documents/JohnSmith/Bank%20Site%20Docume...   \n",
       "4    GET  /my%20documents/JohnSmith/Bank%20Site%20Docume...   \n",
       "\n",
       "                                                body  single_q  double_q  \\\n",
       "0                  uid=ZAP&passw=ZAP&btnSubmit=Login         0         0   \n",
       "1  cfile=comments.txt&name=ZAP&email_addr=ZAP&sub...         0         0   \n",
       "2                                                NaN         0         0   \n",
       "3                                                NaN         0         0   \n",
       "4                                                NaN         0         0   \n",
       "\n",
       "   dashes  braces  spaces  percentages  semicolons  angle_brackets  \\\n",
       "0       0       0       0            0           0               0   \n",
       "1       0       0       7            0           0               0   \n",
       "2       0       0       0            0           0               0   \n",
       "3       0       0       3            0           0               0   \n",
       "4       0       0       3            0           0               0   \n",
       "\n",
       "   special_chars  path_length  body_length  badwords_count class  \n",
       "0              0            8           33               1   bad  \n",
       "1              0           13          124               0   bad  \n",
       "2              0           18            0               1   bad  \n",
       "3              0           57            0               0   bad  \n",
       "4              0           82            0               0   bad  "
      ]
     },
     "execution_count": 3,
     "metadata": {},
     "output_type": "execute_result"
    }
   ],
   "source": [
    "combined.head()"
   ]
  },
  {
   "cell_type": "code",
   "execution_count": 4,
   "id": "f6097274-eb60-4f6d-8b14-21287079be06",
   "metadata": {},
   "outputs": [
    {
     "data": {
      "text/html": [
       "<div>\n",
       "<style scoped>\n",
       "    .dataframe tbody tr th:only-of-type {\n",
       "        vertical-align: middle;\n",
       "    }\n",
       "\n",
       "    .dataframe tbody tr th {\n",
       "        vertical-align: top;\n",
       "    }\n",
       "\n",
       "    .dataframe thead th {\n",
       "        text-align: right;\n",
       "    }\n",
       "</style>\n",
       "<table border=\"1\" class=\"dataframe\">\n",
       "  <thead>\n",
       "    <tr style=\"text-align: right;\">\n",
       "      <th></th>\n",
       "      <th>single_q</th>\n",
       "      <th>double_q</th>\n",
       "      <th>dashes</th>\n",
       "      <th>braces</th>\n",
       "      <th>spaces</th>\n",
       "      <th>percentages</th>\n",
       "      <th>semicolons</th>\n",
       "      <th>angle_brackets</th>\n",
       "      <th>special_chars</th>\n",
       "      <th>path_length</th>\n",
       "      <th>body_length</th>\n",
       "      <th>badwords_count</th>\n",
       "    </tr>\n",
       "  </thead>\n",
       "  <tbody>\n",
       "    <tr>\n",
       "      <th>count</th>\n",
       "      <td>5797.000000</td>\n",
       "      <td>5797.000000</td>\n",
       "      <td>5797.000000</td>\n",
       "      <td>5797.000000</td>\n",
       "      <td>5797.000000</td>\n",
       "      <td>5797.0</td>\n",
       "      <td>5797.000000</td>\n",
       "      <td>5797.00000</td>\n",
       "      <td>5797.0</td>\n",
       "      <td>5797.000000</td>\n",
       "      <td>5797.000000</td>\n",
       "      <td>5797.000000</td>\n",
       "    </tr>\n",
       "    <tr>\n",
       "      <th>mean</th>\n",
       "      <td>0.795066</td>\n",
       "      <td>0.587373</td>\n",
       "      <td>0.183198</td>\n",
       "      <td>0.780231</td>\n",
       "      <td>4.159565</td>\n",
       "      <td>0.0</td>\n",
       "      <td>0.202691</td>\n",
       "      <td>0.27773</td>\n",
       "      <td>0.0</td>\n",
       "      <td>52.059686</td>\n",
       "      <td>51.558565</td>\n",
       "      <td>0.807314</td>\n",
       "    </tr>\n",
       "    <tr>\n",
       "      <th>std</th>\n",
       "      <td>1.787375</td>\n",
       "      <td>1.402760</td>\n",
       "      <td>0.427538</td>\n",
       "      <td>1.844078</td>\n",
       "      <td>6.078129</td>\n",
       "      <td>0.0</td>\n",
       "      <td>0.589890</td>\n",
       "      <td>0.91106</td>\n",
       "      <td>0.0</td>\n",
       "      <td>111.756514</td>\n",
       "      <td>116.982400</td>\n",
       "      <td>1.513214</td>\n",
       "    </tr>\n",
       "    <tr>\n",
       "      <th>min</th>\n",
       "      <td>0.000000</td>\n",
       "      <td>0.000000</td>\n",
       "      <td>0.000000</td>\n",
       "      <td>0.000000</td>\n",
       "      <td>0.000000</td>\n",
       "      <td>0.0</td>\n",
       "      <td>0.000000</td>\n",
       "      <td>0.00000</td>\n",
       "      <td>0.0</td>\n",
       "      <td>1.000000</td>\n",
       "      <td>0.000000</td>\n",
       "      <td>0.000000</td>\n",
       "    </tr>\n",
       "    <tr>\n",
       "      <th>25%</th>\n",
       "      <td>0.000000</td>\n",
       "      <td>0.000000</td>\n",
       "      <td>0.000000</td>\n",
       "      <td>0.000000</td>\n",
       "      <td>0.000000</td>\n",
       "      <td>0.0</td>\n",
       "      <td>0.000000</td>\n",
       "      <td>0.00000</td>\n",
       "      <td>0.0</td>\n",
       "      <td>13.000000</td>\n",
       "      <td>0.000000</td>\n",
       "      <td>0.000000</td>\n",
       "    </tr>\n",
       "    <tr>\n",
       "      <th>50%</th>\n",
       "      <td>0.000000</td>\n",
       "      <td>0.000000</td>\n",
       "      <td>0.000000</td>\n",
       "      <td>0.000000</td>\n",
       "      <td>2.000000</td>\n",
       "      <td>0.0</td>\n",
       "      <td>0.000000</td>\n",
       "      <td>0.00000</td>\n",
       "      <td>0.0</td>\n",
       "      <td>33.000000</td>\n",
       "      <td>0.000000</td>\n",
       "      <td>0.000000</td>\n",
       "    </tr>\n",
       "    <tr>\n",
       "      <th>75%</th>\n",
       "      <td>1.000000</td>\n",
       "      <td>0.000000</td>\n",
       "      <td>0.000000</td>\n",
       "      <td>1.000000</td>\n",
       "      <td>7.000000</td>\n",
       "      <td>0.0</td>\n",
       "      <td>0.000000</td>\n",
       "      <td>0.00000</td>\n",
       "      <td>0.0</td>\n",
       "      <td>69.000000</td>\n",
       "      <td>86.000000</td>\n",
       "      <td>1.000000</td>\n",
       "    </tr>\n",
       "    <tr>\n",
       "      <th>max</th>\n",
       "      <td>12.000000</td>\n",
       "      <td>14.000000</td>\n",
       "      <td>2.000000</td>\n",
       "      <td>10.000000</td>\n",
       "      <td>40.000000</td>\n",
       "      <td>0.0</td>\n",
       "      <td>3.000000</td>\n",
       "      <td>8.00000</td>\n",
       "      <td>0.0</td>\n",
       "      <td>2162.000000</td>\n",
       "      <td>2224.000000</td>\n",
       "      <td>10.000000</td>\n",
       "    </tr>\n",
       "  </tbody>\n",
       "</table>\n",
       "</div>"
      ],
      "text/plain": [
       "          single_q     double_q       dashes       braces       spaces  \\\n",
       "count  5797.000000  5797.000000  5797.000000  5797.000000  5797.000000   \n",
       "mean      0.795066     0.587373     0.183198     0.780231     4.159565   \n",
       "std       1.787375     1.402760     0.427538     1.844078     6.078129   \n",
       "min       0.000000     0.000000     0.000000     0.000000     0.000000   \n",
       "25%       0.000000     0.000000     0.000000     0.000000     0.000000   \n",
       "50%       0.000000     0.000000     0.000000     0.000000     2.000000   \n",
       "75%       1.000000     0.000000     0.000000     1.000000     7.000000   \n",
       "max      12.000000    14.000000     2.000000    10.000000    40.000000   \n",
       "\n",
       "       percentages   semicolons  angle_brackets  special_chars  path_length  \\\n",
       "count       5797.0  5797.000000      5797.00000         5797.0  5797.000000   \n",
       "mean           0.0     0.202691         0.27773            0.0    52.059686   \n",
       "std            0.0     0.589890         0.91106            0.0   111.756514   \n",
       "min            0.0     0.000000         0.00000            0.0     1.000000   \n",
       "25%            0.0     0.000000         0.00000            0.0    13.000000   \n",
       "50%            0.0     0.000000         0.00000            0.0    33.000000   \n",
       "75%            0.0     0.000000         0.00000            0.0    69.000000   \n",
       "max            0.0     3.000000         8.00000            0.0  2162.000000   \n",
       "\n",
       "       body_length  badwords_count  \n",
       "count  5797.000000     5797.000000  \n",
       "mean     51.558565        0.807314  \n",
       "std     116.982400        1.513214  \n",
       "min       0.000000        0.000000  \n",
       "25%       0.000000        0.000000  \n",
       "50%       0.000000        0.000000  \n",
       "75%      86.000000        1.000000  \n",
       "max    2224.000000       10.000000  "
      ]
     },
     "execution_count": 4,
     "metadata": {},
     "output_type": "execute_result"
    }
   ],
   "source": [
    "combined.describe()"
   ]
  },
  {
   "cell_type": "code",
   "execution_count": 5,
   "id": "a8c0f833-a36a-437a-a253-c793e9c08475",
   "metadata": {},
   "outputs": [
    {
     "data": {
      "text/plain": [
       "92752"
      ]
     },
     "execution_count": 5,
     "metadata": {},
     "output_type": "execute_result"
    }
   ],
   "source": [
    "combined.size"
   ]
  },
  {
   "cell_type": "code",
   "execution_count": 6,
   "id": "66738f61-7b9d-4a81-aaf4-2676e8131e54",
   "metadata": {},
   "outputs": [
    {
     "data": {
      "text/plain": [
       "method               0\n",
       "path                 0\n",
       "body              3396\n",
       "single_q             0\n",
       "double_q             0\n",
       "dashes               0\n",
       "braces               0\n",
       "spaces               0\n",
       "percentages          0\n",
       "semicolons           0\n",
       "angle_brackets       0\n",
       "special_chars        0\n",
       "path_length          0\n",
       "body_length          0\n",
       "badwords_count       0\n",
       "class                0\n",
       "dtype: int64"
      ]
     },
     "execution_count": 6,
     "metadata": {},
     "output_type": "execute_result"
    }
   ],
   "source": [
    "# Find the count of nulls in each column\n",
    "combined.isnull().sum(axis = 0)"
   ]
  },
  {
   "cell_type": "code",
   "execution_count": 7,
   "id": "57607c76-b099-4a01-a6c6-2e852a4a6082",
   "metadata": {},
   "outputs": [
    {
     "data": {
      "text/plain": [
       "1740"
      ]
     },
     "execution_count": 7,
     "metadata": {},
     "output_type": "execute_result"
    }
   ],
   "source": [
    "validation_raw.size"
   ]
  },
  {
   "cell_type": "markdown",
   "id": "420cc1f1-ba56-432e-b5b8-a0b53e9874a7",
   "metadata": {
    "jp-MarkdownHeadingCollapsed": true
   },
   "source": [
    "## Engineer Data\n",
    "We end up with:\n",
    "- `data`\n",
    "- `target`\n",
    "- `target_names`\n",
    "- `x_train_std`, `x_test_std`, `y_train_std`, and `y_test_std`\n",
    "- `x_train_norm`, `x_test_norm`, `y_train_norm`, and `y_test_norm`\n",
    "- `x_train_down`, `x_test_norm`, `y_train_down`, and `y_test_norm`\n",
    "- `x_smoteenn`, `y_smoteenn`\n",
    "- `x_oversampled`, `y_oversampled`\n",
    "- `validation`\n",
    "\n",
    "TODO\n",
    "- [x] Try with normalized rather than standard scaler (Didn't seem to have any change)\n",
    "- [x] Downsample\n",
    "- [ ] Try Chi-square test to limit features\n",
    "- [ ] Find confidence interval for significant results"
   ]
  },
  {
   "cell_type": "markdown",
   "id": "b0210c65-8c0d-49c1-ba6b-634ba82f5966",
   "metadata": {
    "jp-MarkdownHeadingCollapsed": true
   },
   "source": [
    "### Remove Path and Body Columns"
   ]
  },
  {
   "cell_type": "code",
   "execution_count": 8,
   "id": "dad30f33-dc74-475b-ae6d-d4e5cac4cf62",
   "metadata": {},
   "outputs": [
    {
     "data": {
      "text/html": [
       "<div>\n",
       "<style scoped>\n",
       "    .dataframe tbody tr th:only-of-type {\n",
       "        vertical-align: middle;\n",
       "    }\n",
       "\n",
       "    .dataframe tbody tr th {\n",
       "        vertical-align: top;\n",
       "    }\n",
       "\n",
       "    .dataframe thead th {\n",
       "        text-align: right;\n",
       "    }\n",
       "</style>\n",
       "<table border=\"1\" class=\"dataframe\">\n",
       "  <thead>\n",
       "    <tr style=\"text-align: right;\">\n",
       "      <th></th>\n",
       "      <th>method</th>\n",
       "      <th>single_q</th>\n",
       "      <th>double_q</th>\n",
       "      <th>dashes</th>\n",
       "      <th>braces</th>\n",
       "      <th>spaces</th>\n",
       "      <th>percentages</th>\n",
       "      <th>semicolons</th>\n",
       "      <th>angle_brackets</th>\n",
       "      <th>special_chars</th>\n",
       "      <th>path_length</th>\n",
       "      <th>body_length</th>\n",
       "      <th>badwords_count</th>\n",
       "      <th>class</th>\n",
       "    </tr>\n",
       "  </thead>\n",
       "  <tbody>\n",
       "    <tr>\n",
       "      <th>0</th>\n",
       "      <td>POST</td>\n",
       "      <td>0</td>\n",
       "      <td>0</td>\n",
       "      <td>0</td>\n",
       "      <td>0</td>\n",
       "      <td>0</td>\n",
       "      <td>0</td>\n",
       "      <td>0</td>\n",
       "      <td>0</td>\n",
       "      <td>0</td>\n",
       "      <td>8</td>\n",
       "      <td>33</td>\n",
       "      <td>1</td>\n",
       "      <td>bad</td>\n",
       "    </tr>\n",
       "    <tr>\n",
       "      <th>1</th>\n",
       "      <td>POST</td>\n",
       "      <td>0</td>\n",
       "      <td>0</td>\n",
       "      <td>0</td>\n",
       "      <td>0</td>\n",
       "      <td>7</td>\n",
       "      <td>0</td>\n",
       "      <td>0</td>\n",
       "      <td>0</td>\n",
       "      <td>0</td>\n",
       "      <td>13</td>\n",
       "      <td>124</td>\n",
       "      <td>0</td>\n",
       "      <td>bad</td>\n",
       "    </tr>\n",
       "    <tr>\n",
       "      <th>2</th>\n",
       "      <td>GET</td>\n",
       "      <td>0</td>\n",
       "      <td>0</td>\n",
       "      <td>0</td>\n",
       "      <td>0</td>\n",
       "      <td>0</td>\n",
       "      <td>0</td>\n",
       "      <td>0</td>\n",
       "      <td>0</td>\n",
       "      <td>0</td>\n",
       "      <td>18</td>\n",
       "      <td>0</td>\n",
       "      <td>1</td>\n",
       "      <td>bad</td>\n",
       "    </tr>\n",
       "    <tr>\n",
       "      <th>3</th>\n",
       "      <td>GET</td>\n",
       "      <td>0</td>\n",
       "      <td>0</td>\n",
       "      <td>0</td>\n",
       "      <td>0</td>\n",
       "      <td>3</td>\n",
       "      <td>0</td>\n",
       "      <td>0</td>\n",
       "      <td>0</td>\n",
       "      <td>0</td>\n",
       "      <td>57</td>\n",
       "      <td>0</td>\n",
       "      <td>0</td>\n",
       "      <td>bad</td>\n",
       "    </tr>\n",
       "    <tr>\n",
       "      <th>4</th>\n",
       "      <td>GET</td>\n",
       "      <td>0</td>\n",
       "      <td>0</td>\n",
       "      <td>0</td>\n",
       "      <td>0</td>\n",
       "      <td>3</td>\n",
       "      <td>0</td>\n",
       "      <td>0</td>\n",
       "      <td>0</td>\n",
       "      <td>0</td>\n",
       "      <td>82</td>\n",
       "      <td>0</td>\n",
       "      <td>0</td>\n",
       "      <td>bad</td>\n",
       "    </tr>\n",
       "  </tbody>\n",
       "</table>\n",
       "</div>"
      ],
      "text/plain": [
       "  method  single_q  double_q  dashes  braces  spaces  percentages  semicolons  \\\n",
       "0   POST         0         0       0       0       0            0           0   \n",
       "1   POST         0         0       0       0       7            0           0   \n",
       "2    GET         0         0       0       0       0            0           0   \n",
       "3    GET         0         0       0       0       3            0           0   \n",
       "4    GET         0         0       0       0       3            0           0   \n",
       "\n",
       "   angle_brackets  special_chars  path_length  body_length  badwords_count  \\\n",
       "0               0              0            8           33               1   \n",
       "1               0              0           13          124               0   \n",
       "2               0              0           18            0               1   \n",
       "3               0              0           57            0               0   \n",
       "4               0              0           82            0               0   \n",
       "\n",
       "  class  \n",
       "0   bad  \n",
       "1   bad  \n",
       "2   bad  \n",
       "3   bad  \n",
       "4   bad  "
      ]
     },
     "execution_count": 8,
     "metadata": {},
     "output_type": "execute_result"
    }
   ],
   "source": [
    "dropped = combined.drop(columns=['path', 'body'])\n",
    "dropped.head()"
   ]
  },
  {
   "cell_type": "markdown",
   "id": "77add633-f4fa-4044-ba31-4e871a2d6eeb",
   "metadata": {
    "jp-MarkdownHeadingCollapsed": true
   },
   "source": [
    "### Split Dataset `data`, `target`, and `target_names` variables"
   ]
  },
  {
   "cell_type": "code",
   "execution_count": 9,
   "id": "1f664590-706d-4d1d-9ba8-1adcf866b7ea",
   "metadata": {},
   "outputs": [
    {
     "name": "stdout",
     "output_type": "stream",
     "text": [
      "0       0\n",
      "1       0\n",
      "2       0\n",
      "3       0\n",
      "4       0\n",
      "       ..\n",
      "5792    1\n",
      "5793    1\n",
      "5794    1\n",
      "5795    1\n",
      "5796    1\n",
      "Name: class, Length: 5797, dtype: int64\n",
      "['bad' 'good']\n"
     ]
    }
   ],
   "source": [
    "data = dropped.drop(columns='class')\n",
    "target = dropped['class'].map({'bad': 0, 'good': 1})\n",
    "target_names = dropped['class'].unique()\n",
    "\n",
    "print(target)\n",
    "print(target_names)"
   ]
  },
  {
   "cell_type": "markdown",
   "id": "aa5ec344-f731-462c-827d-c1885ceff72e",
   "metadata": {
    "jp-MarkdownHeadingCollapsed": true
   },
   "source": [
    "### One-Hot Encode 'method' Column"
   ]
  },
  {
   "cell_type": "code",
   "execution_count": 10,
   "id": "9efbf51a-887f-40d3-95bd-83acd49ca8b0",
   "metadata": {},
   "outputs": [
    {
     "name": "stdout",
     "output_type": "stream",
     "text": [
      "['POST' 'GET']\n"
     ]
    }
   ],
   "source": [
    "print(data['method'].unique())"
   ]
  },
  {
   "cell_type": "code",
   "execution_count": 11,
   "id": "7d06b6b8-d587-4e3c-9ae4-55518d477de9",
   "metadata": {},
   "outputs": [
    {
     "data": {
      "text/html": [
       "<div>\n",
       "<style scoped>\n",
       "    .dataframe tbody tr th:only-of-type {\n",
       "        vertical-align: middle;\n",
       "    }\n",
       "\n",
       "    .dataframe tbody tr th {\n",
       "        vertical-align: top;\n",
       "    }\n",
       "\n",
       "    .dataframe thead th {\n",
       "        text-align: right;\n",
       "    }\n",
       "</style>\n",
       "<table border=\"1\" class=\"dataframe\">\n",
       "  <thead>\n",
       "    <tr style=\"text-align: right;\">\n",
       "      <th></th>\n",
       "      <th>method</th>\n",
       "      <th>single_q</th>\n",
       "      <th>double_q</th>\n",
       "      <th>dashes</th>\n",
       "      <th>braces</th>\n",
       "      <th>spaces</th>\n",
       "      <th>percentages</th>\n",
       "      <th>semicolons</th>\n",
       "      <th>angle_brackets</th>\n",
       "      <th>special_chars</th>\n",
       "      <th>path_length</th>\n",
       "      <th>body_length</th>\n",
       "      <th>badwords_count</th>\n",
       "    </tr>\n",
       "  </thead>\n",
       "  <tbody>\n",
       "    <tr>\n",
       "      <th>0</th>\n",
       "      <td>1</td>\n",
       "      <td>0</td>\n",
       "      <td>0</td>\n",
       "      <td>0</td>\n",
       "      <td>0</td>\n",
       "      <td>0</td>\n",
       "      <td>0</td>\n",
       "      <td>0</td>\n",
       "      <td>0</td>\n",
       "      <td>0</td>\n",
       "      <td>8</td>\n",
       "      <td>33</td>\n",
       "      <td>1</td>\n",
       "    </tr>\n",
       "    <tr>\n",
       "      <th>1</th>\n",
       "      <td>1</td>\n",
       "      <td>0</td>\n",
       "      <td>0</td>\n",
       "      <td>0</td>\n",
       "      <td>0</td>\n",
       "      <td>7</td>\n",
       "      <td>0</td>\n",
       "      <td>0</td>\n",
       "      <td>0</td>\n",
       "      <td>0</td>\n",
       "      <td>13</td>\n",
       "      <td>124</td>\n",
       "      <td>0</td>\n",
       "    </tr>\n",
       "    <tr>\n",
       "      <th>2</th>\n",
       "      <td>0</td>\n",
       "      <td>0</td>\n",
       "      <td>0</td>\n",
       "      <td>0</td>\n",
       "      <td>0</td>\n",
       "      <td>0</td>\n",
       "      <td>0</td>\n",
       "      <td>0</td>\n",
       "      <td>0</td>\n",
       "      <td>0</td>\n",
       "      <td>18</td>\n",
       "      <td>0</td>\n",
       "      <td>1</td>\n",
       "    </tr>\n",
       "    <tr>\n",
       "      <th>3</th>\n",
       "      <td>0</td>\n",
       "      <td>0</td>\n",
       "      <td>0</td>\n",
       "      <td>0</td>\n",
       "      <td>0</td>\n",
       "      <td>3</td>\n",
       "      <td>0</td>\n",
       "      <td>0</td>\n",
       "      <td>0</td>\n",
       "      <td>0</td>\n",
       "      <td>57</td>\n",
       "      <td>0</td>\n",
       "      <td>0</td>\n",
       "    </tr>\n",
       "    <tr>\n",
       "      <th>4</th>\n",
       "      <td>0</td>\n",
       "      <td>0</td>\n",
       "      <td>0</td>\n",
       "      <td>0</td>\n",
       "      <td>0</td>\n",
       "      <td>3</td>\n",
       "      <td>0</td>\n",
       "      <td>0</td>\n",
       "      <td>0</td>\n",
       "      <td>0</td>\n",
       "      <td>82</td>\n",
       "      <td>0</td>\n",
       "      <td>0</td>\n",
       "    </tr>\n",
       "  </tbody>\n",
       "</table>\n",
       "</div>"
      ],
      "text/plain": [
       "   method  single_q  double_q  dashes  braces  spaces  percentages  \\\n",
       "0       1         0         0       0       0       0            0   \n",
       "1       1         0         0       0       0       7            0   \n",
       "2       0         0         0       0       0       0            0   \n",
       "3       0         0         0       0       0       3            0   \n",
       "4       0         0         0       0       0       3            0   \n",
       "\n",
       "   semicolons  angle_brackets  special_chars  path_length  body_length  \\\n",
       "0           0               0              0            8           33   \n",
       "1           0               0              0           13          124   \n",
       "2           0               0              0           18            0   \n",
       "3           0               0              0           57            0   \n",
       "4           0               0              0           82            0   \n",
       "\n",
       "   badwords_count  \n",
       "0               1  \n",
       "1               0  \n",
       "2               1  \n",
       "3               0  \n",
       "4               0  "
      ]
     },
     "execution_count": 11,
     "metadata": {},
     "output_type": "execute_result"
    }
   ],
   "source": [
    "data['method'] = data['method'].map({'GET': 0, 'POST': 1})\n",
    "data.head()"
   ]
  },
  {
   "cell_type": "markdown",
   "id": "95327ee9-1864-4d8f-8f39-ae39ad0b70ed",
   "metadata": {
    "jp-MarkdownHeadingCollapsed": true
   },
   "source": [
    "### Normalize Count Columns (Both MinMax and Standard Scalers)"
   ]
  },
  {
   "cell_type": "code",
   "execution_count": 15,
   "id": "9202498c-4966-4bcd-99a3-26a729aed0e2",
   "metadata": {},
   "outputs": [
    {
     "name": "stdout",
     "output_type": "stream",
     "text": [
      "[1.         0.         0.         0.         0.         0.\n",
      " 0.         0.         0.         0.         0.00323924 0.01483813\n",
      " 0.1       ]\n",
      "[ 1.19098267 -0.44486184 -0.41876262 -0.4285327  -0.42313745 -0.68440867\n",
      "  0.         -0.34363762 -0.30486888  0.         -0.39428115 -0.15865776\n",
      "  0.12734653]\n"
     ]
    }
   ],
   "source": [
    "minmax_scaler = MinMaxScaler()\n",
    "minmax_scaler.fit(data)\n",
    "minmax = minmax_scaler.transform(data)\n",
    "print(minmax[0])\n",
    "\n",
    "scaler = StandardScaler()\n",
    "scaler.fit(data)\n",
    "standard = scaler.transform(data)\n",
    "print(standard[0])"
   ]
  },
  {
   "cell_type": "markdown",
   "id": "ba555c0e-5245-416c-8f7b-a5f872ed625b",
   "metadata": {
    "jp-MarkdownHeadingCollapsed": true
   },
   "source": [
    "### Split Data into Train/Test (80/20)"
   ]
  },
  {
   "cell_type": "code",
   "execution_count": 16,
   "id": "4880fa02-d5f6-43e6-baec-46fdcab51b6d",
   "metadata": {},
   "outputs": [],
   "source": [
    "x_train_std, x_test_std, y_train_std, y_test_std = train_test_split(standard, target, test_size=0.20, stratify=target, random_state=81)"
   ]
  },
  {
   "cell_type": "code",
   "execution_count": 18,
   "id": "eeb18782-508f-4478-9d6f-67dcdcec2718",
   "metadata": {},
   "outputs": [],
   "source": [
    "x_train_norm, x_test_norm, y_train_norm, y_test_norm = train_test_split(minmax, target, test_size=0.20, stratify=target, random_state=81)"
   ]
  },
  {
   "cell_type": "code",
   "execution_count": 19,
   "id": "d81781e2-28ea-4eff-b3f4-d92b4c446466",
   "metadata": {},
   "outputs": [
    {
     "name": "stdout",
     "output_type": "stream",
     "text": [
      "(4637, 13)\n"
     ]
    },
    {
     "data": {
      "text/plain": [
       "array([[-0.83964278, -0.44486184, -0.41876262, ..., -0.07212449,\n",
       "        -0.44077581, -0.53355572],\n",
       "       [-0.83964278, -0.44486184, -0.41876262, ..., -0.08107328,\n",
       "        -0.44077581, -0.53355572],\n",
       "       [ 1.19098267, -0.44486184,  0.2941792 , ..., -0.34953717,\n",
       "         0.850128  ,  0.12734653],\n",
       "       ...,\n",
       "       [ 1.19098267, -0.44486184,  1.00712102, ..., -0.35848596,\n",
       "        -0.00477519, -0.53355572],\n",
       "       [-0.83964278,  1.79324975,  1.00712102, ...,  1.36863169,\n",
       "        -0.44077581,  2.11005327],\n",
       "       [-0.83964278,  1.79324975,  2.43300465, ...,  1.01067984,\n",
       "        -0.44077581,  0.12734653]])"
      ]
     },
     "execution_count": 19,
     "metadata": {},
     "output_type": "execute_result"
    }
   ],
   "source": [
    "print(x_train_std.shape)\n",
    "x_train_std"
   ]
  },
  {
   "cell_type": "code",
   "execution_count": 20,
   "id": "e33ed654-d2ed-47e0-992e-56d543e2ecce",
   "metadata": {
    "scrolled": true
   },
   "outputs": [
    {
     "name": "stdout",
     "output_type": "stream",
     "text": [
      "(array([0, 1]), array([4407,  230]))\n",
      "(array([0, 1]), array([1103,   57]))\n"
     ]
    }
   ],
   "source": [
    "print(np.unique(y_train_std, return_counts=True))\n",
    "print(np.unique(y_test_std, return_counts=True))"
   ]
  },
  {
   "cell_type": "markdown",
   "id": "56015e8d-14a1-416f-84f3-2123d6b5eb44",
   "metadata": {
    "jp-MarkdownHeadingCollapsed": true
   },
   "source": [
    "### Resample by Downsampling 'Bad' Class (Using MinMax Normalized Data)"
   ]
  },
  {
   "cell_type": "code",
   "execution_count": 105,
   "id": "b48e210f-89ea-4032-9a3b-8605dcf59525",
   "metadata": {},
   "outputs": [
    {
     "name": "stdout",
     "output_type": "stream",
     "text": [
      "Original Shape: (4637, 13)\n",
      "x_0 shape: (4407, 13) y_0 shape: (4407,)\n",
      "x_1 shape: (230, 13) y_1 shape: (230,)\n",
      "(730, 13)\n"
     ]
    }
   ],
   "source": [
    "print(\"Original Shape:\", x_train_norm.shape)\n",
    "\n",
    "# Create masks to grab elements from the two classes\n",
    "y_mask_0 = y_train_norm == 0\n",
    "y_mask_1 = y_train_norm == 1\n",
    "# Class 0\n",
    "x_0 = x_train_norm[y_mask_0]\n",
    "y_0 = y_train_norm[y_mask_0]\n",
    "# Class 1\n",
    "x_1 = x_train_norm[y_mask_1]\n",
    "y_1 = y_train_norm[y_mask_1]\n",
    "\n",
    "print(\"x_0 shape:\", x_0.shape, \"y_0 shape:\", y_0.shape)\n",
    "print(\"x_1 shape:\", x_1.shape, \"y_1 shape:\", y_1.shape)\n",
    "\n",
    "# Selecting random samples from class \"0\" (a bit more than class \"1\")\n",
    "x_0_down, y_0_down = resample(x_0, y_0, replace=False, n_samples=500, random_state=39)\n",
    "\n",
    "# Concate \"0\" class back with \"1\"\n",
    "x_train_down = np.concatenate([x_0_down, x_1])\n",
    "y_train_down = np.concatenate([y_0_down, y_1])\n",
    "# Shuffle\n",
    "x_train_down, y_train_down = shuffle(x_train_down, y_train_down, random_state=72)\n",
    "print(x_train_down.shape)"
   ]
  },
  {
   "cell_type": "markdown",
   "id": "8ed0d977-bc54-4399-b00a-9e07ae7ab4c2",
   "metadata": {
    "jp-MarkdownHeadingCollapsed": true
   },
   "source": [
    "### Resample Data with SMOTEENN"
   ]
  },
  {
   "cell_type": "code",
   "execution_count": 22,
   "id": "78d02c0b-f6f7-4e39-ac5b-798b6004a616",
   "metadata": {},
   "outputs": [],
   "source": [
    "smoteenn = SMOTEENN(random_state=38)\n",
    "x_smoteenn, y_smoteenn= smoteenn.fit_resample(x_train_std, y_train_std)"
   ]
  },
  {
   "cell_type": "markdown",
   "id": "dff3cb10-b688-4162-a468-ff14170bd5bb",
   "metadata": {
    "jp-MarkdownHeadingCollapsed": true
   },
   "source": [
    "### Resample Data by Resampling Duplicating"
   ]
  },
  {
   "cell_type": "code",
   "execution_count": 23,
   "id": "9063cdf5-ffa4-48e9-bfcf-0cdb30bb5b72",
   "metadata": {},
   "outputs": [],
   "source": [
    "oversample = RandomOverSampler(sampling_strategy='minority', random_state=13, shrinkage=0.3)\n",
    "x_oversampled, y_oversampled = oversample.fit_resample(x_train_std, y_train_std)"
   ]
  },
  {
   "cell_type": "markdown",
   "id": "64f2d94a-c97b-4a4e-8cc4-918ef74a8ad9",
   "metadata": {
    "jp-MarkdownHeadingCollapsed": true
   },
   "source": [
    "### Perform Same Operations on Validation Dataset (Unused)"
   ]
  },
  {
   "cell_type": "code",
   "execution_count": 24,
   "id": "4e78e9d7-2372-47b6-a7da-2c5e6513d901",
   "metadata": {},
   "outputs": [
    {
     "name": "stdout",
     "output_type": "stream",
     "text": [
      "(116, 13)\n"
     ]
    },
    {
     "data": {
      "text/plain": [
       "array([[ 2.94392029,  0.        ,  0.        , ..., -1.50750536,\n",
       "         0.67923546,  1.70722012],\n",
       "       [ 2.94392029,  0.        ,  0.        , ..., -1.28875302,\n",
       "         3.37878724, -0.44536177],\n",
       "       [-0.33968311,  0.        ,  0.        , ..., -1.07000068,\n",
       "        -0.29972288,  1.70722012],\n",
       "       ...,\n",
       "       [-0.33968311,  0.        ,  0.        , ..., -0.15124084,\n",
       "        -0.29972288, -0.44536177],\n",
       "       [-0.33968311,  0.        ,  0.        , ..., -0.67624646,\n",
       "        -0.29972288, -0.44536177],\n",
       "       [-0.33968311,  0.        ,  0.        , ..., -0.15124084,\n",
       "        -0.29972288, -0.44536177]])"
      ]
     },
     "execution_count": 24,
     "metadata": {},
     "output_type": "execute_result"
    }
   ],
   "source": [
    "# Drop 'path' and 'body' columns\n",
    "validation = validation_raw.drop(columns=['path', 'body'])\n",
    "# Bindary Encode 'method' column\n",
    "validation['method'] = validation['method'].map({'GET': 0, 'POST': 1})\n",
    "# Normalize Columns\n",
    "val_scaler = StandardScaler()\n",
    "val_scaler.fit(validation)\n",
    "validation = val_scaler.transform(validation)\n",
    "print(validation.shape)\n",
    "validation"
   ]
  },
  {
   "cell_type": "markdown",
   "id": "9d86f805-80ea-4ba2-9129-23f7251791e6",
   "metadata": {
    "jp-MarkdownHeadingCollapsed": true
   },
   "source": [
    "## K Nearest Neighbors (5 Methods)"
   ]
  },
  {
   "cell_type": "code",
   "execution_count": 25,
   "id": "4b374cd4-7717-45cd-9fb8-9443fbdd0f1e",
   "metadata": {},
   "outputs": [],
   "source": [
    "def knn(x, y, x_test, y_test, names, neighbors):\n",
    "    # Train Model\n",
    "    knn = KNeighborsClassifier(n_neighbors = neighbors)\n",
    "    knn.fit(x, y)\n",
    "    # Make Predictions\n",
    "    knn_pred = knn.predict(x_test)\n",
    "    # Get Reports\n",
    "    print(confusion_matrix(y_test, knn_pred), '\\n')\n",
    "    print(classification_report(y_test, knn_pred, target_names=names))"
   ]
  },
  {
   "cell_type": "markdown",
   "id": "ddad876b-65c4-4ef1-b73d-858a9b1b8bc0",
   "metadata": {},
   "source": [
    "### Training with Raw Standard Scaler Data"
   ]
  },
  {
   "cell_type": "code",
   "execution_count": 26,
   "id": "d1a0cc51-bb46-4aab-a60a-21de18a11744",
   "metadata": {},
   "outputs": [
    {
     "name": "stdout",
     "output_type": "stream",
     "text": [
      "[[1098    5]\n",
      " [  23   34]] \n",
      "\n",
      "              precision    recall  f1-score   support\n",
      "\n",
      "         bad       0.98      1.00      0.99      1103\n",
      "        good       0.87      0.60      0.71        57\n",
      "\n",
      "    accuracy                           0.98      1160\n",
      "   macro avg       0.93      0.80      0.85      1160\n",
      "weighted avg       0.97      0.98      0.97      1160\n",
      "\n"
     ]
    }
   ],
   "source": [
    "knn(x_train_std, y_train_std, x_test_std, y_test_std, target_names, 10)"
   ]
  },
  {
   "cell_type": "markdown",
   "id": "cae91dfb-1e7e-4a84-beab-06c7ecd0146e",
   "metadata": {},
   "source": [
    "### Training with Raw Normalized Data"
   ]
  },
  {
   "cell_type": "code",
   "execution_count": 45,
   "id": "b71d417c-89a4-4ecd-ae17-98bd0d86ec00",
   "metadata": {},
   "outputs": [
    {
     "name": "stdout",
     "output_type": "stream",
     "text": [
      "[[1098    5]\n",
      " [  23   34]] \n",
      "\n",
      "              precision    recall  f1-score   support\n",
      "\n",
      "         bad       0.98      1.00      0.99      1103\n",
      "        good       0.87      0.60      0.71        57\n",
      "\n",
      "    accuracy                           0.98      1160\n",
      "   macro avg       0.93      0.80      0.85      1160\n",
      "weighted avg       0.97      0.98      0.97      1160\n",
      "\n"
     ]
    }
   ],
   "source": [
    "knn(x_train_norm, y_train_norm, x_test_norm, y_test_norm, target_names, 10)"
   ]
  },
  {
   "cell_type": "markdown",
   "id": "7924df7b-e772-45b8-96bb-48a21a7ab3ce",
   "metadata": {},
   "source": [
    "### Training with SMOTEENN Data"
   ]
  },
  {
   "cell_type": "code",
   "execution_count": 27,
   "id": "86eb8546-1f52-4f6e-b271-436003730731",
   "metadata": {},
   "outputs": [
    {
     "name": "stdout",
     "output_type": "stream",
     "text": [
      "[[1052   51]\n",
      " [  12   45]] \n",
      "\n",
      "              precision    recall  f1-score   support\n",
      "\n",
      "         bad       0.99      0.95      0.97      1103\n",
      "        good       0.47      0.79      0.59        57\n",
      "\n",
      "    accuracy                           0.95      1160\n",
      "   macro avg       0.73      0.87      0.78      1160\n",
      "weighted avg       0.96      0.95      0.95      1160\n",
      "\n"
     ]
    }
   ],
   "source": [
    "knn(x_smoteenn, y_smoteenn, x_test_std, y_test_std, target_names, 10)"
   ]
  },
  {
   "cell_type": "markdown",
   "id": "995d5c22-7e07-43c2-ad85-d1af1e512dc5",
   "metadata": {},
   "source": [
    "### Training with Oversampled Data"
   ]
  },
  {
   "cell_type": "code",
   "execution_count": 28,
   "id": "6a2a1397-b5dd-4db0-ad33-c063e6455e65",
   "metadata": {},
   "outputs": [
    {
     "name": "stdout",
     "output_type": "stream",
     "text": [
      "[[1098    5]\n",
      " [  23   34]] \n",
      "\n",
      "              precision    recall  f1-score   support\n",
      "\n",
      "         bad       0.98      1.00      0.99      1103\n",
      "        good       0.87      0.60      0.71        57\n",
      "\n",
      "    accuracy                           0.98      1160\n",
      "   macro avg       0.93      0.80      0.85      1160\n",
      "weighted avg       0.97      0.98      0.97      1160\n",
      "\n"
     ]
    }
   ],
   "source": [
    "knn(x_oversampled, y_oversampled, x_test_std, y_test_std, target_names, 10)"
   ]
  },
  {
   "cell_type": "markdown",
   "id": "ea0b03c8-4702-4ffc-8570-db085a8b37cc",
   "metadata": {},
   "source": [
    "### Training with Downsampled Data"
   ]
  },
  {
   "cell_type": "code",
   "execution_count": 106,
   "id": "86bf14f9-3042-45ff-a9a2-11cdbf0ed9a9",
   "metadata": {},
   "outputs": [
    {
     "name": "stdout",
     "output_type": "stream",
     "text": [
      "[[1014   89]\n",
      " [   1   56]] \n",
      "\n",
      "              precision    recall  f1-score   support\n",
      "\n",
      "         bad       1.00      0.92      0.96      1103\n",
      "        good       0.39      0.98      0.55        57\n",
      "\n",
      "    accuracy                           0.92      1160\n",
      "   macro avg       0.69      0.95      0.76      1160\n",
      "weighted avg       0.97      0.92      0.94      1160\n",
      "\n"
     ]
    }
   ],
   "source": [
    "knn(x_train_down, y_train_down, x_test_norm, y_test_norm, target_names, 10)"
   ]
  },
  {
   "cell_type": "markdown",
   "id": "0ef57d3d-1974-474b-a854-ea968a728089",
   "metadata": {
    "jp-MarkdownHeadingCollapsed": true
   },
   "source": [
    "## Decision Trees (4 Methods)"
   ]
  },
  {
   "cell_type": "code",
   "execution_count": 29,
   "id": "e5cb1ff7-6f65-46e4-a6d7-e473064484b8",
   "metadata": {},
   "outputs": [],
   "source": [
    "def treeModel(x, y, x_test, y_test, names):\n",
    "    # Train Model\n",
    "    tree_model = tree.DecisionTreeClassifier()\n",
    "    tree_model = tree_model.fit(x, y)\n",
    "    # Make Predictions\n",
    "    trees_pred = tree_model.predict(x_test)\n",
    "    # Get Reports on Test\n",
    "    print(confusion_matrix(y_test, trees_pred))\n",
    "    print(classification_report(y_test, trees_pred, target_names=names))"
   ]
  },
  {
   "cell_type": "markdown",
   "id": "fad85e4d-75fd-4769-9b5f-3615f5c8c334",
   "metadata": {},
   "source": [
    "### Train with Raw Data"
   ]
  },
  {
   "cell_type": "code",
   "execution_count": 30,
   "id": "76a0c59c-0e6f-413d-867d-68843dbde96d",
   "metadata": {},
   "outputs": [
    {
     "name": "stdout",
     "output_type": "stream",
     "text": [
      "[[1093   10]\n",
      " [  21   36]]\n",
      "              precision    recall  f1-score   support\n",
      "\n",
      "         bad       0.98      0.99      0.99      1103\n",
      "        good       0.78      0.63      0.70        57\n",
      "\n",
      "    accuracy                           0.97      1160\n",
      "   macro avg       0.88      0.81      0.84      1160\n",
      "weighted avg       0.97      0.97      0.97      1160\n",
      "\n"
     ]
    }
   ],
   "source": [
    "treeModel(x_train_std, y_train_std, x_test_std, y_test_std, target_names)"
   ]
  },
  {
   "cell_type": "markdown",
   "id": "3bbdb486-a69f-4c30-a5f7-86735ad90624",
   "metadata": {},
   "source": [
    "### Train with SMOTEENN Data"
   ]
  },
  {
   "cell_type": "code",
   "execution_count": 31,
   "id": "c2f77b2b-b741-4dae-bb8f-4b7551a526ce",
   "metadata": {},
   "outputs": [
    {
     "name": "stdout",
     "output_type": "stream",
     "text": [
      "[[1051   52]\n",
      " [  29   28]]\n",
      "              precision    recall  f1-score   support\n",
      "\n",
      "         bad       0.97      0.95      0.96      1103\n",
      "        good       0.35      0.49      0.41        57\n",
      "\n",
      "    accuracy                           0.93      1160\n",
      "   macro avg       0.66      0.72      0.69      1160\n",
      "weighted avg       0.94      0.93      0.94      1160\n",
      "\n"
     ]
    }
   ],
   "source": [
    "treeModel(x_smoteenn, y_smoteenn, x_test_std, y_test_std, target_names)"
   ]
  },
  {
   "cell_type": "markdown",
   "id": "36df2bd2-340d-4a28-9f26-af27c5701cd5",
   "metadata": {},
   "source": [
    "### Train with Oversampled Data"
   ]
  },
  {
   "cell_type": "code",
   "execution_count": 32,
   "id": "1f75d1f6-e145-4ac5-a66c-af46d526187d",
   "metadata": {
    "scrolled": true
   },
   "outputs": [
    {
     "name": "stdout",
     "output_type": "stream",
     "text": [
      "[[1094    9]\n",
      " [  21   36]]\n",
      "              precision    recall  f1-score   support\n",
      "\n",
      "         bad       0.98      0.99      0.99      1103\n",
      "        good       0.80      0.63      0.71        57\n",
      "\n",
      "    accuracy                           0.97      1160\n",
      "   macro avg       0.89      0.81      0.85      1160\n",
      "weighted avg       0.97      0.97      0.97      1160\n",
      "\n"
     ]
    }
   ],
   "source": [
    "treeModel(x_oversampled, y_oversampled, x_test_std, y_test_std, target_names)"
   ]
  },
  {
   "cell_type": "markdown",
   "id": "5a136f2f-a30f-49d3-8e38-847032f30bdf",
   "metadata": {},
   "source": [
    "### Train with Downsampled Data"
   ]
  },
  {
   "cell_type": "code",
   "execution_count": 107,
   "id": "c7dc2356-06c1-4ee1-9d4e-353402fe2e7b",
   "metadata": {
    "scrolled": true
   },
   "outputs": [
    {
     "name": "stdout",
     "output_type": "stream",
     "text": [
      "[[1020   83]\n",
      " [   6   51]]\n",
      "              precision    recall  f1-score   support\n",
      "\n",
      "         bad       0.99      0.92      0.96      1103\n",
      "        good       0.38      0.89      0.53        57\n",
      "\n",
      "    accuracy                           0.92      1160\n",
      "   macro avg       0.69      0.91      0.75      1160\n",
      "weighted avg       0.96      0.92      0.94      1160\n",
      "\n"
     ]
    }
   ],
   "source": [
    "treeModel(x_train_down, y_train_down, x_test_norm, y_test_norm, target_names)"
   ]
  },
  {
   "cell_type": "markdown",
   "id": "4884fd93-205c-4218-9e7d-6bfe6a0fb045",
   "metadata": {
    "jp-MarkdownHeadingCollapsed": true
   },
   "source": [
    "## Logistic Regression (3 Methods)"
   ]
  },
  {
   "cell_type": "code",
   "execution_count": 33,
   "id": "cc5aaf49-7771-48c2-8c38-42c91e43c074",
   "metadata": {},
   "outputs": [],
   "source": [
    "def logres(x, y, x_test, y_test, names):\n",
    "    # Train Model\n",
    "    log_model = LogisticRegression(random_state=38, max_iter=1000).fit(x, y)\n",
    "    # Make Predictions\n",
    "    log_pred = log_model.predict(x_test)\n",
    "    # Get Reports\n",
    "    print(confusion_matrix(y_test, log_pred))\n",
    "    print(classification_report(y_test, log_pred, target_names=names))"
   ]
  },
  {
   "cell_type": "markdown",
   "id": "87e02465-5b23-4647-a938-0da48bef18bd",
   "metadata": {},
   "source": [
    "### Training with Raw Data"
   ]
  },
  {
   "cell_type": "code",
   "execution_count": 34,
   "id": "54f2364a-e29c-467d-a639-fff05d94ae54",
   "metadata": {},
   "outputs": [
    {
     "name": "stdout",
     "output_type": "stream",
     "text": [
      "[[1103    0]\n",
      " [  57    0]]\n",
      "              precision    recall  f1-score   support\n",
      "\n",
      "         bad       0.95      1.00      0.97      1103\n",
      "        good       0.00      0.00      0.00        57\n",
      "\n",
      "    accuracy                           0.95      1160\n",
      "   macro avg       0.48      0.50      0.49      1160\n",
      "weighted avg       0.90      0.95      0.93      1160\n",
      "\n"
     ]
    },
    {
     "name": "stderr",
     "output_type": "stream",
     "text": [
      "/opt/homebrew/Caskroom/miniconda/base/envs/python-labs/lib/python3.12/site-packages/sklearn/metrics/_classification.py:1531: UndefinedMetricWarning: Precision is ill-defined and being set to 0.0 in labels with no predicted samples. Use `zero_division` parameter to control this behavior.\n",
      "  _warn_prf(average, modifier, f\"{metric.capitalize()} is\", len(result))\n",
      "/opt/homebrew/Caskroom/miniconda/base/envs/python-labs/lib/python3.12/site-packages/sklearn/metrics/_classification.py:1531: UndefinedMetricWarning: Precision is ill-defined and being set to 0.0 in labels with no predicted samples. Use `zero_division` parameter to control this behavior.\n",
      "  _warn_prf(average, modifier, f\"{metric.capitalize()} is\", len(result))\n",
      "/opt/homebrew/Caskroom/miniconda/base/envs/python-labs/lib/python3.12/site-packages/sklearn/metrics/_classification.py:1531: UndefinedMetricWarning: Precision is ill-defined and being set to 0.0 in labels with no predicted samples. Use `zero_division` parameter to control this behavior.\n",
      "  _warn_prf(average, modifier, f\"{metric.capitalize()} is\", len(result))\n"
     ]
    }
   ],
   "source": [
    "logres(x_train_std, y_train_std, x_test_std, y_test_std, target_names)"
   ]
  },
  {
   "cell_type": "markdown",
   "id": "08fca041-7e42-4020-99b0-3f10fc3e88b0",
   "metadata": {},
   "source": [
    "### Training with SMOTEENN Data"
   ]
  },
  {
   "cell_type": "code",
   "execution_count": 35,
   "id": "f0c9441c-7a52-4c67-a6f6-f25b31634d79",
   "metadata": {},
   "outputs": [
    {
     "name": "stdout",
     "output_type": "stream",
     "text": [
      "[[945 158]\n",
      " [  0  57]]\n",
      "              precision    recall  f1-score   support\n",
      "\n",
      "         bad       1.00      0.86      0.92      1103\n",
      "        good       0.27      1.00      0.42        57\n",
      "\n",
      "    accuracy                           0.86      1160\n",
      "   macro avg       0.63      0.93      0.67      1160\n",
      "weighted avg       0.96      0.86      0.90      1160\n",
      "\n"
     ]
    }
   ],
   "source": [
    "logres(x_smoteenn, y_smoteenn, x_test_std, y_test_std, target_names)"
   ]
  },
  {
   "cell_type": "markdown",
   "id": "35851894-1276-411d-916b-d3508155adb4",
   "metadata": {},
   "source": [
    "### Training with Oversampled Data"
   ]
  },
  {
   "cell_type": "code",
   "execution_count": 36,
   "id": "f66bba27-fad3-44ef-95cd-8e9e181b1894",
   "metadata": {},
   "outputs": [
    {
     "name": "stdout",
     "output_type": "stream",
     "text": [
      "[[907 196]\n",
      " [  0  57]]\n",
      "              precision    recall  f1-score   support\n",
      "\n",
      "         bad       1.00      0.82      0.90      1103\n",
      "        good       0.23      1.00      0.37        57\n",
      "\n",
      "    accuracy                           0.83      1160\n",
      "   macro avg       0.61      0.91      0.64      1160\n",
      "weighted avg       0.96      0.83      0.88      1160\n",
      "\n"
     ]
    }
   ],
   "source": [
    "logres(x_oversampled, y_oversampled, x_test_std, y_test_std, target_names)"
   ]
  },
  {
   "cell_type": "markdown",
   "id": "30596547-4a73-4552-8483-f41041e50cc0",
   "metadata": {
    "jp-MarkdownHeadingCollapsed": true
   },
   "source": [
    "## Support Vector Machines (5 Methods)"
   ]
  },
  {
   "cell_type": "code",
   "execution_count": 37,
   "id": "aea20595-d0dd-4138-b6d9-4a987c779bf3",
   "metadata": {},
   "outputs": [],
   "source": [
    "def svm(x, y, x_test, y_test, names):\n",
    "    # Train Model\n",
    "    svc_model = SVC()\n",
    "    svc_model.fit(x, y)\n",
    "    # Make Predictions\n",
    "    svc_pred = svc_model.predict(x_test)\n",
    "    # Get Reports\n",
    "    print(confusion_matrix(y_test, svc_pred))\n",
    "    print(classification_report(y_test, svc_pred, target_names=names))"
   ]
  },
  {
   "cell_type": "markdown",
   "id": "98e2399e-921b-4fac-8bd0-21e68cb654dd",
   "metadata": {
    "jp-MarkdownHeadingCollapsed": true
   },
   "source": [
    "### Train with Raw Standard Scaler Data"
   ]
  },
  {
   "cell_type": "code",
   "execution_count": 38,
   "id": "d5e24fe8-ca57-4bc7-a216-1b506b4f68f0",
   "metadata": {
    "scrolled": true
   },
   "outputs": [
    {
     "name": "stdout",
     "output_type": "stream",
     "text": [
      "[[1103    0]\n",
      " [  57    0]]\n",
      "              precision    recall  f1-score   support\n",
      "\n",
      "         bad       0.95      1.00      0.97      1103\n",
      "        good       0.00      0.00      0.00        57\n",
      "\n",
      "    accuracy                           0.95      1160\n",
      "   macro avg       0.48      0.50      0.49      1160\n",
      "weighted avg       0.90      0.95      0.93      1160\n",
      "\n"
     ]
    },
    {
     "name": "stderr",
     "output_type": "stream",
     "text": [
      "/opt/homebrew/Caskroom/miniconda/base/envs/python-labs/lib/python3.12/site-packages/sklearn/metrics/_classification.py:1531: UndefinedMetricWarning: Precision is ill-defined and being set to 0.0 in labels with no predicted samples. Use `zero_division` parameter to control this behavior.\n",
      "  _warn_prf(average, modifier, f\"{metric.capitalize()} is\", len(result))\n",
      "/opt/homebrew/Caskroom/miniconda/base/envs/python-labs/lib/python3.12/site-packages/sklearn/metrics/_classification.py:1531: UndefinedMetricWarning: Precision is ill-defined and being set to 0.0 in labels with no predicted samples. Use `zero_division` parameter to control this behavior.\n",
      "  _warn_prf(average, modifier, f\"{metric.capitalize()} is\", len(result))\n",
      "/opt/homebrew/Caskroom/miniconda/base/envs/python-labs/lib/python3.12/site-packages/sklearn/metrics/_classification.py:1531: UndefinedMetricWarning: Precision is ill-defined and being set to 0.0 in labels with no predicted samples. Use `zero_division` parameter to control this behavior.\n",
      "  _warn_prf(average, modifier, f\"{metric.capitalize()} is\", len(result))\n"
     ]
    }
   ],
   "source": [
    "svm(x_train_std, y_train_std, x_test_std, y_test_std, target_names)"
   ]
  },
  {
   "cell_type": "markdown",
   "id": "bc6b7f38-bfa0-4008-bab9-2776d7b879a5",
   "metadata": {
    "jp-MarkdownHeadingCollapsed": true
   },
   "source": [
    "### Train with Raw MinMax Scaler Data"
   ]
  },
  {
   "cell_type": "code",
   "execution_count": 109,
   "id": "e3658d8d-3b3c-4905-8e39-87bef3835067",
   "metadata": {},
   "outputs": [
    {
     "name": "stdout",
     "output_type": "stream",
     "text": [
      "[[1103    0]\n",
      " [  57    0]]\n",
      "              precision    recall  f1-score   support\n",
      "\n",
      "         bad       0.95      1.00      0.97      1103\n",
      "        good       0.00      0.00      0.00        57\n",
      "\n",
      "    accuracy                           0.95      1160\n",
      "   macro avg       0.48      0.50      0.49      1160\n",
      "weighted avg       0.90      0.95      0.93      1160\n",
      "\n"
     ]
    },
    {
     "name": "stderr",
     "output_type": "stream",
     "text": [
      "/opt/homebrew/Caskroom/miniconda/base/envs/python-labs/lib/python3.12/site-packages/sklearn/metrics/_classification.py:1531: UndefinedMetricWarning: Precision is ill-defined and being set to 0.0 in labels with no predicted samples. Use `zero_division` parameter to control this behavior.\n",
      "  _warn_prf(average, modifier, f\"{metric.capitalize()} is\", len(result))\n",
      "/opt/homebrew/Caskroom/miniconda/base/envs/python-labs/lib/python3.12/site-packages/sklearn/metrics/_classification.py:1531: UndefinedMetricWarning: Precision is ill-defined and being set to 0.0 in labels with no predicted samples. Use `zero_division` parameter to control this behavior.\n",
      "  _warn_prf(average, modifier, f\"{metric.capitalize()} is\", len(result))\n",
      "/opt/homebrew/Caskroom/miniconda/base/envs/python-labs/lib/python3.12/site-packages/sklearn/metrics/_classification.py:1531: UndefinedMetricWarning: Precision is ill-defined and being set to 0.0 in labels with no predicted samples. Use `zero_division` parameter to control this behavior.\n",
      "  _warn_prf(average, modifier, f\"{metric.capitalize()} is\", len(result))\n"
     ]
    }
   ],
   "source": [
    "svm(x_train_norm, y_train_norm, x_test_norm, y_test_norm, target_names)"
   ]
  },
  {
   "cell_type": "markdown",
   "id": "d63bfe7a-2216-49cf-82c4-62430e61e623",
   "metadata": {
    "jp-MarkdownHeadingCollapsed": true
   },
   "source": [
    "### Train with SMOTEENN Data"
   ]
  },
  {
   "cell_type": "code",
   "execution_count": 39,
   "id": "4e22f7a8-178d-4ed5-b4b6-8f15f69d544f",
   "metadata": {},
   "outputs": [
    {
     "name": "stdout",
     "output_type": "stream",
     "text": [
      "[[927 176]\n",
      " [  0  57]]\n",
      "              precision    recall  f1-score   support\n",
      "\n",
      "         bad       1.00      0.84      0.91      1103\n",
      "        good       0.24      1.00      0.39        57\n",
      "\n",
      "    accuracy                           0.85      1160\n",
      "   macro avg       0.62      0.92      0.65      1160\n",
      "weighted avg       0.96      0.85      0.89      1160\n",
      "\n"
     ]
    }
   ],
   "source": [
    "svm(x_smoteenn, y_smoteenn, x_test_std, y_test_std, target_names)"
   ]
  },
  {
   "cell_type": "markdown",
   "id": "be87b683-088d-4c87-9edb-fec89f16d6ee",
   "metadata": {
    "jp-MarkdownHeadingCollapsed": true
   },
   "source": [
    "### Train with Oversampled Data"
   ]
  },
  {
   "cell_type": "code",
   "execution_count": 40,
   "id": "fa6ff131-454f-4563-b170-3fb786c3e02b",
   "metadata": {
    "scrolled": true
   },
   "outputs": [
    {
     "name": "stdout",
     "output_type": "stream",
     "text": [
      "[[903 200]\n",
      " [  0  57]]\n",
      "              precision    recall  f1-score   support\n",
      "\n",
      "         bad       1.00      0.82      0.90      1103\n",
      "        good       0.22      1.00      0.36        57\n",
      "\n",
      "    accuracy                           0.83      1160\n",
      "   macro avg       0.61      0.91      0.63      1160\n",
      "weighted avg       0.96      0.83      0.87      1160\n",
      "\n"
     ]
    }
   ],
   "source": [
    "svm(x_oversampled, y_oversampled, x_test_std, y_test_std, target_names)"
   ]
  },
  {
   "cell_type": "markdown",
   "id": "fe2f498d-ba95-4eb7-adcb-1aa5e2986f90",
   "metadata": {
    "jp-MarkdownHeadingCollapsed": true
   },
   "source": [
    "### Train with Downsampled Data"
   ]
  },
  {
   "cell_type": "code",
   "execution_count": 108,
   "id": "396de27b-eb86-4c6b-bd0a-2a25ec24df67",
   "metadata": {},
   "outputs": [
    {
     "name": "stdout",
     "output_type": "stream",
     "text": [
      "[[810 293]\n",
      " [  0  57]]\n",
      "              precision    recall  f1-score   support\n",
      "\n",
      "         bad       1.00      0.73      0.85      1103\n",
      "        good       0.16      1.00      0.28        57\n",
      "\n",
      "    accuracy                           0.75      1160\n",
      "   macro avg       0.58      0.87      0.56      1160\n",
      "weighted avg       0.96      0.75      0.82      1160\n",
      "\n"
     ]
    }
   ],
   "source": [
    "svm(x_train_down, y_train_down, x_test_norm, y_test_norm, target_names)"
   ]
  },
  {
   "cell_type": "markdown",
   "id": "602f7d0e-c898-4064-b9a7-3ca99e785c06",
   "metadata": {
    "jp-MarkdownHeadingCollapsed": true
   },
   "source": [
    "## Artificial Neural Networks (5 Methods)"
   ]
  },
  {
   "cell_type": "code",
   "execution_count": 41,
   "id": "4ba34a9c-3eca-4292-98bb-dd8080c778d9",
   "metadata": {},
   "outputs": [],
   "source": [
    "def ann(x, y, x_test, y_test, names, layers = (100,), seed = 1, epochs = 1000):\n",
    "    # Train Model\n",
    "    ann = MLPClassifier(random_state = seed, max_iter = epochs, hidden_layer_sizes = layers).fit(x, y) \n",
    "    # Make Predictions\n",
    "    ann_pred = ann.predict(x_test)\n",
    "    # Get Reports\n",
    "    print(confusion_matrix(y_test, ann_pred))\n",
    "    print(classification_report(y_test, ann_pred, target_names=names))\n",
    "    print(ann.score(x_test, y_test))"
   ]
  },
  {
   "cell_type": "markdown",
   "id": "55489f48-2e6b-4c89-99b2-9d50a80dc61b",
   "metadata": {},
   "source": [
    "### Training with Raw Standard Scaler Data"
   ]
  },
  {
   "cell_type": "code",
   "execution_count": 42,
   "id": "5437eef8-3084-4408-ae19-8c2f4513d2c6",
   "metadata": {
    "scrolled": true
   },
   "outputs": [
    {
     "name": "stdout",
     "output_type": "stream",
     "text": [
      "[[1103    0]\n",
      " [  57    0]]\n",
      "              precision    recall  f1-score   support\n",
      "\n",
      "         bad       0.95      1.00      0.97      1103\n",
      "        good       0.00      0.00      0.00        57\n",
      "\n",
      "    accuracy                           0.95      1160\n",
      "   macro avg       0.48      0.50      0.49      1160\n",
      "weighted avg       0.90      0.95      0.93      1160\n",
      "\n",
      "0.9508620689655173\n"
     ]
    },
    {
     "name": "stderr",
     "output_type": "stream",
     "text": [
      "/opt/homebrew/Caskroom/miniconda/base/envs/python-labs/lib/python3.12/site-packages/sklearn/metrics/_classification.py:1531: UndefinedMetricWarning: Precision is ill-defined and being set to 0.0 in labels with no predicted samples. Use `zero_division` parameter to control this behavior.\n",
      "  _warn_prf(average, modifier, f\"{metric.capitalize()} is\", len(result))\n",
      "/opt/homebrew/Caskroom/miniconda/base/envs/python-labs/lib/python3.12/site-packages/sklearn/metrics/_classification.py:1531: UndefinedMetricWarning: Precision is ill-defined and being set to 0.0 in labels with no predicted samples. Use `zero_division` parameter to control this behavior.\n",
      "  _warn_prf(average, modifier, f\"{metric.capitalize()} is\", len(result))\n",
      "/opt/homebrew/Caskroom/miniconda/base/envs/python-labs/lib/python3.12/site-packages/sklearn/metrics/_classification.py:1531: UndefinedMetricWarning: Precision is ill-defined and being set to 0.0 in labels with no predicted samples. Use `zero_division` parameter to control this behavior.\n",
      "  _warn_prf(average, modifier, f\"{metric.capitalize()} is\", len(result))\n"
     ]
    }
   ],
   "source": [
    "ann(x_train_std, y_train_std, x_test_std, y_test_std, target_names)"
   ]
  },
  {
   "cell_type": "markdown",
   "id": "bcea8fd6-5771-4b66-a71c-d6134fc59941",
   "metadata": {},
   "source": [
    "### Training with Raw MinMax Scaler Data"
   ]
  },
  {
   "cell_type": "code",
   "execution_count": 46,
   "id": "0204a255-de74-4bd3-ac45-bd8962250ee8",
   "metadata": {
    "scrolled": true
   },
   "outputs": [
    {
     "name": "stdout",
     "output_type": "stream",
     "text": [
      "[[1103    0]\n",
      " [  57    0]]\n",
      "              precision    recall  f1-score   support\n",
      "\n",
      "         bad       0.95      1.00      0.97      1103\n",
      "        good       0.00      0.00      0.00        57\n",
      "\n",
      "    accuracy                           0.95      1160\n",
      "   macro avg       0.48      0.50      0.49      1160\n",
      "weighted avg       0.90      0.95      0.93      1160\n",
      "\n",
      "0.9508620689655173\n"
     ]
    },
    {
     "name": "stderr",
     "output_type": "stream",
     "text": [
      "/opt/homebrew/Caskroom/miniconda/base/envs/python-labs/lib/python3.12/site-packages/sklearn/metrics/_classification.py:1531: UndefinedMetricWarning: Precision is ill-defined and being set to 0.0 in labels with no predicted samples. Use `zero_division` parameter to control this behavior.\n",
      "  _warn_prf(average, modifier, f\"{metric.capitalize()} is\", len(result))\n",
      "/opt/homebrew/Caskroom/miniconda/base/envs/python-labs/lib/python3.12/site-packages/sklearn/metrics/_classification.py:1531: UndefinedMetricWarning: Precision is ill-defined and being set to 0.0 in labels with no predicted samples. Use `zero_division` parameter to control this behavior.\n",
      "  _warn_prf(average, modifier, f\"{metric.capitalize()} is\", len(result))\n",
      "/opt/homebrew/Caskroom/miniconda/base/envs/python-labs/lib/python3.12/site-packages/sklearn/metrics/_classification.py:1531: UndefinedMetricWarning: Precision is ill-defined and being set to 0.0 in labels with no predicted samples. Use `zero_division` parameter to control this behavior.\n",
      "  _warn_prf(average, modifier, f\"{metric.capitalize()} is\", len(result))\n"
     ]
    }
   ],
   "source": [
    "ann(x_train_norm, y_train_norm, x_test_norm, y_test_norm, target_names)"
   ]
  },
  {
   "cell_type": "markdown",
   "id": "3d1e965b-8102-4968-9f10-9687d55dccdc",
   "metadata": {},
   "source": [
    "### Training with SMOTEENN Data "
   ]
  },
  {
   "cell_type": "code",
   "execution_count": 43,
   "id": "8787de32-05e4-47b7-aa48-af85bb2e8005",
   "metadata": {},
   "outputs": [
    {
     "name": "stdout",
     "output_type": "stream",
     "text": [
      "[[1024   79]\n",
      " [   9   48]]\n",
      "              precision    recall  f1-score   support\n",
      "\n",
      "         bad       0.99      0.93      0.96      1103\n",
      "        good       0.38      0.84      0.52        57\n",
      "\n",
      "    accuracy                           0.92      1160\n",
      "   macro avg       0.68      0.89      0.74      1160\n",
      "weighted avg       0.96      0.92      0.94      1160\n",
      "\n",
      "0.9241379310344827\n"
     ]
    }
   ],
   "source": [
    "ann(x_smoteenn, y_smoteenn, x_test_std, y_test_std, target_names)"
   ]
  },
  {
   "cell_type": "markdown",
   "id": "33260702-eb8f-4b8c-8f2d-d52ac89d8c09",
   "metadata": {},
   "source": [
    "### Training with Random Oversampled Data"
   ]
  },
  {
   "cell_type": "code",
   "execution_count": 44,
   "id": "b5cc3a09-ed97-4b87-ac0e-ebc958e4abcb",
   "metadata": {
    "scrolled": true
   },
   "outputs": [
    {
     "name": "stdout",
     "output_type": "stream",
     "text": [
      "[[936 167]\n",
      " [  0  57]]\n",
      "              precision    recall  f1-score   support\n",
      "\n",
      "         bad       1.00      0.85      0.92      1103\n",
      "        good       0.25      1.00      0.41        57\n",
      "\n",
      "    accuracy                           0.86      1160\n",
      "   macro avg       0.63      0.92      0.66      1160\n",
      "weighted avg       0.96      0.86      0.89      1160\n",
      "\n",
      "0.8560344827586207\n"
     ]
    }
   ],
   "source": [
    "ann(x_oversampled, y_oversampled, x_test_std, y_test_std, target_names)"
   ]
  },
  {
   "cell_type": "markdown",
   "id": "d614f49f-fe76-4e9f-be38-bf1e4a585ab0",
   "metadata": {},
   "source": [
    "### Training with Downsampled Data"
   ]
  },
  {
   "cell_type": "code",
   "execution_count": 101,
   "id": "ea9e5548-5ff7-4016-a38c-76e7d56b5f63",
   "metadata": {
    "scrolled": true
   },
   "outputs": [
    {
     "name": "stdout",
     "output_type": "stream",
     "text": [
      "[[951 152]\n",
      " [  0  57]]\n",
      "              precision    recall  f1-score   support\n",
      "\n",
      "         bad       1.00      0.86      0.93      1103\n",
      "        good       0.27      1.00      0.43        57\n",
      "\n",
      "    accuracy                           0.87      1160\n",
      "   macro avg       0.64      0.93      0.68      1160\n",
      "weighted avg       0.96      0.87      0.90      1160\n",
      "\n",
      "0.8689655172413793\n"
     ]
    }
   ],
   "source": [
    "ann(x_train_down, y_train_down, x_test_norm, y_test_norm, target_names)"
   ]
  },
  {
   "cell_type": "code",
   "execution_count": null,
   "id": "8d8f9510-4951-47de-92e3-abc5c127b6e2",
   "metadata": {},
   "outputs": [],
   "source": []
  }
 ],
 "metadata": {
  "kernelspec": {
   "display_name": "python-labs-kernel",
   "language": "python",
   "name": "python-labs-kernel"
  },
  "language_info": {
   "codemirror_mode": {
    "name": "ipython",
    "version": 3
   },
   "file_extension": ".py",
   "mimetype": "text/x-python",
   "name": "python",
   "nbconvert_exporter": "python",
   "pygments_lexer": "ipython3",
   "version": "3.12.2"
  }
 },
 "nbformat": 4,
 "nbformat_minor": 5
}
