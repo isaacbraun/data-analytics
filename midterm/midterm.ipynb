{
 "cells": [
  {
   "cell_type": "markdown",
   "id": "2c03f244-43ee-45e5-8739-b43522f9a740",
   "metadata": {},
   "source": [
    "# Midterm - Network Request Detection\n",
    "Datasets from [Web Network Traffic dataset](https://www.kaggle.com/datasets/rudrakumar96/web-firewall-good-and-bad-request/data)."
   ]
  },
  {
   "cell_type": "markdown",
   "id": "270bb2a6-3d43-452c-b3a4-7d87167bfd32",
   "metadata": {},
   "source": [
    "## Importing Packages"
   ]
  },
  {
   "cell_type": "code",
   "execution_count": 2,
   "id": "18f9f3e0-1399-452a-8e7b-c003c749ac31",
   "metadata": {},
   "outputs": [],
   "source": [
    "import numpy as np\n",
    "import pandas as pd\n",
    "from math import sqrt\n",
    "from sklearn import datasets, tree\n",
    "from sklearn.utils import resample, shuffle\n",
    "from sklearn.neighbors import KNeighborsClassifier\n",
    "from sklearn.model_selection import train_test_split\n",
    "from sklearn.metrics import confusion_matrix, classification_report, accuracy_score\n",
    "from sklearn.preprocessing import StandardScaler, MinMaxScaler\n",
    "from sklearn.linear_model import LogisticRegression\n",
    "from sklearn.svm import SVC\n",
    "from sklearn.neural_network import MLPClassifier\n",
    "from imblearn.combine import SMOTEENN\n",
    "from imblearn.over_sampling import RandomOverSampler\n",
    "from sklearn.feature_selection import chi2"
   ]
  },
  {
   "cell_type": "markdown",
   "id": "b8a63a4d-3ff5-4a99-80a4-e5b272bf27b5",
   "metadata": {
    "jp-MarkdownHeadingCollapsed": true
   },
   "source": [
    "## Accuracy / Confidence Interval Function"
   ]
  },
  {
   "cell_type": "code",
   "execution_count": 3,
   "id": "a9c5df7d-05e6-424a-b536-cc0d9f27b521",
   "metadata": {},
   "outputs": [],
   "source": [
    "def print_acc_conf(model, x, y, crit = 1.64):\n",
    "    accuracy = model.score(x, y)\n",
    "    error = 1 - accuracy\n",
    "    confidence = crit * (sqrt( (error * (1 - error)) / y.size))\n",
    "    print(\"Accuracy:\", accuracy)\n",
    "    print(\"Confidence: %.3f\" % confidence, \"Lower: %.3f\" % (error - confidence), \"Upper: %.3f\" % (error + confidence))"
   ]
  },
  {
   "cell_type": "markdown",
   "id": "dd4d5d73-0561-4f61-a465-b8428193763c",
   "metadata": {},
   "source": [
    "## Read in and Evaluate Data"
   ]
  },
  {
   "cell_type": "code",
   "execution_count": 4,
   "id": "8fe4248c-130e-4bd3-956d-b441d189d024",
   "metadata": {},
   "outputs": [],
   "source": [
    "base_path = '../datasets/network_requests/'\n",
    "combine_paths = ['2bad_reqff.csv', '2good_reqff.csv']\n",
    "validation_raw = pd.read_csv(base_path + 'Testing_data.csv')\n",
    "badwords = ['sleep', 'uid', 'select', 'waitfor', 'delay', 'system', 'union', 'order by', 'group by', 'admin', 'drop', 'script']\n",
    "\n",
    "combined = pd.concat([pd.read_csv(base_path + f) for f in combine_paths], ignore_index=True)"
   ]
  },
  {
   "cell_type": "code",
   "execution_count": 5,
   "id": "75d0a123-1085-4b71-87ca-6645925e1a89",
   "metadata": {},
   "outputs": [
    {
     "data": {
      "text/html": [
       "<div>\n",
       "<style scoped>\n",
       "    .dataframe tbody tr th:only-of-type {\n",
       "        vertical-align: middle;\n",
       "    }\n",
       "\n",
       "    .dataframe tbody tr th {\n",
       "        vertical-align: top;\n",
       "    }\n",
       "\n",
       "    .dataframe thead th {\n",
       "        text-align: right;\n",
       "    }\n",
       "</style>\n",
       "<table border=\"1\" class=\"dataframe\">\n",
       "  <thead>\n",
       "    <tr style=\"text-align: right;\">\n",
       "      <th></th>\n",
       "      <th>method</th>\n",
       "      <th>path</th>\n",
       "      <th>body</th>\n",
       "      <th>single_q</th>\n",
       "      <th>double_q</th>\n",
       "      <th>dashes</th>\n",
       "      <th>braces</th>\n",
       "      <th>spaces</th>\n",
       "      <th>percentages</th>\n",
       "      <th>semicolons</th>\n",
       "      <th>angle_brackets</th>\n",
       "      <th>special_chars</th>\n",
       "      <th>path_length</th>\n",
       "      <th>body_length</th>\n",
       "      <th>badwords_count</th>\n",
       "      <th>class</th>\n",
       "    </tr>\n",
       "  </thead>\n",
       "  <tbody>\n",
       "    <tr>\n",
       "      <th>0</th>\n",
       "      <td>POST</td>\n",
       "      <td>/doLogin</td>\n",
       "      <td>uid=ZAP&amp;passw=ZAP&amp;btnSubmit=Login</td>\n",
       "      <td>0</td>\n",
       "      <td>0</td>\n",
       "      <td>0</td>\n",
       "      <td>0</td>\n",
       "      <td>0</td>\n",
       "      <td>0</td>\n",
       "      <td>0</td>\n",
       "      <td>0</td>\n",
       "      <td>0</td>\n",
       "      <td>8</td>\n",
       "      <td>33</td>\n",
       "      <td>1</td>\n",
       "      <td>bad</td>\n",
       "    </tr>\n",
       "    <tr>\n",
       "      <th>1</th>\n",
       "      <td>POST</td>\n",
       "      <td>/sendFeedback</td>\n",
       "      <td>cfile=comments.txt&amp;name=ZAP&amp;email_addr=ZAP&amp;sub...</td>\n",
       "      <td>0</td>\n",
       "      <td>0</td>\n",
       "      <td>0</td>\n",
       "      <td>0</td>\n",
       "      <td>7</td>\n",
       "      <td>0</td>\n",
       "      <td>0</td>\n",
       "      <td>0</td>\n",
       "      <td>0</td>\n",
       "      <td>13</td>\n",
       "      <td>124</td>\n",
       "      <td>0</td>\n",
       "      <td>bad</td>\n",
       "    </tr>\n",
       "    <tr>\n",
       "      <th>2</th>\n",
       "      <td>GET</td>\n",
       "      <td>/admin/clients.xls</td>\n",
       "      <td>NaN</td>\n",
       "      <td>0</td>\n",
       "      <td>0</td>\n",
       "      <td>0</td>\n",
       "      <td>0</td>\n",
       "      <td>0</td>\n",
       "      <td>0</td>\n",
       "      <td>0</td>\n",
       "      <td>0</td>\n",
       "      <td>0</td>\n",
       "      <td>18</td>\n",
       "      <td>0</td>\n",
       "      <td>1</td>\n",
       "      <td>bad</td>\n",
       "    </tr>\n",
       "    <tr>\n",
       "      <th>3</th>\n",
       "      <td>GET</td>\n",
       "      <td>/my%20documents/JohnSmith/Bank%20Site%20Docume...</td>\n",
       "      <td>NaN</td>\n",
       "      <td>0</td>\n",
       "      <td>0</td>\n",
       "      <td>0</td>\n",
       "      <td>0</td>\n",
       "      <td>3</td>\n",
       "      <td>0</td>\n",
       "      <td>0</td>\n",
       "      <td>0</td>\n",
       "      <td>0</td>\n",
       "      <td>57</td>\n",
       "      <td>0</td>\n",
       "      <td>0</td>\n",
       "      <td>bad</td>\n",
       "    </tr>\n",
       "    <tr>\n",
       "      <th>4</th>\n",
       "      <td>GET</td>\n",
       "      <td>/my%20documents/JohnSmith/Bank%20Site%20Docume...</td>\n",
       "      <td>NaN</td>\n",
       "      <td>0</td>\n",
       "      <td>0</td>\n",
       "      <td>0</td>\n",
       "      <td>0</td>\n",
       "      <td>3</td>\n",
       "      <td>0</td>\n",
       "      <td>0</td>\n",
       "      <td>0</td>\n",
       "      <td>0</td>\n",
       "      <td>82</td>\n",
       "      <td>0</td>\n",
       "      <td>0</td>\n",
       "      <td>bad</td>\n",
       "    </tr>\n",
       "  </tbody>\n",
       "</table>\n",
       "</div>"
      ],
      "text/plain": [
       "  method                                               path  \\\n",
       "0   POST                                           /doLogin   \n",
       "1   POST                                      /sendFeedback   \n",
       "2    GET                                 /admin/clients.xls   \n",
       "3    GET  /my%20documents/JohnSmith/Bank%20Site%20Docume...   \n",
       "4    GET  /my%20documents/JohnSmith/Bank%20Site%20Docume...   \n",
       "\n",
       "                                                body  single_q  double_q  \\\n",
       "0                  uid=ZAP&passw=ZAP&btnSubmit=Login         0         0   \n",
       "1  cfile=comments.txt&name=ZAP&email_addr=ZAP&sub...         0         0   \n",
       "2                                                NaN         0         0   \n",
       "3                                                NaN         0         0   \n",
       "4                                                NaN         0         0   \n",
       "\n",
       "   dashes  braces  spaces  percentages  semicolons  angle_brackets  \\\n",
       "0       0       0       0            0           0               0   \n",
       "1       0       0       7            0           0               0   \n",
       "2       0       0       0            0           0               0   \n",
       "3       0       0       3            0           0               0   \n",
       "4       0       0       3            0           0               0   \n",
       "\n",
       "   special_chars  path_length  body_length  badwords_count class  \n",
       "0              0            8           33               1   bad  \n",
       "1              0           13          124               0   bad  \n",
       "2              0           18            0               1   bad  \n",
       "3              0           57            0               0   bad  \n",
       "4              0           82            0               0   bad  "
      ]
     },
     "execution_count": 5,
     "metadata": {},
     "output_type": "execute_result"
    }
   ],
   "source": [
    "combined.head()"
   ]
  },
  {
   "cell_type": "code",
   "execution_count": 6,
   "id": "f6097274-eb60-4f6d-8b14-21287079be06",
   "metadata": {},
   "outputs": [
    {
     "data": {
      "text/html": [
       "<div>\n",
       "<style scoped>\n",
       "    .dataframe tbody tr th:only-of-type {\n",
       "        vertical-align: middle;\n",
       "    }\n",
       "\n",
       "    .dataframe tbody tr th {\n",
       "        vertical-align: top;\n",
       "    }\n",
       "\n",
       "    .dataframe thead th {\n",
       "        text-align: right;\n",
       "    }\n",
       "</style>\n",
       "<table border=\"1\" class=\"dataframe\">\n",
       "  <thead>\n",
       "    <tr style=\"text-align: right;\">\n",
       "      <th></th>\n",
       "      <th>single_q</th>\n",
       "      <th>double_q</th>\n",
       "      <th>dashes</th>\n",
       "      <th>braces</th>\n",
       "      <th>spaces</th>\n",
       "      <th>percentages</th>\n",
       "      <th>semicolons</th>\n",
       "      <th>angle_brackets</th>\n",
       "      <th>special_chars</th>\n",
       "      <th>path_length</th>\n",
       "      <th>body_length</th>\n",
       "      <th>badwords_count</th>\n",
       "    </tr>\n",
       "  </thead>\n",
       "  <tbody>\n",
       "    <tr>\n",
       "      <th>count</th>\n",
       "      <td>5797.000000</td>\n",
       "      <td>5797.000000</td>\n",
       "      <td>5797.000000</td>\n",
       "      <td>5797.000000</td>\n",
       "      <td>5797.000000</td>\n",
       "      <td>5797.0</td>\n",
       "      <td>5797.000000</td>\n",
       "      <td>5797.00000</td>\n",
       "      <td>5797.0</td>\n",
       "      <td>5797.000000</td>\n",
       "      <td>5797.000000</td>\n",
       "      <td>5797.000000</td>\n",
       "    </tr>\n",
       "    <tr>\n",
       "      <th>mean</th>\n",
       "      <td>0.795066</td>\n",
       "      <td>0.587373</td>\n",
       "      <td>0.183198</td>\n",
       "      <td>0.780231</td>\n",
       "      <td>4.159565</td>\n",
       "      <td>0.0</td>\n",
       "      <td>0.202691</td>\n",
       "      <td>0.27773</td>\n",
       "      <td>0.0</td>\n",
       "      <td>52.059686</td>\n",
       "      <td>51.558565</td>\n",
       "      <td>0.807314</td>\n",
       "    </tr>\n",
       "    <tr>\n",
       "      <th>std</th>\n",
       "      <td>1.787375</td>\n",
       "      <td>1.402760</td>\n",
       "      <td>0.427538</td>\n",
       "      <td>1.844078</td>\n",
       "      <td>6.078129</td>\n",
       "      <td>0.0</td>\n",
       "      <td>0.589890</td>\n",
       "      <td>0.91106</td>\n",
       "      <td>0.0</td>\n",
       "      <td>111.756514</td>\n",
       "      <td>116.982400</td>\n",
       "      <td>1.513214</td>\n",
       "    </tr>\n",
       "    <tr>\n",
       "      <th>min</th>\n",
       "      <td>0.000000</td>\n",
       "      <td>0.000000</td>\n",
       "      <td>0.000000</td>\n",
       "      <td>0.000000</td>\n",
       "      <td>0.000000</td>\n",
       "      <td>0.0</td>\n",
       "      <td>0.000000</td>\n",
       "      <td>0.00000</td>\n",
       "      <td>0.0</td>\n",
       "      <td>1.000000</td>\n",
       "      <td>0.000000</td>\n",
       "      <td>0.000000</td>\n",
       "    </tr>\n",
       "    <tr>\n",
       "      <th>25%</th>\n",
       "      <td>0.000000</td>\n",
       "      <td>0.000000</td>\n",
       "      <td>0.000000</td>\n",
       "      <td>0.000000</td>\n",
       "      <td>0.000000</td>\n",
       "      <td>0.0</td>\n",
       "      <td>0.000000</td>\n",
       "      <td>0.00000</td>\n",
       "      <td>0.0</td>\n",
       "      <td>13.000000</td>\n",
       "      <td>0.000000</td>\n",
       "      <td>0.000000</td>\n",
       "    </tr>\n",
       "    <tr>\n",
       "      <th>50%</th>\n",
       "      <td>0.000000</td>\n",
       "      <td>0.000000</td>\n",
       "      <td>0.000000</td>\n",
       "      <td>0.000000</td>\n",
       "      <td>2.000000</td>\n",
       "      <td>0.0</td>\n",
       "      <td>0.000000</td>\n",
       "      <td>0.00000</td>\n",
       "      <td>0.0</td>\n",
       "      <td>33.000000</td>\n",
       "      <td>0.000000</td>\n",
       "      <td>0.000000</td>\n",
       "    </tr>\n",
       "    <tr>\n",
       "      <th>75%</th>\n",
       "      <td>1.000000</td>\n",
       "      <td>0.000000</td>\n",
       "      <td>0.000000</td>\n",
       "      <td>1.000000</td>\n",
       "      <td>7.000000</td>\n",
       "      <td>0.0</td>\n",
       "      <td>0.000000</td>\n",
       "      <td>0.00000</td>\n",
       "      <td>0.0</td>\n",
       "      <td>69.000000</td>\n",
       "      <td>86.000000</td>\n",
       "      <td>1.000000</td>\n",
       "    </tr>\n",
       "    <tr>\n",
       "      <th>max</th>\n",
       "      <td>12.000000</td>\n",
       "      <td>14.000000</td>\n",
       "      <td>2.000000</td>\n",
       "      <td>10.000000</td>\n",
       "      <td>40.000000</td>\n",
       "      <td>0.0</td>\n",
       "      <td>3.000000</td>\n",
       "      <td>8.00000</td>\n",
       "      <td>0.0</td>\n",
       "      <td>2162.000000</td>\n",
       "      <td>2224.000000</td>\n",
       "      <td>10.000000</td>\n",
       "    </tr>\n",
       "  </tbody>\n",
       "</table>\n",
       "</div>"
      ],
      "text/plain": [
       "          single_q     double_q       dashes       braces       spaces  \\\n",
       "count  5797.000000  5797.000000  5797.000000  5797.000000  5797.000000   \n",
       "mean      0.795066     0.587373     0.183198     0.780231     4.159565   \n",
       "std       1.787375     1.402760     0.427538     1.844078     6.078129   \n",
       "min       0.000000     0.000000     0.000000     0.000000     0.000000   \n",
       "25%       0.000000     0.000000     0.000000     0.000000     0.000000   \n",
       "50%       0.000000     0.000000     0.000000     0.000000     2.000000   \n",
       "75%       1.000000     0.000000     0.000000     1.000000     7.000000   \n",
       "max      12.000000    14.000000     2.000000    10.000000    40.000000   \n",
       "\n",
       "       percentages   semicolons  angle_brackets  special_chars  path_length  \\\n",
       "count       5797.0  5797.000000      5797.00000         5797.0  5797.000000   \n",
       "mean           0.0     0.202691         0.27773            0.0    52.059686   \n",
       "std            0.0     0.589890         0.91106            0.0   111.756514   \n",
       "min            0.0     0.000000         0.00000            0.0     1.000000   \n",
       "25%            0.0     0.000000         0.00000            0.0    13.000000   \n",
       "50%            0.0     0.000000         0.00000            0.0    33.000000   \n",
       "75%            0.0     0.000000         0.00000            0.0    69.000000   \n",
       "max            0.0     3.000000         8.00000            0.0  2162.000000   \n",
       "\n",
       "       body_length  badwords_count  \n",
       "count  5797.000000     5797.000000  \n",
       "mean     51.558565        0.807314  \n",
       "std     116.982400        1.513214  \n",
       "min       0.000000        0.000000  \n",
       "25%       0.000000        0.000000  \n",
       "50%       0.000000        0.000000  \n",
       "75%      86.000000        1.000000  \n",
       "max    2224.000000       10.000000  "
      ]
     },
     "execution_count": 6,
     "metadata": {},
     "output_type": "execute_result"
    }
   ],
   "source": [
    "combined.describe()"
   ]
  },
  {
   "cell_type": "code",
   "execution_count": 7,
   "id": "a8c0f833-a36a-437a-a253-c793e9c08475",
   "metadata": {},
   "outputs": [
    {
     "data": {
      "text/plain": [
       "(5797, 16)"
      ]
     },
     "execution_count": 7,
     "metadata": {},
     "output_type": "execute_result"
    }
   ],
   "source": [
    "combined.shape"
   ]
  },
  {
   "cell_type": "code",
   "execution_count": 8,
   "id": "66738f61-7b9d-4a81-aaf4-2676e8131e54",
   "metadata": {},
   "outputs": [
    {
     "data": {
      "text/plain": [
       "method               0\n",
       "path                 0\n",
       "body              3396\n",
       "single_q             0\n",
       "double_q             0\n",
       "dashes               0\n",
       "braces               0\n",
       "spaces               0\n",
       "percentages          0\n",
       "semicolons           0\n",
       "angle_brackets       0\n",
       "special_chars        0\n",
       "path_length          0\n",
       "body_length          0\n",
       "badwords_count       0\n",
       "class                0\n",
       "dtype: int64"
      ]
     },
     "execution_count": 8,
     "metadata": {},
     "output_type": "execute_result"
    }
   ],
   "source": [
    "# Find the count of nulls in each column\n",
    "combined.isnull().sum(axis = 0)"
   ]
  },
  {
   "cell_type": "code",
   "execution_count": 9,
   "id": "57607c76-b099-4a01-a6c6-2e852a4a6082",
   "metadata": {},
   "outputs": [
    {
     "data": {
      "text/plain": [
       "1740"
      ]
     },
     "execution_count": 9,
     "metadata": {},
     "output_type": "execute_result"
    }
   ],
   "source": [
    "validation_raw.size"
   ]
  },
  {
   "cell_type": "markdown",
   "id": "420cc1f1-ba56-432e-b5b8-a0b53e9874a7",
   "metadata": {},
   "source": [
    "## Engineer Data\n",
    "We end up with:\n",
    "- `data`\n",
    "- `target`\n",
    "- `target_names`\n",
    "- `x_train_std`, `x_test_std`, `y_train_std`, and `y_test_std`\n",
    "- `x_train_norm`, `x_test_norm`, `y_train_norm`, and `y_test_norm`\n",
    "- `x_train_down`, `x_test_norm`, `y_train_down`, and `y_test_norm`\n",
    "- `x_train_chi`, `x_test_chi`, `y_train_chi`, and `y_test_chi`\n",
    "- `x_smoteenn`, `y_smoteenn`\n",
    "- `x_oversampled`, `y_oversampled`\n",
    "- `validation`\n",
    "\n",
    "TODO\n",
    "- [x] Try with normalized rather than standard scaler (Didn't seem to have any change)\n",
    "- [x] Downsample\n",
    "- [x] Try Chi-square test to limit features (made it worse?)\n",
    "- [x] Find confidence interval for significant results"
   ]
  },
  {
   "cell_type": "markdown",
   "id": "b0210c65-8c0d-49c1-ba6b-634ba82f5966",
   "metadata": {},
   "source": [
    "### Remove Path and Body Columns"
   ]
  },
  {
   "cell_type": "code",
   "execution_count": 10,
   "id": "dad30f33-dc74-475b-ae6d-d4e5cac4cf62",
   "metadata": {},
   "outputs": [
    {
     "data": {
      "text/html": [
       "<div>\n",
       "<style scoped>\n",
       "    .dataframe tbody tr th:only-of-type {\n",
       "        vertical-align: middle;\n",
       "    }\n",
       "\n",
       "    .dataframe tbody tr th {\n",
       "        vertical-align: top;\n",
       "    }\n",
       "\n",
       "    .dataframe thead th {\n",
       "        text-align: right;\n",
       "    }\n",
       "</style>\n",
       "<table border=\"1\" class=\"dataframe\">\n",
       "  <thead>\n",
       "    <tr style=\"text-align: right;\">\n",
       "      <th></th>\n",
       "      <th>method</th>\n",
       "      <th>single_q</th>\n",
       "      <th>double_q</th>\n",
       "      <th>dashes</th>\n",
       "      <th>braces</th>\n",
       "      <th>spaces</th>\n",
       "      <th>percentages</th>\n",
       "      <th>semicolons</th>\n",
       "      <th>angle_brackets</th>\n",
       "      <th>special_chars</th>\n",
       "      <th>path_length</th>\n",
       "      <th>body_length</th>\n",
       "      <th>badwords_count</th>\n",
       "      <th>class</th>\n",
       "    </tr>\n",
       "  </thead>\n",
       "  <tbody>\n",
       "    <tr>\n",
       "      <th>0</th>\n",
       "      <td>POST</td>\n",
       "      <td>0</td>\n",
       "      <td>0</td>\n",
       "      <td>0</td>\n",
       "      <td>0</td>\n",
       "      <td>0</td>\n",
       "      <td>0</td>\n",
       "      <td>0</td>\n",
       "      <td>0</td>\n",
       "      <td>0</td>\n",
       "      <td>8</td>\n",
       "      <td>33</td>\n",
       "      <td>1</td>\n",
       "      <td>bad</td>\n",
       "    </tr>\n",
       "    <tr>\n",
       "      <th>1</th>\n",
       "      <td>POST</td>\n",
       "      <td>0</td>\n",
       "      <td>0</td>\n",
       "      <td>0</td>\n",
       "      <td>0</td>\n",
       "      <td>7</td>\n",
       "      <td>0</td>\n",
       "      <td>0</td>\n",
       "      <td>0</td>\n",
       "      <td>0</td>\n",
       "      <td>13</td>\n",
       "      <td>124</td>\n",
       "      <td>0</td>\n",
       "      <td>bad</td>\n",
       "    </tr>\n",
       "    <tr>\n",
       "      <th>2</th>\n",
       "      <td>GET</td>\n",
       "      <td>0</td>\n",
       "      <td>0</td>\n",
       "      <td>0</td>\n",
       "      <td>0</td>\n",
       "      <td>0</td>\n",
       "      <td>0</td>\n",
       "      <td>0</td>\n",
       "      <td>0</td>\n",
       "      <td>0</td>\n",
       "      <td>18</td>\n",
       "      <td>0</td>\n",
       "      <td>1</td>\n",
       "      <td>bad</td>\n",
       "    </tr>\n",
       "    <tr>\n",
       "      <th>3</th>\n",
       "      <td>GET</td>\n",
       "      <td>0</td>\n",
       "      <td>0</td>\n",
       "      <td>0</td>\n",
       "      <td>0</td>\n",
       "      <td>3</td>\n",
       "      <td>0</td>\n",
       "      <td>0</td>\n",
       "      <td>0</td>\n",
       "      <td>0</td>\n",
       "      <td>57</td>\n",
       "      <td>0</td>\n",
       "      <td>0</td>\n",
       "      <td>bad</td>\n",
       "    </tr>\n",
       "    <tr>\n",
       "      <th>4</th>\n",
       "      <td>GET</td>\n",
       "      <td>0</td>\n",
       "      <td>0</td>\n",
       "      <td>0</td>\n",
       "      <td>0</td>\n",
       "      <td>3</td>\n",
       "      <td>0</td>\n",
       "      <td>0</td>\n",
       "      <td>0</td>\n",
       "      <td>0</td>\n",
       "      <td>82</td>\n",
       "      <td>0</td>\n",
       "      <td>0</td>\n",
       "      <td>bad</td>\n",
       "    </tr>\n",
       "  </tbody>\n",
       "</table>\n",
       "</div>"
      ],
      "text/plain": [
       "  method  single_q  double_q  dashes  braces  spaces  percentages  semicolons  \\\n",
       "0   POST         0         0       0       0       0            0           0   \n",
       "1   POST         0         0       0       0       7            0           0   \n",
       "2    GET         0         0       0       0       0            0           0   \n",
       "3    GET         0         0       0       0       3            0           0   \n",
       "4    GET         0         0       0       0       3            0           0   \n",
       "\n",
       "   angle_brackets  special_chars  path_length  body_length  badwords_count  \\\n",
       "0               0              0            8           33               1   \n",
       "1               0              0           13          124               0   \n",
       "2               0              0           18            0               1   \n",
       "3               0              0           57            0               0   \n",
       "4               0              0           82            0               0   \n",
       "\n",
       "  class  \n",
       "0   bad  \n",
       "1   bad  \n",
       "2   bad  \n",
       "3   bad  \n",
       "4   bad  "
      ]
     },
     "execution_count": 10,
     "metadata": {},
     "output_type": "execute_result"
    }
   ],
   "source": [
    "dropped = combined.drop(columns=['path', 'body'])\n",
    "dropped.head()"
   ]
  },
  {
   "cell_type": "markdown",
   "id": "77add633-f4fa-4044-ba31-4e871a2d6eeb",
   "metadata": {},
   "source": [
    "### Split Dataset `data`, `cols`, `target`, and `target_names` variables"
   ]
  },
  {
   "cell_type": "code",
   "execution_count": 11,
   "id": "1f664590-706d-4d1d-9ba8-1adcf866b7ea",
   "metadata": {},
   "outputs": [
    {
     "name": "stdout",
     "output_type": "stream",
     "text": [
      "0       0\n",
      "1       0\n",
      "2       0\n",
      "3       0\n",
      "4       0\n",
      "       ..\n",
      "5792    1\n",
      "5793    1\n",
      "5794    1\n",
      "5795    1\n",
      "5796    1\n",
      "Name: class, Length: 5797, dtype: int64\n",
      "['bad' 'good']\n",
      "(5797, 13) (13,)\n",
      "(5510,)\n",
      "(287,)\n"
     ]
    }
   ],
   "source": [
    "data = dropped.drop(columns='class')\n",
    "cols = data.columns\n",
    "target = dropped['class'].map({'bad': 0, 'good': 1})\n",
    "target_names = dropped['class'].unique()\n",
    "\n",
    "print(target)\n",
    "print(target_names)\n",
    "print(data.shape, cols.shape)\n",
    "print(target[target == 0].shape)\n",
    "print(target[target == 1].shape)"
   ]
  },
  {
   "cell_type": "markdown",
   "id": "aa5ec344-f731-462c-827d-c1885ceff72e",
   "metadata": {},
   "source": [
    "### One-Hot Encode 'method' Column"
   ]
  },
  {
   "cell_type": "code",
   "execution_count": 12,
   "id": "9efbf51a-887f-40d3-95bd-83acd49ca8b0",
   "metadata": {},
   "outputs": [
    {
     "name": "stdout",
     "output_type": "stream",
     "text": [
      "['POST' 'GET']\n"
     ]
    }
   ],
   "source": [
    "print(data['method'].unique())"
   ]
  },
  {
   "cell_type": "code",
   "execution_count": 13,
   "id": "7d06b6b8-d587-4e3c-9ae4-55518d477de9",
   "metadata": {},
   "outputs": [
    {
     "data": {
      "text/html": [
       "<div>\n",
       "<style scoped>\n",
       "    .dataframe tbody tr th:only-of-type {\n",
       "        vertical-align: middle;\n",
       "    }\n",
       "\n",
       "    .dataframe tbody tr th {\n",
       "        vertical-align: top;\n",
       "    }\n",
       "\n",
       "    .dataframe thead th {\n",
       "        text-align: right;\n",
       "    }\n",
       "</style>\n",
       "<table border=\"1\" class=\"dataframe\">\n",
       "  <thead>\n",
       "    <tr style=\"text-align: right;\">\n",
       "      <th></th>\n",
       "      <th>method</th>\n",
       "      <th>single_q</th>\n",
       "      <th>double_q</th>\n",
       "      <th>dashes</th>\n",
       "      <th>braces</th>\n",
       "      <th>spaces</th>\n",
       "      <th>percentages</th>\n",
       "      <th>semicolons</th>\n",
       "      <th>angle_brackets</th>\n",
       "      <th>special_chars</th>\n",
       "      <th>path_length</th>\n",
       "      <th>body_length</th>\n",
       "      <th>badwords_count</th>\n",
       "    </tr>\n",
       "  </thead>\n",
       "  <tbody>\n",
       "    <tr>\n",
       "      <th>0</th>\n",
       "      <td>1</td>\n",
       "      <td>0</td>\n",
       "      <td>0</td>\n",
       "      <td>0</td>\n",
       "      <td>0</td>\n",
       "      <td>0</td>\n",
       "      <td>0</td>\n",
       "      <td>0</td>\n",
       "      <td>0</td>\n",
       "      <td>0</td>\n",
       "      <td>8</td>\n",
       "      <td>33</td>\n",
       "      <td>1</td>\n",
       "    </tr>\n",
       "    <tr>\n",
       "      <th>1</th>\n",
       "      <td>1</td>\n",
       "      <td>0</td>\n",
       "      <td>0</td>\n",
       "      <td>0</td>\n",
       "      <td>0</td>\n",
       "      <td>7</td>\n",
       "      <td>0</td>\n",
       "      <td>0</td>\n",
       "      <td>0</td>\n",
       "      <td>0</td>\n",
       "      <td>13</td>\n",
       "      <td>124</td>\n",
       "      <td>0</td>\n",
       "    </tr>\n",
       "    <tr>\n",
       "      <th>2</th>\n",
       "      <td>0</td>\n",
       "      <td>0</td>\n",
       "      <td>0</td>\n",
       "      <td>0</td>\n",
       "      <td>0</td>\n",
       "      <td>0</td>\n",
       "      <td>0</td>\n",
       "      <td>0</td>\n",
       "      <td>0</td>\n",
       "      <td>0</td>\n",
       "      <td>18</td>\n",
       "      <td>0</td>\n",
       "      <td>1</td>\n",
       "    </tr>\n",
       "    <tr>\n",
       "      <th>3</th>\n",
       "      <td>0</td>\n",
       "      <td>0</td>\n",
       "      <td>0</td>\n",
       "      <td>0</td>\n",
       "      <td>0</td>\n",
       "      <td>3</td>\n",
       "      <td>0</td>\n",
       "      <td>0</td>\n",
       "      <td>0</td>\n",
       "      <td>0</td>\n",
       "      <td>57</td>\n",
       "      <td>0</td>\n",
       "      <td>0</td>\n",
       "    </tr>\n",
       "    <tr>\n",
       "      <th>4</th>\n",
       "      <td>0</td>\n",
       "      <td>0</td>\n",
       "      <td>0</td>\n",
       "      <td>0</td>\n",
       "      <td>0</td>\n",
       "      <td>3</td>\n",
       "      <td>0</td>\n",
       "      <td>0</td>\n",
       "      <td>0</td>\n",
       "      <td>0</td>\n",
       "      <td>82</td>\n",
       "      <td>0</td>\n",
       "      <td>0</td>\n",
       "    </tr>\n",
       "  </tbody>\n",
       "</table>\n",
       "</div>"
      ],
      "text/plain": [
       "   method  single_q  double_q  dashes  braces  spaces  percentages  \\\n",
       "0       1         0         0       0       0       0            0   \n",
       "1       1         0         0       0       0       7            0   \n",
       "2       0         0         0       0       0       0            0   \n",
       "3       0         0         0       0       0       3            0   \n",
       "4       0         0         0       0       0       3            0   \n",
       "\n",
       "   semicolons  angle_brackets  special_chars  path_length  body_length  \\\n",
       "0           0               0              0            8           33   \n",
       "1           0               0              0           13          124   \n",
       "2           0               0              0           18            0   \n",
       "3           0               0              0           57            0   \n",
       "4           0               0              0           82            0   \n",
       "\n",
       "   badwords_count  \n",
       "0               1  \n",
       "1               0  \n",
       "2               1  \n",
       "3               0  \n",
       "4               0  "
      ]
     },
     "execution_count": 13,
     "metadata": {},
     "output_type": "execute_result"
    }
   ],
   "source": [
    "data['method'] = data['method'].map({'GET': 0, 'POST': 1})\n",
    "data.head()"
   ]
  },
  {
   "cell_type": "markdown",
   "id": "f58a9477-daf4-4728-9a50-8f51acaaf6b2",
   "metadata": {},
   "source": [
    "## Save Data to CSV"
   ]
  },
  {
   "cell_type": "code",
   "execution_count": 70,
   "id": "fbab77cb-1bd6-48ea-8409-92d3556a5b4c",
   "metadata": {},
   "outputs": [],
   "source": [
    "data.to_csv(base_path + 'engineered.csv', index=False, header=True)\n",
    "target.to_csv(base_path + 'engineered-target.csv', index=False, header=True)\n",
    "pd.DataFrame(target_names).to_csv(base_path + 'target-names.csv', index=False, header=True)"
   ]
  },
  {
   "cell_type": "markdown",
   "id": "95327ee9-1864-4d8f-8f39-ae39ad0b70ed",
   "metadata": {},
   "source": [
    "### Normalize Count Columns (Both MinMax and Standard Scalers)"
   ]
  },
  {
   "cell_type": "code",
   "execution_count": 14,
   "id": "9202498c-4966-4bcd-99a3-26a729aed0e2",
   "metadata": {},
   "outputs": [
    {
     "name": "stdout",
     "output_type": "stream",
     "text": [
      "[1.         0.         0.         0.         0.         0.\n",
      " 0.         0.         0.         0.         0.00323924 0.01483813\n",
      " 0.1       ]\n",
      "[ 1.19098267 -0.44486184 -0.41876262 -0.4285327  -0.42313745 -0.68440867\n",
      "  0.         -0.34363762 -0.30486888  0.         -0.39428115 -0.15865776\n",
      "  0.12734653]\n"
     ]
    }
   ],
   "source": [
    "minmax_scaler = MinMaxScaler()\n",
    "minmax_scaler.fit(data)\n",
    "minmax = minmax_scaler.transform(data)\n",
    "print(minmax[0])\n",
    "\n",
    "scaler = StandardScaler()\n",
    "scaler.fit(data)\n",
    "standard = scaler.transform(data)\n",
    "print(standard[0])"
   ]
  },
  {
   "cell_type": "markdown",
   "id": "a2454f20-f21b-4dca-b83b-3d97856a87ae",
   "metadata": {
    "jp-MarkdownHeadingCollapsed": true
   },
   "source": [
    "### Run Chi-square Test"
   ]
  },
  {
   "cell_type": "code",
   "execution_count": 15,
   "id": "fe19bd97-5ac1-4926-9d5b-1d9e12b4641e",
   "metadata": {},
   "outputs": [
    {
     "name": "stdout",
     "output_type": "stream",
     "text": [
      "[118.62008022  20.0057925   12.66833031  27.65825771  23.55900181\n",
      "  31.13694373          nan  20.40078645  10.48253176          nan\n",
      "   1.18731948   6.8270217   24.16680616]\n",
      "[1.26838391e-27 7.72079270e-06 3.71901502e-04 1.44752808e-07\n",
      " 1.21141347e-06 2.40451222e-08            nan 6.28039803e-06\n",
      " 1.20508504e-03            nan 2.75870917e-01 8.97888622e-03\n",
      " 8.83418569e-07]\n"
     ]
    }
   ],
   "source": [
    "chi2_stats, p_values = chi2(minmax, target)\n",
    "print(chi2_stats)\n",
    "print(p_values)"
   ]
  },
  {
   "cell_type": "code",
   "execution_count": 16,
   "id": "2fd6ab2b-8029-42f9-9070-9ee3311e6182",
   "metadata": {},
   "outputs": [],
   "source": [
    "p_sorted = pd.Series(p_values, index = cols)\n",
    "p_sorted.sort_values(ascending = False, inplace = True)"
   ]
  },
  {
   "cell_type": "code",
   "execution_count": 17,
   "id": "4d0d993c-01d5-44c4-901e-a95bfab0bd44",
   "metadata": {},
   "outputs": [
    {
     "data": {
      "text/plain": [
       "<Axes: >"
      ]
     },
     "execution_count": 17,
     "metadata": {},
     "output_type": "execute_result"
    },
    {
     "data": {
      "image/png": "[encoded data removed]",
      "text/plain": [
       "<Figure size 640x480 with 1 Axes>"
      ]
     },
     "metadata": {},
     "output_type": "display_data"
    }
   ],
   "source": [
    "p_sorted.plot.bar()"
   ]
  },
  {
   "cell_type": "markdown",
   "id": "60d7d55f-0eed-410b-8579-06b22ee17251",
   "metadata": {
    "jp-MarkdownHeadingCollapsed": true
   },
   "source": [
    "### Create Another Dataset with `path_length` and `body_length` columns removed"
   ]
  },
  {
   "cell_type": "code",
   "execution_count": 18,
   "id": "8969cb51-f107-41aa-a096-4295fc93edc7",
   "metadata": {},
   "outputs": [
    {
     "name": "stdout",
     "output_type": "stream",
     "text": [
      "10 11\n"
     ]
    },
    {
     "data": {
      "text/plain": [
       "(5797, 11)"
      ]
     },
     "execution_count": 18,
     "metadata": {},
     "output_type": "execute_result"
    }
   ],
   "source": [
    "path_len_idx = cols.get_loc('path_length')\n",
    "body_len_idx = cols.get_loc('body_length')\n",
    "print(path_len_idx, body_len_idx)\n",
    "chi_norm = np.delete(minmax, [path_len_idx, body_len_idx], axis=1) \n",
    "chi_norm.shape"
   ]
  },
  {
   "cell_type": "markdown",
   "id": "ba555c0e-5245-416c-8f7b-a5f872ed625b",
   "metadata": {},
   "source": [
    "### Split Data into Train/Test (80/20)"
   ]
  },
  {
   "cell_type": "code",
   "execution_count": 19,
   "id": "4880fa02-d5f6-43e6-baec-46fdcab51b6d",
   "metadata": {},
   "outputs": [],
   "source": [
    "x_train_std, x_test_std, y_train_std, y_test_std = train_test_split(standard, target, test_size=0.20, stratify=target, random_state=81)"
   ]
  },
  {
   "cell_type": "code",
   "execution_count": 20,
   "id": "eeb18782-508f-4478-9d6f-67dcdcec2718",
   "metadata": {},
   "outputs": [],
   "source": [
    "x_train_norm, x_test_norm, y_train_norm, y_test_norm = train_test_split(minmax, target, test_size=0.20, stratify=target, random_state=81)"
   ]
  },
  {
   "cell_type": "code",
   "execution_count": 21,
   "id": "0225914b-de5d-488c-b7c8-1fc69b4c28f7",
   "metadata": {},
   "outputs": [],
   "source": [
    "x_train_chi, x_test_chi, y_train_chi, y_test_chi = train_test_split(chi_norm, target, test_size=0.20, stratify=target, random_state=81)"
   ]
  },
  {
   "cell_type": "code",
   "execution_count": 22,
   "id": "d81781e2-28ea-4eff-b3f4-d92b4c446466",
   "metadata": {},
   "outputs": [
    {
     "name": "stdout",
     "output_type": "stream",
     "text": [
      "(4637, 13)\n"
     ]
    },
    {
     "data": {
      "text/plain": [
       "array([[-0.83964278, -0.44486184, -0.41876262, ..., -0.07212449,\n",
       "        -0.44077581, -0.53355572],\n",
       "       [-0.83964278, -0.44486184, -0.41876262, ..., -0.08107328,\n",
       "        -0.44077581, -0.53355572],\n",
       "       [ 1.19098267, -0.44486184,  0.2941792 , ..., -0.34953717,\n",
       "         0.850128  ,  0.12734653],\n",
       "       ...,\n",
       "       [ 1.19098267, -0.44486184,  1.00712102, ..., -0.35848596,\n",
       "        -0.00477519, -0.53355572],\n",
       "       [-0.83964278,  1.79324975,  1.00712102, ...,  1.36863169,\n",
       "        -0.44077581,  2.11005327],\n",
       "       [-0.83964278,  1.79324975,  2.43300465, ...,  1.01067984,\n",
       "        -0.44077581,  0.12734653]])"
      ]
     },
     "execution_count": 22,
     "metadata": {},
     "output_type": "execute_result"
    }
   ],
   "source": [
    "print(x_train_std.shape)\n",
    "x_train_std"
   ]
  },
  {
   "cell_type": "code",
   "execution_count": 23,
   "id": "e33ed654-d2ed-47e0-992e-56d543e2ecce",
   "metadata": {
    "scrolled": true
   },
   "outputs": [
    {
     "name": "stdout",
     "output_type": "stream",
     "text": [
      "(array([0, 1]), array([4407,  230]))\n",
      "(array([0, 1]), array([1103,   57]))\n"
     ]
    }
   ],
   "source": [
    "print(np.unique(y_train_std, return_counts=True))\n",
    "print(np.unique(y_test_std, return_counts=True))"
   ]
  },
  {
   "cell_type": "markdown",
   "id": "56015e8d-14a1-416f-84f3-2123d6b5eb44",
   "metadata": {},
   "source": [
    "### Resample by Downsampling 'Bad' Class (Using MinMax Normalized Data)"
   ]
  },
  {
   "cell_type": "code",
   "execution_count": 24,
   "id": "b48e210f-89ea-4032-9a3b-8605dcf59525",
   "metadata": {},
   "outputs": [
    {
     "name": "stdout",
     "output_type": "stream",
     "text": [
      "Original Shape: (4637, 13)\n",
      "x_0 shape: (4407, 13) y_0 shape: (4407,)\n",
      "x_1 shape: (230, 13) y_1 shape: (230,)\n",
      "(730, 13)\n"
     ]
    }
   ],
   "source": [
    "print(\"Original Shape:\", x_train_norm.shape)\n",
    "\n",
    "# Create masks to grab elements from the two classes\n",
    "y_mask_0 = y_train_norm == 0\n",
    "y_mask_1 = y_train_norm == 1\n",
    "# Class 0\n",
    "x_0 = x_train_norm[y_mask_0]\n",
    "y_0 = y_train_norm[y_mask_0]\n",
    "# Class 1\n",
    "x_1 = x_train_norm[y_mask_1]\n",
    "y_1 = y_train_norm[y_mask_1]\n",
    "\n",
    "print(\"x_0 shape:\", x_0.shape, \"y_0 shape:\", y_0.shape)\n",
    "print(\"x_1 shape:\", x_1.shape, \"y_1 shape:\", y_1.shape)\n",
    "\n",
    "# Selecting random samples from class \"0\" (a bit more than class \"1\")\n",
    "x_0_down, y_0_down = resample(x_0, y_0, replace=False, n_samples=500, random_state=39)\n",
    "\n",
    "# Concate \"0\" class back with \"1\"\n",
    "x_train_down = np.concatenate([x_0_down, x_1])\n",
    "y_train_down = np.concatenate([y_0_down, y_1])\n",
    "# Shuffle\n",
    "x_train_down, y_train_down = shuffle(x_train_down, y_train_down, random_state=72)\n",
    "print(x_train_down.shape)"
   ]
  },
  {
   "cell_type": "markdown",
   "id": "8ed0d977-bc54-4399-b00a-9e07ae7ab4c2",
   "metadata": {},
   "source": [
    "### Resample Data with SMOTEENN"
   ]
  },
  {
   "cell_type": "code",
   "execution_count": 25,
   "id": "78d02c0b-f6f7-4e39-ac5b-798b6004a616",
   "metadata": {},
   "outputs": [],
   "source": [
    "smoteenn = SMOTEENN(random_state=38)\n",
    "x_smoteenn, y_smoteenn= smoteenn.fit_resample(x_train_std, y_train_std)"
   ]
  },
  {
   "cell_type": "markdown",
   "id": "dff3cb10-b688-4162-a468-ff14170bd5bb",
   "metadata": {},
   "source": [
    "### Resample Data by Resampling Duplicating"
   ]
  },
  {
   "cell_type": "code",
   "execution_count": 26,
   "id": "9063cdf5-ffa4-48e9-bfcf-0cdb30bb5b72",
   "metadata": {},
   "outputs": [],
   "source": [
    "oversample = RandomOverSampler(sampling_strategy='minority', random_state=13, shrinkage=0.3)\n",
    "x_oversampled, y_oversampled = oversample.fit_resample(x_train_std, y_train_std)"
   ]
  },
  {
   "cell_type": "markdown",
   "id": "721745cd-bc15-4a63-b0e1-6b8c82faacae",
   "metadata": {},
   "source": [
    "### Resample Chi Data by Resampling Duplicating"
   ]
  },
  {
   "cell_type": "code",
   "execution_count": 27,
   "id": "4a23d571-25a2-4183-a965-6762888a897e",
   "metadata": {},
   "outputs": [],
   "source": [
    "x_over_chi, y_over_chi = oversample.fit_resample(x_train_chi, y_train_chi)"
   ]
  },
  {
   "cell_type": "markdown",
   "id": "91e3950b-97b3-47a3-bf2a-1178c3fc35ad",
   "metadata": {},
   "source": [
    "### Resample Testing Data with SMOTEENN"
   ]
  },
  {
   "cell_type": "code",
   "execution_count": 28,
   "id": "1d7b0d57-db9d-4aee-ae31-08b0568c01e5",
   "metadata": {},
   "outputs": [],
   "source": [
    "x_test_org, y_test_org = x_test_std, y_test_std\n",
    "x_test_std, y_test_std = smoteenn.fit_resample(x_test_std, y_test_std)\n",
    "x_test_norm, y_test_norm = smoteenn.fit_resample(x_test_norm, y_test_norm)\n",
    "# x_test_chi, y_test_chi = smoteenn.fit_resample(x_test_chi, y_test_chi)"
   ]
  },
  {
   "cell_type": "markdown",
   "id": "64f2d94a-c97b-4a4e-8cc4-918ef74a8ad9",
   "metadata": {},
   "source": [
    "### Perform Same Operations on Validation Dataset (Unused)"
   ]
  },
  {
   "cell_type": "code",
   "execution_count": 72,
   "id": "4e78e9d7-2372-47b6-a7da-2c5e6513d901",
   "metadata": {},
   "outputs": [
    {
     "name": "stdout",
     "output_type": "stream",
     "text": [
      "(116, 13)\n"
     ]
    },
    {
     "data": {
      "text/plain": [
       "array([[ 2.94392029,  0.        ,  0.        , ..., -1.50750536,\n",
       "         0.67923546,  1.70722012],\n",
       "       [ 2.94392029,  0.        ,  0.        , ..., -1.28875302,\n",
       "         3.37878724, -0.44536177],\n",
       "       [-0.33968311,  0.        ,  0.        , ..., -1.07000068,\n",
       "        -0.29972288,  1.70722012],\n",
       "       ...,\n",
       "       [-0.33968311,  0.        ,  0.        , ..., -0.15124084,\n",
       "        -0.29972288, -0.44536177],\n",
       "       [-0.33968311,  0.        ,  0.        , ..., -0.67624646,\n",
       "        -0.29972288, -0.44536177],\n",
       "       [-0.33968311,  0.        ,  0.        , ..., -0.15124084,\n",
       "        -0.29972288, -0.44536177]])"
      ]
     },
     "execution_count": 72,
     "metadata": {},
     "output_type": "execute_result"
    }
   ],
   "source": [
    "# Drop 'path' and 'body' columns\n",
    "validation = validation_raw.drop(columns=['path', 'body'])\n",
    "# Bindary Encode 'method' column\n",
    "validation['method'] = validation['method'].map({'GET': 0, 'POST': 1})\n",
    "validation.to_csv(base_path + 'validation.csv', index=False, header=True)\n",
    "# Normalize Columns\n",
    "val_scaler = StandardScaler()\n",
    "val_scaler.fit(validation)\n",
    "validation = val_scaler.transform(validation)\n",
    "print(validation.shape)\n",
    "validation"
   ]
  },
  {
   "cell_type": "markdown",
   "id": "9d86f805-80ea-4ba2-9129-23f7251791e6",
   "metadata": {},
   "source": [
    "## K Nearest Neighbors (6 Methods)"
   ]
  },
  {
   "cell_type": "code",
   "execution_count": 30,
   "id": "4b374cd4-7717-45cd-9fb8-9443fbdd0f1e",
   "metadata": {},
   "outputs": [],
   "source": [
    "def knn(x, y, x_test, y_test, names, neighbors):\n",
    "    # Train Model\n",
    "    knn = KNeighborsClassifier(n_neighbors = neighbors)\n",
    "    knn.fit(x, y)\n",
    "    # Make Predictions\n",
    "    knn_pred = knn.predict(x_test)\n",
    "    # Get Reports\n",
    "    print(confusion_matrix(y_test, knn_pred), '\\n')\n",
    "    print(classification_report(y_test, knn_pred, target_names=names))\n",
    "    print_acc_conf(knn, x_test, y_test)"
   ]
  },
  {
   "cell_type": "markdown",
   "id": "ddad876b-65c4-4ef1-b73d-858a9b1b8bc0",
   "metadata": {
    "jp-MarkdownHeadingCollapsed": true
   },
   "source": [
    "### Train with Raw Standard Scaler Data"
   ]
  },
  {
   "cell_type": "code",
   "execution_count": 31,
   "id": "d1a0cc51-bb46-4aab-a60a-21de18a11744",
   "metadata": {},
   "outputs": [
    {
     "name": "stdout",
     "output_type": "stream",
     "text": [
      "[[1064    0]\n",
      " [ 197  575]] \n",
      "\n",
      "              precision    recall  f1-score   support\n",
      "\n",
      "         bad       0.84      1.00      0.92      1064\n",
      "        good       1.00      0.74      0.85       772\n",
      "\n",
      "    accuracy                           0.89      1836\n",
      "   macro avg       0.92      0.87      0.88      1836\n",
      "weighted avg       0.91      0.89      0.89      1836\n",
      "\n",
      "Accuracy: 0.8927015250544662\n",
      "Confidence: 0.012 Lower: 0.095 Upper: 0.119\n"
     ]
    }
   ],
   "source": [
    "knn(x_train_std, y_train_std, x_test_std, y_test_std, target_names, 10)"
   ]
  },
  {
   "cell_type": "markdown",
   "id": "cae91dfb-1e7e-4a84-beab-06c7ecd0146e",
   "metadata": {},
   "source": [
    "### Train with Raw MinMax Scaler Data"
   ]
  },
  {
   "cell_type": "code",
   "execution_count": 32,
   "id": "b71d417c-89a4-4ecd-ae17-98bd0d86ec00",
   "metadata": {},
   "outputs": [
    {
     "name": "stdout",
     "output_type": "stream",
     "text": [
      "[[1061    0]\n",
      " [ 202  572]] \n",
      "\n",
      "              precision    recall  f1-score   support\n",
      "\n",
      "         bad       0.84      1.00      0.91      1061\n",
      "        good       1.00      0.74      0.85       774\n",
      "\n",
      "    accuracy                           0.89      1835\n",
      "   macro avg       0.92      0.87      0.88      1835\n",
      "weighted avg       0.91      0.89      0.89      1835\n",
      "\n",
      "Accuracy: 0.8899182561307902\n",
      "Confidence: 0.012 Lower: 0.098 Upper: 0.122\n"
     ]
    }
   ],
   "source": [
    "knn(x_train_norm, y_train_norm, x_test_norm, y_test_norm, target_names, 10)"
   ]
  },
  {
   "cell_type": "markdown",
   "id": "7924df7b-e772-45b8-96bb-48a21a7ab3ce",
   "metadata": {},
   "source": [
    "### Train with SMOTEENN Data"
   ]
  },
  {
   "cell_type": "code",
   "execution_count": 33,
   "id": "86eb8546-1f52-4f6e-b271-436003730731",
   "metadata": {},
   "outputs": [
    {
     "name": "stdout",
     "output_type": "stream",
     "text": [
      "[[1036   28]\n",
      " [  88  684]] \n",
      "\n",
      "              precision    recall  f1-score   support\n",
      "\n",
      "         bad       0.92      0.97      0.95      1064\n",
      "        good       0.96      0.89      0.92       772\n",
      "\n",
      "    accuracy                           0.94      1836\n",
      "   macro avg       0.94      0.93      0.93      1836\n",
      "weighted avg       0.94      0.94      0.94      1836\n",
      "\n",
      "Accuracy: 0.9368191721132898\n",
      "Confidence: 0.009 Lower: 0.054 Upper: 0.072\n"
     ]
    }
   ],
   "source": [
    "knn(x_smoteenn, y_smoteenn, x_test_std, y_test_std, target_names, 10)"
   ]
  },
  {
   "cell_type": "markdown",
   "id": "995d5c22-7e07-43c2-ad85-d1af1e512dc5",
   "metadata": {},
   "source": [
    "### Train with Oversampled Data"
   ]
  },
  {
   "cell_type": "code",
   "execution_count": 34,
   "id": "6a2a1397-b5dd-4db0-ad33-c063e6455e65",
   "metadata": {},
   "outputs": [
    {
     "name": "stdout",
     "output_type": "stream",
     "text": [
      "[[1064    0]\n",
      " [ 194  578]] \n",
      "\n",
      "              precision    recall  f1-score   support\n",
      "\n",
      "         bad       0.85      1.00      0.92      1064\n",
      "        good       1.00      0.75      0.86       772\n",
      "\n",
      "    accuracy                           0.89      1836\n",
      "   macro avg       0.92      0.87      0.89      1836\n",
      "weighted avg       0.91      0.89      0.89      1836\n",
      "\n",
      "Accuracy: 0.8943355119825708\n",
      "Confidence: 0.012 Lower: 0.094 Upper: 0.117\n"
     ]
    }
   ],
   "source": [
    "knn(x_oversampled, y_oversampled, x_test_std, y_test_std, target_names, 10)"
   ]
  },
  {
   "cell_type": "markdown",
   "id": "560d1d8f-0b69-46c4-8091-0a709667c4d2",
   "metadata": {},
   "source": [
    "### Train with Oversampled Data - Test with un-balanced data"
   ]
  },
  {
   "cell_type": "code",
   "execution_count": 35,
   "id": "f1357025-483c-4e49-9b63-7c63f4e88ff5",
   "metadata": {},
   "outputs": [
    {
     "name": "stdout",
     "output_type": "stream",
     "text": [
      "[[1098    5]\n",
      " [  23   34]] \n",
      "\n",
      "              precision    recall  f1-score   support\n",
      "\n",
      "         bad       0.98      1.00      0.99      1103\n",
      "        good       0.87      0.60      0.71        57\n",
      "\n",
      "    accuracy                           0.98      1160\n",
      "   macro avg       0.93      0.80      0.85      1160\n",
      "weighted avg       0.97      0.98      0.97      1160\n",
      "\n",
      "Accuracy: 0.9758620689655172\n",
      "Confidence: 0.007 Lower: 0.017 Upper: 0.032\n"
     ]
    }
   ],
   "source": [
    "knn(x_oversampled, y_oversampled, x_test_org, y_test_org, target_names, 10)"
   ]
  },
  {
   "cell_type": "markdown",
   "id": "ea0b03c8-4702-4ffc-8570-db085a8b37cc",
   "metadata": {},
   "source": [
    "### Train with Downsampled Data"
   ]
  },
  {
   "cell_type": "code",
   "execution_count": 36,
   "id": "86bf14f9-3042-45ff-a9a2-11cdbf0ed9a9",
   "metadata": {},
   "outputs": [
    {
     "name": "stdout",
     "output_type": "stream",
     "text": [
      "[[1011   50]\n",
      " [  24  750]] \n",
      "\n",
      "              precision    recall  f1-score   support\n",
      "\n",
      "         bad       0.98      0.95      0.96      1061\n",
      "        good       0.94      0.97      0.95       774\n",
      "\n",
      "    accuracy                           0.96      1835\n",
      "   macro avg       0.96      0.96      0.96      1835\n",
      "weighted avg       0.96      0.96      0.96      1835\n",
      "\n",
      "Accuracy: 0.9596730245231607\n",
      "Confidence: 0.008 Lower: 0.033 Upper: 0.048\n"
     ]
    }
   ],
   "source": [
    "knn(x_train_down, y_train_down, x_test_norm, y_test_norm, target_names, 10)"
   ]
  },
  {
   "cell_type": "markdown",
   "id": "ed221f98-b7bb-4947-9272-12874ba2ec95",
   "metadata": {
    "jp-MarkdownHeadingCollapsed": true
   },
   "source": [
    "### Train with Oversampled Chi Data"
   ]
  },
  {
   "cell_type": "code",
   "execution_count": 37,
   "id": "20326d48-fd28-4e12-828d-86d98c33635b",
   "metadata": {
    "scrolled": true
   },
   "outputs": [
    {
     "name": "stdout",
     "output_type": "stream",
     "text": [
      "[[1103    0]\n",
      " [  57    0]] \n",
      "\n",
      "              precision    recall  f1-score   support\n",
      "\n",
      "         bad       0.95      1.00      0.97      1103\n",
      "        good       0.00      0.00      0.00        57\n",
      "\n",
      "    accuracy                           0.95      1160\n",
      "   macro avg       0.48      0.50      0.49      1160\n",
      "weighted avg       0.90      0.95      0.93      1160\n",
      "\n",
      "Accuracy: 0.9508620689655173\n",
      "Confidence: 0.010 Lower: 0.039 Upper: 0.060\n"
     ]
    },
    {
     "name": "stderr",
     "output_type": "stream",
     "text": [
      "/opt/homebrew/Caskroom/miniconda/base/envs/python-labs/lib/python3.12/site-packages/sklearn/metrics/_classification.py:1531: UndefinedMetricWarning: Precision is ill-defined and being set to 0.0 in labels with no predicted samples. Use `zero_division` parameter to control this behavior.\n",
      "  _warn_prf(average, modifier, f\"{metric.capitalize()} is\", len(result))\n",
      "/opt/homebrew/Caskroom/miniconda/base/envs/python-labs/lib/python3.12/site-packages/sklearn/metrics/_classification.py:1531: UndefinedMetricWarning: Precision is ill-defined and being set to 0.0 in labels with no predicted samples. Use `zero_division` parameter to control this behavior.\n",
      "  _warn_prf(average, modifier, f\"{metric.capitalize()} is\", len(result))\n",
      "/opt/homebrew/Caskroom/miniconda/base/envs/python-labs/lib/python3.12/site-packages/sklearn/metrics/_classification.py:1531: UndefinedMetricWarning: Precision is ill-defined and being set to 0.0 in labels with no predicted samples. Use `zero_division` parameter to control this behavior.\n",
      "  _warn_prf(average, modifier, f\"{metric.capitalize()} is\", len(result))\n"
     ]
    }
   ],
   "source": [
    "knn(x_over_chi, y_over_chi, x_test_chi, y_test_chi, target_names, 10)"
   ]
  },
  {
   "cell_type": "markdown",
   "id": "0ef57d3d-1974-474b-a854-ea968a728089",
   "metadata": {},
   "source": [
    "## Decision Trees (6 Methods)"
   ]
  },
  {
   "cell_type": "code",
   "execution_count": 38,
   "id": "e5cb1ff7-6f65-46e4-a6d7-e473064484b8",
   "metadata": {},
   "outputs": [],
   "source": [
    "def treeModel(x, y, x_test, y_test, names):\n",
    "    # Train Model\n",
    "    tree_model = tree.DecisionTreeClassifier()\n",
    "    tree_model = tree_model.fit(x, y)\n",
    "    # Make Predictions\n",
    "    trees_pred = tree_model.predict(x_test)\n",
    "    # Get Reports on Test\n",
    "    print(confusion_matrix(y_test, trees_pred))\n",
    "    print(classification_report(y_test, trees_pred, target_names=names))\n",
    "    print_acc_conf(tree_model, x_test, y_test)"
   ]
  },
  {
   "cell_type": "markdown",
   "id": "fad85e4d-75fd-4769-9b5f-3615f5c8c334",
   "metadata": {
    "jp-MarkdownHeadingCollapsed": true
   },
   "source": [
    "### Train with Raw Standard Scaler Data"
   ]
  },
  {
   "cell_type": "code",
   "execution_count": 39,
   "id": "76a0c59c-0e6f-413d-867d-68843dbde96d",
   "metadata": {
    "scrolled": true
   },
   "outputs": [
    {
     "name": "stdout",
     "output_type": "stream",
     "text": [
      "[[1060    4]\n",
      " [ 179  593]]\n",
      "              precision    recall  f1-score   support\n",
      "\n",
      "         bad       0.86      1.00      0.92      1064\n",
      "        good       0.99      0.77      0.87       772\n",
      "\n",
      "    accuracy                           0.90      1836\n",
      "   macro avg       0.92      0.88      0.89      1836\n",
      "weighted avg       0.91      0.90      0.90      1836\n",
      "\n",
      "Accuracy: 0.9003267973856209\n",
      "Confidence: 0.011 Lower: 0.088 Upper: 0.111\n"
     ]
    }
   ],
   "source": [
    "treeModel(x_train_std, y_train_std, x_test_std, y_test_std, target_names)"
   ]
  },
  {
   "cell_type": "markdown",
   "id": "bcb27729-03ad-463a-84e8-3b2859a5b545",
   "metadata": {
    "jp-MarkdownHeadingCollapsed": true
   },
   "source": [
    "### Train with Raw MinMax Scaler Data"
   ]
  },
  {
   "cell_type": "code",
   "execution_count": 40,
   "id": "1278b6ab-b74f-4130-b2c2-58306659d26b",
   "metadata": {},
   "outputs": [
    {
     "name": "stdout",
     "output_type": "stream",
     "text": [
      "[[1057    4]\n",
      " [ 183  591]]\n",
      "              precision    recall  f1-score   support\n",
      "\n",
      "         bad       0.85      1.00      0.92      1061\n",
      "        good       0.99      0.76      0.86       774\n",
      "\n",
      "    accuracy                           0.90      1835\n",
      "   macro avg       0.92      0.88      0.89      1835\n",
      "weighted avg       0.91      0.90      0.90      1835\n",
      "\n",
      "Accuracy: 0.8980926430517712\n",
      "Confidence: 0.012 Lower: 0.090 Upper: 0.113\n"
     ]
    }
   ],
   "source": [
    "treeModel(x_train_norm, y_train_norm, x_test_norm, y_test_norm, target_names)"
   ]
  },
  {
   "cell_type": "markdown",
   "id": "3bbdb486-a69f-4c30-a5f7-86735ad90624",
   "metadata": {},
   "source": [
    "### Train with SMOTEENN Data"
   ]
  },
  {
   "cell_type": "code",
   "execution_count": 41,
   "id": "c2f77b2b-b741-4dae-bb8f-4b7551a526ce",
   "metadata": {},
   "outputs": [
    {
     "name": "stdout",
     "output_type": "stream",
     "text": [
      "[[1034   30]\n",
      " [ 372  400]]\n",
      "              precision    recall  f1-score   support\n",
      "\n",
      "         bad       0.74      0.97      0.84      1064\n",
      "        good       0.93      0.52      0.67       772\n",
      "\n",
      "    accuracy                           0.78      1836\n",
      "   macro avg       0.83      0.74      0.75      1836\n",
      "weighted avg       0.82      0.78      0.77      1836\n",
      "\n",
      "Accuracy: 0.7810457516339869\n",
      "Confidence: 0.016 Lower: 0.203 Upper: 0.235\n"
     ]
    }
   ],
   "source": [
    "treeModel(x_smoteenn, y_smoteenn, x_test_std, y_test_std, target_names)"
   ]
  },
  {
   "cell_type": "markdown",
   "id": "36df2bd2-340d-4a28-9f26-af27c5701cd5",
   "metadata": {},
   "source": [
    "### Train with Oversampled Data"
   ]
  },
  {
   "cell_type": "code",
   "execution_count": 42,
   "id": "1f75d1f6-e145-4ac5-a66c-af46d526187d",
   "metadata": {
    "scrolled": true
   },
   "outputs": [
    {
     "name": "stdout",
     "output_type": "stream",
     "text": [
      "[[1060    4]\n",
      " [ 179  593]]\n",
      "              precision    recall  f1-score   support\n",
      "\n",
      "         bad       0.86      1.00      0.92      1064\n",
      "        good       0.99      0.77      0.87       772\n",
      "\n",
      "    accuracy                           0.90      1836\n",
      "   macro avg       0.92      0.88      0.89      1836\n",
      "weighted avg       0.91      0.90      0.90      1836\n",
      "\n",
      "Accuracy: 0.9003267973856209\n",
      "Confidence: 0.011 Lower: 0.088 Upper: 0.111\n"
     ]
    }
   ],
   "source": [
    "treeModel(x_oversampled, y_oversampled, x_test_std, y_test_std, target_names)"
   ]
  },
  {
   "cell_type": "code",
   "execution_count": 66,
   "id": "687e772f-57a2-4338-b155-bc44adca1a19",
   "metadata": {},
   "outputs": [
    {
     "name": "stdout",
     "output_type": "stream",
     "text": [
      "[[1094    9]\n",
      " [  21   36]]\n",
      "              precision    recall  f1-score   support\n",
      "\n",
      "         bad       0.98      0.99      0.99      1103\n",
      "        good       0.80      0.63      0.71        57\n",
      "\n",
      "    accuracy                           0.97      1160\n",
      "   macro avg       0.89      0.81      0.85      1160\n",
      "weighted avg       0.97      0.97      0.97      1160\n",
      "\n",
      "Accuracy: 0.9741379310344828\n",
      "Confidence: 0.008 Lower: 0.018 Upper: 0.034\n"
     ]
    }
   ],
   "source": [
    "treeModel(x_oversampled, y_oversampled, x_test_org, y_test_org, target_names)"
   ]
  },
  {
   "cell_type": "markdown",
   "id": "5a136f2f-a30f-49d3-8e38-847032f30bdf",
   "metadata": {},
   "source": [
    "### Train with Downsampled Data"
   ]
  },
  {
   "cell_type": "code",
   "execution_count": 43,
   "id": "c7dc2356-06c1-4ee1-9d4e-353402fe2e7b",
   "metadata": {
    "scrolled": true
   },
   "outputs": [
    {
     "name": "stdout",
     "output_type": "stream",
     "text": [
      "[[1003   58]\n",
      " [  44  730]]\n",
      "              precision    recall  f1-score   support\n",
      "\n",
      "         bad       0.96      0.95      0.95      1061\n",
      "        good       0.93      0.94      0.93       774\n",
      "\n",
      "    accuracy                           0.94      1835\n",
      "   macro avg       0.94      0.94      0.94      1835\n",
      "weighted avg       0.94      0.94      0.94      1835\n",
      "\n",
      "Accuracy: 0.9444141689373297\n",
      "Confidence: 0.009 Lower: 0.047 Upper: 0.064\n"
     ]
    }
   ],
   "source": [
    "treeModel(x_train_down, y_train_down, x_test_norm, y_test_norm, target_names)"
   ]
  },
  {
   "cell_type": "markdown",
   "id": "840b17ef-67eb-4c3b-8f89-2d819adc4762",
   "metadata": {
    "jp-MarkdownHeadingCollapsed": true
   },
   "source": [
    "### Train with Chi Oversample Data"
   ]
  },
  {
   "cell_type": "code",
   "execution_count": 44,
   "id": "edef0768-39df-4611-933a-c33fac472bc0",
   "metadata": {},
   "outputs": [
    {
     "name": "stdout",
     "output_type": "stream",
     "text": [
      "[[1103    0]\n",
      " [  57    0]]\n",
      "              precision    recall  f1-score   support\n",
      "\n",
      "         bad       0.95      1.00      0.97      1103\n",
      "        good       0.00      0.00      0.00        57\n",
      "\n",
      "    accuracy                           0.95      1160\n",
      "   macro avg       0.48      0.50      0.49      1160\n",
      "weighted avg       0.90      0.95      0.93      1160\n",
      "\n",
      "Accuracy: 0.9508620689655173\n",
      "Confidence: 0.010 Lower: 0.039 Upper: 0.060\n"
     ]
    },
    {
     "name": "stderr",
     "output_type": "stream",
     "text": [
      "/opt/homebrew/Caskroom/miniconda/base/envs/python-labs/lib/python3.12/site-packages/sklearn/metrics/_classification.py:1531: UndefinedMetricWarning: Precision is ill-defined and being set to 0.0 in labels with no predicted samples. Use `zero_division` parameter to control this behavior.\n",
      "  _warn_prf(average, modifier, f\"{metric.capitalize()} is\", len(result))\n",
      "/opt/homebrew/Caskroom/miniconda/base/envs/python-labs/lib/python3.12/site-packages/sklearn/metrics/_classification.py:1531: UndefinedMetricWarning: Precision is ill-defined and being set to 0.0 in labels with no predicted samples. Use `zero_division` parameter to control this behavior.\n",
      "  _warn_prf(average, modifier, f\"{metric.capitalize()} is\", len(result))\n",
      "/opt/homebrew/Caskroom/miniconda/base/envs/python-labs/lib/python3.12/site-packages/sklearn/metrics/_classification.py:1531: UndefinedMetricWarning: Precision is ill-defined and being set to 0.0 in labels with no predicted samples. Use `zero_division` parameter to control this behavior.\n",
      "  _warn_prf(average, modifier, f\"{metric.capitalize()} is\", len(result))\n"
     ]
    }
   ],
   "source": [
    "treeModel(x_over_chi, y_over_chi, x_test_chi, y_test_chi, target_names)"
   ]
  },
  {
   "cell_type": "markdown",
   "id": "4884fd93-205c-4218-9e7d-6bfe6a0fb045",
   "metadata": {},
   "source": [
    "## Logistic Regression (6 Methods)"
   ]
  },
  {
   "cell_type": "code",
   "execution_count": 45,
   "id": "cc5aaf49-7771-48c2-8c38-42c91e43c074",
   "metadata": {},
   "outputs": [],
   "source": [
    "def logres(x, y, x_test, y_test, names):\n",
    "    # Train Model\n",
    "    log_model = LogisticRegression(random_state=38, max_iter=1000).fit(x, y)\n",
    "    # Make Predictions\n",
    "    log_pred = log_model.predict(x_test)\n",
    "    # Get Reports\n",
    "    print(confusion_matrix(y_test, log_pred))\n",
    "    print(classification_report(y_test, log_pred, target_names=names))\n",
    "    print_acc_conf(log_model, x_test, y_test)"
   ]
  },
  {
   "cell_type": "markdown",
   "id": "87e02465-5b23-4647-a938-0da48bef18bd",
   "metadata": {
    "jp-MarkdownHeadingCollapsed": true
   },
   "source": [
    "### Train with Raw Standard Scaler Data"
   ]
  },
  {
   "cell_type": "code",
   "execution_count": 46,
   "id": "54f2364a-e29c-467d-a639-fff05d94ae54",
   "metadata": {},
   "outputs": [
    {
     "name": "stdout",
     "output_type": "stream",
     "text": [
      "[[1064    0]\n",
      " [ 772    0]]\n",
      "              precision    recall  f1-score   support\n",
      "\n",
      "         bad       0.58      1.00      0.73      1064\n",
      "        good       0.00      0.00      0.00       772\n",
      "\n",
      "    accuracy                           0.58      1836\n",
      "   macro avg       0.29      0.50      0.37      1836\n",
      "weighted avg       0.34      0.58      0.43      1836\n",
      "\n",
      "Accuracy: 0.579520697167756\n",
      "Confidence: 0.019 Lower: 0.402 Upper: 0.439\n"
     ]
    },
    {
     "name": "stderr",
     "output_type": "stream",
     "text": [
      "/opt/homebrew/Caskroom/miniconda/base/envs/python-labs/lib/python3.12/site-packages/sklearn/metrics/_classification.py:1531: UndefinedMetricWarning: Precision is ill-defined and being set to 0.0 in labels with no predicted samples. Use `zero_division` parameter to control this behavior.\n",
      "  _warn_prf(average, modifier, f\"{metric.capitalize()} is\", len(result))\n",
      "/opt/homebrew/Caskroom/miniconda/base/envs/python-labs/lib/python3.12/site-packages/sklearn/metrics/_classification.py:1531: UndefinedMetricWarning: Precision is ill-defined and being set to 0.0 in labels with no predicted samples. Use `zero_division` parameter to control this behavior.\n",
      "  _warn_prf(average, modifier, f\"{metric.capitalize()} is\", len(result))\n",
      "/opt/homebrew/Caskroom/miniconda/base/envs/python-labs/lib/python3.12/site-packages/sklearn/metrics/_classification.py:1531: UndefinedMetricWarning: Precision is ill-defined and being set to 0.0 in labels with no predicted samples. Use `zero_division` parameter to control this behavior.\n",
      "  _warn_prf(average, modifier, f\"{metric.capitalize()} is\", len(result))\n"
     ]
    }
   ],
   "source": [
    "logres(x_train_std, y_train_std, x_test_std, y_test_std, target_names)"
   ]
  },
  {
   "cell_type": "markdown",
   "id": "a9bb2ab4-d7ef-4961-a858-44cc7633ed51",
   "metadata": {},
   "source": [
    "### Train with Raw MinMax Scaler Data"
   ]
  },
  {
   "cell_type": "code",
   "execution_count": 47,
   "id": "423ad9d4-a3c0-4c50-8ff1-01fdea6d47d2",
   "metadata": {},
   "outputs": [
    {
     "name": "stdout",
     "output_type": "stream",
     "text": [
      "[[1061    0]\n",
      " [ 774    0]]\n",
      "              precision    recall  f1-score   support\n",
      "\n",
      "         bad       0.58      1.00      0.73      1061\n",
      "        good       0.00      0.00      0.00       774\n",
      "\n",
      "    accuracy                           0.58      1835\n",
      "   macro avg       0.29      0.50      0.37      1835\n",
      "weighted avg       0.33      0.58      0.42      1835\n",
      "\n",
      "Accuracy: 0.5782016348773842\n",
      "Confidence: 0.019 Lower: 0.403 Upper: 0.441\n"
     ]
    },
    {
     "name": "stderr",
     "output_type": "stream",
     "text": [
      "/opt/homebrew/Caskroom/miniconda/base/envs/python-labs/lib/python3.12/site-packages/sklearn/metrics/_classification.py:1531: UndefinedMetricWarning: Precision is ill-defined and being set to 0.0 in labels with no predicted samples. Use `zero_division` parameter to control this behavior.\n",
      "  _warn_prf(average, modifier, f\"{metric.capitalize()} is\", len(result))\n",
      "/opt/homebrew/Caskroom/miniconda/base/envs/python-labs/lib/python3.12/site-packages/sklearn/metrics/_classification.py:1531: UndefinedMetricWarning: Precision is ill-defined and being set to 0.0 in labels with no predicted samples. Use `zero_division` parameter to control this behavior.\n",
      "  _warn_prf(average, modifier, f\"{metric.capitalize()} is\", len(result))\n",
      "/opt/homebrew/Caskroom/miniconda/base/envs/python-labs/lib/python3.12/site-packages/sklearn/metrics/_classification.py:1531: UndefinedMetricWarning: Precision is ill-defined and being set to 0.0 in labels with no predicted samples. Use `zero_division` parameter to control this behavior.\n",
      "  _warn_prf(average, modifier, f\"{metric.capitalize()} is\", len(result))\n"
     ]
    }
   ],
   "source": [
    "logres(x_train_norm, y_train_norm, x_test_norm, y_test_norm, target_names)"
   ]
  },
  {
   "cell_type": "markdown",
   "id": "08fca041-7e42-4020-99b0-3f10fc3e88b0",
   "metadata": {},
   "source": [
    "### Train with SMOTEENN Data"
   ]
  },
  {
   "cell_type": "code",
   "execution_count": 48,
   "id": "f0c9441c-7a52-4c67-a6f6-f25b31634d79",
   "metadata": {},
   "outputs": [
    {
     "name": "stdout",
     "output_type": "stream",
     "text": [
      "[[945 119]\n",
      " [  0 772]]\n",
      "              precision    recall  f1-score   support\n",
      "\n",
      "         bad       1.00      0.89      0.94      1064\n",
      "        good       0.87      1.00      0.93       772\n",
      "\n",
      "    accuracy                           0.94      1836\n",
      "   macro avg       0.93      0.94      0.93      1836\n",
      "weighted avg       0.94      0.94      0.94      1836\n",
      "\n",
      "Accuracy: 0.9351851851851852\n",
      "Confidence: 0.009 Lower: 0.055 Upper: 0.074\n"
     ]
    }
   ],
   "source": [
    "logres(x_smoteenn, y_smoteenn, x_test_std, y_test_std, target_names)"
   ]
  },
  {
   "cell_type": "markdown",
   "id": "35851894-1276-411d-916b-d3508155adb4",
   "metadata": {},
   "source": [
    "### Train with Oversampled Data"
   ]
  },
  {
   "cell_type": "code",
   "execution_count": 49,
   "id": "f66bba27-fad3-44ef-95cd-8e9e181b1894",
   "metadata": {
    "scrolled": true
   },
   "outputs": [
    {
     "name": "stdout",
     "output_type": "stream",
     "text": [
      "[[907 157]\n",
      " [  0 772]]\n",
      "              precision    recall  f1-score   support\n",
      "\n",
      "         bad       1.00      0.85      0.92      1064\n",
      "        good       0.83      1.00      0.91       772\n",
      "\n",
      "    accuracy                           0.91      1836\n",
      "   macro avg       0.92      0.93      0.91      1836\n",
      "weighted avg       0.93      0.91      0.92      1836\n",
      "\n",
      "Accuracy: 0.914488017429194\n",
      "Confidence: 0.011 Lower: 0.075 Upper: 0.096\n"
     ]
    }
   ],
   "source": [
    "logres(x_oversampled, y_oversampled, x_test_std, y_test_std, target_names)"
   ]
  },
  {
   "cell_type": "markdown",
   "id": "88e40530-ee24-4d4f-951c-b32db16c7c5e",
   "metadata": {},
   "source": [
    "### Train with Downsampled Data"
   ]
  },
  {
   "cell_type": "code",
   "execution_count": 50,
   "id": "f0142783-12c0-4c5e-ae7c-b0a22303d872",
   "metadata": {
    "scrolled": true
   },
   "outputs": [
    {
     "name": "stdout",
     "output_type": "stream",
     "text": [
      "[[830 231]\n",
      " [  0 774]]\n",
      "              precision    recall  f1-score   support\n",
      "\n",
      "         bad       1.00      0.78      0.88      1061\n",
      "        good       0.77      1.00      0.87       774\n",
      "\n",
      "    accuracy                           0.87      1835\n",
      "   macro avg       0.89      0.89      0.87      1835\n",
      "weighted avg       0.90      0.87      0.87      1835\n",
      "\n",
      "Accuracy: 0.8741144414168938\n",
      "Confidence: 0.013 Lower: 0.113 Upper: 0.139\n"
     ]
    }
   ],
   "source": [
    "logres(x_train_down, y_train_down, x_test_norm, y_test_norm, target_names)"
   ]
  },
  {
   "cell_type": "markdown",
   "id": "bfc424da-a2f4-4ef7-b3b9-bdff6310e4dc",
   "metadata": {
    "jp-MarkdownHeadingCollapsed": true
   },
   "source": [
    "### Train with Chi Oversampled Data"
   ]
  },
  {
   "cell_type": "code",
   "execution_count": 51,
   "id": "80c6488b-dfee-42bb-9bd1-d4cba216719b",
   "metadata": {},
   "outputs": [
    {
     "name": "stdout",
     "output_type": "stream",
     "text": [
      "[[795 308]\n",
      " [  0  57]]\n",
      "              precision    recall  f1-score   support\n",
      "\n",
      "         bad       1.00      0.72      0.84      1103\n",
      "        good       0.16      1.00      0.27        57\n",
      "\n",
      "    accuracy                           0.73      1160\n",
      "   macro avg       0.58      0.86      0.55      1160\n",
      "weighted avg       0.96      0.73      0.81      1160\n",
      "\n",
      "Accuracy: 0.7344827586206897\n",
      "Confidence: 0.021 Lower: 0.244 Upper: 0.287\n"
     ]
    }
   ],
   "source": [
    "logres(x_over_chi, y_over_chi, x_test_chi, y_test_chi, target_names)"
   ]
  },
  {
   "cell_type": "markdown",
   "id": "30596547-4a73-4552-8483-f41041e50cc0",
   "metadata": {},
   "source": [
    "## Support Vector Machines (6 Methods)"
   ]
  },
  {
   "cell_type": "code",
   "execution_count": 52,
   "id": "aea20595-d0dd-4138-b6d9-4a987c779bf3",
   "metadata": {},
   "outputs": [],
   "source": [
    "def svm(x, y, x_test, y_test, names):\n",
    "    # Train Model\n",
    "    svc_model = SVC()\n",
    "    svc_model.fit(x, y)\n",
    "    # Make Predictions\n",
    "    svc_pred = svc_model.predict(x_test)\n",
    "    # Get Reports\n",
    "    print(confusion_matrix(y_test, svc_pred))\n",
    "    print(classification_report(y_test, svc_pred, target_names=names))\n",
    "    print_acc_conf(svc_model, x_test, y_test)"
   ]
  },
  {
   "cell_type": "markdown",
   "id": "98e2399e-921b-4fac-8bd0-21e68cb654dd",
   "metadata": {
    "jp-MarkdownHeadingCollapsed": true
   },
   "source": [
    "### Train with Raw Standard Scaler Data"
   ]
  },
  {
   "cell_type": "code",
   "execution_count": 53,
   "id": "d5e24fe8-ca57-4bc7-a216-1b506b4f68f0",
   "metadata": {
    "scrolled": true
   },
   "outputs": [
    {
     "name": "stdout",
     "output_type": "stream",
     "text": [
      "[[1064    0]\n",
      " [ 772    0]]\n",
      "              precision    recall  f1-score   support\n",
      "\n",
      "         bad       0.58      1.00      0.73      1064\n",
      "        good       0.00      0.00      0.00       772\n",
      "\n",
      "    accuracy                           0.58      1836\n",
      "   macro avg       0.29      0.50      0.37      1836\n",
      "weighted avg       0.34      0.58      0.43      1836\n",
      "\n",
      "Accuracy: 0.579520697167756\n",
      "Confidence: 0.019 Lower: 0.402 Upper: 0.439\n"
     ]
    },
    {
     "name": "stderr",
     "output_type": "stream",
     "text": [
      "/opt/homebrew/Caskroom/miniconda/base/envs/python-labs/lib/python3.12/site-packages/sklearn/metrics/_classification.py:1531: UndefinedMetricWarning: Precision is ill-defined and being set to 0.0 in labels with no predicted samples. Use `zero_division` parameter to control this behavior.\n",
      "  _warn_prf(average, modifier, f\"{metric.capitalize()} is\", len(result))\n",
      "/opt/homebrew/Caskroom/miniconda/base/envs/python-labs/lib/python3.12/site-packages/sklearn/metrics/_classification.py:1531: UndefinedMetricWarning: Precision is ill-defined and being set to 0.0 in labels with no predicted samples. Use `zero_division` parameter to control this behavior.\n",
      "  _warn_prf(average, modifier, f\"{metric.capitalize()} is\", len(result))\n",
      "/opt/homebrew/Caskroom/miniconda/base/envs/python-labs/lib/python3.12/site-packages/sklearn/metrics/_classification.py:1531: UndefinedMetricWarning: Precision is ill-defined and being set to 0.0 in labels with no predicted samples. Use `zero_division` parameter to control this behavior.\n",
      "  _warn_prf(average, modifier, f\"{metric.capitalize()} is\", len(result))\n"
     ]
    }
   ],
   "source": [
    "svm(x_train_std, y_train_std, x_test_std, y_test_std, target_names)"
   ]
  },
  {
   "cell_type": "markdown",
   "id": "bc6b7f38-bfa0-4008-bab9-2776d7b879a5",
   "metadata": {
    "jp-MarkdownHeadingCollapsed": true
   },
   "source": [
    "### Train with Raw MinMax Scaler Data"
   ]
  },
  {
   "cell_type": "code",
   "execution_count": 54,
   "id": "e3658d8d-3b3c-4905-8e39-87bef3835067",
   "metadata": {},
   "outputs": [
    {
     "name": "stdout",
     "output_type": "stream",
     "text": [
      "[[1061    0]\n",
      " [ 774    0]]\n",
      "              precision    recall  f1-score   support\n",
      "\n",
      "         bad       0.58      1.00      0.73      1061\n",
      "        good       0.00      0.00      0.00       774\n",
      "\n",
      "    accuracy                           0.58      1835\n",
      "   macro avg       0.29      0.50      0.37      1835\n",
      "weighted avg       0.33      0.58      0.42      1835\n",
      "\n",
      "Accuracy: 0.5782016348773842\n",
      "Confidence: 0.019 Lower: 0.403 Upper: 0.441\n"
     ]
    },
    {
     "name": "stderr",
     "output_type": "stream",
     "text": [
      "/opt/homebrew/Caskroom/miniconda/base/envs/python-labs/lib/python3.12/site-packages/sklearn/metrics/_classification.py:1531: UndefinedMetricWarning: Precision is ill-defined and being set to 0.0 in labels with no predicted samples. Use `zero_division` parameter to control this behavior.\n",
      "  _warn_prf(average, modifier, f\"{metric.capitalize()} is\", len(result))\n",
      "/opt/homebrew/Caskroom/miniconda/base/envs/python-labs/lib/python3.12/site-packages/sklearn/metrics/_classification.py:1531: UndefinedMetricWarning: Precision is ill-defined and being set to 0.0 in labels with no predicted samples. Use `zero_division` parameter to control this behavior.\n",
      "  _warn_prf(average, modifier, f\"{metric.capitalize()} is\", len(result))\n",
      "/opt/homebrew/Caskroom/miniconda/base/envs/python-labs/lib/python3.12/site-packages/sklearn/metrics/_classification.py:1531: UndefinedMetricWarning: Precision is ill-defined and being set to 0.0 in labels with no predicted samples. Use `zero_division` parameter to control this behavior.\n",
      "  _warn_prf(average, modifier, f\"{metric.capitalize()} is\", len(result))\n"
     ]
    }
   ],
   "source": [
    "svm(x_train_norm, y_train_norm, x_test_norm, y_test_norm, target_names)"
   ]
  },
  {
   "cell_type": "markdown",
   "id": "d63bfe7a-2216-49cf-82c4-62430e61e623",
   "metadata": {},
   "source": [
    "### Train with SMOTEENN Data"
   ]
  },
  {
   "cell_type": "code",
   "execution_count": 55,
   "id": "4e22f7a8-178d-4ed5-b4b6-8f15f69d544f",
   "metadata": {},
   "outputs": [
    {
     "name": "stdout",
     "output_type": "stream",
     "text": [
      "[[927 137]\n",
      " [  0 772]]\n",
      "              precision    recall  f1-score   support\n",
      "\n",
      "         bad       1.00      0.87      0.93      1064\n",
      "        good       0.85      1.00      0.92       772\n",
      "\n",
      "    accuracy                           0.93      1836\n",
      "   macro avg       0.92      0.94      0.92      1836\n",
      "weighted avg       0.94      0.93      0.93      1836\n",
      "\n",
      "Accuracy: 0.9253812636165577\n",
      "Confidence: 0.010 Lower: 0.065 Upper: 0.085\n"
     ]
    }
   ],
   "source": [
    "svm(x_smoteenn, y_smoteenn, x_test_std, y_test_std, target_names)"
   ]
  },
  {
   "cell_type": "markdown",
   "id": "be87b683-088d-4c87-9edb-fec89f16d6ee",
   "metadata": {},
   "source": [
    "### Train with Oversampled Data"
   ]
  },
  {
   "cell_type": "code",
   "execution_count": 56,
   "id": "fa6ff131-454f-4563-b170-3fb786c3e02b",
   "metadata": {
    "scrolled": true
   },
   "outputs": [
    {
     "name": "stdout",
     "output_type": "stream",
     "text": [
      "[[903 161]\n",
      " [  0 772]]\n",
      "              precision    recall  f1-score   support\n",
      "\n",
      "         bad       1.00      0.85      0.92      1064\n",
      "        good       0.83      1.00      0.91       772\n",
      "\n",
      "    accuracy                           0.91      1836\n",
      "   macro avg       0.91      0.92      0.91      1836\n",
      "weighted avg       0.93      0.91      0.91      1836\n",
      "\n",
      "Accuracy: 0.9123093681917211\n",
      "Confidence: 0.011 Lower: 0.077 Upper: 0.099\n"
     ]
    }
   ],
   "source": [
    "svm(x_oversampled, y_oversampled, x_test_std, y_test_std, target_names)"
   ]
  },
  {
   "cell_type": "markdown",
   "id": "48b892ca-8340-49a1-8635-96009e021908",
   "metadata": {},
   "source": [
    "### Train with Downsampled Data"
   ]
  },
  {
   "cell_type": "code",
   "execution_count": 57,
   "id": "396de27b-eb86-4c6b-bd0a-2a25ec24df67",
   "metadata": {
    "scrolled": true
   },
   "outputs": [
    {
     "name": "stdout",
     "output_type": "stream",
     "text": [
      "[[810 251]\n",
      " [  0 774]]\n",
      "              precision    recall  f1-score   support\n",
      "\n",
      "         bad       1.00      0.76      0.87      1061\n",
      "        good       0.76      1.00      0.86       774\n",
      "\n",
      "    accuracy                           0.86      1835\n",
      "   macro avg       0.88      0.88      0.86      1835\n",
      "weighted avg       0.90      0.86      0.86      1835\n",
      "\n",
      "Accuracy: 0.8632152588555858\n",
      "Confidence: 0.013 Lower: 0.124 Upper: 0.150\n"
     ]
    }
   ],
   "source": [
    "svm(x_train_down, y_train_down, x_test_norm, y_test_norm, target_names)"
   ]
  },
  {
   "cell_type": "markdown",
   "id": "414cb7bf-d8c0-49e6-a46a-2b25e343d224",
   "metadata": {
    "jp-MarkdownHeadingCollapsed": true
   },
   "source": [
    "### Train with Oversampled Chi Data"
   ]
  },
  {
   "cell_type": "code",
   "execution_count": 58,
   "id": "ce8fc9c9-310e-4234-afc1-6d5d73f5c5cc",
   "metadata": {},
   "outputs": [
    {
     "name": "stdout",
     "output_type": "stream",
     "text": [
      "[[872 231]\n",
      " [  0  57]]\n",
      "              precision    recall  f1-score   support\n",
      "\n",
      "         bad       1.00      0.79      0.88      1103\n",
      "        good       0.20      1.00      0.33        57\n",
      "\n",
      "    accuracy                           0.80      1160\n",
      "   macro avg       0.60      0.90      0.61      1160\n",
      "weighted avg       0.96      0.80      0.86      1160\n",
      "\n",
      "Accuracy: 0.8008620689655173\n",
      "Confidence: 0.019 Lower: 0.180 Upper: 0.218\n"
     ]
    }
   ],
   "source": [
    "svm(x_over_chi, y_over_chi, x_test_chi, y_test_chi, target_names)"
   ]
  },
  {
   "cell_type": "markdown",
   "id": "602f7d0e-c898-4064-b9a7-3ca99e785c06",
   "metadata": {},
   "source": [
    "## Artificial Neural Networks (6 Methods)"
   ]
  },
  {
   "cell_type": "code",
   "execution_count": 59,
   "id": "4ba34a9c-3eca-4292-98bb-dd8080c778d9",
   "metadata": {},
   "outputs": [],
   "source": [
    "def ann(x, y, x_test, y_test, names, layers = (100,), seed = 1, epochs = 1000):\n",
    "    # Train Model\n",
    "    ann = MLPClassifier(random_state = seed, max_iter = epochs, hidden_layer_sizes = layers).fit(x, y) \n",
    "    # Make Predictions\n",
    "    ann_pred = ann.predict(x_test)\n",
    "    # Get Reports\n",
    "    print(confusion_matrix(y_test, ann_pred))\n",
    "    print(classification_report(y_test, ann_pred, target_names=names))\n",
    "    print_acc_conf(ann, x_test, y_test) "
   ]
  },
  {
   "cell_type": "markdown",
   "id": "55489f48-2e6b-4c89-99b2-9d50a80dc61b",
   "metadata": {
    "jp-MarkdownHeadingCollapsed": true
   },
   "source": [
    "### Train with Raw Standard Scaler Data"
   ]
  },
  {
   "cell_type": "code",
   "execution_count": 60,
   "id": "5437eef8-3084-4408-ae19-8c2f4513d2c6",
   "metadata": {
    "scrolled": true
   },
   "outputs": [
    {
     "name": "stdout",
     "output_type": "stream",
     "text": [
      "[[1064    0]\n",
      " [ 772    0]]\n",
      "              precision    recall  f1-score   support\n",
      "\n",
      "         bad       0.58      1.00      0.73      1064\n",
      "        good       0.00      0.00      0.00       772\n",
      "\n",
      "    accuracy                           0.58      1836\n",
      "   macro avg       0.29      0.50      0.37      1836\n",
      "weighted avg       0.34      0.58      0.43      1836\n",
      "\n",
      "Accuracy: 0.579520697167756\n",
      "Confidence: 0.019 Lower: 0.402 Upper: 0.439\n"
     ]
    },
    {
     "name": "stderr",
     "output_type": "stream",
     "text": [
      "/opt/homebrew/Caskroom/miniconda/base/envs/python-labs/lib/python3.12/site-packages/sklearn/metrics/_classification.py:1531: UndefinedMetricWarning: Precision is ill-defined and being set to 0.0 in labels with no predicted samples. Use `zero_division` parameter to control this behavior.\n",
      "  _warn_prf(average, modifier, f\"{metric.capitalize()} is\", len(result))\n",
      "/opt/homebrew/Caskroom/miniconda/base/envs/python-labs/lib/python3.12/site-packages/sklearn/metrics/_classification.py:1531: UndefinedMetricWarning: Precision is ill-defined and being set to 0.0 in labels with no predicted samples. Use `zero_division` parameter to control this behavior.\n",
      "  _warn_prf(average, modifier, f\"{metric.capitalize()} is\", len(result))\n",
      "/opt/homebrew/Caskroom/miniconda/base/envs/python-labs/lib/python3.12/site-packages/sklearn/metrics/_classification.py:1531: UndefinedMetricWarning: Precision is ill-defined and being set to 0.0 in labels with no predicted samples. Use `zero_division` parameter to control this behavior.\n",
      "  _warn_prf(average, modifier, f\"{metric.capitalize()} is\", len(result))\n"
     ]
    }
   ],
   "source": [
    "ann(x_train_std, y_train_std, x_test_std, y_test_std, target_names)"
   ]
  },
  {
   "cell_type": "markdown",
   "id": "bcea8fd6-5771-4b66-a71c-d6134fc59941",
   "metadata": {
    "jp-MarkdownHeadingCollapsed": true
   },
   "source": [
    "### Train with Raw MinMax Scaler Data"
   ]
  },
  {
   "cell_type": "code",
   "execution_count": 61,
   "id": "0204a255-de74-4bd3-ac45-bd8962250ee8",
   "metadata": {
    "scrolled": true
   },
   "outputs": [
    {
     "name": "stdout",
     "output_type": "stream",
     "text": [
      "[[1061    0]\n",
      " [ 774    0]]\n",
      "              precision    recall  f1-score   support\n",
      "\n",
      "         bad       0.58      1.00      0.73      1061\n",
      "        good       0.00      0.00      0.00       774\n",
      "\n",
      "    accuracy                           0.58      1835\n",
      "   macro avg       0.29      0.50      0.37      1835\n",
      "weighted avg       0.33      0.58      0.42      1835\n",
      "\n",
      "Accuracy: 0.5782016348773842\n",
      "Confidence: 0.019 Lower: 0.403 Upper: 0.441\n"
     ]
    },
    {
     "name": "stderr",
     "output_type": "stream",
     "text": [
      "/opt/homebrew/Caskroom/miniconda/base/envs/python-labs/lib/python3.12/site-packages/sklearn/metrics/_classification.py:1531: UndefinedMetricWarning: Precision is ill-defined and being set to 0.0 in labels with no predicted samples. Use `zero_division` parameter to control this behavior.\n",
      "  _warn_prf(average, modifier, f\"{metric.capitalize()} is\", len(result))\n",
      "/opt/homebrew/Caskroom/miniconda/base/envs/python-labs/lib/python3.12/site-packages/sklearn/metrics/_classification.py:1531: UndefinedMetricWarning: Precision is ill-defined and being set to 0.0 in labels with no predicted samples. Use `zero_division` parameter to control this behavior.\n",
      "  _warn_prf(average, modifier, f\"{metric.capitalize()} is\", len(result))\n",
      "/opt/homebrew/Caskroom/miniconda/base/envs/python-labs/lib/python3.12/site-packages/sklearn/metrics/_classification.py:1531: UndefinedMetricWarning: Precision is ill-defined and being set to 0.0 in labels with no predicted samples. Use `zero_division` parameter to control this behavior.\n",
      "  _warn_prf(average, modifier, f\"{metric.capitalize()} is\", len(result))\n"
     ]
    }
   ],
   "source": [
    "ann(x_train_norm, y_train_norm, x_test_norm, y_test_norm, target_names)"
   ]
  },
  {
   "cell_type": "markdown",
   "id": "3d1e965b-8102-4968-9f10-9687d55dccdc",
   "metadata": {},
   "source": [
    "### Train with SMOTEENN Data "
   ]
  },
  {
   "cell_type": "code",
   "execution_count": 62,
   "id": "8787de32-05e4-47b7-aa48-af85bb2e8005",
   "metadata": {},
   "outputs": [
    {
     "name": "stdout",
     "output_type": "stream",
     "text": [
      "[[987  77]\n",
      " [  3 769]]\n",
      "              precision    recall  f1-score   support\n",
      "\n",
      "         bad       1.00      0.93      0.96      1064\n",
      "        good       0.91      1.00      0.95       772\n",
      "\n",
      "    accuracy                           0.96      1836\n",
      "   macro avg       0.95      0.96      0.96      1836\n",
      "weighted avg       0.96      0.96      0.96      1836\n",
      "\n",
      "Accuracy: 0.9564270152505446\n",
      "Confidence: 0.008 Lower: 0.036 Upper: 0.051\n"
     ]
    }
   ],
   "source": [
    "ann(x_smoteenn, y_smoteenn, x_test_std, y_test_std, target_names)"
   ]
  },
  {
   "cell_type": "markdown",
   "id": "33260702-eb8f-4b8c-8f2d-d52ac89d8c09",
   "metadata": {},
   "source": [
    "### Train with Oversampled Data"
   ]
  },
  {
   "cell_type": "code",
   "execution_count": 63,
   "id": "b5cc3a09-ed97-4b87-ac0e-ebc958e4abcb",
   "metadata": {
    "scrolled": true
   },
   "outputs": [
    {
     "name": "stdout",
     "output_type": "stream",
     "text": [
      "[[936 128]\n",
      " [  0 772]]\n",
      "              precision    recall  f1-score   support\n",
      "\n",
      "         bad       1.00      0.88      0.94      1064\n",
      "        good       0.86      1.00      0.92       772\n",
      "\n",
      "    accuracy                           0.93      1836\n",
      "   macro avg       0.93      0.94      0.93      1836\n",
      "weighted avg       0.94      0.93      0.93      1836\n",
      "\n",
      "Accuracy: 0.9302832244008714\n",
      "Confidence: 0.010 Lower: 0.060 Upper: 0.079\n"
     ]
    }
   ],
   "source": [
    "ann(x_oversampled, y_oversampled, x_test_std, y_test_std, target_names)"
   ]
  },
  {
   "cell_type": "markdown",
   "id": "d614f49f-fe76-4e9f-be38-bf1e4a585ab0",
   "metadata": {},
   "source": [
    "### Training with Downsampled Data"
   ]
  },
  {
   "cell_type": "code",
   "execution_count": 64,
   "id": "ea9e5548-5ff7-4016-a38c-76e7d56b5f63",
   "metadata": {},
   "outputs": [
    {
     "name": "stdout",
     "output_type": "stream",
     "text": [
      "[[930 131]\n",
      " [  0 774]]\n",
      "              precision    recall  f1-score   support\n",
      "\n",
      "         bad       1.00      0.88      0.93      1061\n",
      "        good       0.86      1.00      0.92       774\n",
      "\n",
      "    accuracy                           0.93      1835\n",
      "   macro avg       0.93      0.94      0.93      1835\n",
      "weighted avg       0.94      0.93      0.93      1835\n",
      "\n",
      "Accuracy: 0.9286103542234332\n",
      "Confidence: 0.010 Lower: 0.062 Upper: 0.081\n"
     ]
    }
   ],
   "source": [
    "ann(x_train_down, y_train_down, x_test_norm, y_test_norm, target_names)"
   ]
  },
  {
   "cell_type": "markdown",
   "id": "1786484d-7c78-4136-bf3e-830a158b7d43",
   "metadata": {},
   "source": [
    "### Train with Oversampled Chi Data"
   ]
  },
  {
   "cell_type": "code",
   "execution_count": 65,
   "id": "1c69a717-0cf4-4b32-9c3b-71ee39bcac91",
   "metadata": {},
   "outputs": [
    {
     "name": "stdout",
     "output_type": "stream",
     "text": [
      "[[911 192]\n",
      " [  0  57]]\n",
      "              precision    recall  f1-score   support\n",
      "\n",
      "         bad       1.00      0.83      0.90      1103\n",
      "        good       0.23      1.00      0.37        57\n",
      "\n",
      "    accuracy                           0.83      1160\n",
      "   macro avg       0.61      0.91      0.64      1160\n",
      "weighted avg       0.96      0.83      0.88      1160\n",
      "\n",
      "Accuracy: 0.8344827586206897\n",
      "Confidence: 0.018 Lower: 0.148 Upper: 0.183\n"
     ]
    }
   ],
   "source": [
    "ann(x_over_chi, y_over_chi, x_test_chi, y_test_chi, target_names)"
   ]
  }
 ],
 "metadata": {
  "kernelspec": {
   "display_name": "python-labs-kernel",
   "language": "python",
   "name": "python-labs-kernel"
  },
  "language_info": {
   "codemirror_mode": {
    "name": "ipython",
    "version": 3
   },
   "file_extension": ".py",
   "mimetype": "text/x-python",
   "name": "python",
   "nbconvert_exporter": "python",
   "pygments_lexer": "ipython3",
   "version": "3.12.2"
  }
 },
 "nbformat": 4,
 "nbformat_minor": 5
}
